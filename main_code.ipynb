{
 "cells": [
  {
   "cell_type": "markdown",
   "metadata": {},
   "source": [
    "# Libraries"
   ]
  },
  {
   "cell_type": "code",
   "execution_count": 1,
   "metadata": {},
   "outputs": [],
   "source": [
    "import pandas as pd\n",
    "import numpy as np\n",
    "import matplotlib.pyplot as plt\n",
    "from sklearn import preprocessing\n",
    "import numpy as np\n",
    "from math import sqrt\n",
    "from transformers import LlamaConfig, LlamaModel, LlamaTokenizer, GPT2Config, GPT2Model, GPT2Tokenizer, BertConfig, BertModel, BertTokenizer\n",
    "import transformers\n",
    "import accelerate\n",
    "from torch import nn, optim\n",
    "import torch.nn.functional as F\n",
    "from torch import Tensor\n",
    "from torch.nn.utils import weight_norm\n",
    "import math\n",
    "from torch.utils.data import TensorDataset, DataLoader, random_split, Subset\n",
    "import torch\n",
    "from torchmetrics.regression import R2Score\n",
    "from transformers import AutoModelForCausalLM, AutoTokenizer\n",
    "from transformers import AutoModel, AutoTokenizer, AutoConfig\n",
    "from transformers import BitsAndBytesConfig\n",
    "from sklearn.model_selection import KFold, StratifiedKFold\n",
    "import random\n",
    "from sklearn import model_selection\n",
    "from sklearn.preprocessing import MinMaxScaler, StandardScaler\n",
    "from torch.utils.tensorboard import SummaryWriter\n",
    "import time\n",
    "import itertools\n",
    "import ramanspy as rs\n",
    "from ramanspy import preprocessing"
   ]
  },
  {
   "attachments": {},
   "cell_type": "markdown",
   "metadata": {},
   "source": [
    "# Model"
   ]
  },
  {
   "cell_type": "markdown",
   "metadata": {},
   "source": [
    "| Parameter     | Meaning | \n",
    "|:---------|:---:|\n",
    "| pred_len   | How many futuresteps the model should predict.  |    \n",
    "| seq_len   | How many past time-steps are given the model as input.   |     \n",
    "| d_ff     | The size of the vectors extracted from the LLM’s hidden states before the final head. This is the “feature‐for‐forecast” dimension.  |      \n",
    "| patch_len     | How many consecutive time‐steps make up one patch when we slice your series.  |   \n",
    "| stride     | How far you shift your sliding window between patches.   |   \n",
    "| llm_layers     | How many Transformer layers we want to use from the pretrained LLM.  |   \n",
    "| d_model     | The hidden‐dimensionality of your patch embeddings (the output of the Conv1d). In Transformer terms, this is the “model width.”  |   \n",
    "| n_heads     | The number of attention heads in your ReprogrammingLayer.   |   \n",
    "| enc_in     | Number of parallel input channels (i.e. number of series or variables).   |   \n",
    "| d_llm     | The hidden‐state size of the LLM.  |   \n",
    "\n"
   ]
  },
  {
   "cell_type": "code",
   "execution_count": 3,
   "metadata": {},
   "outputs": [],
   "source": [
    "class Details:\n",
    "    def __init__(self, pred_len,seq_len,d_ff,stride,llm_layers,\n",
    "                 description, dropout, d_model, n_heads,enc_in, patch_len, d_llm,llm_model, lr):\n",
    "        self.pred_len = pred_len #Time steps to predict; 1 in our case\n",
    "        self.seq_len = seq_len # length of historical input sequence\n",
    "        self.d_ff = d_ff #Features extracted from the LLM hidden states\n",
    "        self.patch_len = patch_len\n",
    "        self.stride = stride\n",
    "        self.llm_layers = llm_layers\n",
    "        self.content = description\n",
    "        self.dropout = dropout\n",
    "        self.d_model = d_model\n",
    "        self.enc_in = enc_in #number of variables ie number of parallel time series; 1 in our case becasue univariate time series\n",
    "        self.n_heads = n_heads\n",
    "        self.d_llm = d_llm\n",
    "        self.llm_model = llm_model\n",
    "        self.lr = lr"
   ]
  },
  {
   "cell_type": "code",
   "execution_count": 4,
   "metadata": {},
   "outputs": [],
   "source": [
    "transformers.logging.set_verbosity_error()\n",
    "\n",
    "class FlattenHead(nn.Module):\n",
    "    def __init__(self, n_vars, nf, target_window, head_dropout=0):\n",
    "        super().__init__()\n",
    "        self.n_vars = n_vars\n",
    "        self.flatten = nn.Flatten(start_dim=-2)\n",
    "        self.linear = nn.Linear(nf, target_window)\n",
    "        self.dropout = nn.Dropout(head_dropout)\n",
    "\n",
    "    def forward(self, x):\n",
    "        x = self.flatten(x)\n",
    "        x = self.linear(x)\n",
    "        x = self.dropout(x)\n",
    "        return x\n",
    "\n",
    "\n",
    "class Model(nn.Module):\n",
    "    #configs is the details of the task\n",
    "    def __init__(self, configs, patch_len=16, stride=8):\n",
    "        super(Model, self).__init__()\n",
    "        self.pred_len = configs.pred_len\n",
    "        self.seq_len = configs.seq_len\n",
    "        self.d_ff = configs.d_ff\n",
    "        self.top_k = 5\n",
    "        self.d_llm = configs.d_llm\n",
    "        self.patch_len = configs.patch_len\n",
    "        self.stride = configs.stride\n",
    "\n",
    "        if configs.llm_model == 'LLAMA':\n",
    "            self.llama_config = LlamaConfig.from_pretrained('huggyllama/llama-7b')\n",
    "            self.llama_config.num_hidden_layers = configs.llm_layers\n",
    "            self.llama_config.output_attentions = True\n",
    "            self.llama_config.output_hidden_states = True\n",
    "\n",
    "            self.llm_model = LlamaModel.from_pretrained(\n",
    "                        'huggyllama/llama-7b',\n",
    "                        trust_remote_code=True,\n",
    "                        local_files_only=True,\n",
    "                        config=self.llama_config,\n",
    "                    )\n",
    "            \n",
    "            self.tokenizer = LlamaTokenizer.from_pretrained(\n",
    "                        'huggyllama/llama-7b',\n",
    "                        trust_remote_code=True,\n",
    "                        local_files_only=True\n",
    "                    )\n",
    "        elif configs.llm_model == 'GPT2':\n",
    "\n",
    "            self.gpt2_config = GPT2Config.from_pretrained('openai-community/gpt2')\n",
    "            self.gpt2_config.num_hidden_layers = configs.llm_layers\n",
    "            self.gpt2_config.output_attentions = True\n",
    "            self.gpt2_config.output_hidden_states = True\n",
    "\n",
    "            self.llm_model = GPT2Model.from_pretrained(\n",
    "                        'openai-community/gpt2',\n",
    "                        trust_remote_code=True,\n",
    "                        #local_files_only=True,\n",
    "                        config=self.gpt2_config,\n",
    "                    )\n",
    "            self.tokenizer = GPT2Tokenizer.from_pretrained(\n",
    "                        'openai-community/gpt2',\n",
    "                        trust_remote_code=True,\n",
    "                        #local_files_only=True\n",
    "                    )\n",
    "            \n",
    "        elif configs.llm_model == 'BERT':\n",
    "\n",
    "            self.bert_config = BertConfig.from_pretrained('google-bert/bert-base-uncased')\n",
    "\n",
    "            self.bert_config.num_hidden_layers = configs.llm_layers\n",
    "            self.bert_config.output_attentions = True\n",
    "            self.bert_config.output_hidden_states = True\n",
    "\n",
    "            self.llm_model = BertModel.from_pretrained(\n",
    "                    'google-bert/bert-base-uncased',\n",
    "                    trust_remote_code=True,\n",
    "                    local_files_only=True,\n",
    "                    config=self.bert_config,\n",
    "                )\n",
    "    \n",
    "            self.tokenizer = BertTokenizer.from_pretrained(\n",
    "                    'google-bert/bert-base-uncased',\n",
    "                    trust_remote_code=True,\n",
    "                    local_files_only=True\n",
    "                )\n",
    "\n",
    "        else:\n",
    "            bnb_config = BitsAndBytesConfig(\n",
    "                load_in_8bit=True,  \n",
    "                bnb_4bit_use_double_quant=True,\n",
    "                bnb_4bit_compute_dtype=torch.float16,\n",
    "                bnb_4bit_quant_type=\"nf4\",\n",
    "            )\n",
    "\n",
    "            self.llama_config = AutoConfig.from_pretrained(\"TheBloke/LLaMA-7B-GGML\")\n",
    "            self.llama_config.num_hidden_layers = configs.llm_layers\n",
    "            self.llama_config.output_attentions = True\n",
    "            self.llama_config.output_hidden_states = True\n",
    "\n",
    "            self.llm_model = AutoModel.from_pretrained(\n",
    "                \"TheBloke/LLaMA-7B-GGML\",\n",
    "                config=self.llama_config,\n",
    "                device_map=\"auto\",\n",
    "                quantization_config=bnb_config,\n",
    "                trust_remote_code=True,\n",
    "                from_tf=True\n",
    "            )\n",
    "\n",
    "            self.tokenizer = AutoTokenizer.from_pretrained(\n",
    "                \"TheBloke/LLaMA-7B-GGML\",\n",
    "                trust_remote_code=True\n",
    "            )\n",
    "\n",
    "        \n",
    "        if self.tokenizer.eos_token:\n",
    "            self.tokenizer.pad_token = self.tokenizer.eos_token\n",
    "        else:\n",
    "            pad_token = '[PAD]'\n",
    "            self.tokenizer.add_special_tokens({'pad_token': pad_token})\n",
    "            self.tokenizer.pad_token = pad_token\n",
    "\n",
    "        #Freeze parameters of LLM:\n",
    "        for param in self.llm_model.parameters():\n",
    "            param.requires_grad = False\n",
    "        \n",
    "        self.description = configs.content\n",
    "\n",
    "        self.dropout = nn.Dropout(configs.dropout)\n",
    "\n",
    "        self.patch_embedding = PatchEmbedding(\n",
    "            configs.d_model, self.patch_len, self.stride, configs.dropout)\n",
    "\n",
    "        self.word_embeddings = self.llm_model.get_input_embeddings().weight\n",
    "        self.vocab_size = self.word_embeddings.shape[0]\n",
    "        self.num_tokens = 1000\n",
    "        self.mapping_layer = nn.Linear(self.vocab_size, self.num_tokens)\n",
    "\n",
    "        self.reprogramming_layer = ReprogrammingLayer(configs.d_model, configs.n_heads, self.d_ff, self.d_llm)\n",
    "\n",
    "\n",
    "        self.patch_nums = int((configs.seq_len - self.patch_len) / self.stride + 2)\n",
    "        self.head_nf = self.d_ff * self.patch_nums\n",
    "\n",
    "        self.output_projection = FlattenHead(configs.enc_in, self.head_nf, self.pred_len, head_dropout=configs.dropout)\n",
    "\n",
    "        self.normalize_layers = Normalize(configs.enc_in, affine=False)\n",
    "\n",
    "    def forward(self, x_enc, x_mark_enc, x_dec, x_mark_dec, mask=None):\n",
    "        dec_out = self.forecast(x_enc, x_mark_enc, x_dec, x_mark_dec)\n",
    "        return dec_out[:, -self.pred_len:, :]\n",
    "\n",
    "    def forecast(self, x_enc, x_mark_enc, x_dec, x_mark_dec):\n",
    "        x_enc = self.normalize_layers(x_enc, 'norm')\n",
    "        B, T, N = x_enc.size()\n",
    "\n",
    "        x_enc = x_enc.permute(0, 2, 1).contiguous().reshape(B * N, T, 1)\n",
    "\n",
    "        min_values = torch.min(x_enc, dim=1)[0]        \n",
    "        max_values = torch.max(x_enc, dim=1)[0]        \n",
    "        medians = torch.median(x_enc, dim=1).values \n",
    " \n",
    "        lags = self.calcute_lags(x_enc)          \n",
    "         \n",
    "        trends = x_enc.diff(dim=1).sum(dim=1)      \n",
    "\n",
    "        prompt = []\n",
    "        #print(x_enc.shape[0])\n",
    "        for b in range(x_enc.shape[0]):  \n",
    "            min_values_str    = str(min_values[b].tolist()[0])\n",
    "            max_values_str    = str(max_values[b].tolist()[0])\n",
    "            median_values_str = str(medians[b].tolist()[0])\n",
    "            lags_values_str   = str(lags[b].tolist())\n",
    "            prompt_ = (\n",
    "                f\"<|start_prompt|>Dataset description: {self.description} \"\n",
    "                f\"Task description: forecast the next {str(self.pred_len)} steps \"\n",
    "                #f\"Task description: forecast the next step\"\n",
    "                f\"given the previous {str(self.seq_len)} steps information; \"\n",
    "                \"Input statistics: \"\n",
    "                f\"min value {min_values_str}, \"\n",
    "                f\"max value {max_values_str}, \"\n",
    "                f\"median value {median_values_str}, \"\n",
    "                f\"the trend of input is {'upward' if trends[b] > 0 else 'downward'}, \"\n",
    "                f\"top 5 lags are: {lags_values_str}<|<end_prompt>|>\"\n",
    "            )\n",
    "            prompt.append(prompt_)\n",
    "            #print(prompt_)\n",
    "            \n",
    "        x_enc = x_enc.reshape(B, N, T).permute(0, 2, 1).contiguous()\n",
    "\n",
    "        prompt = self.tokenizer(prompt, return_tensors=\"pt\", padding=True, truncation=True, max_length=2048).input_ids\n",
    "        prompt_embeddings = self.llm_model.get_input_embeddings()(prompt.to(x_enc.device))  # (batch, prompt_token, dim)\n",
    "\n",
    "        source_embeddings = self.mapping_layer(self.word_embeddings.permute(1, 0)).permute(1, 0)\n",
    "\n",
    "        x_enc = x_enc.permute(0, 2, 1).contiguous()\n",
    "        enc_out, n_vars = self.patch_embedding(x_enc) #x_enc.to(torch.bfloat16)\n",
    "        enc_out = self.reprogramming_layer(enc_out, source_embeddings, source_embeddings)\n",
    "        llama_enc_out = torch.cat([prompt_embeddings, enc_out], dim=1)\n",
    "        dec_out = self.llm_model(inputs_embeds=llama_enc_out).last_hidden_state\n",
    "        #print(dec_out)\n",
    "        dec_out = dec_out[:, :, :self.d_ff]\n",
    "\n",
    "        dec_out = torch.reshape(\n",
    "            dec_out, (-1, n_vars, dec_out.shape[-2], dec_out.shape[-1]))\n",
    "        dec_out = dec_out.permute(0, 1, 3, 2).contiguous()\n",
    "\n",
    "        dec_out = self.output_projection(dec_out[:, :, :, -self.patch_nums:])\n",
    "        dec_out = dec_out.permute(0, 2, 1).contiguous()\n",
    "\n",
    "        dec_out = self.normalize_layers(dec_out, 'denorm')\n",
    "\n",
    "        return dec_out\n",
    "\n",
    "    \n",
    "    def calcute_lags(self, x_enc):\n",
    "        q_fft = torch.fft.rfft(x_enc.permute(0, 2, 1).contiguous(), dim=-1)\n",
    "        k_fft = torch.fft.rfft(x_enc.permute(0, 2, 1).contiguous(), dim=-1)\n",
    "        res = q_fft * torch.conj(k_fft)\n",
    "        corr = torch.fft.irfft(res, dim=-1)\n",
    "        mean_value = torch.mean(corr, dim=1)\n",
    "        _, lags = torch.topk(mean_value, self.top_k, dim=-1)\n",
    "        return lags\n",
    "    \n",
    "\n",
    "class ReprogrammingLayer(nn.Module):\n",
    "    \n",
    "    def __init__(self, d_model, n_heads, d_keys=None, d_llm=None, attention_dropout=0.1):\n",
    "        super(ReprogrammingLayer, self).__init__()\n",
    "\n",
    "        d_keys = d_keys or (d_model // n_heads)\n",
    "\n",
    "        self.query_projection = nn.Linear(d_model, d_keys * n_heads)\n",
    "        self.key_projection = nn.Linear(d_llm, d_keys * n_heads)\n",
    "        self.value_projection = nn.Linear(d_llm, d_keys * n_heads)\n",
    "        self.out_projection = nn.Linear(d_keys * n_heads, d_llm)\n",
    "        self.n_heads = n_heads\n",
    "        self.dropout = nn.Dropout(attention_dropout)\n",
    "    \n",
    "    def forward(self, target_embedding, source_embedding, value_embedding):\n",
    "        B, L, _ = target_embedding.shape\n",
    "        S, _ = source_embedding.shape\n",
    "        H = self.n_heads\n",
    "\n",
    "        target_embedding = self.query_projection(target_embedding).view(B, L, H, -1)\n",
    "        source_embedding = self.key_projection(source_embedding).view(S, H, -1)\n",
    "        value_embedding = self.value_projection(value_embedding).view(S, H, -1)\n",
    "\n",
    "        out = self.reprogramming(target_embedding, source_embedding, value_embedding)\n",
    "\n",
    "        out = out.reshape(B, L, -1)\n",
    "\n",
    "        return self.out_projection(out)\n",
    "\n",
    "    def reprogramming(self, target_embedding, source_embedding, value_embedding):\n",
    "        B, L, H, E = target_embedding.shape\n",
    "\n",
    "        scale = 1. / sqrt(E)\n",
    "\n",
    "        scores = torch.einsum(\"blhe,she->bhls\", target_embedding, source_embedding)\n",
    "\n",
    "        A = self.dropout(torch.softmax(scale * scores, dim=-1))\n",
    "        reprogramming_embedding = torch.einsum(\"bhls,she->blhe\", A, value_embedding)\n",
    "\n",
    "        return reprogramming_embedding\n",
    "    \n",
    "class TokenEmbedding(nn.Module):\n",
    "    def __init__(self, c_in, d_model):\n",
    "        super(TokenEmbedding, self).__init__()\n",
    "        padding = 1 if torch.__version__ >= '1.5.0' else 2\n",
    "        self.tokenConv = nn.Conv1d(in_channels=c_in, out_channels=d_model,\n",
    "                                   kernel_size=3, padding=padding, padding_mode='circular', bias=False)\n",
    "        for m in self.modules():\n",
    "            if isinstance(m, nn.Conv1d):\n",
    "                nn.init.kaiming_normal_(\n",
    "                    m.weight, mode='fan_in', nonlinearity='leaky_relu')\n",
    "\n",
    "    def forward(self, x):\n",
    "        x = self.tokenConv(x.permute(0, 2, 1)).transpose(1, 2)\n",
    "        return x\n",
    "\n",
    "\n",
    "class ReplicationPad1d(nn.Module):\n",
    "    def __init__(self, padding) -> None:\n",
    "        super(ReplicationPad1d, self).__init__()\n",
    "        self.padding = padding\n",
    "\n",
    "    def forward(self, input: Tensor) -> Tensor:\n",
    "        replicate_padding = input[:, :, -1].unsqueeze(-1).repeat(1, 1, self.padding[-1])\n",
    "        output = torch.cat([input, replicate_padding], dim=-1)\n",
    "        return output\n",
    "\n",
    "\n",
    "class PatchEmbedding(nn.Module):\n",
    "    def __init__(self, d_model, patch_len, stride, dropout):\n",
    "        super(PatchEmbedding, self).__init__()\n",
    "        # Patching\n",
    "        self.patch_len = patch_len\n",
    "        self.stride = stride\n",
    "        self.padding_patch_layer = ReplicationPad1d((0, stride))\n",
    "\n",
    "        # Backbone, Input encoding: projection of feature vectors onto a d-dim vector space\n",
    "        self.value_embedding = TokenEmbedding(patch_len, d_model)\n",
    "\n",
    "        # Positional embedding\n",
    "        # self.position_embedding = PositionalEmbedding(d_model)\n",
    "\n",
    "        # Residual dropout\n",
    "        self.dropout = nn.Dropout(dropout)\n",
    "\n",
    "    def forward(self, x):\n",
    "        # do patching\n",
    "        n_vars = x.shape[1]\n",
    "        x = self.padding_patch_layer(x)\n",
    "        x = x.unfold(dimension=-1, size=self.patch_len, step=self.stride)\n",
    "        x = torch.reshape(x, (x.shape[0] * x.shape[1], x.shape[2], x.shape[3]))\n",
    "        # Input encoding\n",
    "        x = self.value_embedding(x)\n",
    "        return self.dropout(x), n_vars\n",
    "\n",
    "class Normalize(nn.Module):\n",
    "    def __init__(self, num_features: int, eps=1e-5, affine=False, subtract_last=False, non_norm=False):\n",
    "        \"\"\"\n",
    "        :param num_features: the number of features or channels\n",
    "        :param eps: a value added for numerical stability\n",
    "        :param affine: if True, RevIN has learnable affine parameters\n",
    "        \"\"\"\n",
    "        super(Normalize, self).__init__()\n",
    "        self.num_features = num_features\n",
    "        self.eps = eps\n",
    "        self.affine = affine\n",
    "        self.subtract_last = subtract_last\n",
    "        self.non_norm = non_norm\n",
    "        if self.affine:\n",
    "            self._init_params()\n",
    "\n",
    "    def forward(self, x, mode: str):\n",
    "        if mode == 'norm':\n",
    "            self._get_statistics(x)\n",
    "            x = self._normalize(x)\n",
    "        elif mode == 'denorm':\n",
    "            x = self._denormalize(x)\n",
    "        else:\n",
    "            raise NotImplementedError\n",
    "        return x\n",
    "\n",
    "    def _init_params(self):\n",
    "        # initialize RevIN params: (C,)\n",
    "        self.affine_weight = nn.Parameter(torch.ones(self.num_features))\n",
    "        self.affine_bias = nn.Parameter(torch.zeros(self.num_features))\n",
    "\n",
    "    def _get_statistics(self, x):\n",
    "        dim2reduce = tuple(range(1, x.ndim - 1))\n",
    "        if self.subtract_last:\n",
    "            self.last = x[:, -1, :].unsqueeze(1)\n",
    "        else:\n",
    "            self.mean = torch.mean(x, dim=dim2reduce, keepdim=True).detach()\n",
    "        self.stdev = torch.sqrt(torch.var(x, dim=dim2reduce, keepdim=True, unbiased=False) + self.eps).detach()\n",
    "\n",
    "    def _normalize(self, x):\n",
    "        if self.non_norm:\n",
    "            return x\n",
    "        if self.subtract_last:\n",
    "            x = x - self.last\n",
    "        else:\n",
    "            x = x - self.mean\n",
    "        x = x / self.stdev\n",
    "        if self.affine:\n",
    "            x = x * self.affine_weight\n",
    "            x = x + self.affine_bias\n",
    "        return x\n",
    "\n",
    "    def _denormalize(self, x):\n",
    "        if self.non_norm:\n",
    "            return x\n",
    "        if self.affine:\n",
    "            x = x - self.affine_bias\n",
    "            x = x / (self.affine_weight + self.eps * self.eps)\n",
    "        x = x * self.stdev\n",
    "        if self.subtract_last:\n",
    "            x = x + self.last\n",
    "        else:\n",
    "            x = x + self.mean\n",
    "        return x\n"
   ]
  },
  {
   "cell_type": "code",
   "execution_count": 5,
   "metadata": {},
   "outputs": [],
   "source": [
    "def supervised_data(data, in_length, out_length):\n",
    "    X = pd.DataFrame()\n",
    "    Y = pd.DataFrame()\n",
    "    n = data.shape[0]\n",
    "    for col in data.columns:\n",
    "        x = []\n",
    "        y = []\n",
    "        for i in range(n - in_length - out_length + 1):\n",
    "            x2 = data.loc[i:i + in_length - 1,col]\n",
    "            y2 = data.loc[i + in_length:i + in_length + out_length -1,col]\n",
    "            x.extend(x2)\n",
    "            y.extend(y2)\n",
    "        X[col] = x\n",
    "        Y[col] = y\n",
    "    return X, Y\n"
   ]
  },
  {
   "cell_type": "markdown",
   "metadata": {},
   "source": [
    "Pipeline to train raman datasets only:"
   ]
  },
  {
   "cell_type": "code",
   "execution_count": 6,
   "metadata": {},
   "outputs": [],
   "source": [
    "def train_model(configs, train, validation, epochs, batch_size, updates, earlystop, patience = 10):\n",
    "\n",
    "    #Scale spectra\n",
    "\n",
    "    train.columns = train.columns.astype(str)\n",
    "    scaler = StandardScaler()\n",
    "    normalized = scaler.fit_transform(train.iloc[:,1:].T).T\n",
    "    X_train_n = pd.DataFrame(normalized, columns = train.iloc[:,1:].columns)\n",
    "\n",
    "    validation.columns = validation.columns.astype(str)\n",
    "    normalized = scaler.fit_transform(validation.iloc[:,1:].T).T\n",
    "    X_val_n = pd.DataFrame(normalized, columns = validation.iloc[:,1:].columns)\n",
    "\n",
    "    #Scale wavelengths\n",
    "    stand = StandardScaler()\n",
    "    scaled = stand.fit_transform(X_train_n)\n",
    "    X_train_n = pd.DataFrame(scaled, columns = X_train_n.columns)\n",
    "    scaled = stand.transform(X_val_n)\n",
    "    X_val_n = pd.DataFrame(scaled, columns = X_val_n.columns)\n",
    "    \n",
    "    #Prepare tensor dataset\n",
    "\n",
    "    pred_len = configs.pred_len\n",
    "    seq_len = configs.seq_len\n",
    "    n_vars = 1\n",
    "    N_train =  X_train_n.shape[0]\n",
    "    N_val = X_val_n.shape[0]\n",
    "\n",
    "    X = torch.from_numpy(X_train_n.iloc[:,:].to_numpy().astype('float32')).unsqueeze(-1)\n",
    "    y = torch.from_numpy(train.iloc[:,0].to_numpy().astype('float32')).unsqueeze(1).unsqueeze(1)\n",
    "                \n",
    "    X2 = torch.from_numpy(X_val_n.iloc[:,:].to_numpy().astype('float32')).unsqueeze(-1)\n",
    "    y2 = torch.from_numpy(validation.iloc[:,0].to_numpy().astype('float32')).unsqueeze(1).unsqueeze(1)\n",
    "                \n",
    "    train_ds = TensorDataset(X, y)\n",
    "    val_ds = TensorDataset(X2, y2)\n",
    "\n",
    "    train_loader = DataLoader(train_ds, batch_size=batch_size, shuffle=True)\n",
    "    val_loader  = DataLoader(val_ds,  batch_size=batch_size, shuffle=False)\n",
    "\n",
    "    #Train model \n",
    "  \n",
    "    device = torch.device(\"cuda\" if torch.cuda.is_available() else \"cpu\")\n",
    "    model = Model(configs).to(device)\n",
    "    #opt = torch.optim.AdamW(model.parameters(), lr=configs.lr, weight_decay=1e-2)\n",
    "    opt = torch.optim.Adam(filter(lambda p: p.requires_grad, model.parameters()), lr=configs.lr)\n",
    "    criterion = torch.nn.MSELoss()\n",
    "\n",
    "    num_epochs = epochs\n",
    "\n",
    "    #Early stop\n",
    "\n",
    "    best_val_rmse = float('inf')\n",
    "\n",
    "    counter = 0\n",
    "\n",
    "    for epoch in range(1, num_epochs+1):\n",
    "        model.train()\n",
    "        sum_mse = 0.0\n",
    "        r2_metric = R2Score()\n",
    "        for x_enc, y_true in train_loader:\n",
    "            x_enc, y_true = x_enc.float().to(device), y_true.float().to(device)\n",
    "            opt.zero_grad()\n",
    "            y_pred = model(x_enc, None, None, None)  \n",
    "            loss = criterion(y_pred, y_true)\n",
    "            loss.backward()\n",
    "            opt.step()\n",
    "            sum_mse += loss.item()*x_enc.size(0)\n",
    "            #r2_metric.update(y_pred.squeeze(), y_true.squeeze())\n",
    "            r2_metric.update(y_pred.reshape(-1), y_true.reshape(-1))\n",
    "\n",
    "            del y_pred, loss  # Free up memory\n",
    "            torch.cuda.empty_cache()\n",
    "\n",
    "        train_mse = sum_mse / N_train\n",
    "        train_rmse = sqrt(train_mse)\n",
    "        train_r2 = r2_metric.compute()\n",
    "\n",
    "\n",
    "        model.eval()\n",
    "        sum_mse = 0.0\n",
    "        r2_metric2 = R2Score()\n",
    "        with torch.no_grad():\n",
    "            for x_enc, y_true in val_loader:\n",
    "                x_enc, y_true = x_enc.to(device), y_true.to(device)\n",
    "                y_pred = model(x_enc, None, None, None)\n",
    "                sum_mse += criterion(y_pred, y_true).item() * x_enc.size(0)\n",
    "                #r2_metric2.update(y_pred.squeeze(), y_true.squeeze())\n",
    "                r2_metric2.update(y_pred.reshape(-1), y_true.reshape(-1))\n",
    "\n",
    "                del y_pred  # Free up memory\n",
    "                torch.cuda.empty_cache()\n",
    "\n",
    "\n",
    "        val_mse = sum_mse / N_val\n",
    "        val_rmse = sqrt(val_mse)\n",
    "        val_r2 = r2_metric2.compute()\n",
    "\n",
    "        #print(f\"Epoch {epoch:2d} — train RMSE {train_rmse:.6f} - val RMSE {val_rmse:.6f} \")\n",
    "        if updates:\n",
    "            print(f\"Epoch {epoch:2d} — train RMSE {train_rmse:.6f} - train R2 {train_r2:.6f} — val RMSE {val_rmse:.6f} - val R2 {val_r2:.6f}\")\n",
    "            \n",
    "        if earlystop:\n",
    "            if val_rmse < best_val_rmse:\n",
    "                best_val_rmse = val_rmse\n",
    "                counter = 0\n",
    "                torch.save(model.state_dict(), 'best_model.pt')  # Save best model\n",
    "            else:\n",
    "                counter += 1\n",
    "                if counter >= patience:\n",
    "                    print(f\"Early stopping triggered; Best val RMSE : {best_val_rmse:.6f}\")\n",
    "                    break\n",
    "    return model, train_rmse, train_r2, val_rmse, val_r2, stand"
   ]
  },
  {
   "attachments": {},
   "cell_type": "markdown",
   "metadata": {},
   "source": [
    "# Weather Dataset"
   ]
  },
  {
   "cell_type": "code",
   "execution_count": 7,
   "metadata": {},
   "outputs": [],
   "source": [
    "weather = pd.read_csv('weather.csv')\n",
    "weather['date'] = pd.to_datetime(weather['date'], dayfirst= False)\n",
    "weather\n",
    "del weather['date']\n",
    "\n",
    "#weather = weather.iloc[:1000,:10]"
   ]
  },
  {
   "cell_type": "code",
   "execution_count": 8,
   "metadata": {},
   "outputs": [
    {
     "data": {
      "text/plain": [
       "42157"
      ]
     },
     "execution_count": 8,
     "metadata": {},
     "output_type": "execute_result"
    }
   ],
   "source": [
    "train_N = round(weather.shape[0]*0.8)\n",
    "train_N"
   ]
  },
  {
   "attachments": {},
   "cell_type": "markdown",
   "metadata": {},
   "source": [
    "Train-Validation Split"
   ]
  },
  {
   "cell_type": "code",
   "execution_count": 9,
   "metadata": {},
   "outputs": [],
   "source": [
    "train = weather.iloc[:train_N,:]\n",
    "test = weather.iloc[train_N:,:].reset_index(drop=True)"
   ]
  },
  {
   "cell_type": "code",
   "execution_count": 10,
   "metadata": {},
   "outputs": [],
   "source": [
    "scaler = StandardScaler()\n",
    "train = scaler.fit_transform(train)\n",
    "test = scaler.transform(test)\n",
    "train = pd.DataFrame(train, columns = weather.columns)\n",
    "test = pd.DataFrame(test, columns = weather.columns)"
   ]
  },
  {
   "cell_type": "code",
   "execution_count": 11,
   "metadata": {},
   "outputs": [
    {
     "data": {
      "text/plain": [
       "(42157, 21)"
      ]
     },
     "execution_count": 11,
     "metadata": {},
     "output_type": "execute_result"
    }
   ],
   "source": [
    "train.shape"
   ]
  },
  {
   "attachments": {},
   "cell_type": "markdown",
   "metadata": {},
   "source": [
    "Task details:"
   ]
  },
  {
   "cell_type": "code",
   "execution_count": 14,
   "metadata": {},
   "outputs": [],
   "source": [
    "pred_len = 96\n",
    "seq_len = 512\n",
    "n_vars = len(train.columns)\n",
    "configs = Details(\n",
    "    pred_len = pred_len,      \n",
    "    seq_len  = seq_len,\n",
    "    d_ff = 32,\n",
    "    patch_len= 16,\n",
    "    stride = 8, \n",
    "    llm_layers = 32,\n",
    "    description = \"Weather is recorded every 10 minutes for the 2020 whole year, which contains 21 meteorological indicators, such as air temperature, humidity, etc.\" ,\n",
    "    dropout = 0.1,\n",
    "    n_heads = 8,\n",
    "    d_model = 16,\n",
    "    enc_in = n_vars,\n",
    "    d_llm = 4096,\n",
    "    llm_model = 'LLAMA',\n",
    "    lr = 1e-3\n",
    ")\n"
   ]
  },
  {
   "cell_type": "code",
   "execution_count": 12,
   "metadata": {},
   "outputs": [],
   "source": [
    "X_train, Y_train = supervised_data(train, seq_len, pred_len)\n",
    "X_test, Y_test = supervised_data(test, seq_len, pred_len)"
   ]
  },
  {
   "cell_type": "code",
   "execution_count": 12,
   "metadata": {},
   "outputs": [
    {
     "data": {
      "text/plain": [
       "(21273600, 21)"
      ]
     },
     "execution_count": 12,
     "metadata": {},
     "output_type": "execute_result"
    }
   ],
   "source": [
    "X_train.shape"
   ]
  },
  {
   "cell_type": "code",
   "execution_count": 13,
   "metadata": {},
   "outputs": [],
   "source": [
    "N_train = int(X_train.shape[0]/seq_len)\n",
    "X_train_ = torch.from_numpy(X_train.to_numpy().astype('float32')).view(N_train, seq_len, n_vars)\n",
    "Y_train_ = torch.from_numpy(Y_train.to_numpy().astype('float32')).view(N_train, pred_len, n_vars)\n",
    "\n",
    "N_test = int(X_test.shape[0]/seq_len)\n",
    "X_test_ = torch.from_numpy(X_test.to_numpy().astype('float32')).view(N_test, seq_len, n_vars)\n",
    "Y_test_ = torch.from_numpy(Y_test.to_numpy().astype('float32')).view(N_test, pred_len, n_vars)\n",
    "       \n",
    "train_ds = TensorDataset(X_train_, Y_train_)\n",
    "test_ds = TensorDataset(X_test_, Y_test_)\n",
    "\n",
    "batch_size   = 16\n",
    "\n",
    "train_loader = DataLoader(train_ds, batch_size=batch_size, shuffle=False)#Or should it be true¿?\n",
    "test_loader  = DataLoader(test_ds,  batch_size=batch_size, shuffle=False)"
   ]
  },
  {
   "cell_type": "code",
   "execution_count": null,
   "metadata": {},
   "outputs": [
    {
     "data": {
      "application/vnd.jupyter.widget-view+json": {
       "model_id": "01eb8f9bd2c64146a6ee6d006c3dce97",
       "version_major": 2,
       "version_minor": 0
      },
      "text/plain": [
       "Loading checkpoint shards:   0%|          | 0/2 [00:00<?, ?it/s]"
      ]
     },
     "metadata": {},
     "output_type": "display_data"
    },
    {
     "ename": "OutOfMemoryError",
     "evalue": "CUDA out of memory. Tried to allocate 670.00 MiB. GPU 0 has a total capacity of 23.68 GiB of which 164.69 MiB is free. Including non-PyTorch memory, this process has 23.32 GiB memory in use. Of the allocated memory 20.88 GiB is allocated by PyTorch, and 1.18 GiB is reserved by PyTorch but unallocated. If reserved but unallocated memory is large try setting PYTORCH_CUDA_ALLOC_CONF=expandable_segments:True to avoid fragmentation.  See documentation for Memory Management  (https://pytorch.org/docs/stable/notes/cuda.html#environment-variables)",
     "output_type": "error",
     "traceback": [
      "\u001b[0;31m---------------------------------------------------------------------------\u001b[0m",
      "\u001b[0;31mOutOfMemoryError\u001b[0m                          Traceback (most recent call last)",
      "Cell \u001b[0;32mIn[14], line 16\u001b[0m\n\u001b[1;32m     14\u001b[0m x_enc, y_true \u001b[38;5;241m=\u001b[39m x_enc\u001b[38;5;241m.\u001b[39mfloat()\u001b[38;5;241m.\u001b[39mto(device), y_true\u001b[38;5;241m.\u001b[39mfloat()\u001b[38;5;241m.\u001b[39mto(device)\n\u001b[1;32m     15\u001b[0m opt\u001b[38;5;241m.\u001b[39mzero_grad()\n\u001b[0;32m---> 16\u001b[0m y_pred \u001b[38;5;241m=\u001b[39m \u001b[43mmodel\u001b[49m\u001b[43m(\u001b[49m\u001b[43mx_enc\u001b[49m\u001b[43m,\u001b[49m\u001b[43m \u001b[49m\u001b[38;5;28;43;01mNone\u001b[39;49;00m\u001b[43m,\u001b[49m\u001b[43m \u001b[49m\u001b[38;5;28;43;01mNone\u001b[39;49;00m\u001b[43m,\u001b[49m\u001b[43m \u001b[49m\u001b[38;5;28;43;01mNone\u001b[39;49;00m\u001b[43m)\u001b[49m  \n\u001b[1;32m     17\u001b[0m loss \u001b[38;5;241m=\u001b[39m criterion(y_pred, y_true)\n\u001b[1;32m     18\u001b[0m loss\u001b[38;5;241m.\u001b[39mbackward()\n",
      "File \u001b[0;32m~/.local/lib/python3.10/site-packages/torch/nn/modules/module.py:1751\u001b[0m, in \u001b[0;36mModule._wrapped_call_impl\u001b[0;34m(self, *args, **kwargs)\u001b[0m\n\u001b[1;32m   1749\u001b[0m     \u001b[38;5;28;01mreturn\u001b[39;00m \u001b[38;5;28mself\u001b[39m\u001b[38;5;241m.\u001b[39m_compiled_call_impl(\u001b[38;5;241m*\u001b[39margs, \u001b[38;5;241m*\u001b[39m\u001b[38;5;241m*\u001b[39mkwargs)  \u001b[38;5;66;03m# type: ignore[misc]\u001b[39;00m\n\u001b[1;32m   1750\u001b[0m \u001b[38;5;28;01melse\u001b[39;00m:\n\u001b[0;32m-> 1751\u001b[0m     \u001b[38;5;28;01mreturn\u001b[39;00m \u001b[38;5;28;43mself\u001b[39;49m\u001b[38;5;241;43m.\u001b[39;49m\u001b[43m_call_impl\u001b[49m\u001b[43m(\u001b[49m\u001b[38;5;241;43m*\u001b[39;49m\u001b[43margs\u001b[49m\u001b[43m,\u001b[49m\u001b[43m \u001b[49m\u001b[38;5;241;43m*\u001b[39;49m\u001b[38;5;241;43m*\u001b[39;49m\u001b[43mkwargs\u001b[49m\u001b[43m)\u001b[49m\n",
      "File \u001b[0;32m~/.local/lib/python3.10/site-packages/torch/nn/modules/module.py:1762\u001b[0m, in \u001b[0;36mModule._call_impl\u001b[0;34m(self, *args, **kwargs)\u001b[0m\n\u001b[1;32m   1757\u001b[0m \u001b[38;5;66;03m# If we don't have any hooks, we want to skip the rest of the logic in\u001b[39;00m\n\u001b[1;32m   1758\u001b[0m \u001b[38;5;66;03m# this function, and just call forward.\u001b[39;00m\n\u001b[1;32m   1759\u001b[0m \u001b[38;5;28;01mif\u001b[39;00m \u001b[38;5;129;01mnot\u001b[39;00m (\u001b[38;5;28mself\u001b[39m\u001b[38;5;241m.\u001b[39m_backward_hooks \u001b[38;5;129;01mor\u001b[39;00m \u001b[38;5;28mself\u001b[39m\u001b[38;5;241m.\u001b[39m_backward_pre_hooks \u001b[38;5;129;01mor\u001b[39;00m \u001b[38;5;28mself\u001b[39m\u001b[38;5;241m.\u001b[39m_forward_hooks \u001b[38;5;129;01mor\u001b[39;00m \u001b[38;5;28mself\u001b[39m\u001b[38;5;241m.\u001b[39m_forward_pre_hooks\n\u001b[1;32m   1760\u001b[0m         \u001b[38;5;129;01mor\u001b[39;00m _global_backward_pre_hooks \u001b[38;5;129;01mor\u001b[39;00m _global_backward_hooks\n\u001b[1;32m   1761\u001b[0m         \u001b[38;5;129;01mor\u001b[39;00m _global_forward_hooks \u001b[38;5;129;01mor\u001b[39;00m _global_forward_pre_hooks):\n\u001b[0;32m-> 1762\u001b[0m     \u001b[38;5;28;01mreturn\u001b[39;00m \u001b[43mforward_call\u001b[49m\u001b[43m(\u001b[49m\u001b[38;5;241;43m*\u001b[39;49m\u001b[43margs\u001b[49m\u001b[43m,\u001b[49m\u001b[43m \u001b[49m\u001b[38;5;241;43m*\u001b[39;49m\u001b[38;5;241;43m*\u001b[39;49m\u001b[43mkwargs\u001b[49m\u001b[43m)\u001b[49m\n\u001b[1;32m   1764\u001b[0m result \u001b[38;5;241m=\u001b[39m \u001b[38;5;28;01mNone\u001b[39;00m\n\u001b[1;32m   1765\u001b[0m called_always_called_hooks \u001b[38;5;241m=\u001b[39m \u001b[38;5;28mset\u001b[39m()\n",
      "Cell \u001b[0;32mIn[3], line 168\u001b[0m, in \u001b[0;36mModel.forward\u001b[0;34m(self, x_enc, x_mark_enc, x_dec, x_mark_dec, mask)\u001b[0m\n\u001b[1;32m    167\u001b[0m \u001b[38;5;28;01mdef\u001b[39;00m \u001b[38;5;21mforward\u001b[39m(\u001b[38;5;28mself\u001b[39m, x_enc, x_mark_enc, x_dec, x_mark_dec, mask\u001b[38;5;241m=\u001b[39m\u001b[38;5;28;01mNone\u001b[39;00m):\n\u001b[0;32m--> 168\u001b[0m     dec_out \u001b[38;5;241m=\u001b[39m \u001b[38;5;28;43mself\u001b[39;49m\u001b[38;5;241;43m.\u001b[39;49m\u001b[43mforecast\u001b[49m\u001b[43m(\u001b[49m\u001b[43mx_enc\u001b[49m\u001b[43m,\u001b[49m\u001b[43m \u001b[49m\u001b[43mx_mark_enc\u001b[49m\u001b[43m,\u001b[49m\u001b[43m \u001b[49m\u001b[43mx_dec\u001b[49m\u001b[43m,\u001b[49m\u001b[43m \u001b[49m\u001b[43mx_mark_dec\u001b[49m\u001b[43m)\u001b[49m\n\u001b[1;32m    169\u001b[0m     \u001b[38;5;28;01mreturn\u001b[39;00m dec_out[:, \u001b[38;5;241m-\u001b[39m\u001b[38;5;28mself\u001b[39m\u001b[38;5;241m.\u001b[39mpred_len:, :]\n",
      "Cell \u001b[0;32mIn[3], line 218\u001b[0m, in \u001b[0;36mModel.forecast\u001b[0;34m(self, x_enc, x_mark_enc, x_dec, x_mark_dec)\u001b[0m\n\u001b[1;32m    216\u001b[0m enc_out \u001b[38;5;241m=\u001b[39m \u001b[38;5;28mself\u001b[39m\u001b[38;5;241m.\u001b[39mreprogramming_layer(enc_out, source_embeddings, source_embeddings)\n\u001b[1;32m    217\u001b[0m llama_enc_out \u001b[38;5;241m=\u001b[39m torch\u001b[38;5;241m.\u001b[39mcat([prompt_embeddings, enc_out], dim\u001b[38;5;241m=\u001b[39m\u001b[38;5;241m1\u001b[39m)\n\u001b[0;32m--> 218\u001b[0m dec_out \u001b[38;5;241m=\u001b[39m \u001b[38;5;28;43mself\u001b[39;49m\u001b[38;5;241;43m.\u001b[39;49m\u001b[43mllm_model\u001b[49m\u001b[43m(\u001b[49m\u001b[43minputs_embeds\u001b[49m\u001b[38;5;241;43m=\u001b[39;49m\u001b[43mllama_enc_out\u001b[49m\u001b[43m)\u001b[49m\u001b[38;5;241m.\u001b[39mlast_hidden_state\n\u001b[1;32m    219\u001b[0m \u001b[38;5;66;03m#print(dec_out)\u001b[39;00m\n\u001b[1;32m    220\u001b[0m dec_out \u001b[38;5;241m=\u001b[39m dec_out[:, :, :\u001b[38;5;28mself\u001b[39m\u001b[38;5;241m.\u001b[39md_ff]\n",
      "File \u001b[0;32m~/.local/lib/python3.10/site-packages/torch/nn/modules/module.py:1751\u001b[0m, in \u001b[0;36mModule._wrapped_call_impl\u001b[0;34m(self, *args, **kwargs)\u001b[0m\n\u001b[1;32m   1749\u001b[0m     \u001b[38;5;28;01mreturn\u001b[39;00m \u001b[38;5;28mself\u001b[39m\u001b[38;5;241m.\u001b[39m_compiled_call_impl(\u001b[38;5;241m*\u001b[39margs, \u001b[38;5;241m*\u001b[39m\u001b[38;5;241m*\u001b[39mkwargs)  \u001b[38;5;66;03m# type: ignore[misc]\u001b[39;00m\n\u001b[1;32m   1750\u001b[0m \u001b[38;5;28;01melse\u001b[39;00m:\n\u001b[0;32m-> 1751\u001b[0m     \u001b[38;5;28;01mreturn\u001b[39;00m \u001b[38;5;28;43mself\u001b[39;49m\u001b[38;5;241;43m.\u001b[39;49m\u001b[43m_call_impl\u001b[49m\u001b[43m(\u001b[49m\u001b[38;5;241;43m*\u001b[39;49m\u001b[43margs\u001b[49m\u001b[43m,\u001b[49m\u001b[43m \u001b[49m\u001b[38;5;241;43m*\u001b[39;49m\u001b[38;5;241;43m*\u001b[39;49m\u001b[43mkwargs\u001b[49m\u001b[43m)\u001b[49m\n",
      "File \u001b[0;32m~/.local/lib/python3.10/site-packages/torch/nn/modules/module.py:1762\u001b[0m, in \u001b[0;36mModule._call_impl\u001b[0;34m(self, *args, **kwargs)\u001b[0m\n\u001b[1;32m   1757\u001b[0m \u001b[38;5;66;03m# If we don't have any hooks, we want to skip the rest of the logic in\u001b[39;00m\n\u001b[1;32m   1758\u001b[0m \u001b[38;5;66;03m# this function, and just call forward.\u001b[39;00m\n\u001b[1;32m   1759\u001b[0m \u001b[38;5;28;01mif\u001b[39;00m \u001b[38;5;129;01mnot\u001b[39;00m (\u001b[38;5;28mself\u001b[39m\u001b[38;5;241m.\u001b[39m_backward_hooks \u001b[38;5;129;01mor\u001b[39;00m \u001b[38;5;28mself\u001b[39m\u001b[38;5;241m.\u001b[39m_backward_pre_hooks \u001b[38;5;129;01mor\u001b[39;00m \u001b[38;5;28mself\u001b[39m\u001b[38;5;241m.\u001b[39m_forward_hooks \u001b[38;5;129;01mor\u001b[39;00m \u001b[38;5;28mself\u001b[39m\u001b[38;5;241m.\u001b[39m_forward_pre_hooks\n\u001b[1;32m   1760\u001b[0m         \u001b[38;5;129;01mor\u001b[39;00m _global_backward_pre_hooks \u001b[38;5;129;01mor\u001b[39;00m _global_backward_hooks\n\u001b[1;32m   1761\u001b[0m         \u001b[38;5;129;01mor\u001b[39;00m _global_forward_hooks \u001b[38;5;129;01mor\u001b[39;00m _global_forward_pre_hooks):\n\u001b[0;32m-> 1762\u001b[0m     \u001b[38;5;28;01mreturn\u001b[39;00m \u001b[43mforward_call\u001b[49m\u001b[43m(\u001b[49m\u001b[38;5;241;43m*\u001b[39;49m\u001b[43margs\u001b[49m\u001b[43m,\u001b[49m\u001b[43m \u001b[49m\u001b[38;5;241;43m*\u001b[39;49m\u001b[38;5;241;43m*\u001b[39;49m\u001b[43mkwargs\u001b[49m\u001b[43m)\u001b[49m\n\u001b[1;32m   1764\u001b[0m result \u001b[38;5;241m=\u001b[39m \u001b[38;5;28;01mNone\u001b[39;00m\n\u001b[1;32m   1765\u001b[0m called_always_called_hooks \u001b[38;5;241m=\u001b[39m \u001b[38;5;28mset\u001b[39m()\n",
      "File \u001b[0;32m~/.local/lib/python3.10/site-packages/transformers/utils/generic.py:969\u001b[0m, in \u001b[0;36mcan_return_tuple.<locals>.wrapper\u001b[0;34m(self, *args, **kwargs)\u001b[0m\n\u001b[1;32m    966\u001b[0m     set_attribute_for_modules(\u001b[38;5;28mself\u001b[39m, \u001b[38;5;124m\"\u001b[39m\u001b[38;5;124m_is_top_level_module\u001b[39m\u001b[38;5;124m\"\u001b[39m, \u001b[38;5;28;01mFalse\u001b[39;00m)\n\u001b[1;32m    968\u001b[0m \u001b[38;5;28;01mtry\u001b[39;00m:\n\u001b[0;32m--> 969\u001b[0m     output \u001b[38;5;241m=\u001b[39m \u001b[43mfunc\u001b[49m\u001b[43m(\u001b[49m\u001b[38;5;28;43mself\u001b[39;49m\u001b[43m,\u001b[49m\u001b[43m \u001b[49m\u001b[38;5;241;43m*\u001b[39;49m\u001b[43margs\u001b[49m\u001b[43m,\u001b[49m\u001b[43m \u001b[49m\u001b[38;5;241;43m*\u001b[39;49m\u001b[38;5;241;43m*\u001b[39;49m\u001b[43mkwargs\u001b[49m\u001b[43m)\u001b[49m\n\u001b[1;32m    970\u001b[0m     \u001b[38;5;28;01mif\u001b[39;00m is_requested_to_return_tuple \u001b[38;5;129;01mor\u001b[39;00m (is_configured_to_return_tuple \u001b[38;5;129;01mand\u001b[39;00m is_top_level_module):\n\u001b[1;32m    971\u001b[0m         output \u001b[38;5;241m=\u001b[39m output\u001b[38;5;241m.\u001b[39mto_tuple()\n",
      "File \u001b[0;32m~/.local/lib/python3.10/site-packages/transformers/models/llama/modeling_llama.py:453\u001b[0m, in \u001b[0;36mLlamaModel.forward\u001b[0;34m(self, input_ids, attention_mask, position_ids, past_key_values, inputs_embeds, use_cache, output_attentions, output_hidden_states, cache_position, **flash_attn_kwargs)\u001b[0m\n\u001b[1;32m    450\u001b[0m \u001b[38;5;28;01mif\u001b[39;00m output_hidden_states:\n\u001b[1;32m    451\u001b[0m     all_hidden_states \u001b[38;5;241m+\u001b[39m\u001b[38;5;241m=\u001b[39m (hidden_states,)\n\u001b[0;32m--> 453\u001b[0m layer_outputs \u001b[38;5;241m=\u001b[39m \u001b[43mdecoder_layer\u001b[49m\u001b[43m(\u001b[49m\n\u001b[1;32m    454\u001b[0m \u001b[43m    \u001b[49m\u001b[43mhidden_states\u001b[49m\u001b[43m,\u001b[49m\n\u001b[1;32m    455\u001b[0m \u001b[43m    \u001b[49m\u001b[43mattention_mask\u001b[49m\u001b[38;5;241;43m=\u001b[39;49m\u001b[43mcausal_mask\u001b[49m\u001b[43m,\u001b[49m\n\u001b[1;32m    456\u001b[0m \u001b[43m    \u001b[49m\u001b[43mposition_ids\u001b[49m\u001b[38;5;241;43m=\u001b[39;49m\u001b[43mposition_ids\u001b[49m\u001b[43m,\u001b[49m\n\u001b[1;32m    457\u001b[0m \u001b[43m    \u001b[49m\u001b[43mpast_key_value\u001b[49m\u001b[38;5;241;43m=\u001b[39;49m\u001b[43mpast_key_values\u001b[49m\u001b[43m,\u001b[49m\n\u001b[1;32m    458\u001b[0m \u001b[43m    \u001b[49m\u001b[43moutput_attentions\u001b[49m\u001b[38;5;241;43m=\u001b[39;49m\u001b[43moutput_attentions\u001b[49m\u001b[43m,\u001b[49m\n\u001b[1;32m    459\u001b[0m \u001b[43m    \u001b[49m\u001b[43muse_cache\u001b[49m\u001b[38;5;241;43m=\u001b[39;49m\u001b[43muse_cache\u001b[49m\u001b[43m,\u001b[49m\n\u001b[1;32m    460\u001b[0m \u001b[43m    \u001b[49m\u001b[43mcache_position\u001b[49m\u001b[38;5;241;43m=\u001b[39;49m\u001b[43mcache_position\u001b[49m\u001b[43m,\u001b[49m\n\u001b[1;32m    461\u001b[0m \u001b[43m    \u001b[49m\u001b[43mposition_embeddings\u001b[49m\u001b[38;5;241;43m=\u001b[39;49m\u001b[43mposition_embeddings\u001b[49m\u001b[43m,\u001b[49m\n\u001b[1;32m    462\u001b[0m \u001b[43m    \u001b[49m\u001b[38;5;241;43m*\u001b[39;49m\u001b[38;5;241;43m*\u001b[39;49m\u001b[43mflash_attn_kwargs\u001b[49m\u001b[43m,\u001b[49m\n\u001b[1;32m    463\u001b[0m \u001b[43m\u001b[49m\u001b[43m)\u001b[49m\n\u001b[1;32m    465\u001b[0m hidden_states \u001b[38;5;241m=\u001b[39m layer_outputs[\u001b[38;5;241m0\u001b[39m]\n\u001b[1;32m    467\u001b[0m \u001b[38;5;28;01mif\u001b[39;00m output_attentions:\n",
      "File \u001b[0;32m~/.local/lib/python3.10/site-packages/transformers/modeling_layers.py:48\u001b[0m, in \u001b[0;36mGradientCheckpointingLayer.__call__\u001b[0;34m(self, *args, **kwargs)\u001b[0m\n\u001b[1;32m     46\u001b[0m \u001b[38;5;28;01mif\u001b[39;00m \u001b[38;5;28mself\u001b[39m\u001b[38;5;241m.\u001b[39mgradient_checkpointing \u001b[38;5;129;01mand\u001b[39;00m \u001b[38;5;28mself\u001b[39m\u001b[38;5;241m.\u001b[39mtraining:\n\u001b[1;32m     47\u001b[0m     \u001b[38;5;28;01mreturn\u001b[39;00m \u001b[38;5;28mself\u001b[39m\u001b[38;5;241m.\u001b[39m_gradient_checkpointing_func(partial(\u001b[38;5;28msuper\u001b[39m()\u001b[38;5;241m.\u001b[39m\u001b[38;5;21m__call__\u001b[39m, \u001b[38;5;241m*\u001b[39m\u001b[38;5;241m*\u001b[39mkwargs), \u001b[38;5;241m*\u001b[39margs)\n\u001b[0;32m---> 48\u001b[0m \u001b[38;5;28;01mreturn\u001b[39;00m \u001b[38;5;28;43msuper\u001b[39;49m\u001b[43m(\u001b[49m\u001b[43m)\u001b[49m\u001b[38;5;241;43m.\u001b[39;49m\u001b[38;5;21;43m__call__\u001b[39;49m\u001b[43m(\u001b[49m\u001b[38;5;241;43m*\u001b[39;49m\u001b[43margs\u001b[49m\u001b[43m,\u001b[49m\u001b[43m \u001b[49m\u001b[38;5;241;43m*\u001b[39;49m\u001b[38;5;241;43m*\u001b[39;49m\u001b[43mkwargs\u001b[49m\u001b[43m)\u001b[49m\n",
      "File \u001b[0;32m~/.local/lib/python3.10/site-packages/torch/nn/modules/module.py:1751\u001b[0m, in \u001b[0;36mModule._wrapped_call_impl\u001b[0;34m(self, *args, **kwargs)\u001b[0m\n\u001b[1;32m   1749\u001b[0m     \u001b[38;5;28;01mreturn\u001b[39;00m \u001b[38;5;28mself\u001b[39m\u001b[38;5;241m.\u001b[39m_compiled_call_impl(\u001b[38;5;241m*\u001b[39margs, \u001b[38;5;241m*\u001b[39m\u001b[38;5;241m*\u001b[39mkwargs)  \u001b[38;5;66;03m# type: ignore[misc]\u001b[39;00m\n\u001b[1;32m   1750\u001b[0m \u001b[38;5;28;01melse\u001b[39;00m:\n\u001b[0;32m-> 1751\u001b[0m     \u001b[38;5;28;01mreturn\u001b[39;00m \u001b[38;5;28;43mself\u001b[39;49m\u001b[38;5;241;43m.\u001b[39;49m\u001b[43m_call_impl\u001b[49m\u001b[43m(\u001b[49m\u001b[38;5;241;43m*\u001b[39;49m\u001b[43margs\u001b[49m\u001b[43m,\u001b[49m\u001b[43m \u001b[49m\u001b[38;5;241;43m*\u001b[39;49m\u001b[38;5;241;43m*\u001b[39;49m\u001b[43mkwargs\u001b[49m\u001b[43m)\u001b[49m\n",
      "File \u001b[0;32m~/.local/lib/python3.10/site-packages/torch/nn/modules/module.py:1762\u001b[0m, in \u001b[0;36mModule._call_impl\u001b[0;34m(self, *args, **kwargs)\u001b[0m\n\u001b[1;32m   1757\u001b[0m \u001b[38;5;66;03m# If we don't have any hooks, we want to skip the rest of the logic in\u001b[39;00m\n\u001b[1;32m   1758\u001b[0m \u001b[38;5;66;03m# this function, and just call forward.\u001b[39;00m\n\u001b[1;32m   1759\u001b[0m \u001b[38;5;28;01mif\u001b[39;00m \u001b[38;5;129;01mnot\u001b[39;00m (\u001b[38;5;28mself\u001b[39m\u001b[38;5;241m.\u001b[39m_backward_hooks \u001b[38;5;129;01mor\u001b[39;00m \u001b[38;5;28mself\u001b[39m\u001b[38;5;241m.\u001b[39m_backward_pre_hooks \u001b[38;5;129;01mor\u001b[39;00m \u001b[38;5;28mself\u001b[39m\u001b[38;5;241m.\u001b[39m_forward_hooks \u001b[38;5;129;01mor\u001b[39;00m \u001b[38;5;28mself\u001b[39m\u001b[38;5;241m.\u001b[39m_forward_pre_hooks\n\u001b[1;32m   1760\u001b[0m         \u001b[38;5;129;01mor\u001b[39;00m _global_backward_pre_hooks \u001b[38;5;129;01mor\u001b[39;00m _global_backward_hooks\n\u001b[1;32m   1761\u001b[0m         \u001b[38;5;129;01mor\u001b[39;00m _global_forward_hooks \u001b[38;5;129;01mor\u001b[39;00m _global_forward_pre_hooks):\n\u001b[0;32m-> 1762\u001b[0m     \u001b[38;5;28;01mreturn\u001b[39;00m \u001b[43mforward_call\u001b[49m\u001b[43m(\u001b[49m\u001b[38;5;241;43m*\u001b[39;49m\u001b[43margs\u001b[49m\u001b[43m,\u001b[49m\u001b[43m \u001b[49m\u001b[38;5;241;43m*\u001b[39;49m\u001b[38;5;241;43m*\u001b[39;49m\u001b[43mkwargs\u001b[49m\u001b[43m)\u001b[49m\n\u001b[1;32m   1764\u001b[0m result \u001b[38;5;241m=\u001b[39m \u001b[38;5;28;01mNone\u001b[39;00m\n\u001b[1;32m   1765\u001b[0m called_always_called_hooks \u001b[38;5;241m=\u001b[39m \u001b[38;5;28mset\u001b[39m()\n",
      "File \u001b[0;32m~/.local/lib/python3.10/site-packages/transformers/models/llama/modeling_llama.py:308\u001b[0m, in \u001b[0;36mLlamaDecoderLayer.forward\u001b[0;34m(self, hidden_states, attention_mask, position_ids, past_key_value, output_attentions, use_cache, cache_position, position_embeddings, **kwargs)\u001b[0m\n\u001b[1;32m    305\u001b[0m hidden_states \u001b[38;5;241m=\u001b[39m \u001b[38;5;28mself\u001b[39m\u001b[38;5;241m.\u001b[39minput_layernorm(hidden_states)\n\u001b[1;32m    307\u001b[0m \u001b[38;5;66;03m# Self Attention\u001b[39;00m\n\u001b[0;32m--> 308\u001b[0m hidden_states, self_attn_weights \u001b[38;5;241m=\u001b[39m \u001b[38;5;28;43mself\u001b[39;49m\u001b[38;5;241;43m.\u001b[39;49m\u001b[43mself_attn\u001b[49m\u001b[43m(\u001b[49m\n\u001b[1;32m    309\u001b[0m \u001b[43m    \u001b[49m\u001b[43mhidden_states\u001b[49m\u001b[38;5;241;43m=\u001b[39;49m\u001b[43mhidden_states\u001b[49m\u001b[43m,\u001b[49m\n\u001b[1;32m    310\u001b[0m \u001b[43m    \u001b[49m\u001b[43mattention_mask\u001b[49m\u001b[38;5;241;43m=\u001b[39;49m\u001b[43mattention_mask\u001b[49m\u001b[43m,\u001b[49m\n\u001b[1;32m    311\u001b[0m \u001b[43m    \u001b[49m\u001b[43mposition_ids\u001b[49m\u001b[38;5;241;43m=\u001b[39;49m\u001b[43mposition_ids\u001b[49m\u001b[43m,\u001b[49m\n\u001b[1;32m    312\u001b[0m \u001b[43m    \u001b[49m\u001b[43mpast_key_value\u001b[49m\u001b[38;5;241;43m=\u001b[39;49m\u001b[43mpast_key_value\u001b[49m\u001b[43m,\u001b[49m\n\u001b[1;32m    313\u001b[0m \u001b[43m    \u001b[49m\u001b[43moutput_attentions\u001b[49m\u001b[38;5;241;43m=\u001b[39;49m\u001b[43moutput_attentions\u001b[49m\u001b[43m,\u001b[49m\n\u001b[1;32m    314\u001b[0m \u001b[43m    \u001b[49m\u001b[43muse_cache\u001b[49m\u001b[38;5;241;43m=\u001b[39;49m\u001b[43muse_cache\u001b[49m\u001b[43m,\u001b[49m\n\u001b[1;32m    315\u001b[0m \u001b[43m    \u001b[49m\u001b[43mcache_position\u001b[49m\u001b[38;5;241;43m=\u001b[39;49m\u001b[43mcache_position\u001b[49m\u001b[43m,\u001b[49m\n\u001b[1;32m    316\u001b[0m \u001b[43m    \u001b[49m\u001b[43mposition_embeddings\u001b[49m\u001b[38;5;241;43m=\u001b[39;49m\u001b[43mposition_embeddings\u001b[49m\u001b[43m,\u001b[49m\n\u001b[1;32m    317\u001b[0m \u001b[43m    \u001b[49m\u001b[38;5;241;43m*\u001b[39;49m\u001b[38;5;241;43m*\u001b[39;49m\u001b[43mkwargs\u001b[49m\u001b[43m,\u001b[49m\n\u001b[1;32m    318\u001b[0m \u001b[43m\u001b[49m\u001b[43m)\u001b[49m\n\u001b[1;32m    319\u001b[0m hidden_states \u001b[38;5;241m=\u001b[39m residual \u001b[38;5;241m+\u001b[39m hidden_states\n\u001b[1;32m    321\u001b[0m \u001b[38;5;66;03m# Fully Connected\u001b[39;00m\n",
      "File \u001b[0;32m~/.local/lib/python3.10/site-packages/torch/nn/modules/module.py:1751\u001b[0m, in \u001b[0;36mModule._wrapped_call_impl\u001b[0;34m(self, *args, **kwargs)\u001b[0m\n\u001b[1;32m   1749\u001b[0m     \u001b[38;5;28;01mreturn\u001b[39;00m \u001b[38;5;28mself\u001b[39m\u001b[38;5;241m.\u001b[39m_compiled_call_impl(\u001b[38;5;241m*\u001b[39margs, \u001b[38;5;241m*\u001b[39m\u001b[38;5;241m*\u001b[39mkwargs)  \u001b[38;5;66;03m# type: ignore[misc]\u001b[39;00m\n\u001b[1;32m   1750\u001b[0m \u001b[38;5;28;01melse\u001b[39;00m:\n\u001b[0;32m-> 1751\u001b[0m     \u001b[38;5;28;01mreturn\u001b[39;00m \u001b[38;5;28;43mself\u001b[39;49m\u001b[38;5;241;43m.\u001b[39;49m\u001b[43m_call_impl\u001b[49m\u001b[43m(\u001b[49m\u001b[38;5;241;43m*\u001b[39;49m\u001b[43margs\u001b[49m\u001b[43m,\u001b[49m\u001b[43m \u001b[49m\u001b[38;5;241;43m*\u001b[39;49m\u001b[38;5;241;43m*\u001b[39;49m\u001b[43mkwargs\u001b[49m\u001b[43m)\u001b[49m\n",
      "File \u001b[0;32m~/.local/lib/python3.10/site-packages/torch/nn/modules/module.py:1762\u001b[0m, in \u001b[0;36mModule._call_impl\u001b[0;34m(self, *args, **kwargs)\u001b[0m\n\u001b[1;32m   1757\u001b[0m \u001b[38;5;66;03m# If we don't have any hooks, we want to skip the rest of the logic in\u001b[39;00m\n\u001b[1;32m   1758\u001b[0m \u001b[38;5;66;03m# this function, and just call forward.\u001b[39;00m\n\u001b[1;32m   1759\u001b[0m \u001b[38;5;28;01mif\u001b[39;00m \u001b[38;5;129;01mnot\u001b[39;00m (\u001b[38;5;28mself\u001b[39m\u001b[38;5;241m.\u001b[39m_backward_hooks \u001b[38;5;129;01mor\u001b[39;00m \u001b[38;5;28mself\u001b[39m\u001b[38;5;241m.\u001b[39m_backward_pre_hooks \u001b[38;5;129;01mor\u001b[39;00m \u001b[38;5;28mself\u001b[39m\u001b[38;5;241m.\u001b[39m_forward_hooks \u001b[38;5;129;01mor\u001b[39;00m \u001b[38;5;28mself\u001b[39m\u001b[38;5;241m.\u001b[39m_forward_pre_hooks\n\u001b[1;32m   1760\u001b[0m         \u001b[38;5;129;01mor\u001b[39;00m _global_backward_pre_hooks \u001b[38;5;129;01mor\u001b[39;00m _global_backward_hooks\n\u001b[1;32m   1761\u001b[0m         \u001b[38;5;129;01mor\u001b[39;00m _global_forward_hooks \u001b[38;5;129;01mor\u001b[39;00m _global_forward_pre_hooks):\n\u001b[0;32m-> 1762\u001b[0m     \u001b[38;5;28;01mreturn\u001b[39;00m \u001b[43mforward_call\u001b[49m\u001b[43m(\u001b[49m\u001b[38;5;241;43m*\u001b[39;49m\u001b[43margs\u001b[49m\u001b[43m,\u001b[49m\u001b[43m \u001b[49m\u001b[38;5;241;43m*\u001b[39;49m\u001b[38;5;241;43m*\u001b[39;49m\u001b[43mkwargs\u001b[49m\u001b[43m)\u001b[49m\n\u001b[1;32m   1764\u001b[0m result \u001b[38;5;241m=\u001b[39m \u001b[38;5;28;01mNone\u001b[39;00m\n\u001b[1;32m   1765\u001b[0m called_always_called_hooks \u001b[38;5;241m=\u001b[39m \u001b[38;5;28mset\u001b[39m()\n",
      "File \u001b[0;32m~/.local/lib/python3.10/site-packages/transformers/models/llama/modeling_llama.py:247\u001b[0m, in \u001b[0;36mLlamaAttention.forward\u001b[0;34m(self, hidden_states, position_embeddings, attention_mask, past_key_value, cache_position, **kwargs)\u001b[0m\n\u001b[1;32m    244\u001b[0m value_states \u001b[38;5;241m=\u001b[39m \u001b[38;5;28mself\u001b[39m\u001b[38;5;241m.\u001b[39mv_proj(hidden_states)\u001b[38;5;241m.\u001b[39mview(hidden_shape)\u001b[38;5;241m.\u001b[39mtranspose(\u001b[38;5;241m1\u001b[39m, \u001b[38;5;241m2\u001b[39m)\n\u001b[1;32m    246\u001b[0m cos, sin \u001b[38;5;241m=\u001b[39m position_embeddings\n\u001b[0;32m--> 247\u001b[0m query_states, key_states \u001b[38;5;241m=\u001b[39m \u001b[43mapply_rotary_pos_emb\u001b[49m\u001b[43m(\u001b[49m\u001b[43mquery_states\u001b[49m\u001b[43m,\u001b[49m\u001b[43m \u001b[49m\u001b[43mkey_states\u001b[49m\u001b[43m,\u001b[49m\u001b[43m \u001b[49m\u001b[43mcos\u001b[49m\u001b[43m,\u001b[49m\u001b[43m \u001b[49m\u001b[43msin\u001b[49m\u001b[43m)\u001b[49m\n\u001b[1;32m    249\u001b[0m \u001b[38;5;28;01mif\u001b[39;00m past_key_value \u001b[38;5;129;01mis\u001b[39;00m \u001b[38;5;129;01mnot\u001b[39;00m \u001b[38;5;28;01mNone\u001b[39;00m:\n\u001b[1;32m    250\u001b[0m     \u001b[38;5;66;03m# sin and cos are specific to RoPE models; cache_position needed for the static cache\u001b[39;00m\n\u001b[1;32m    251\u001b[0m     cache_kwargs \u001b[38;5;241m=\u001b[39m {\u001b[38;5;124m\"\u001b[39m\u001b[38;5;124msin\u001b[39m\u001b[38;5;124m\"\u001b[39m: sin, \u001b[38;5;124m\"\u001b[39m\u001b[38;5;124mcos\u001b[39m\u001b[38;5;124m\"\u001b[39m: cos, \u001b[38;5;124m\"\u001b[39m\u001b[38;5;124mcache_position\u001b[39m\u001b[38;5;124m\"\u001b[39m: cache_position}\n",
      "File \u001b[0;32m~/.local/lib/python3.10/site-packages/transformers/models/llama/modeling_llama.py:146\u001b[0m, in \u001b[0;36mapply_rotary_pos_emb\u001b[0;34m(q, k, cos, sin, position_ids, unsqueeze_dim)\u001b[0m\n\u001b[1;32m    144\u001b[0m sin \u001b[38;5;241m=\u001b[39m sin\u001b[38;5;241m.\u001b[39munsqueeze(unsqueeze_dim)\n\u001b[1;32m    145\u001b[0m q_embed \u001b[38;5;241m=\u001b[39m (q \u001b[38;5;241m*\u001b[39m cos) \u001b[38;5;241m+\u001b[39m (rotate_half(q) \u001b[38;5;241m*\u001b[39m sin)\n\u001b[0;32m--> 146\u001b[0m k_embed \u001b[38;5;241m=\u001b[39m (k \u001b[38;5;241m*\u001b[39m cos) \u001b[38;5;241m+\u001b[39m (\u001b[43mrotate_half\u001b[49m\u001b[43m(\u001b[49m\u001b[43mk\u001b[49m\u001b[43m)\u001b[49m\u001b[43m \u001b[49m\u001b[38;5;241;43m*\u001b[39;49m\u001b[43m \u001b[49m\u001b[43msin\u001b[49m)\n\u001b[1;32m    147\u001b[0m \u001b[38;5;28;01mreturn\u001b[39;00m q_embed, k_embed\n",
      "\u001b[0;31mOutOfMemoryError\u001b[0m: CUDA out of memory. Tried to allocate 670.00 MiB. GPU 0 has a total capacity of 23.68 GiB of which 164.69 MiB is free. Including non-PyTorch memory, this process has 23.32 GiB memory in use. Of the allocated memory 20.88 GiB is allocated by PyTorch, and 1.18 GiB is reserved by PyTorch but unallocated. If reserved but unallocated memory is large try setting PYTORCH_CUDA_ALLOC_CONF=expandable_segments:True to avoid fragmentation.  See documentation for Memory Management  (https://pytorch.org/docs/stable/notes/cuda.html#environment-variables)"
     ]
    }
   ],
   "source": [
    "device = torch.device(\"cuda\" if torch.cuda.is_available() else \"cpu\")\n",
    "model = Model(configs).to(device)\n",
    "opt = torch.optim.Adam(filter(lambda p: p.requires_grad, model.parameters()), lr=configs.lr)\n",
    "criterion = torch.nn.MSELoss()\n",
    "\n",
    "num_epochs = 100\n",
    "\n",
    "for epoch in range(1, num_epochs+1):\n",
    "    model.train()\n",
    "    sum_mse = 0.0\n",
    "    r2_metric = R2Score()\n",
    "    for x_enc, y_true in train_loader:\n",
    "        x_enc, y_true = x_enc.float().to(device), y_true.float().to(device)\n",
    "        opt.zero_grad()\n",
    "        y_pred = model(x_enc, None, None, None)  \n",
    "        loss = criterion(y_pred, y_true)\n",
    "        loss.backward()\n",
    "        opt.step()\n",
    "        sum_mse += loss.item()*x_enc.size(0)\n",
    "        r2_metric.update(y_pred.reshape(-1, n_vars), y_true.reshape(-1, n_vars))\n",
    "        del y_pred, loss  # Free up memory\n",
    "        torch.cuda.empty_cache()\n",
    "\n",
    "    train_mse = sum_mse / N_train\n",
    "    train_rmse = sqrt(train_mse)\n",
    "    train_r2 = r2_metric.compute()\n",
    "\n",
    "\n",
    "    model.eval()\n",
    "    sum_mse = 0.0\n",
    "    r2_metric2 = R2Score()\n",
    "    with torch.no_grad():\n",
    "        for x_enc, y_true in test_loader:\n",
    "            x_enc, y_true = x_enc.to(device), y_true.to(device)\n",
    "            y_pred = model(x_enc, None, None, None)\n",
    "            sum_mse += criterion(y_pred, y_true).item() * x_enc.size(0)\n",
    "            r2_metric2.update(y_pred.reshape(-1, n_vars), y_true.reshape(-1, n_vars))\n",
    "            del y_pred  # Free up memory\n",
    "            torch.cuda.empty_cache()\n",
    "\n",
    "\n",
    "    val_mse = sum_mse / N_test\n",
    "    val_rmse = sqrt(val_mse)\n",
    "    val_r2 = r2_metric2.compute()\n",
    "\n",
    "\n",
    "    print(f\"Epoch {epoch:2d} — train MSE {train_mse:.6f} - train R2 {train_r2:.6f} — val MSE {val_mse:.6f} - val R2 {val_r2:.6f}\")\n"
   ]
  },
  {
   "cell_type": "code",
   "execution_count": null,
   "metadata": {},
   "outputs": [],
   "source": []
  },
  {
   "cell_type": "code",
   "execution_count": null,
   "metadata": {},
   "outputs": [],
   "source": []
  },
  {
   "cell_type": "code",
   "execution_count": null,
   "metadata": {},
   "outputs": [],
   "source": []
  },
  {
   "cell_type": "code",
   "execution_count": null,
   "metadata": {},
   "outputs": [],
   "source": []
  },
  {
   "cell_type": "markdown",
   "metadata": {},
   "source": [
    "Don't run this"
   ]
  },
  {
   "cell_type": "code",
   "execution_count": 16,
   "metadata": {},
   "outputs": [
    {
     "name": "stdout",
     "output_type": "stream",
     "text": [
      "Epoch  1 — train RMSE 3.204922 - train R2 0.399476 — val RMSE 1.529246 - val R2 0.512537\n",
      "Epoch  2 — train RMSE 2.215803 - train R2 0.716460 — val RMSE 1.060983 - val R2 0.767389\n",
      "Epoch  3 — train RMSE 1.815567 - train R2 0.791040 — val RMSE 1.022648 - val R2 0.787486\n",
      "Epoch  4 — train RMSE 1.765228 - train R2 0.801854 — val RMSE 1.020342 - val R2 0.798367\n",
      "Epoch  5 — train RMSE 1.768999 - train R2 0.802592 — val RMSE 1.010477 - val R2 0.806963\n"
     ]
    }
   ],
   "source": [
    "num_epochs = 5\n",
    "\n",
    "for epoch in range(1, num_epochs+1):\n",
    "    model.train()\n",
    "    sum_mse = 0.0\n",
    "    r2_metric = R2Score()\n",
    "    for x_enc, y_true in train_loader:\n",
    "        x_enc, y_true = x_enc.float().to(device), y_true.float().to(device)\n",
    "        opt.zero_grad()\n",
    "        y_pred = model(x_enc, None, None, None)  \n",
    "        loss = criterion(y_pred, y_true)\n",
    "        loss.backward()\n",
    "        opt.step()\n",
    "        sum_mse += loss.item()*x_enc.size(0)\n",
    "        r2_metric.update(y_pred.reshape(-1, n_vars), y_true.reshape(-1, n_vars))\n",
    "        del y_pred, loss  # Free up memory\n",
    "        torch.cuda.empty_cache()\n",
    "\n",
    "    train_mse = sum_mse / N_train\n",
    "    train_rmse = sqrt(train_mse)\n",
    "    train_r2 = r2_metric.compute()\n",
    "\n",
    "\n",
    "    model.eval()\n",
    "    sum_mse = 0.0\n",
    "    r2_metric2 = R2Score()\n",
    "    with torch.no_grad():\n",
    "        for x_enc, y_true in test_loader:\n",
    "            x_enc, y_true = x_enc.to(device), y_true.to(device)\n",
    "            y_pred = model(x_enc, None, None, None)\n",
    "            sum_mse += criterion(y_pred, y_true).item() * x_enc.size(0)\n",
    "            r2_metric2.update(y_pred.reshape(-1, n_vars), y_true.reshape(-1, n_vars))\n",
    "            del y_pred  # Free up memory\n",
    "            torch.cuda.empty_cache()\n",
    "\n",
    "\n",
    "    val_mse = sum_mse / N_test\n",
    "    val_rmse = sqrt(val_mse)\n",
    "    val_r2 = r2_metric2.compute()\n",
    "\n",
    "\n",
    "    print(f\"Epoch {epoch:2d} — train RMSE {train_rmse:.6f} - train R2 {train_r2:.6f} — val RMSE {val_rmse:.6f} - val R2 {val_r2:.6f}\")\n"
   ]
  },
  {
   "attachments": {},
   "cell_type": "markdown",
   "metadata": {},
   "source": [
    "scaled data"
   ]
  },
  {
   "cell_type": "markdown",
   "metadata": {},
   "source": [
    "Dont run this"
   ]
  },
  {
   "cell_type": "code",
   "execution_count": 33,
   "metadata": {},
   "outputs": [
    {
     "ename": "OutOfMemoryError",
     "evalue": "CUDA out of memory. Tried to allocate 244.00 MiB. GPU 0 has a total capacity of 23.68 GiB of which 251.81 MiB is free. Including non-PyTorch memory, this process has 23.22 GiB memory in use. Of the allocated memory 20.84 GiB is allocated by PyTorch, and 1.11 GiB is reserved by PyTorch but unallocated. If reserved but unallocated memory is large try setting PYTORCH_CUDA_ALLOC_CONF=expandable_segments:True to avoid fragmentation.  See documentation for Memory Management  (https://pytorch.org/docs/stable/notes/cuda.html#environment-variables)",
     "output_type": "error",
     "traceback": [
      "\u001b[0;31m---------------------------------------------------------------------------\u001b[0m",
      "\u001b[0;31mOutOfMemoryError\u001b[0m                          Traceback (most recent call last)",
      "Cell \u001b[0;32mIn[33], line 10\u001b[0m\n\u001b[1;32m      8\u001b[0m x_enc, y_true \u001b[38;5;241m=\u001b[39m x_enc\u001b[38;5;241m.\u001b[39mfloat()\u001b[38;5;241m.\u001b[39mto(device), y_true\u001b[38;5;241m.\u001b[39mfloat()\u001b[38;5;241m.\u001b[39mto(device)\n\u001b[1;32m      9\u001b[0m opt\u001b[38;5;241m.\u001b[39mzero_grad()\n\u001b[0;32m---> 10\u001b[0m y_pred \u001b[38;5;241m=\u001b[39m \u001b[43mmodel\u001b[49m\u001b[43m(\u001b[49m\u001b[43mx_enc\u001b[49m\u001b[43m,\u001b[49m\u001b[43m \u001b[49m\u001b[38;5;28;43;01mNone\u001b[39;49;00m\u001b[43m,\u001b[49m\u001b[43m \u001b[49m\u001b[38;5;28;43;01mNone\u001b[39;49;00m\u001b[43m,\u001b[49m\u001b[43m \u001b[49m\u001b[38;5;28;43;01mNone\u001b[39;49;00m\u001b[43m)\u001b[49m  \n\u001b[1;32m     11\u001b[0m loss \u001b[38;5;241m=\u001b[39m criterion(y_pred, y_true)\n\u001b[1;32m     12\u001b[0m loss\u001b[38;5;241m.\u001b[39mbackward()\n",
      "File \u001b[0;32m~/.local/lib/python3.10/site-packages/torch/nn/modules/module.py:1751\u001b[0m, in \u001b[0;36mModule._wrapped_call_impl\u001b[0;34m(self, *args, **kwargs)\u001b[0m\n\u001b[1;32m   1749\u001b[0m     \u001b[38;5;28;01mreturn\u001b[39;00m \u001b[38;5;28mself\u001b[39m\u001b[38;5;241m.\u001b[39m_compiled_call_impl(\u001b[38;5;241m*\u001b[39margs, \u001b[38;5;241m*\u001b[39m\u001b[38;5;241m*\u001b[39mkwargs)  \u001b[38;5;66;03m# type: ignore[misc]\u001b[39;00m\n\u001b[1;32m   1750\u001b[0m \u001b[38;5;28;01melse\u001b[39;00m:\n\u001b[0;32m-> 1751\u001b[0m     \u001b[38;5;28;01mreturn\u001b[39;00m \u001b[38;5;28;43mself\u001b[39;49m\u001b[38;5;241;43m.\u001b[39;49m\u001b[43m_call_impl\u001b[49m\u001b[43m(\u001b[49m\u001b[38;5;241;43m*\u001b[39;49m\u001b[43margs\u001b[49m\u001b[43m,\u001b[49m\u001b[43m \u001b[49m\u001b[38;5;241;43m*\u001b[39;49m\u001b[38;5;241;43m*\u001b[39;49m\u001b[43mkwargs\u001b[49m\u001b[43m)\u001b[49m\n",
      "File \u001b[0;32m~/.local/lib/python3.10/site-packages/torch/nn/modules/module.py:1762\u001b[0m, in \u001b[0;36mModule._call_impl\u001b[0;34m(self, *args, **kwargs)\u001b[0m\n\u001b[1;32m   1757\u001b[0m \u001b[38;5;66;03m# If we don't have any hooks, we want to skip the rest of the logic in\u001b[39;00m\n\u001b[1;32m   1758\u001b[0m \u001b[38;5;66;03m# this function, and just call forward.\u001b[39;00m\n\u001b[1;32m   1759\u001b[0m \u001b[38;5;28;01mif\u001b[39;00m \u001b[38;5;129;01mnot\u001b[39;00m (\u001b[38;5;28mself\u001b[39m\u001b[38;5;241m.\u001b[39m_backward_hooks \u001b[38;5;129;01mor\u001b[39;00m \u001b[38;5;28mself\u001b[39m\u001b[38;5;241m.\u001b[39m_backward_pre_hooks \u001b[38;5;129;01mor\u001b[39;00m \u001b[38;5;28mself\u001b[39m\u001b[38;5;241m.\u001b[39m_forward_hooks \u001b[38;5;129;01mor\u001b[39;00m \u001b[38;5;28mself\u001b[39m\u001b[38;5;241m.\u001b[39m_forward_pre_hooks\n\u001b[1;32m   1760\u001b[0m         \u001b[38;5;129;01mor\u001b[39;00m _global_backward_pre_hooks \u001b[38;5;129;01mor\u001b[39;00m _global_backward_hooks\n\u001b[1;32m   1761\u001b[0m         \u001b[38;5;129;01mor\u001b[39;00m _global_forward_hooks \u001b[38;5;129;01mor\u001b[39;00m _global_forward_pre_hooks):\n\u001b[0;32m-> 1762\u001b[0m     \u001b[38;5;28;01mreturn\u001b[39;00m \u001b[43mforward_call\u001b[49m\u001b[43m(\u001b[49m\u001b[38;5;241;43m*\u001b[39;49m\u001b[43margs\u001b[49m\u001b[43m,\u001b[49m\u001b[43m \u001b[49m\u001b[38;5;241;43m*\u001b[39;49m\u001b[38;5;241;43m*\u001b[39;49m\u001b[43mkwargs\u001b[49m\u001b[43m)\u001b[49m\n\u001b[1;32m   1764\u001b[0m result \u001b[38;5;241m=\u001b[39m \u001b[38;5;28;01mNone\u001b[39;00m\n\u001b[1;32m   1765\u001b[0m called_always_called_hooks \u001b[38;5;241m=\u001b[39m \u001b[38;5;28mset\u001b[39m()\n",
      "Cell \u001b[0;32mIn[9], line 127\u001b[0m, in \u001b[0;36mModel.forward\u001b[0;34m(self, x_enc, x_mark_enc, x_dec, x_mark_dec, mask)\u001b[0m\n\u001b[1;32m    126\u001b[0m \u001b[38;5;28;01mdef\u001b[39;00m \u001b[38;5;21mforward\u001b[39m(\u001b[38;5;28mself\u001b[39m, x_enc, x_mark_enc, x_dec, x_mark_dec, mask\u001b[38;5;241m=\u001b[39m\u001b[38;5;28;01mNone\u001b[39;00m):\n\u001b[0;32m--> 127\u001b[0m     dec_out \u001b[38;5;241m=\u001b[39m \u001b[38;5;28;43mself\u001b[39;49m\u001b[38;5;241;43m.\u001b[39;49m\u001b[43mforecast\u001b[49m\u001b[43m(\u001b[49m\u001b[43mx_enc\u001b[49m\u001b[43m,\u001b[49m\u001b[43m \u001b[49m\u001b[43mx_mark_enc\u001b[49m\u001b[43m,\u001b[49m\u001b[43m \u001b[49m\u001b[43mx_dec\u001b[49m\u001b[43m,\u001b[49m\u001b[43m \u001b[49m\u001b[43mx_mark_dec\u001b[49m\u001b[43m)\u001b[49m\n\u001b[1;32m    128\u001b[0m     \u001b[38;5;28;01mreturn\u001b[39;00m dec_out[:, \u001b[38;5;241m-\u001b[39m\u001b[38;5;28mself\u001b[39m\u001b[38;5;241m.\u001b[39mpred_len:, :]\n",
      "Cell \u001b[0;32mIn[9], line 177\u001b[0m, in \u001b[0;36mModel.forecast\u001b[0;34m(self, x_enc, x_mark_enc, x_dec, x_mark_dec)\u001b[0m\n\u001b[1;32m    175\u001b[0m enc_out \u001b[38;5;241m=\u001b[39m \u001b[38;5;28mself\u001b[39m\u001b[38;5;241m.\u001b[39mreprogramming_layer(enc_out, source_embeddings, source_embeddings)\n\u001b[1;32m    176\u001b[0m llama_enc_out \u001b[38;5;241m=\u001b[39m torch\u001b[38;5;241m.\u001b[39mcat([prompt_embeddings, enc_out], dim\u001b[38;5;241m=\u001b[39m\u001b[38;5;241m1\u001b[39m)\n\u001b[0;32m--> 177\u001b[0m dec_out \u001b[38;5;241m=\u001b[39m \u001b[38;5;28;43mself\u001b[39;49m\u001b[38;5;241;43m.\u001b[39;49m\u001b[43mllm_model\u001b[49m\u001b[43m(\u001b[49m\u001b[43minputs_embeds\u001b[49m\u001b[38;5;241;43m=\u001b[39;49m\u001b[43mllama_enc_out\u001b[49m\u001b[43m)\u001b[49m\u001b[38;5;241m.\u001b[39mlast_hidden_state\n\u001b[1;32m    178\u001b[0m \u001b[38;5;66;03m#print(dec_out)\u001b[39;00m\n\u001b[1;32m    179\u001b[0m dec_out \u001b[38;5;241m=\u001b[39m dec_out[:, :, :\u001b[38;5;28mself\u001b[39m\u001b[38;5;241m.\u001b[39md_ff]\n",
      "File \u001b[0;32m~/.local/lib/python3.10/site-packages/torch/nn/modules/module.py:1751\u001b[0m, in \u001b[0;36mModule._wrapped_call_impl\u001b[0;34m(self, *args, **kwargs)\u001b[0m\n\u001b[1;32m   1749\u001b[0m     \u001b[38;5;28;01mreturn\u001b[39;00m \u001b[38;5;28mself\u001b[39m\u001b[38;5;241m.\u001b[39m_compiled_call_impl(\u001b[38;5;241m*\u001b[39margs, \u001b[38;5;241m*\u001b[39m\u001b[38;5;241m*\u001b[39mkwargs)  \u001b[38;5;66;03m# type: ignore[misc]\u001b[39;00m\n\u001b[1;32m   1750\u001b[0m \u001b[38;5;28;01melse\u001b[39;00m:\n\u001b[0;32m-> 1751\u001b[0m     \u001b[38;5;28;01mreturn\u001b[39;00m \u001b[38;5;28;43mself\u001b[39;49m\u001b[38;5;241;43m.\u001b[39;49m\u001b[43m_call_impl\u001b[49m\u001b[43m(\u001b[49m\u001b[38;5;241;43m*\u001b[39;49m\u001b[43margs\u001b[49m\u001b[43m,\u001b[49m\u001b[43m \u001b[49m\u001b[38;5;241;43m*\u001b[39;49m\u001b[38;5;241;43m*\u001b[39;49m\u001b[43mkwargs\u001b[49m\u001b[43m)\u001b[49m\n",
      "File \u001b[0;32m~/.local/lib/python3.10/site-packages/torch/nn/modules/module.py:1762\u001b[0m, in \u001b[0;36mModule._call_impl\u001b[0;34m(self, *args, **kwargs)\u001b[0m\n\u001b[1;32m   1757\u001b[0m \u001b[38;5;66;03m# If we don't have any hooks, we want to skip the rest of the logic in\u001b[39;00m\n\u001b[1;32m   1758\u001b[0m \u001b[38;5;66;03m# this function, and just call forward.\u001b[39;00m\n\u001b[1;32m   1759\u001b[0m \u001b[38;5;28;01mif\u001b[39;00m \u001b[38;5;129;01mnot\u001b[39;00m (\u001b[38;5;28mself\u001b[39m\u001b[38;5;241m.\u001b[39m_backward_hooks \u001b[38;5;129;01mor\u001b[39;00m \u001b[38;5;28mself\u001b[39m\u001b[38;5;241m.\u001b[39m_backward_pre_hooks \u001b[38;5;129;01mor\u001b[39;00m \u001b[38;5;28mself\u001b[39m\u001b[38;5;241m.\u001b[39m_forward_hooks \u001b[38;5;129;01mor\u001b[39;00m \u001b[38;5;28mself\u001b[39m\u001b[38;5;241m.\u001b[39m_forward_pre_hooks\n\u001b[1;32m   1760\u001b[0m         \u001b[38;5;129;01mor\u001b[39;00m _global_backward_pre_hooks \u001b[38;5;129;01mor\u001b[39;00m _global_backward_hooks\n\u001b[1;32m   1761\u001b[0m         \u001b[38;5;129;01mor\u001b[39;00m _global_forward_hooks \u001b[38;5;129;01mor\u001b[39;00m _global_forward_pre_hooks):\n\u001b[0;32m-> 1762\u001b[0m     \u001b[38;5;28;01mreturn\u001b[39;00m \u001b[43mforward_call\u001b[49m\u001b[43m(\u001b[49m\u001b[38;5;241;43m*\u001b[39;49m\u001b[43margs\u001b[49m\u001b[43m,\u001b[49m\u001b[43m \u001b[49m\u001b[38;5;241;43m*\u001b[39;49m\u001b[38;5;241;43m*\u001b[39;49m\u001b[43mkwargs\u001b[49m\u001b[43m)\u001b[49m\n\u001b[1;32m   1764\u001b[0m result \u001b[38;5;241m=\u001b[39m \u001b[38;5;28;01mNone\u001b[39;00m\n\u001b[1;32m   1765\u001b[0m called_always_called_hooks \u001b[38;5;241m=\u001b[39m \u001b[38;5;28mset\u001b[39m()\n",
      "File \u001b[0;32m~/.local/lib/python3.10/site-packages/transformers/utils/generic.py:969\u001b[0m, in \u001b[0;36mcan_return_tuple.<locals>.wrapper\u001b[0;34m(self, *args, **kwargs)\u001b[0m\n\u001b[1;32m    966\u001b[0m     set_attribute_for_modules(\u001b[38;5;28mself\u001b[39m, \u001b[38;5;124m\"\u001b[39m\u001b[38;5;124m_is_top_level_module\u001b[39m\u001b[38;5;124m\"\u001b[39m, \u001b[38;5;28;01mFalse\u001b[39;00m)\n\u001b[1;32m    968\u001b[0m \u001b[38;5;28;01mtry\u001b[39;00m:\n\u001b[0;32m--> 969\u001b[0m     output \u001b[38;5;241m=\u001b[39m \u001b[43mfunc\u001b[49m\u001b[43m(\u001b[49m\u001b[38;5;28;43mself\u001b[39;49m\u001b[43m,\u001b[49m\u001b[43m \u001b[49m\u001b[38;5;241;43m*\u001b[39;49m\u001b[43margs\u001b[49m\u001b[43m,\u001b[49m\u001b[43m \u001b[49m\u001b[38;5;241;43m*\u001b[39;49m\u001b[38;5;241;43m*\u001b[39;49m\u001b[43mkwargs\u001b[49m\u001b[43m)\u001b[49m\n\u001b[1;32m    970\u001b[0m     \u001b[38;5;28;01mif\u001b[39;00m is_requested_to_return_tuple \u001b[38;5;129;01mor\u001b[39;00m (is_configured_to_return_tuple \u001b[38;5;129;01mand\u001b[39;00m is_top_level_module):\n\u001b[1;32m    971\u001b[0m         output \u001b[38;5;241m=\u001b[39m output\u001b[38;5;241m.\u001b[39mto_tuple()\n",
      "File \u001b[0;32m~/.local/lib/python3.10/site-packages/transformers/models/llama/modeling_llama.py:453\u001b[0m, in \u001b[0;36mLlamaModel.forward\u001b[0;34m(self, input_ids, attention_mask, position_ids, past_key_values, inputs_embeds, use_cache, output_attentions, output_hidden_states, cache_position, **flash_attn_kwargs)\u001b[0m\n\u001b[1;32m    450\u001b[0m \u001b[38;5;28;01mif\u001b[39;00m output_hidden_states:\n\u001b[1;32m    451\u001b[0m     all_hidden_states \u001b[38;5;241m+\u001b[39m\u001b[38;5;241m=\u001b[39m (hidden_states,)\n\u001b[0;32m--> 453\u001b[0m layer_outputs \u001b[38;5;241m=\u001b[39m \u001b[43mdecoder_layer\u001b[49m\u001b[43m(\u001b[49m\n\u001b[1;32m    454\u001b[0m \u001b[43m    \u001b[49m\u001b[43mhidden_states\u001b[49m\u001b[43m,\u001b[49m\n\u001b[1;32m    455\u001b[0m \u001b[43m    \u001b[49m\u001b[43mattention_mask\u001b[49m\u001b[38;5;241;43m=\u001b[39;49m\u001b[43mcausal_mask\u001b[49m\u001b[43m,\u001b[49m\n\u001b[1;32m    456\u001b[0m \u001b[43m    \u001b[49m\u001b[43mposition_ids\u001b[49m\u001b[38;5;241;43m=\u001b[39;49m\u001b[43mposition_ids\u001b[49m\u001b[43m,\u001b[49m\n\u001b[1;32m    457\u001b[0m \u001b[43m    \u001b[49m\u001b[43mpast_key_value\u001b[49m\u001b[38;5;241;43m=\u001b[39;49m\u001b[43mpast_key_values\u001b[49m\u001b[43m,\u001b[49m\n\u001b[1;32m    458\u001b[0m \u001b[43m    \u001b[49m\u001b[43moutput_attentions\u001b[49m\u001b[38;5;241;43m=\u001b[39;49m\u001b[43moutput_attentions\u001b[49m\u001b[43m,\u001b[49m\n\u001b[1;32m    459\u001b[0m \u001b[43m    \u001b[49m\u001b[43muse_cache\u001b[49m\u001b[38;5;241;43m=\u001b[39;49m\u001b[43muse_cache\u001b[49m\u001b[43m,\u001b[49m\n\u001b[1;32m    460\u001b[0m \u001b[43m    \u001b[49m\u001b[43mcache_position\u001b[49m\u001b[38;5;241;43m=\u001b[39;49m\u001b[43mcache_position\u001b[49m\u001b[43m,\u001b[49m\n\u001b[1;32m    461\u001b[0m \u001b[43m    \u001b[49m\u001b[43mposition_embeddings\u001b[49m\u001b[38;5;241;43m=\u001b[39;49m\u001b[43mposition_embeddings\u001b[49m\u001b[43m,\u001b[49m\n\u001b[1;32m    462\u001b[0m \u001b[43m    \u001b[49m\u001b[38;5;241;43m*\u001b[39;49m\u001b[38;5;241;43m*\u001b[39;49m\u001b[43mflash_attn_kwargs\u001b[49m\u001b[43m,\u001b[49m\n\u001b[1;32m    463\u001b[0m \u001b[43m\u001b[49m\u001b[43m)\u001b[49m\n\u001b[1;32m    465\u001b[0m hidden_states \u001b[38;5;241m=\u001b[39m layer_outputs[\u001b[38;5;241m0\u001b[39m]\n\u001b[1;32m    467\u001b[0m \u001b[38;5;28;01mif\u001b[39;00m output_attentions:\n",
      "File \u001b[0;32m~/.local/lib/python3.10/site-packages/transformers/modeling_layers.py:48\u001b[0m, in \u001b[0;36mGradientCheckpointingLayer.__call__\u001b[0;34m(self, *args, **kwargs)\u001b[0m\n\u001b[1;32m     46\u001b[0m \u001b[38;5;28;01mif\u001b[39;00m \u001b[38;5;28mself\u001b[39m\u001b[38;5;241m.\u001b[39mgradient_checkpointing \u001b[38;5;129;01mand\u001b[39;00m \u001b[38;5;28mself\u001b[39m\u001b[38;5;241m.\u001b[39mtraining:\n\u001b[1;32m     47\u001b[0m     \u001b[38;5;28;01mreturn\u001b[39;00m \u001b[38;5;28mself\u001b[39m\u001b[38;5;241m.\u001b[39m_gradient_checkpointing_func(partial(\u001b[38;5;28msuper\u001b[39m()\u001b[38;5;241m.\u001b[39m\u001b[38;5;21m__call__\u001b[39m, \u001b[38;5;241m*\u001b[39m\u001b[38;5;241m*\u001b[39mkwargs), \u001b[38;5;241m*\u001b[39margs)\n\u001b[0;32m---> 48\u001b[0m \u001b[38;5;28;01mreturn\u001b[39;00m \u001b[38;5;28;43msuper\u001b[39;49m\u001b[43m(\u001b[49m\u001b[43m)\u001b[49m\u001b[38;5;241;43m.\u001b[39;49m\u001b[38;5;21;43m__call__\u001b[39;49m\u001b[43m(\u001b[49m\u001b[38;5;241;43m*\u001b[39;49m\u001b[43margs\u001b[49m\u001b[43m,\u001b[49m\u001b[43m \u001b[49m\u001b[38;5;241;43m*\u001b[39;49m\u001b[38;5;241;43m*\u001b[39;49m\u001b[43mkwargs\u001b[49m\u001b[43m)\u001b[49m\n",
      "File \u001b[0;32m~/.local/lib/python3.10/site-packages/torch/nn/modules/module.py:1751\u001b[0m, in \u001b[0;36mModule._wrapped_call_impl\u001b[0;34m(self, *args, **kwargs)\u001b[0m\n\u001b[1;32m   1749\u001b[0m     \u001b[38;5;28;01mreturn\u001b[39;00m \u001b[38;5;28mself\u001b[39m\u001b[38;5;241m.\u001b[39m_compiled_call_impl(\u001b[38;5;241m*\u001b[39margs, \u001b[38;5;241m*\u001b[39m\u001b[38;5;241m*\u001b[39mkwargs)  \u001b[38;5;66;03m# type: ignore[misc]\u001b[39;00m\n\u001b[1;32m   1750\u001b[0m \u001b[38;5;28;01melse\u001b[39;00m:\n\u001b[0;32m-> 1751\u001b[0m     \u001b[38;5;28;01mreturn\u001b[39;00m \u001b[38;5;28;43mself\u001b[39;49m\u001b[38;5;241;43m.\u001b[39;49m\u001b[43m_call_impl\u001b[49m\u001b[43m(\u001b[49m\u001b[38;5;241;43m*\u001b[39;49m\u001b[43margs\u001b[49m\u001b[43m,\u001b[49m\u001b[43m \u001b[49m\u001b[38;5;241;43m*\u001b[39;49m\u001b[38;5;241;43m*\u001b[39;49m\u001b[43mkwargs\u001b[49m\u001b[43m)\u001b[49m\n",
      "File \u001b[0;32m~/.local/lib/python3.10/site-packages/torch/nn/modules/module.py:1762\u001b[0m, in \u001b[0;36mModule._call_impl\u001b[0;34m(self, *args, **kwargs)\u001b[0m\n\u001b[1;32m   1757\u001b[0m \u001b[38;5;66;03m# If we don't have any hooks, we want to skip the rest of the logic in\u001b[39;00m\n\u001b[1;32m   1758\u001b[0m \u001b[38;5;66;03m# this function, and just call forward.\u001b[39;00m\n\u001b[1;32m   1759\u001b[0m \u001b[38;5;28;01mif\u001b[39;00m \u001b[38;5;129;01mnot\u001b[39;00m (\u001b[38;5;28mself\u001b[39m\u001b[38;5;241m.\u001b[39m_backward_hooks \u001b[38;5;129;01mor\u001b[39;00m \u001b[38;5;28mself\u001b[39m\u001b[38;5;241m.\u001b[39m_backward_pre_hooks \u001b[38;5;129;01mor\u001b[39;00m \u001b[38;5;28mself\u001b[39m\u001b[38;5;241m.\u001b[39m_forward_hooks \u001b[38;5;129;01mor\u001b[39;00m \u001b[38;5;28mself\u001b[39m\u001b[38;5;241m.\u001b[39m_forward_pre_hooks\n\u001b[1;32m   1760\u001b[0m         \u001b[38;5;129;01mor\u001b[39;00m _global_backward_pre_hooks \u001b[38;5;129;01mor\u001b[39;00m _global_backward_hooks\n\u001b[1;32m   1761\u001b[0m         \u001b[38;5;129;01mor\u001b[39;00m _global_forward_hooks \u001b[38;5;129;01mor\u001b[39;00m _global_forward_pre_hooks):\n\u001b[0;32m-> 1762\u001b[0m     \u001b[38;5;28;01mreturn\u001b[39;00m \u001b[43mforward_call\u001b[49m\u001b[43m(\u001b[49m\u001b[38;5;241;43m*\u001b[39;49m\u001b[43margs\u001b[49m\u001b[43m,\u001b[49m\u001b[43m \u001b[49m\u001b[38;5;241;43m*\u001b[39;49m\u001b[38;5;241;43m*\u001b[39;49m\u001b[43mkwargs\u001b[49m\u001b[43m)\u001b[49m\n\u001b[1;32m   1764\u001b[0m result \u001b[38;5;241m=\u001b[39m \u001b[38;5;28;01mNone\u001b[39;00m\n\u001b[1;32m   1765\u001b[0m called_always_called_hooks \u001b[38;5;241m=\u001b[39m \u001b[38;5;28mset\u001b[39m()\n",
      "File \u001b[0;32m~/.local/lib/python3.10/site-packages/transformers/models/llama/modeling_llama.py:324\u001b[0m, in \u001b[0;36mLlamaDecoderLayer.forward\u001b[0;34m(self, hidden_states, attention_mask, position_ids, past_key_value, output_attentions, use_cache, cache_position, position_embeddings, **kwargs)\u001b[0m\n\u001b[1;32m    322\u001b[0m residual \u001b[38;5;241m=\u001b[39m hidden_states\n\u001b[1;32m    323\u001b[0m hidden_states \u001b[38;5;241m=\u001b[39m \u001b[38;5;28mself\u001b[39m\u001b[38;5;241m.\u001b[39mpost_attention_layernorm(hidden_states)\n\u001b[0;32m--> 324\u001b[0m hidden_states \u001b[38;5;241m=\u001b[39m \u001b[38;5;28;43mself\u001b[39;49m\u001b[38;5;241;43m.\u001b[39;49m\u001b[43mmlp\u001b[49m\u001b[43m(\u001b[49m\u001b[43mhidden_states\u001b[49m\u001b[43m)\u001b[49m\n\u001b[1;32m    325\u001b[0m hidden_states \u001b[38;5;241m=\u001b[39m residual \u001b[38;5;241m+\u001b[39m hidden_states\n\u001b[1;32m    327\u001b[0m outputs \u001b[38;5;241m=\u001b[39m (hidden_states,)\n",
      "File \u001b[0;32m~/.local/lib/python3.10/site-packages/torch/nn/modules/module.py:1751\u001b[0m, in \u001b[0;36mModule._wrapped_call_impl\u001b[0;34m(self, *args, **kwargs)\u001b[0m\n\u001b[1;32m   1749\u001b[0m     \u001b[38;5;28;01mreturn\u001b[39;00m \u001b[38;5;28mself\u001b[39m\u001b[38;5;241m.\u001b[39m_compiled_call_impl(\u001b[38;5;241m*\u001b[39margs, \u001b[38;5;241m*\u001b[39m\u001b[38;5;241m*\u001b[39mkwargs)  \u001b[38;5;66;03m# type: ignore[misc]\u001b[39;00m\n\u001b[1;32m   1750\u001b[0m \u001b[38;5;28;01melse\u001b[39;00m:\n\u001b[0;32m-> 1751\u001b[0m     \u001b[38;5;28;01mreturn\u001b[39;00m \u001b[38;5;28;43mself\u001b[39;49m\u001b[38;5;241;43m.\u001b[39;49m\u001b[43m_call_impl\u001b[49m\u001b[43m(\u001b[49m\u001b[38;5;241;43m*\u001b[39;49m\u001b[43margs\u001b[49m\u001b[43m,\u001b[49m\u001b[43m \u001b[49m\u001b[38;5;241;43m*\u001b[39;49m\u001b[38;5;241;43m*\u001b[39;49m\u001b[43mkwargs\u001b[49m\u001b[43m)\u001b[49m\n",
      "File \u001b[0;32m~/.local/lib/python3.10/site-packages/torch/nn/modules/module.py:1762\u001b[0m, in \u001b[0;36mModule._call_impl\u001b[0;34m(self, *args, **kwargs)\u001b[0m\n\u001b[1;32m   1757\u001b[0m \u001b[38;5;66;03m# If we don't have any hooks, we want to skip the rest of the logic in\u001b[39;00m\n\u001b[1;32m   1758\u001b[0m \u001b[38;5;66;03m# this function, and just call forward.\u001b[39;00m\n\u001b[1;32m   1759\u001b[0m \u001b[38;5;28;01mif\u001b[39;00m \u001b[38;5;129;01mnot\u001b[39;00m (\u001b[38;5;28mself\u001b[39m\u001b[38;5;241m.\u001b[39m_backward_hooks \u001b[38;5;129;01mor\u001b[39;00m \u001b[38;5;28mself\u001b[39m\u001b[38;5;241m.\u001b[39m_backward_pre_hooks \u001b[38;5;129;01mor\u001b[39;00m \u001b[38;5;28mself\u001b[39m\u001b[38;5;241m.\u001b[39m_forward_hooks \u001b[38;5;129;01mor\u001b[39;00m \u001b[38;5;28mself\u001b[39m\u001b[38;5;241m.\u001b[39m_forward_pre_hooks\n\u001b[1;32m   1760\u001b[0m         \u001b[38;5;129;01mor\u001b[39;00m _global_backward_pre_hooks \u001b[38;5;129;01mor\u001b[39;00m _global_backward_hooks\n\u001b[1;32m   1761\u001b[0m         \u001b[38;5;129;01mor\u001b[39;00m _global_forward_hooks \u001b[38;5;129;01mor\u001b[39;00m _global_forward_pre_hooks):\n\u001b[0;32m-> 1762\u001b[0m     \u001b[38;5;28;01mreturn\u001b[39;00m \u001b[43mforward_call\u001b[49m\u001b[43m(\u001b[49m\u001b[38;5;241;43m*\u001b[39;49m\u001b[43margs\u001b[49m\u001b[43m,\u001b[49m\u001b[43m \u001b[49m\u001b[38;5;241;43m*\u001b[39;49m\u001b[38;5;241;43m*\u001b[39;49m\u001b[43mkwargs\u001b[49m\u001b[43m)\u001b[49m\n\u001b[1;32m   1764\u001b[0m result \u001b[38;5;241m=\u001b[39m \u001b[38;5;28;01mNone\u001b[39;00m\n\u001b[1;32m   1765\u001b[0m called_always_called_hooks \u001b[38;5;241m=\u001b[39m \u001b[38;5;28mset\u001b[39m()\n",
      "File \u001b[0;32m~/.local/lib/python3.10/site-packages/transformers/models/llama/modeling_llama.py:162\u001b[0m, in \u001b[0;36mLlamaMLP.forward\u001b[0;34m(self, x)\u001b[0m\n\u001b[1;32m    161\u001b[0m \u001b[38;5;28;01mdef\u001b[39;00m \u001b[38;5;21mforward\u001b[39m(\u001b[38;5;28mself\u001b[39m, x):\n\u001b[0;32m--> 162\u001b[0m     down_proj \u001b[38;5;241m=\u001b[39m \u001b[38;5;28;43mself\u001b[39;49m\u001b[38;5;241;43m.\u001b[39;49m\u001b[43mdown_proj\u001b[49m\u001b[43m(\u001b[49m\u001b[38;5;28;43mself\u001b[39;49m\u001b[38;5;241;43m.\u001b[39;49m\u001b[43mact_fn\u001b[49m\u001b[43m(\u001b[49m\u001b[38;5;28;43mself\u001b[39;49m\u001b[38;5;241;43m.\u001b[39;49m\u001b[43mgate_proj\u001b[49m\u001b[43m(\u001b[49m\u001b[43mx\u001b[49m\u001b[43m)\u001b[49m\u001b[43m)\u001b[49m\u001b[43m \u001b[49m\u001b[38;5;241;43m*\u001b[39;49m\u001b[43m \u001b[49m\u001b[38;5;28;43mself\u001b[39;49m\u001b[38;5;241;43m.\u001b[39;49m\u001b[43mup_proj\u001b[49m\u001b[43m(\u001b[49m\u001b[43mx\u001b[49m\u001b[43m)\u001b[49m\u001b[43m)\u001b[49m\n\u001b[1;32m    163\u001b[0m     \u001b[38;5;28;01mreturn\u001b[39;00m down_proj\n",
      "File \u001b[0;32m~/.local/lib/python3.10/site-packages/torch/nn/modules/module.py:1751\u001b[0m, in \u001b[0;36mModule._wrapped_call_impl\u001b[0;34m(self, *args, **kwargs)\u001b[0m\n\u001b[1;32m   1749\u001b[0m     \u001b[38;5;28;01mreturn\u001b[39;00m \u001b[38;5;28mself\u001b[39m\u001b[38;5;241m.\u001b[39m_compiled_call_impl(\u001b[38;5;241m*\u001b[39margs, \u001b[38;5;241m*\u001b[39m\u001b[38;5;241m*\u001b[39mkwargs)  \u001b[38;5;66;03m# type: ignore[misc]\u001b[39;00m\n\u001b[1;32m   1750\u001b[0m \u001b[38;5;28;01melse\u001b[39;00m:\n\u001b[0;32m-> 1751\u001b[0m     \u001b[38;5;28;01mreturn\u001b[39;00m \u001b[38;5;28;43mself\u001b[39;49m\u001b[38;5;241;43m.\u001b[39;49m\u001b[43m_call_impl\u001b[49m\u001b[43m(\u001b[49m\u001b[38;5;241;43m*\u001b[39;49m\u001b[43margs\u001b[49m\u001b[43m,\u001b[49m\u001b[43m \u001b[49m\u001b[38;5;241;43m*\u001b[39;49m\u001b[38;5;241;43m*\u001b[39;49m\u001b[43mkwargs\u001b[49m\u001b[43m)\u001b[49m\n",
      "File \u001b[0;32m~/.local/lib/python3.10/site-packages/torch/nn/modules/module.py:1762\u001b[0m, in \u001b[0;36mModule._call_impl\u001b[0;34m(self, *args, **kwargs)\u001b[0m\n\u001b[1;32m   1757\u001b[0m \u001b[38;5;66;03m# If we don't have any hooks, we want to skip the rest of the logic in\u001b[39;00m\n\u001b[1;32m   1758\u001b[0m \u001b[38;5;66;03m# this function, and just call forward.\u001b[39;00m\n\u001b[1;32m   1759\u001b[0m \u001b[38;5;28;01mif\u001b[39;00m \u001b[38;5;129;01mnot\u001b[39;00m (\u001b[38;5;28mself\u001b[39m\u001b[38;5;241m.\u001b[39m_backward_hooks \u001b[38;5;129;01mor\u001b[39;00m \u001b[38;5;28mself\u001b[39m\u001b[38;5;241m.\u001b[39m_backward_pre_hooks \u001b[38;5;129;01mor\u001b[39;00m \u001b[38;5;28mself\u001b[39m\u001b[38;5;241m.\u001b[39m_forward_hooks \u001b[38;5;129;01mor\u001b[39;00m \u001b[38;5;28mself\u001b[39m\u001b[38;5;241m.\u001b[39m_forward_pre_hooks\n\u001b[1;32m   1760\u001b[0m         \u001b[38;5;129;01mor\u001b[39;00m _global_backward_pre_hooks \u001b[38;5;129;01mor\u001b[39;00m _global_backward_hooks\n\u001b[1;32m   1761\u001b[0m         \u001b[38;5;129;01mor\u001b[39;00m _global_forward_hooks \u001b[38;5;129;01mor\u001b[39;00m _global_forward_pre_hooks):\n\u001b[0;32m-> 1762\u001b[0m     \u001b[38;5;28;01mreturn\u001b[39;00m \u001b[43mforward_call\u001b[49m\u001b[43m(\u001b[49m\u001b[38;5;241;43m*\u001b[39;49m\u001b[43margs\u001b[49m\u001b[43m,\u001b[49m\u001b[43m \u001b[49m\u001b[38;5;241;43m*\u001b[39;49m\u001b[38;5;241;43m*\u001b[39;49m\u001b[43mkwargs\u001b[49m\u001b[43m)\u001b[49m\n\u001b[1;32m   1764\u001b[0m result \u001b[38;5;241m=\u001b[39m \u001b[38;5;28;01mNone\u001b[39;00m\n\u001b[1;32m   1765\u001b[0m called_always_called_hooks \u001b[38;5;241m=\u001b[39m \u001b[38;5;28mset\u001b[39m()\n",
      "File \u001b[0;32m~/.local/lib/python3.10/site-packages/torch/nn/modules/linear.py:125\u001b[0m, in \u001b[0;36mLinear.forward\u001b[0;34m(self, input)\u001b[0m\n\u001b[1;32m    124\u001b[0m \u001b[38;5;28;01mdef\u001b[39;00m \u001b[38;5;21mforward\u001b[39m(\u001b[38;5;28mself\u001b[39m, \u001b[38;5;28minput\u001b[39m: Tensor) \u001b[38;5;241m-\u001b[39m\u001b[38;5;241m>\u001b[39m Tensor:\n\u001b[0;32m--> 125\u001b[0m     \u001b[38;5;28;01mreturn\u001b[39;00m \u001b[43mF\u001b[49m\u001b[38;5;241;43m.\u001b[39;49m\u001b[43mlinear\u001b[49m\u001b[43m(\u001b[49m\u001b[38;5;28;43minput\u001b[39;49m\u001b[43m,\u001b[49m\u001b[43m \u001b[49m\u001b[38;5;28;43mself\u001b[39;49m\u001b[38;5;241;43m.\u001b[39;49m\u001b[43mweight\u001b[49m\u001b[43m,\u001b[49m\u001b[43m \u001b[49m\u001b[38;5;28;43mself\u001b[39;49m\u001b[38;5;241;43m.\u001b[39;49m\u001b[43mbias\u001b[49m\u001b[43m)\u001b[49m\n",
      "\u001b[0;31mOutOfMemoryError\u001b[0m: CUDA out of memory. Tried to allocate 244.00 MiB. GPU 0 has a total capacity of 23.68 GiB of which 251.81 MiB is free. Including non-PyTorch memory, this process has 23.22 GiB memory in use. Of the allocated memory 20.84 GiB is allocated by PyTorch, and 1.11 GiB is reserved by PyTorch but unallocated. If reserved but unallocated memory is large try setting PYTORCH_CUDA_ALLOC_CONF=expandable_segments:True to avoid fragmentation.  See documentation for Memory Management  (https://pytorch.org/docs/stable/notes/cuda.html#environment-variables)"
     ]
    }
   ],
   "source": [
    "num_epochs = 5\n",
    "\n",
    "for epoch in range(1, num_epochs+1):\n",
    "    model.train()\n",
    "    sum_mse = 0.0\n",
    "    r2_metric = R2Score()\n",
    "    for x_enc, y_true in train_loader:\n",
    "        x_enc, y_true = x_enc.float().to(device), y_true.float().to(device)\n",
    "        opt.zero_grad()\n",
    "        y_pred = model(x_enc, None, None, None)  \n",
    "        loss = criterion(y_pred, y_true)\n",
    "        loss.backward()\n",
    "        opt.step()\n",
    "        sum_mse += loss.item()*x_enc.size(0)\n",
    "        r2_metric.update(y_pred.reshape(-1, n_vars), y_true.reshape(-1, n_vars))\n",
    "        del y_pred, loss  # Free up memory\n",
    "        torch.cuda.empty_cache()\n",
    "\n",
    "    train_mse = sum_mse / N_train\n",
    "    train_rmse = sqrt(train_mse)\n",
    "    train_r2 = r2_metric.compute()\n",
    "\n",
    "\n",
    "    model.eval()\n",
    "    sum_mse = 0.0\n",
    "    r2_metric2 = R2Score()\n",
    "    with torch.no_grad():\n",
    "        for x_enc, y_true in test_loader:\n",
    "            x_enc, y_true = x_enc.to(device), y_true.to(device)\n",
    "            y_pred = model(x_enc, None, None, None)\n",
    "            sum_mse += criterion(y_pred, y_true).item() * x_enc.size(0)\n",
    "            r2_metric2.update(y_pred.reshape(-1, n_vars), y_true.reshape(-1, n_vars))\n",
    "            del y_pred  # Free up memory\n",
    "            torch.cuda.empty_cache()\n",
    "\n",
    "\n",
    "    val_mse = sum_mse / N_test\n",
    "    val_rmse = sqrt(val_mse)\n",
    "    val_r2 = r2_metric2.compute()\n",
    "\n",
    "\n",
    "    print(f\"Epoch {epoch:2d} — train RMSE {train_rmse:.6f} - train R2 {train_r2:.6f} — val RMSE {val_rmse:.6f} - val R2 {val_r2:.6f}\")\n"
   ]
  },
  {
   "cell_type": "markdown",
   "metadata": {},
   "source": []
  },
  {
   "attachments": {},
   "cell_type": "markdown",
   "metadata": {},
   "source": [
    "# Illness dataset"
   ]
  },
  {
   "cell_type": "code",
   "execution_count": 15,
   "metadata": {},
   "outputs": [
    {
     "data": {
      "text/html": [
       "<div>\n",
       "<style scoped>\n",
       "    .dataframe tbody tr th:only-of-type {\n",
       "        vertical-align: middle;\n",
       "    }\n",
       "\n",
       "    .dataframe tbody tr th {\n",
       "        vertical-align: top;\n",
       "    }\n",
       "\n",
       "    .dataframe thead th {\n",
       "        text-align: right;\n",
       "    }\n",
       "</style>\n",
       "<table border=\"1\" class=\"dataframe\">\n",
       "  <thead>\n",
       "    <tr style=\"text-align: right;\">\n",
       "      <th></th>\n",
       "      <th>% WEIGHTED ILI</th>\n",
       "      <th>%UNWEIGHTED ILI</th>\n",
       "      <th>AGE 0-4</th>\n",
       "      <th>AGE 5-24</th>\n",
       "      <th>ILITOTAL</th>\n",
       "      <th>NUM. OF PROVIDERS</th>\n",
       "      <th>OT</th>\n",
       "    </tr>\n",
       "  </thead>\n",
       "  <tbody>\n",
       "    <tr>\n",
       "      <th>0</th>\n",
       "      <td>1.222620</td>\n",
       "      <td>1.166680</td>\n",
       "      <td>582</td>\n",
       "      <td>805</td>\n",
       "      <td>2060</td>\n",
       "      <td>754</td>\n",
       "      <td>176569</td>\n",
       "    </tr>\n",
       "    <tr>\n",
       "      <th>1</th>\n",
       "      <td>1.333440</td>\n",
       "      <td>1.216500</td>\n",
       "      <td>683</td>\n",
       "      <td>872</td>\n",
       "      <td>2267</td>\n",
       "      <td>785</td>\n",
       "      <td>186355</td>\n",
       "    </tr>\n",
       "    <tr>\n",
       "      <th>2</th>\n",
       "      <td>1.319290</td>\n",
       "      <td>1.130570</td>\n",
       "      <td>642</td>\n",
       "      <td>878</td>\n",
       "      <td>2176</td>\n",
       "      <td>831</td>\n",
       "      <td>192469</td>\n",
       "    </tr>\n",
       "    <tr>\n",
       "      <th>3</th>\n",
       "      <td>1.494840</td>\n",
       "      <td>1.252460</td>\n",
       "      <td>728</td>\n",
       "      <td>1045</td>\n",
       "      <td>2599</td>\n",
       "      <td>863</td>\n",
       "      <td>207512</td>\n",
       "    </tr>\n",
       "    <tr>\n",
       "      <th>4</th>\n",
       "      <td>1.471950</td>\n",
       "      <td>1.302370</td>\n",
       "      <td>823</td>\n",
       "      <td>1189</td>\n",
       "      <td>2907</td>\n",
       "      <td>909</td>\n",
       "      <td>223208</td>\n",
       "    </tr>\n",
       "    <tr>\n",
       "      <th>...</th>\n",
       "      <td>...</td>\n",
       "      <td>...</td>\n",
       "      <td>...</td>\n",
       "      <td>...</td>\n",
       "      <td>...</td>\n",
       "      <td>...</td>\n",
       "      <td>...</td>\n",
       "    </tr>\n",
       "    <tr>\n",
       "      <th>961</th>\n",
       "      <td>0.839059</td>\n",
       "      <td>0.846722</td>\n",
       "      <td>2756</td>\n",
       "      <td>3528</td>\n",
       "      <td>12913</td>\n",
       "      <td>3258</td>\n",
       "      <td>1525058</td>\n",
       "    </tr>\n",
       "    <tr>\n",
       "      <th>962</th>\n",
       "      <td>0.895958</td>\n",
       "      <td>0.908885</td>\n",
       "      <td>3203</td>\n",
       "      <td>3778</td>\n",
       "      <td>13979</td>\n",
       "      <td>3254</td>\n",
       "      <td>1538038</td>\n",
       "    </tr>\n",
       "    <tr>\n",
       "      <th>963</th>\n",
       "      <td>0.910926</td>\n",
       "      <td>0.941625</td>\n",
       "      <td>3478</td>\n",
       "      <td>3796</td>\n",
       "      <td>14389</td>\n",
       "      <td>3177</td>\n",
       "      <td>1528103</td>\n",
       "    </tr>\n",
       "    <tr>\n",
       "      <th>964</th>\n",
       "      <td>0.946945</td>\n",
       "      <td>0.972185</td>\n",
       "      <td>3734</td>\n",
       "      <td>3818</td>\n",
       "      <td>14999</td>\n",
       "      <td>3066</td>\n",
       "      <td>1542813</td>\n",
       "    </tr>\n",
       "    <tr>\n",
       "      <th>965</th>\n",
       "      <td>0.963716</td>\n",
       "      <td>1.013760</td>\n",
       "      <td>3955</td>\n",
       "      <td>3843</td>\n",
       "      <td>15307</td>\n",
       "      <td>3027</td>\n",
       "      <td>1509928</td>\n",
       "    </tr>\n",
       "  </tbody>\n",
       "</table>\n",
       "<p>966 rows × 7 columns</p>\n",
       "</div>"
      ],
      "text/plain": [
       "     % WEIGHTED ILI  %UNWEIGHTED ILI  AGE 0-4  AGE 5-24  ILITOTAL  \\\n",
       "0          1.222620         1.166680      582       805      2060   \n",
       "1          1.333440         1.216500      683       872      2267   \n",
       "2          1.319290         1.130570      642       878      2176   \n",
       "3          1.494840         1.252460      728      1045      2599   \n",
       "4          1.471950         1.302370      823      1189      2907   \n",
       "..              ...              ...      ...       ...       ...   \n",
       "961        0.839059         0.846722     2756      3528     12913   \n",
       "962        0.895958         0.908885     3203      3778     13979   \n",
       "963        0.910926         0.941625     3478      3796     14389   \n",
       "964        0.946945         0.972185     3734      3818     14999   \n",
       "965        0.963716         1.013760     3955      3843     15307   \n",
       "\n",
       "     NUM. OF PROVIDERS       OT  \n",
       "0                  754   176569  \n",
       "1                  785   186355  \n",
       "2                  831   192469  \n",
       "3                  863   207512  \n",
       "4                  909   223208  \n",
       "..                 ...      ...  \n",
       "961               3258  1525058  \n",
       "962               3254  1538038  \n",
       "963               3177  1528103  \n",
       "964               3066  1542813  \n",
       "965               3027  1509928  \n",
       "\n",
       "[966 rows x 7 columns]"
      ]
     },
     "execution_count": 15,
     "metadata": {},
     "output_type": "execute_result"
    }
   ],
   "source": [
    "ill = pd.read_csv('national_illness.csv')\n",
    "del ill['date']\n",
    "\n",
    "ill"
   ]
  },
  {
   "attachments": {},
   "cell_type": "markdown",
   "metadata": {},
   "source": [
    "Train-test split"
   ]
  },
  {
   "cell_type": "code",
   "execution_count": 16,
   "metadata": {},
   "outputs": [],
   "source": [
    "train_N = round(ill.shape[0]*0.8)\n",
    "train = ill.iloc[:train_N,:]\n",
    "test = ill.iloc[train_N:,:].reset_index(drop=True)"
   ]
  },
  {
   "cell_type": "code",
   "execution_count": 17,
   "metadata": {},
   "outputs": [],
   "source": [
    "scaler = StandardScaler()\n",
    "train = scaler.fit_transform(train)\n",
    "test = scaler.transform(test)\n",
    "train = pd.DataFrame(train, columns = ill.columns)\n",
    "test = pd.DataFrame(test, columns = ill.columns)"
   ]
  },
  {
   "cell_type": "code",
   "execution_count": 18,
   "metadata": {},
   "outputs": [],
   "source": [
    "pred_len = 24\n",
    "seq_len = 96\n",
    "n_vars = len(train.columns)\n",
    "configs = Details(\n",
    "    pred_len = pred_len,      \n",
    "    seq_len  = seq_len,\n",
    "    d_ff = 32,\n",
    "    patch_len= 16, \n",
    "    stride = 8, \n",
    "    llm_layers = 32,\n",
    "    description = \"weekly U.S. influenza-like illness (ILI) surveillance data, \" \\\n",
    "    \"including weighted and unweighted ILI percentages, age-specific case counts, total cases, \" \\\n",
    "    \"number of reporting providers, and outpatient visits.\",\n",
    "    dropout = 0.1,\n",
    "    n_heads = 8,\n",
    "    d_model = 16,\n",
    "    enc_in = n_vars,\n",
    "    d_llm = 4096,\n",
    "    llm_model = 'LLAMA',\n",
    "    lr = 1e-2\n",
    ")\n"
   ]
  },
  {
   "cell_type": "code",
   "execution_count": 9,
   "metadata": {},
   "outputs": [],
   "source": [
    "X_train, Y_train = supervised_data(train, seq_len, pred_len)\n",
    "X_test, Y_test = supervised_data(test, seq_len, pred_len)"
   ]
  },
  {
   "cell_type": "code",
   "execution_count": 10,
   "metadata": {},
   "outputs": [],
   "source": [
    "N_train = int(X_train.shape[0]/seq_len)\n",
    "X_train_ = torch.from_numpy(X_train.to_numpy().astype('float32')).view(N_train, seq_len, n_vars)\n",
    "Y_train_ = torch.from_numpy(Y_train.to_numpy().astype('float32')).view(N_train, pred_len, n_vars)\n",
    "\n",
    "N_test = int(X_test.shape[0]/seq_len)\n",
    "X_test_ = torch.from_numpy(X_test.to_numpy().astype('float32')).view(N_test, seq_len, n_vars)\n",
    "Y_test_ = torch.from_numpy(Y_test.to_numpy().astype('float32')).view(N_test, pred_len, n_vars)\n",
    "       \n",
    "train_ds = TensorDataset(X_train_, Y_train_)\n",
    "test_ds = TensorDataset(X_test_, Y_test_)\n",
    "\n",
    "batch_size   = 16\n",
    "\n",
    "train_loader = DataLoader(train_ds, batch_size=batch_size, shuffle=False)#Or should it be true\n",
    "test_loader  = DataLoader(test_ds,  batch_size=batch_size, shuffle=False)"
   ]
  },
  {
   "cell_type": "code",
   "execution_count": null,
   "metadata": {},
   "outputs": [
    {
     "data": {
      "application/vnd.jupyter.widget-view+json": {
       "model_id": "784e6b96854c4de29480662573f3e418",
       "version_major": 2,
       "version_minor": 0
      },
      "text/plain": [
       "Loading checkpoint shards:   0%|          | 0/2 [00:00<?, ?it/s]"
      ]
     },
     "metadata": {},
     "output_type": "display_data"
    },
    {
     "ename": "",
     "evalue": "",
     "output_type": "error",
     "traceback": [
      "\u001b[1;31mThe Kernel crashed while executing code in the current cell or a previous cell. \n",
      "\u001b[1;31mPlease review the code in the cell(s) to identify a possible cause of the failure. \n",
      "\u001b[1;31mClick <a href='https://aka.ms/vscodeJupyterKernelCrash'>here</a> for more info. \n",
      "\u001b[1;31mView Jupyter <a href='command:jupyter.viewOutput'>log</a> for further details."
     ]
    }
   ],
   "source": [
    "device = torch.device(\"cuda\" if torch.cuda.is_available() else \"cpu\")\n",
    "model = Model(configs).to(device)\n",
    "opt = torch.optim.Adam(filter(lambda p: p.requires_grad, model.parameters()), lr=configs.lr)\n",
    "criterion = torch.nn.MSELoss()\n",
    "\n",
    "num_epochs = 50\n",
    "\n",
    "for epoch in range(1, num_epochs+1):\n",
    "    model.train()\n",
    "    sum_mse = 0.0\n",
    "    r2_metric = R2Score()\n",
    "    for x_enc, y_true in train_loader:\n",
    "        x_enc, y_true = x_enc.float().to(device), y_true.float().to(device)\n",
    "        opt.zero_grad()\n",
    "        y_pred = model(x_enc, None, None, None)  \n",
    "        loss = criterion(y_pred, y_true)\n",
    "        loss.backward()\n",
    "        opt.step()\n",
    "        sum_mse += loss.item()*x_enc.size(0)\n",
    "        r2_metric.update(y_pred.reshape(-1, n_vars), y_true.reshape(-1, n_vars))\n",
    "        del y_pred, loss  # Free up memory\n",
    "        torch.cuda.empty_cache()\n",
    "\n",
    "    train_mse = sum_mse / N_train\n",
    "    train_rmse = sqrt(train_mse)\n",
    "    train_r2 = r2_metric.compute()\n",
    "\n",
    "\n",
    "    model.eval()\n",
    "    sum_mse = 0.0\n",
    "    r2_metric2 = R2Score()\n",
    "    with torch.no_grad():\n",
    "        for x_enc, y_true in test_loader:\n",
    "            x_enc, y_true = x_enc.to(device), y_true.to(device)\n",
    "            y_pred = model(x_enc, None, None, None)\n",
    "            sum_mse += criterion(y_pred, y_true).item() * x_enc.size(0)\n",
    "            r2_metric2.update(y_pred.reshape(-1, n_vars), y_true.reshape(-1, n_vars))\n",
    "            del y_pred  # Free up memory\n",
    "            torch.cuda.empty_cache()\n",
    "\n",
    "\n",
    "    val_mse = sum_mse / N_test\n",
    "    val_rmse = sqrt(val_mse)\n",
    "    val_r2 = r2_metric2.compute()\n",
    "\n",
    "\n",
    "    print(f\"Epoch {epoch:2d} — train MSE {train_mse:.6f} - train R2 {train_r2:.6f} — val MSE {val_mse:.6f} - val R2 {val_r2:.6f}\")\n"
   ]
  },
  {
   "attachments": {},
   "cell_type": "markdown",
   "metadata": {},
   "source": [
    "# Lactate Dataset"
   ]
  },
  {
   "cell_type": "code",
   "execution_count": 6,
   "metadata": {},
   "outputs": [
    {
     "data": {
      "text/html": [
       "<div>\n",
       "<style scoped>\n",
       "    .dataframe tbody tr th:only-of-type {\n",
       "        vertical-align: middle;\n",
       "    }\n",
       "\n",
       "    .dataframe tbody tr th {\n",
       "        vertical-align: top;\n",
       "    }\n",
       "\n",
       "    .dataframe thead th {\n",
       "        text-align: right;\n",
       "    }\n",
       "</style>\n",
       "<table border=\"1\" class=\"dataframe\">\n",
       "  <thead>\n",
       "    <tr style=\"text-align: right;\">\n",
       "      <th></th>\n",
       "      <th>Concentration</th>\n",
       "      <th>1014.08</th>\n",
       "      <th>1015.85</th>\n",
       "      <th>1017.62</th>\n",
       "      <th>1019.4</th>\n",
       "      <th>1021.19</th>\n",
       "      <th>1022.98</th>\n",
       "      <th>1024.77</th>\n",
       "      <th>1026.58</th>\n",
       "      <th>1028.39</th>\n",
       "      <th>...</th>\n",
       "      <th>2481.26</th>\n",
       "      <th>2491.87</th>\n",
       "      <th>2502.56</th>\n",
       "      <th>2513.35</th>\n",
       "      <th>2524.23</th>\n",
       "      <th>2535.2</th>\n",
       "      <th>2546.27</th>\n",
       "      <th>2557.44</th>\n",
       "      <th>2568.71</th>\n",
       "      <th>2580.07</th>\n",
       "    </tr>\n",
       "  </thead>\n",
       "  <tbody>\n",
       "    <tr>\n",
       "      <th>0</th>\n",
       "      <td>0.0</td>\n",
       "      <td>-0.005231</td>\n",
       "      <td>0.038095</td>\n",
       "      <td>0.082302</td>\n",
       "      <td>0.082237</td>\n",
       "      <td>0.076576</td>\n",
       "      <td>0.106940</td>\n",
       "      <td>0.095478</td>\n",
       "      <td>0.089268</td>\n",
       "      <td>0.086707</td>\n",
       "      <td>...</td>\n",
       "      <td>0.026194</td>\n",
       "      <td>0.021901</td>\n",
       "      <td>0.019588</td>\n",
       "      <td>0.029467</td>\n",
       "      <td>0.030502</td>\n",
       "      <td>0.012769</td>\n",
       "      <td>0.000612</td>\n",
       "      <td>-0.015370</td>\n",
       "      <td>-0.047555</td>\n",
       "      <td>-0.068557</td>\n",
       "    </tr>\n",
       "    <tr>\n",
       "      <th>1</th>\n",
       "      <td>0.0</td>\n",
       "      <td>-0.081353</td>\n",
       "      <td>-0.131399</td>\n",
       "      <td>-0.160719</td>\n",
       "      <td>-0.190526</td>\n",
       "      <td>-0.224999</td>\n",
       "      <td>-0.239949</td>\n",
       "      <td>-0.231437</td>\n",
       "      <td>-0.181605</td>\n",
       "      <td>-0.190708</td>\n",
       "      <td>...</td>\n",
       "      <td>0.012446</td>\n",
       "      <td>0.048297</td>\n",
       "      <td>0.064985</td>\n",
       "      <td>0.043647</td>\n",
       "      <td>0.008629</td>\n",
       "      <td>-0.035054</td>\n",
       "      <td>-0.086570</td>\n",
       "      <td>-0.152690</td>\n",
       "      <td>-0.234232</td>\n",
       "      <td>-0.326223</td>\n",
       "    </tr>\n",
       "    <tr>\n",
       "      <th>2</th>\n",
       "      <td>0.0</td>\n",
       "      <td>-0.143674</td>\n",
       "      <td>-0.116576</td>\n",
       "      <td>-0.123858</td>\n",
       "      <td>-0.097288</td>\n",
       "      <td>-0.035242</td>\n",
       "      <td>0.023129</td>\n",
       "      <td>0.056915</td>\n",
       "      <td>0.098068</td>\n",
       "      <td>0.075592</td>\n",
       "      <td>...</td>\n",
       "      <td>0.011739</td>\n",
       "      <td>-0.003521</td>\n",
       "      <td>-0.014063</td>\n",
       "      <td>-0.008997</td>\n",
       "      <td>0.002582</td>\n",
       "      <td>0.017829</td>\n",
       "      <td>0.048742</td>\n",
       "      <td>0.084157</td>\n",
       "      <td>0.115354</td>\n",
       "      <td>0.151298</td>\n",
       "    </tr>\n",
       "    <tr>\n",
       "      <th>3</th>\n",
       "      <td>0.0</td>\n",
       "      <td>0.096424</td>\n",
       "      <td>0.010348</td>\n",
       "      <td>0.037800</td>\n",
       "      <td>0.007231</td>\n",
       "      <td>-0.021712</td>\n",
       "      <td>-0.037742</td>\n",
       "      <td>-0.082596</td>\n",
       "      <td>-0.089286</td>\n",
       "      <td>-0.070054</td>\n",
       "      <td>...</td>\n",
       "      <td>0.091157</td>\n",
       "      <td>0.068864</td>\n",
       "      <td>0.056702</td>\n",
       "      <td>0.034800</td>\n",
       "      <td>0.020370</td>\n",
       "      <td>0.016746</td>\n",
       "      <td>0.001978</td>\n",
       "      <td>0.007347</td>\n",
       "      <td>0.025432</td>\n",
       "      <td>0.049032</td>\n",
       "    </tr>\n",
       "    <tr>\n",
       "      <th>4</th>\n",
       "      <td>0.0</td>\n",
       "      <td>0.013245</td>\n",
       "      <td>0.088878</td>\n",
       "      <td>0.055112</td>\n",
       "      <td>0.057282</td>\n",
       "      <td>0.044607</td>\n",
       "      <td>0.047680</td>\n",
       "      <td>0.033936</td>\n",
       "      <td>0.050192</td>\n",
       "      <td>0.005173</td>\n",
       "      <td>...</td>\n",
       "      <td>0.074989</td>\n",
       "      <td>0.022504</td>\n",
       "      <td>-0.014653</td>\n",
       "      <td>-0.054191</td>\n",
       "      <td>-0.089806</td>\n",
       "      <td>-0.118453</td>\n",
       "      <td>-0.134508</td>\n",
       "      <td>-0.148832</td>\n",
       "      <td>-0.151126</td>\n",
       "      <td>-0.144606</td>\n",
       "    </tr>\n",
       "    <tr>\n",
       "      <th>...</th>\n",
       "      <td>...</td>\n",
       "      <td>...</td>\n",
       "      <td>...</td>\n",
       "      <td>...</td>\n",
       "      <td>...</td>\n",
       "      <td>...</td>\n",
       "      <td>...</td>\n",
       "      <td>...</td>\n",
       "      <td>...</td>\n",
       "      <td>...</td>\n",
       "      <td>...</td>\n",
       "      <td>...</td>\n",
       "      <td>...</td>\n",
       "      <td>...</td>\n",
       "      <td>...</td>\n",
       "      <td>...</td>\n",
       "      <td>...</td>\n",
       "      <td>...</td>\n",
       "      <td>...</td>\n",
       "      <td>...</td>\n",
       "      <td>...</td>\n",
       "    </tr>\n",
       "    <tr>\n",
       "      <th>351</th>\n",
       "      <td>1300.0</td>\n",
       "      <td>0.013892</td>\n",
       "      <td>-0.023256</td>\n",
       "      <td>-0.031826</td>\n",
       "      <td>-0.053169</td>\n",
       "      <td>-0.084421</td>\n",
       "      <td>-0.100099</td>\n",
       "      <td>-0.078321</td>\n",
       "      <td>-0.081930</td>\n",
       "      <td>-0.054463</td>\n",
       "      <td>...</td>\n",
       "      <td>0.149447</td>\n",
       "      <td>0.165580</td>\n",
       "      <td>0.169533</td>\n",
       "      <td>0.151979</td>\n",
       "      <td>0.127341</td>\n",
       "      <td>0.088787</td>\n",
       "      <td>0.039029</td>\n",
       "      <td>-0.012803</td>\n",
       "      <td>-0.064349</td>\n",
       "      <td>-0.110492</td>\n",
       "    </tr>\n",
       "    <tr>\n",
       "      <th>352</th>\n",
       "      <td>1300.0</td>\n",
       "      <td>-0.300830</td>\n",
       "      <td>-0.334294</td>\n",
       "      <td>-0.300479</td>\n",
       "      <td>-0.285832</td>\n",
       "      <td>-0.234678</td>\n",
       "      <td>-0.182459</td>\n",
       "      <td>-0.151797</td>\n",
       "      <td>-0.119183</td>\n",
       "      <td>-0.052906</td>\n",
       "      <td>...</td>\n",
       "      <td>0.063646</td>\n",
       "      <td>0.027490</td>\n",
       "      <td>0.003725</td>\n",
       "      <td>-0.002946</td>\n",
       "      <td>0.010705</td>\n",
       "      <td>0.029308</td>\n",
       "      <td>0.049670</td>\n",
       "      <td>0.079636</td>\n",
       "      <td>0.110156</td>\n",
       "      <td>0.135482</td>\n",
       "    </tr>\n",
       "    <tr>\n",
       "      <th>353</th>\n",
       "      <td>1300.0</td>\n",
       "      <td>-0.199545</td>\n",
       "      <td>-0.220742</td>\n",
       "      <td>-0.222265</td>\n",
       "      <td>-0.198332</td>\n",
       "      <td>-0.153330</td>\n",
       "      <td>-0.132572</td>\n",
       "      <td>-0.199724</td>\n",
       "      <td>-0.168876</td>\n",
       "      <td>-0.109947</td>\n",
       "      <td>...</td>\n",
       "      <td>0.096368</td>\n",
       "      <td>0.073663</td>\n",
       "      <td>0.063638</td>\n",
       "      <td>0.061432</td>\n",
       "      <td>0.066310</td>\n",
       "      <td>0.063311</td>\n",
       "      <td>0.060929</td>\n",
       "      <td>0.077316</td>\n",
       "      <td>0.088265</td>\n",
       "      <td>0.111251</td>\n",
       "    </tr>\n",
       "    <tr>\n",
       "      <th>354</th>\n",
       "      <td>1300.0</td>\n",
       "      <td>-0.107494</td>\n",
       "      <td>-0.126795</td>\n",
       "      <td>-0.182586</td>\n",
       "      <td>-0.215886</td>\n",
       "      <td>-0.246338</td>\n",
       "      <td>-0.249917</td>\n",
       "      <td>-0.254625</td>\n",
       "      <td>-0.288691</td>\n",
       "      <td>-0.253613</td>\n",
       "      <td>...</td>\n",
       "      <td>0.123685</td>\n",
       "      <td>0.132682</td>\n",
       "      <td>0.137421</td>\n",
       "      <td>0.141735</td>\n",
       "      <td>0.143292</td>\n",
       "      <td>0.140572</td>\n",
       "      <td>0.137399</td>\n",
       "      <td>0.136859</td>\n",
       "      <td>0.126693</td>\n",
       "      <td>0.115020</td>\n",
       "    </tr>\n",
       "    <tr>\n",
       "      <th>355</th>\n",
       "      <td>1300.0</td>\n",
       "      <td>0.027243</td>\n",
       "      <td>0.027325</td>\n",
       "      <td>0.045799</td>\n",
       "      <td>-0.001712</td>\n",
       "      <td>0.018226</td>\n",
       "      <td>-0.049751</td>\n",
       "      <td>-0.056777</td>\n",
       "      <td>-0.107068</td>\n",
       "      <td>-0.135225</td>\n",
       "      <td>...</td>\n",
       "      <td>0.084787</td>\n",
       "      <td>0.070592</td>\n",
       "      <td>0.061971</td>\n",
       "      <td>0.066389</td>\n",
       "      <td>0.073253</td>\n",
       "      <td>0.083245</td>\n",
       "      <td>0.103166</td>\n",
       "      <td>0.116690</td>\n",
       "      <td>0.136836</td>\n",
       "      <td>0.146329</td>\n",
       "    </tr>\n",
       "  </tbody>\n",
       "</table>\n",
       "<p>356 rows × 351 columns</p>\n",
       "</div>"
      ],
      "text/plain": [
       "     Concentration   1014.08   1015.85   1017.62    1019.4   1021.19  \\\n",
       "0              0.0 -0.005231  0.038095  0.082302  0.082237  0.076576   \n",
       "1              0.0 -0.081353 -0.131399 -0.160719 -0.190526 -0.224999   \n",
       "2              0.0 -0.143674 -0.116576 -0.123858 -0.097288 -0.035242   \n",
       "3              0.0  0.096424  0.010348  0.037800  0.007231 -0.021712   \n",
       "4              0.0  0.013245  0.088878  0.055112  0.057282  0.044607   \n",
       "..             ...       ...       ...       ...       ...       ...   \n",
       "351         1300.0  0.013892 -0.023256 -0.031826 -0.053169 -0.084421   \n",
       "352         1300.0 -0.300830 -0.334294 -0.300479 -0.285832 -0.234678   \n",
       "353         1300.0 -0.199545 -0.220742 -0.222265 -0.198332 -0.153330   \n",
       "354         1300.0 -0.107494 -0.126795 -0.182586 -0.215886 -0.246338   \n",
       "355         1300.0  0.027243  0.027325  0.045799 -0.001712  0.018226   \n",
       "\n",
       "      1022.98   1024.77   1026.58   1028.39  ...   2481.26   2491.87  \\\n",
       "0    0.106940  0.095478  0.089268  0.086707  ...  0.026194  0.021901   \n",
       "1   -0.239949 -0.231437 -0.181605 -0.190708  ...  0.012446  0.048297   \n",
       "2    0.023129  0.056915  0.098068  0.075592  ...  0.011739 -0.003521   \n",
       "3   -0.037742 -0.082596 -0.089286 -0.070054  ...  0.091157  0.068864   \n",
       "4    0.047680  0.033936  0.050192  0.005173  ...  0.074989  0.022504   \n",
       "..        ...       ...       ...       ...  ...       ...       ...   \n",
       "351 -0.100099 -0.078321 -0.081930 -0.054463  ...  0.149447  0.165580   \n",
       "352 -0.182459 -0.151797 -0.119183 -0.052906  ...  0.063646  0.027490   \n",
       "353 -0.132572 -0.199724 -0.168876 -0.109947  ...  0.096368  0.073663   \n",
       "354 -0.249917 -0.254625 -0.288691 -0.253613  ...  0.123685  0.132682   \n",
       "355 -0.049751 -0.056777 -0.107068 -0.135225  ...  0.084787  0.070592   \n",
       "\n",
       "      2502.56   2513.35   2524.23    2535.2   2546.27   2557.44   2568.71  \\\n",
       "0    0.019588  0.029467  0.030502  0.012769  0.000612 -0.015370 -0.047555   \n",
       "1    0.064985  0.043647  0.008629 -0.035054 -0.086570 -0.152690 -0.234232   \n",
       "2   -0.014063 -0.008997  0.002582  0.017829  0.048742  0.084157  0.115354   \n",
       "3    0.056702  0.034800  0.020370  0.016746  0.001978  0.007347  0.025432   \n",
       "4   -0.014653 -0.054191 -0.089806 -0.118453 -0.134508 -0.148832 -0.151126   \n",
       "..        ...       ...       ...       ...       ...       ...       ...   \n",
       "351  0.169533  0.151979  0.127341  0.088787  0.039029 -0.012803 -0.064349   \n",
       "352  0.003725 -0.002946  0.010705  0.029308  0.049670  0.079636  0.110156   \n",
       "353  0.063638  0.061432  0.066310  0.063311  0.060929  0.077316  0.088265   \n",
       "354  0.137421  0.141735  0.143292  0.140572  0.137399  0.136859  0.126693   \n",
       "355  0.061971  0.066389  0.073253  0.083245  0.103166  0.116690  0.136836   \n",
       "\n",
       "      2580.07  \n",
       "0   -0.068557  \n",
       "1   -0.326223  \n",
       "2    0.151298  \n",
       "3    0.049032  \n",
       "4   -0.144606  \n",
       "..        ...  \n",
       "351 -0.110492  \n",
       "352  0.135482  \n",
       "353  0.111251  \n",
       "354  0.115020  \n",
       "355  0.146329  \n",
       "\n",
       "[356 rows x 351 columns]"
      ]
     },
     "execution_count": 6,
     "metadata": {},
     "output_type": "execute_result"
    }
   ],
   "source": [
    "data = pd.read_excel(\"DataFrame_PathLen.xlsx\", index_col=0)\n",
    "start_columns = data.columns[:2]\n",
    "end_columns = data.columns[-8:]\n",
    "data = data.drop(columns=end_columns)\n",
    "reversed_columns = list(data.columns[2:][::-1])\n",
    "data = pd.concat([data[start_columns], data[reversed_columns]], axis=1)\n",
    "data= data[data['PathLength'] == 5].reset_index(drop=True)\n",
    "data= data.drop(columns='PathLength')\n",
    "data"
   ]
  },
  {
   "attachments": {},
   "cell_type": "markdown",
   "metadata": {},
   "source": [
    "## Without log output"
   ]
  },
  {
   "cell_type": "code",
   "execution_count": 7,
   "metadata": {},
   "outputs": [],
   "source": [
    "configs = Details(\n",
    "    pred_len = 1,      \n",
    "    seq_len  = 350,\n",
    "    d_ff = 32,\n",
    "    patch_len= 16, \n",
    "    stride = 8, \n",
    "    llm_layers = 4,\n",
    "    description = \"This dataset contains near-infrared (NIR) spectroscopy measurements of lactate concentration in a \" \\\n",
    "                  \"phosphate-buffered saline (PBS) solution. Each spectrum includes absorbance values across \" \\\n",
    "                  \"350 wavelengths. \" ,\n",
    "    dropout = 0.1,\n",
    "    n_heads = 2,\n",
    "    d_model = 16,\n",
    "    enc_in = 1,\n",
    "    d_llm = 4096,\n",
    "    llm_model = 'LLAMA',\n",
    "    lr = 0.0001\n",
    ")"
   ]
  },
  {
   "cell_type": "code",
   "execution_count": 11,
   "metadata": {},
   "outputs": [
    {
     "data": {
      "application/vnd.jupyter.widget-view+json": {
       "model_id": "8f8d0610fd38427db7b89ecd45b5cbe1",
       "version_major": 2,
       "version_minor": 0
      },
      "text/plain": [
       "Loading checkpoint shards:   0%|          | 0/2 [00:00<?, ?it/s]"
      ]
     },
     "metadata": {},
     "output_type": "display_data"
    },
    {
     "name": "stdout",
     "output_type": "stream",
     "text": [
      "Epoch  1 — train RMSE 694.820907 - train R2 -0.512214 — val RMSE 677.650168 - val R2 -0.456397\n",
      "Epoch  2 — train RMSE 674.128013 - train R2 -0.423483 — val RMSE 649.996659 - val R2 -0.339958\n",
      "Epoch  3 — train RMSE 653.317432 - train R2 -0.336953 — val RMSE 625.962241 - val R2 -0.242697\n",
      "Epoch  4 — train RMSE 630.227815 - train R2 -0.244121 — val RMSE 612.132141 - val R2 -0.188390\n",
      "Epoch  5 — train RMSE 612.597808 - train R2 -0.175489 — val RMSE 592.192200 - val R2 -0.112229\n",
      "Epoch  6 — train RMSE 591.924406 - train R2 -0.097489 — val RMSE 568.059519 - val R2 -0.023426\n",
      "Epoch  7 — train RMSE 582.272246 - train R2 -0.061988 — val RMSE 543.591324 - val R2 0.062840\n",
      "Epoch  8 — train RMSE 546.298650 - train R2 0.065181 — val RMSE 531.960334 - val R2 0.102515\n",
      "Epoch  9 — train RMSE 543.913451 - train R2 0.073326 — val RMSE 489.160533 - val R2 0.241123\n",
      "Epoch 10 — train RMSE 508.329423 - train R2 0.190610 — val RMSE 468.475753 - val R2 0.303946\n",
      "Epoch 11 — train RMSE 472.085978 - train R2 0.301913 — val RMSE 433.240542 - val R2 0.404712\n",
      "Epoch 12 — train RMSE 447.706452 - train R2 0.372152 — val RMSE 408.380074 - val R2 0.471070\n",
      "Epoch 13 — train RMSE 426.462237 - train R2 0.430323 — val RMSE 383.646316 - val R2 0.533200\n",
      "Epoch 14 — train RMSE 406.032724 - train R2 0.483596 — val RMSE 361.648512 - val R2 0.585197\n",
      "Epoch 15 — train RMSE 375.504098 - train R2 0.558331 — val RMSE 337.859762 - val R2 0.637972\n",
      "Epoch 16 — train RMSE 345.735845 - train R2 0.625582 — val RMSE 311.967287 - val R2 0.691335\n",
      "Epoch 17 — train RMSE 347.290911 - train R2 0.622207 — val RMSE 285.695777 - val R2 0.741133\n",
      "Epoch 18 — train RMSE 351.012925 - train R2 0.614065 — val RMSE 270.023422 - val R2 0.768755\n",
      "Epoch 19 — train RMSE 368.919164 - train R2 0.573686 — val RMSE 264.422617 - val R2 0.778249\n",
      "Epoch 20 — train RMSE 320.358042 - train R2 0.678531 — val RMSE 247.567202 - val R2 0.805618\n",
      "Epoch 21 — train RMSE 284.827116 - train R2 0.745885 — val RMSE 215.891511 - val R2 0.852178\n",
      "Epoch 22 — train RMSE 277.912198 - train R2 0.758074 — val RMSE 210.838201 - val R2 0.859017\n",
      "Epoch 23 — train RMSE 279.296736 - train R2 0.755657 — val RMSE 191.865118 - val R2 0.883249\n",
      "Epoch 24 — train RMSE 255.840267 - train R2 0.794976 — val RMSE 247.942902 - val R2 0.805028\n",
      "Epoch 25 — train RMSE 279.705868 - train R2 0.754941 — val RMSE 166.481668 - val R2 0.912097\n",
      "Epoch 26 — train RMSE 282.740110 - train R2 0.749595 — val RMSE 160.903476 - val R2 0.917889\n",
      "Epoch 27 — train RMSE 283.390759 - train R2 0.748442 — val RMSE 155.732734 - val R2 0.923082\n",
      "Epoch 28 — train RMSE 232.724258 - train R2 0.830351 — val RMSE 142.150871 - val R2 0.935913\n",
      "Epoch 29 — train RMSE 258.687731 - train R2 0.790386 — val RMSE 150.907811 - val R2 0.927774\n",
      "Epoch 30 — train RMSE 213.483000 - train R2 0.857244 — val RMSE 129.188881 - val R2 0.947068\n",
      "Epoch 31 — train RMSE 262.106664 - train R2 0.784809 — val RMSE 128.933521 - val R2 0.947277\n",
      "Epoch 32 — train RMSE 248.385641 - train R2 0.806749 — val RMSE 121.678025 - val R2 0.953044\n",
      "Epoch 33 — train RMSE 279.756637 - train R2 0.754852 — val RMSE 129.981719 - val R2 0.946416\n",
      "Epoch 34 — train RMSE 220.953554 - train R2 0.847078 — val RMSE 110.667899 - val R2 0.961157\n",
      "Epoch 35 — train RMSE 231.268426 - train R2 0.832467 — val RMSE 121.421104 - val R2 0.953242\n",
      "Epoch 36 — train RMSE 277.099817 - train R2 0.759486 — val RMSE 108.150740 - val R2 0.962904\n",
      "Epoch 37 — train RMSE 254.936988 - train R2 0.796421 — val RMSE 106.675581 - val R2 0.963909\n",
      "Epoch 38 — train RMSE 233.037323 - train R2 0.829894 — val RMSE 115.288734 - val R2 0.957846\n",
      "Epoch 39 — train RMSE 171.911948 - train R2 0.907428 — val RMSE 107.258049 - val R2 0.963514\n",
      "Epoch 40 — train RMSE 327.354288 - train R2 0.664337 — val RMSE 129.141261 - val R2 0.947107\n",
      "Epoch 41 — train RMSE 188.002071 - train R2 0.889288 — val RMSE 94.410263 - val R2 0.971731\n",
      "Epoch 42 — train RMSE 201.277471 - train R2 0.873101 — val RMSE 98.864581 - val R2 0.969001\n",
      "Epoch 43 — train RMSE 199.250225 - train R2 0.875644 — val RMSE 91.035810 - val R2 0.973716\n",
      "Epoch 44 — train RMSE 171.085826 - train R2 0.908316 — val RMSE 99.599765 - val R2 0.968538\n",
      "Epoch 45 — train RMSE 246.157918 - train R2 0.810200 — val RMSE 127.991633 - val R2 0.948044\n",
      "Epoch 46 — train RMSE 203.847517 - train R2 0.869840 — val RMSE 96.847236 - val R2 0.970253\n",
      "Epoch 47 — train RMSE 251.313449 - train R2 0.802167 — val RMSE 93.766425 - val R2 0.972115\n",
      "Epoch 48 — train RMSE 196.785470 - train R2 0.878702 — val RMSE 87.343111 - val R2 0.975805\n",
      "Epoch 49 — train RMSE 213.091974 - train R2 0.857767 — val RMSE 92.541078 - val R2 0.972839\n",
      "Epoch 50 — train RMSE 197.565829 - train R2 0.877738 — val RMSE 81.823562 - val R2 0.978766\n",
      "Epoch 51 — train RMSE 212.266323 - train R2 0.858867 — val RMSE 86.994856 - val R2 0.975998\n",
      "Epoch 52 — train RMSE 211.957528 - train R2 0.859277 — val RMSE 80.608617 - val R2 0.979392\n",
      "Epoch 53 — train RMSE 247.231372 - train R2 0.808541 — val RMSE 93.964470 - val R2 0.971998\n",
      "Epoch 54 — train RMSE 198.103110 - train R2 0.877072 — val RMSE 87.117795 - val R2 0.975930\n",
      "Epoch 55 — train RMSE 237.194198 - train R2 0.823772 — val RMSE 83.180086 - val R2 0.978056\n",
      "Epoch 56 — train RMSE 236.292416 - train R2 0.825109 — val RMSE 81.234574 - val R2 0.979071\n",
      "Epoch 57 — train RMSE 292.085521 - train R2 0.732769 — val RMSE 86.800790 - val R2 0.976104\n",
      "Epoch 58 — train RMSE 237.459722 - train R2 0.823377 — val RMSE 79.563073 - val R2 0.979923\n",
      "Epoch 59 — train RMSE 197.245741 - train R2 0.878134 — val RMSE 88.144593 - val R2 0.975359\n",
      "Epoch 60 — train RMSE 271.359692 - train R2 0.769348 — val RMSE 77.709712 - val R2 0.980848\n",
      "Epoch 61 — train RMSE 235.804196 - train R2 0.825831 — val RMSE 82.559130 - val R2 0.978383\n",
      "Epoch 62 — train RMSE 320.800265 - train R2 0.677643 — val RMSE 82.318550 - val R2 0.978509\n",
      "Epoch 63 — train RMSE 337.752461 - train R2 0.642674 — val RMSE 80.023648 - val R2 0.979690\n",
      "Epoch 64 — train RMSE 248.228386 - train R2 0.806994 — val RMSE 77.943733 - val R2 0.980732\n",
      "Epoch 65 — train RMSE 248.352488 - train R2 0.806801 — val RMSE 81.676181 - val R2 0.978843\n",
      "Epoch 66 — train RMSE 195.430511 - train R2 0.880367 — val RMSE 75.328694 - val R2 0.982003\n",
      "Epoch 67 — train RMSE 247.605397 - train R2 0.807962 — val RMSE 78.439256 - val R2 0.980486\n",
      "Epoch 68 — train RMSE 280.687680 - train R2 0.753218 — val RMSE 74.861901 - val R2 0.982226\n",
      "Epoch 69 — train RMSE 301.387042 - train R2 0.715477 — val RMSE 83.189298 - val R2 0.978052\n",
      "Epoch 70 — train RMSE 224.290372 - train R2 0.842424 — val RMSE 80.009370 - val R2 0.979697\n",
      "Epoch 71 — train RMSE 247.794264 - train R2 0.807669 — val RMSE 89.725728 - val R2 0.974467\n",
      "Epoch 72 — train RMSE 281.180480 - train R2 0.752350 — val RMSE 90.169249 - val R2 0.974214\n",
      "Epoch 73 — train RMSE 247.967518 - train R2 0.807400 — val RMSE 71.722882 - val R2 0.983685\n",
      "Epoch 74 — train RMSE 208.759321 - train R2 0.863492 — val RMSE 75.122205 - val R2 0.982102\n",
      "Epoch 75 — train RMSE 259.390589 - train R2 0.789246 — val RMSE 73.549878 - val R2 0.982843\n",
      "Epoch 76 — train RMSE 209.547761 - train R2 0.862459 — val RMSE 80.246401 - val R2 0.979577\n",
      "Epoch 77 — train RMSE 235.028218 - train R2 0.826976 — val RMSE 70.119760 - val R2 0.984406\n",
      "Epoch 78 — train RMSE 247.724178 - train R2 0.807777 — val RMSE 82.877461 - val R2 0.978216\n",
      "Epoch 79 — train RMSE 292.022507 - train R2 0.732884 — val RMSE 77.811542 - val R2 0.980798\n",
      "Epoch 80 — train RMSE 208.274765 - train R2 0.864125 — val RMSE 74.321726 - val R2 0.982481\n",
      "Epoch 81 — train RMSE 258.874457 - train R2 0.790084 — val RMSE 84.896897 - val R2 0.977141\n",
      "Epoch 82 — train RMSE 275.366928 - train R2 0.762485 — val RMSE 119.253785 - val R2 0.954896\n",
      "Epoch 83 — train RMSE 219.591389 - train R2 0.848958 — val RMSE 83.462564 - val R2 0.977907\n",
      "Epoch 84 — train RMSE 237.771221 - train R2 0.822913 — val RMSE 87.647358 - val R2 0.975636\n",
      "Epoch 85 — train RMSE 272.324129 - train R2 0.767705 — val RMSE 70.420780 - val R2 0.984272\n",
      "Epoch 86 — train RMSE 179.967922 - train R2 0.898549 — val RMSE 74.475224 - val R2 0.982409\n",
      "Epoch 87 — train RMSE 258.975159 - train R2 0.789921 — val RMSE 70.821952 - val R2 0.984092\n",
      "Epoch 88 — train RMSE 235.504689 - train R2 0.826273 — val RMSE 69.594887 - val R2 0.984639\n",
      "Epoch 89 — train RMSE 207.962143 - train R2 0.864532 — val RMSE 70.883553 - val R2 0.984065\n",
      "Epoch 90 — train RMSE 291.820006 - train R2 0.733254 — val RMSE 69.200585 - val R2 0.984812\n",
      "Epoch 91 — train RMSE 234.994530 - train R2 0.827025 — val RMSE 69.859593 - val R2 0.984522\n",
      "Epoch 92 — train RMSE 222.163038 - train R2 0.845399 — val RMSE 75.844656 - val R2 0.981756\n",
      "Epoch 93 — train RMSE 280.214395 - train R2 0.754049 — val RMSE 72.991144 - val R2 0.983103\n",
      "Epoch 94 — train RMSE 235.028371 - train R2 0.826975 — val RMSE 74.621111 - val R2 0.982340\n",
      "Epoch 95 — train RMSE 222.824385 - train R2 0.844478 — val RMSE 73.600704 - val R2 0.982820\n",
      "Epoch 96 — train RMSE 247.278969 - train R2 0.808468 — val RMSE 75.197663 - val R2 0.982066\n",
      "Epoch 97 — train RMSE 194.594144 - train R2 0.881388 — val RMSE 72.616596 - val R2 0.983276\n",
      "Epoch 98 — train RMSE 222.193157 - train R2 0.845358 — val RMSE 68.117450 - val R2 0.985284\n",
      "Epoch 99 — train RMSE 258.936432 - train R2 0.789983 — val RMSE 71.371712 - val R2 0.983844\n",
      "Epoch 100 — train RMSE 290.648426 - train R2 0.735392 — val RMSE 68.359442 - val R2 0.985179\n"
     ]
    }
   ],
   "source": [
    "train, test = model_selection.train_test_split(data, test_size=0.1, random_state=1, stratify= data['Concentration'])\n",
    "\n",
    "train, validation = model_selection.train_test_split(train, test_size=0.1, random_state=1, stratify= train['Concentration'])\n",
    "\n",
    "model ,train_rmse, train_r2, val_rmse, val_r2, stand  = train_model(configs, train, validation, 100, 8, True, False)"
   ]
  },
  {
   "attachments": {},
   "cell_type": "markdown",
   "metadata": {},
   "source": [
    "AdamW optimizer"
   ]
  },
  {
   "cell_type": "code",
   "execution_count": 9,
   "metadata": {},
   "outputs": [
    {
     "data": {
      "application/vnd.jupyter.widget-view+json": {
       "model_id": "6dc944a401744ce8bdd0e9d3044616b0",
       "version_major": 2,
       "version_minor": 0
      },
      "text/plain": [
       "Loading checkpoint shards:   0%|          | 0/2 [00:00<?, ?it/s]"
      ]
     },
     "metadata": {},
     "output_type": "display_data"
    },
    {
     "name": "stdout",
     "output_type": "stream",
     "text": [
      "Epoch  1 — train RMSE 694.929570 - train R2 -0.512687 — val RMSE 677.987152 - val R2 -0.457846\n",
      "Epoch  2 — train RMSE 675.280576 - train R2 -0.428355 — val RMSE 651.173052 - val R2 -0.344812\n",
      "Epoch  3 — train RMSE 646.699582 - train R2 -0.310004 — val RMSE 624.521973 - val R2 -0.236984\n",
      "Epoch  4 — train RMSE 630.123120 - train R2 -0.243708 — val RMSE 609.046283 - val R2 -0.176439\n",
      "Epoch  5 — train RMSE 607.373771 - train R2 -0.155526 — val RMSE 589.370122 - val R2 -0.101654\n",
      "Epoch  6 — train RMSE 593.205450 - train R2 -0.102244 — val RMSE 563.827060 - val R2 -0.008232\n",
      "Epoch  7 — train RMSE 580.267099 - train R2 -0.054686 — val RMSE 545.140628 - val R2 0.057490\n",
      "Epoch  8 — train RMSE 545.788180 - train R2 0.066927 — val RMSE 517.426342 - val R2 0.150886\n",
      "Epoch  9 — train RMSE 526.253585 - train R2 0.132523 — val RMSE 489.986125 - val R2 0.238559\n",
      "Epoch 10 — train RMSE 510.303284 - train R2 0.184312 — val RMSE 473.523214 - val R2 0.288866\n",
      "Epoch 11 — train RMSE 506.561824 - train R2 0.196229 — val RMSE 448.528601 - val R2 0.361958\n",
      "Epoch 12 — train RMSE 460.946997 - train R2 0.334467 — val RMSE 430.610763 - val R2 0.411917\n",
      "Epoch 13 — train RMSE 442.279709 - train R2 0.387281 — val RMSE 410.676253 - val R2 0.465106\n",
      "Epoch 14 — train RMSE 419.336344 - train R2 0.449202 — val RMSE 377.903267 - val R2 0.547071\n",
      "Epoch 15 — train RMSE 432.708902 - train R2 0.413512 — val RMSE 355.684985 - val R2 0.598764\n",
      "Epoch 16 — train RMSE 401.091903 - train R2 0.496087 — val RMSE 343.886811 - val R2 0.624941\n",
      "Epoch 17 — train RMSE 379.258141 - train R2 0.549456 — val RMSE 321.803068 - val R2 0.671565\n",
      "Epoch 18 — train RMSE 348.826862 - train R2 0.618858 — val RMSE 300.449978 - val R2 0.713705\n",
      "Epoch 19 — train RMSE 353.695285 - train R2 0.608145 — val RMSE 284.897689 - val R2 0.742577\n",
      "Epoch 20 — train RMSE 375.120027 - train R2 0.559234 — val RMSE 267.233593 - val R2 0.773509\n",
      "Epoch 21 — train RMSE 283.918053 - train R2 0.747505 — val RMSE 249.672315 - val R2 0.802299\n",
      "Epoch 22 — train RMSE 320.599690 - train R2 0.678046 — val RMSE 257.967098 - val R2 0.788944\n",
      "Epoch 23 — train RMSE 276.481650 - train R2 0.760558 — val RMSE 215.180501 - val R2 0.853150\n",
      "Epoch 24 — train RMSE 302.528113 - train R2 0.713319 — val RMSE 197.682493 - val R2 0.876062\n",
      "Epoch 25 — train RMSE 251.699158 - train R2 0.801559 — val RMSE 190.889269 - val R2 0.884434\n",
      "Epoch 26 — train RMSE 327.099464 - train R2 0.664859 — val RMSE 181.477904 - val R2 0.895548\n",
      "Epoch 27 — train RMSE 268.471053 - train R2 0.774232 — val RMSE 165.149382 - val R2 0.913499\n",
      "Epoch 28 — train RMSE 169.325640 - train R2 0.910192 — val RMSE 158.523363 - val R2 0.920301\n",
      "Epoch 29 — train RMSE 249.201996 - train R2 0.805477 — val RMSE 176.656007 - val R2 0.901025\n",
      "Epoch 30 — train RMSE 225.041876 - train R2 0.841367 — val RMSE 158.690715 - val R2 0.920132\n",
      "Epoch 31 — train RMSE 230.735095 - train R2 0.833239 — val RMSE 139.686696 - val R2 0.938116\n",
      "Epoch 32 — train RMSE 280.877507 - train R2 0.752884 — val RMSE 123.584861 - val R2 0.951561\n",
      "Epoch 33 — train RMSE 259.338044 - train R2 0.789331 — val RMSE 119.270466 - val R2 0.954884\n",
      "Epoch 34 — train RMSE 220.139938 - train R2 0.848202 — val RMSE 123.872819 - val R2 0.951335\n",
      "Epoch 35 — train RMSE 191.421156 - train R2 0.885225 — val RMSE 123.930381 - val R2 0.951289\n",
      "Epoch 36 — train RMSE 281.280114 - train R2 0.752175 — val RMSE 157.835653 - val R2 0.920991\n",
      "Epoch 37 — train RMSE 201.565983 - train R2 0.872737 — val RMSE 110.228386 - val R2 0.961465\n",
      "Epoch 38 — train RMSE 252.663822 - train R2 0.800035 — val RMSE 104.281426 - val R2 0.965511\n",
      "Epoch 39 — train RMSE 240.644273 - train R2 0.818608 — val RMSE 120.536482 - val R2 0.953921\n",
      "Epoch 40 — train RMSE 253.926091 - train R2 0.798032 — val RMSE 103.963881 - val R2 0.965721\n",
      "Epoch 41 — train RMSE 192.649151 - train R2 0.883748 — val RMSE 93.858819 - val R2 0.972061\n",
      "Epoch 42 — train RMSE 274.845344 - train R2 0.763384 — val RMSE 94.333268 - val R2 0.971777\n",
      "Epoch 43 — train RMSE 213.104629 - train R2 0.857750 — val RMSE 93.523189 - val R2 0.972260\n",
      "Epoch 44 — train RMSE 212.303090 - train R2 0.858818 — val RMSE 87.619864 - val R2 0.975651\n",
      "Epoch 45 — train RMSE 262.681468 - train R2 0.783864 — val RMSE 99.617797 - val R2 0.968527\n",
      "Epoch 46 — train RMSE 237.805209 - train R2 0.822863 — val RMSE 90.749354 - val R2 0.973881\n",
      "Epoch 47 — train RMSE 212.221544 - train R2 0.858926 — val RMSE 99.167303 - val R2 0.968811\n",
      "Epoch 48 — train RMSE 211.563092 - train R2 0.859800 — val RMSE 89.882686 - val R2 0.974378\n",
      "Epoch 49 — train RMSE 182.713580 - train R2 0.895429 — val RMSE 89.781753 - val R2 0.974435\n",
      "Epoch 50 — train RMSE 224.495197 - train R2 0.842137 — val RMSE 88.655858 - val R2 0.975072\n",
      "Epoch 51 — train RMSE 226.217238 - train R2 0.839705 — val RMSE 94.875952 - val R2 0.971452\n",
      "Epoch 52 — train RMSE 211.327408 - train R2 0.860112 — val RMSE 100.444464 - val R2 0.968002\n",
      "Epoch 53 — train RMSE 238.375767 - train R2 0.822012 — val RMSE 93.872449 - val R2 0.972052\n",
      "Epoch 54 — train RMSE 238.620649 - train R2 0.821646 — val RMSE 94.498271 - val R2 0.971678\n",
      "Epoch 55 — train RMSE 248.741137 - train R2 0.806196 — val RMSE 91.235209 - val R2 0.973601\n",
      "Epoch 56 — train RMSE 180.883264 - train R2 0.897514 — val RMSE 99.172417 - val R2 0.968807\n",
      "Epoch 57 — train RMSE 261.212908 - train R2 0.786274 — val RMSE 99.493774 - val R2 0.968605\n",
      "Epoch 58 — train RMSE 224.140285 - train R2 0.842635 — val RMSE 118.071844 - val R2 0.955786\n",
      "Epoch 59 — train RMSE 211.027991 - train R2 0.860509 — val RMSE 94.406190 - val R2 0.971734\n",
      "Epoch 60 — train RMSE 166.568872 - train R2 0.913093 — val RMSE 123.336510 - val R2 0.951755\n",
      "Epoch 61 — train RMSE 213.004409 - train R2 0.857883 — val RMSE 95.699369 - val R2 0.970954\n",
      "Epoch 62 — train RMSE 211.042054 - train R2 0.860490 — val RMSE 87.378855 - val R2 0.975785\n",
      "Epoch 63 — train RMSE 210.461008 - train R2 0.861257 — val RMSE 85.929652 - val R2 0.976582\n",
      "Epoch 64 — train RMSE 236.237554 - train R2 0.825190 — val RMSE 93.717222 - val R2 0.972145\n",
      "Epoch 65 — train RMSE 212.711693 - train R2 0.858274 — val RMSE 96.318345 - val R2 0.970577\n",
      "Epoch 66 — train RMSE 302.213100 - train R2 0.713916 — val RMSE 105.194401 - val R2 0.964904\n",
      "Epoch 67 — train RMSE 107.265725 - train R2 0.963960 — val RMSE 102.915595 - val R2 0.966408\n",
      "Epoch 68 — train RMSE 182.416821 - train R2 0.895769 — val RMSE 84.372488 - val R2 0.977423\n",
      "Epoch 69 — train RMSE 248.519421 - train R2 0.806541 — val RMSE 92.881442 - val R2 0.972639\n",
      "Epoch 70 — train RMSE 237.895645 - train R2 0.822728 — val RMSE 91.039919 - val R2 0.973714\n",
      "Epoch 71 — train RMSE 196.351302 - train R2 0.879237 — val RMSE 97.727004 - val R2 0.969710\n",
      "Epoch 72 — train RMSE 222.198797 - train R2 0.845350 — val RMSE 92.762478 - val R2 0.972709\n",
      "Epoch 73 — train RMSE 224.087343 - train R2 0.842710 — val RMSE 89.832611 - val R2 0.974406\n",
      "Epoch 74 — train RMSE 208.807244 - train R2 0.863429 — val RMSE 85.587275 - val R2 0.976768\n",
      "Epoch 75 — train RMSE 210.276655 - train R2 0.861500 — val RMSE 87.016466 - val R2 0.975986\n",
      "Epoch 76 — train RMSE 179.903225 - train R2 0.898622 — val RMSE 92.228608 - val R2 0.973023\n",
      "Epoch 77 — train RMSE 268.835341 - train R2 0.773619 — val RMSE 144.548230 - val R2 0.933733\n",
      "Epoch 78 — train RMSE 251.555751 - train R2 0.801785 — val RMSE 81.708407 - val R2 0.978826\n",
      "Epoch 79 — train RMSE 182.787965 - train R2 0.895344 — val RMSE 83.552695 - val R2 0.977859\n",
      "Epoch 80 — train RMSE 248.632418 - train R2 0.806365 — val RMSE 87.275933 - val R2 0.975842\n",
      "Epoch 81 — train RMSE 208.510334 - train R2 0.863817 — val RMSE 75.916925 - val R2 0.981721\n",
      "Epoch 82 — train RMSE 210.050194 - train R2 0.861798 — val RMSE 97.985828 - val R2 0.969549\n",
      "Epoch 83 — train RMSE 178.423653 - train R2 0.900282 — val RMSE 75.332059 - val R2 0.982002\n",
      "Epoch 84 — train RMSE 258.877683 - train R2 0.790079 — val RMSE 69.686108 - val R2 0.984599\n",
      "Epoch 85 — train RMSE 270.000153 - train R2 0.771653 — val RMSE 81.133733 - val R2 0.979123\n",
      "Epoch 86 — train RMSE 223.712385 - train R2 0.843235 — val RMSE 79.291237 - val R2 0.980060\n",
      "Epoch 87 — train RMSE 209.575538 - train R2 0.862422 — val RMSE 81.934497 - val R2 0.978709\n",
      "Epoch 88 — train RMSE 140.956399 - train R2 0.937765 — val RMSE 89.381834 - val R2 0.974662\n",
      "Epoch 89 — train RMSE 208.777628 - train R2 0.863468 — val RMSE 78.485862 - val R2 0.980463\n",
      "Epoch 90 — train RMSE 222.305792 - train R2 0.845201 — val RMSE 80.372543 - val R2 0.979513\n",
      "Epoch 91 — train RMSE 246.544644 - train R2 0.809604 — val RMSE 81.854566 - val R2 0.978750\n",
      "Epoch 92 — train RMSE 235.283588 - train R2 0.826599 — val RMSE 80.390041 - val R2 0.979504\n",
      "Epoch 93 — train RMSE 222.075557 - train R2 0.845521 — val RMSE 82.470308 - val R2 0.978429\n",
      "Epoch 94 — train RMSE 246.441731 - train R2 0.809763 — val RMSE 78.288640 - val R2 0.980561\n",
      "Epoch 95 — train RMSE 222.319508 - train R2 0.845182 — val RMSE 85.184019 - val R2 0.976986\n",
      "Epoch 96 — train RMSE 194.173740 - train R2 0.881900 — val RMSE 89.080030 - val R2 0.974833\n",
      "Epoch 97 — train RMSE 258.383394 - train R2 0.790879 — val RMSE 81.197393 - val R2 0.979090\n",
      "Epoch 98 — train RMSE 221.956110 - train R2 0.845687 — val RMSE 81.389631 - val R2 0.978991\n",
      "Epoch 99 — train RMSE 258.327089 - train R2 0.790971 — val RMSE 78.650182 - val R2 0.980381\n",
      "Epoch 100 — train RMSE 221.707411 - train R2 0.846033 — val RMSE 75.853656 - val R2 0.981752\n"
     ]
    }
   ],
   "source": [
    "train, test = model_selection.train_test_split(data, test_size=0.1, random_state=1, stratify= data['Concentration'])\n",
    "\n",
    "train, validation = model_selection.train_test_split(train, test_size=0.1, random_state=1, stratify= train['Concentration'])\n",
    "\n",
    "model ,train_rmse, train_r2, val_rmse, val_r2, stand  = train_model(configs, train, validation, 100, 8, True, False)"
   ]
  },
  {
   "attachments": {},
   "cell_type": "markdown",
   "metadata": {},
   "source": [
    "Early stoppage"
   ]
  },
  {
   "cell_type": "code",
   "execution_count": 16,
   "metadata": {},
   "outputs": [
    {
     "data": {
      "application/vnd.jupyter.widget-view+json": {
       "model_id": "fa68dc999fb747ebb19f04831d6c3f50",
       "version_major": 2,
       "version_minor": 0
      },
      "text/plain": [
       "Loading checkpoint shards:   0%|          | 0/2 [00:00<?, ?it/s]"
      ]
     },
     "metadata": {},
     "output_type": "display_data"
    },
    {
     "name": "stdout",
     "output_type": "stream",
     "text": [
      "Epoch  1 — train RMSE 696.442279 - train R2 -0.519280 — val RMSE 680.736659 - val R2 -0.469694\n",
      "Epoch  2 — train RMSE 680.189913 - train R2 -0.449199 — val RMSE 654.011342 - val R2 -0.356561\n",
      "Epoch  3 — train RMSE 646.097220 - train R2 -0.307565 — val RMSE 625.543689 - val R2 -0.241035\n",
      "Epoch  4 — train RMSE 624.219410 - train R2 -0.220512 — val RMSE 606.575306 - val R2 -0.166912\n",
      "Epoch  5 — train RMSE 615.523687 - train R2 -0.186744 — val RMSE 592.219719 - val R2 -0.112332\n",
      "Epoch  6 — train RMSE 598.146050 - train R2 -0.120681 — val RMSE 570.224647 - val R2 -0.031242\n",
      "Epoch  7 — train RMSE 576.905917 - train R2 -0.042504 — val RMSE 544.326609 - val R2 0.060303\n",
      "Epoch  8 — train RMSE 534.136505 - train R2 0.106341 — val RMSE 517.906283 - val R2 0.149310\n",
      "Epoch  9 — train RMSE 530.565854 - train R2 0.118249 — val RMSE 487.323478 - val R2 0.246812\n",
      "Epoch 10 — train RMSE 484.830560 - train R2 0.263712 — val RMSE 465.582427 - val R2 0.312517\n",
      "Epoch 11 — train RMSE 474.501903 - train R2 0.294750 — val RMSE 429.742601 - val R2 0.414286\n",
      "Epoch 12 — train RMSE 438.312818 - train R2 0.398223 — val RMSE 408.248737 - val R2 0.471411\n",
      "Epoch 13 — train RMSE 418.940081 - train R2 0.450242 — val RMSE 382.121616 - val R2 0.536903\n",
      "Epoch 14 — train RMSE 399.491854 - train R2 0.500100 — val RMSE 357.948959 - val R2 0.593640\n",
      "Epoch 15 — train RMSE 356.304851 - train R2 0.602341 — val RMSE 337.060550 - val R2 0.639683\n",
      "Epoch 16 — train RMSE 389.616957 - train R2 0.524508 — val RMSE 312.608647 - val R2 0.690065\n",
      "Epoch 17 — train RMSE 334.597526 - train R2 0.649318 — val RMSE 298.151515 - val R2 0.718069\n",
      "Epoch 18 — train RMSE 360.002826 - train R2 0.594044 — val RMSE 277.164310 - val R2 0.756363\n",
      "Epoch 19 — train RMSE 297.885877 - train R2 0.722050 — val RMSE 260.310307 - val R2 0.785093\n",
      "Epoch 20 — train RMSE 307.635552 - train R2 0.703557 — val RMSE 243.037625 - val R2 0.812666\n",
      "Epoch 21 — train RMSE 288.684150 - train R2 0.738956 — val RMSE 225.968005 - val R2 0.838057\n",
      "Epoch 22 — train RMSE 287.804952 - train R2 0.740544 — val RMSE 211.370655 - val R2 0.858304\n",
      "Epoch 23 — train RMSE 270.323693 - train R2 0.771105 — val RMSE 200.459492 - val R2 0.872555\n",
      "Epoch 24 — train RMSE 301.814676 - train R2 0.714670 — val RMSE 187.853074 - val R2 0.888081\n",
      "Epoch 25 — train RMSE 223.731093 - train R2 0.843209 — val RMSE 177.703455 - val R2 0.899848\n",
      "Epoch 26 — train RMSE 216.165180 - train R2 0.853634 — val RMSE 191.277469 - val R2 0.883963\n",
      "Epoch 27 — train RMSE 231.038114 - train R2 0.832801 — val RMSE 168.139159 - val R2 0.910338\n",
      "Epoch 28 — train RMSE 242.629568 - train R2 0.815602 — val RMSE 146.019915 - val R2 0.932377\n",
      "Epoch 29 — train RMSE 294.304050 - train R2 0.728694 — val RMSE 145.827034 - val R2 0.932556\n",
      "Epoch 30 — train RMSE 228.795950 - train R2 0.836030 — val RMSE 136.607315 - val R2 0.940814\n",
      "Epoch 31 — train RMSE 247.460297 - train R2 0.808187 — val RMSE 135.040749 - val R2 0.942164\n",
      "Epoch 32 — train RMSE 220.368220 - train R2 0.847887 — val RMSE 121.814147 - val R2 0.952939\n",
      "Epoch 33 — train RMSE 187.813490 - train R2 0.889510 — val RMSE 117.004061 - val R2 0.956582\n",
      "Epoch 34 — train RMSE 201.090362 - train R2 0.873337 — val RMSE 110.652797 - val R2 0.961168\n",
      "Epoch 35 — train RMSE 276.495002 - train R2 0.760535 — val RMSE 111.387565 - val R2 0.960650\n",
      "Epoch 36 — train RMSE 263.647993 - train R2 0.782271 — val RMSE 121.055774 - val R2 0.953523\n",
      "Epoch 37 — train RMSE 263.419470 - train R2 0.782648 — val RMSE 105.458357 - val R2 0.964728\n",
      "Epoch 38 — train RMSE 226.991319 - train R2 0.838606 — val RMSE 98.362242 - val R2 0.969315\n",
      "Epoch 39 — train RMSE 212.927858 - train R2 0.857986 — val RMSE 96.043579 - val R2 0.970745\n",
      "Epoch 40 — train RMSE 226.570878 - train R2 0.839204 — val RMSE 99.077888 - val R2 0.968867\n",
      "Epoch 41 — train RMSE 181.266641 - train R2 0.897079 — val RMSE 95.778517 - val R2 0.970906\n",
      "Epoch 42 — train RMSE 251.204065 - train R2 0.802339 — val RMSE 96.331645 - val R2 0.970569\n",
      "Epoch 43 — train RMSE 272.115630 - train R2 0.768061 — val RMSE 88.553890 - val R2 0.975130\n",
      "Epoch 44 — train RMSE 272.014937 - train R2 0.768232 — val RMSE 84.442670 - val R2 0.977385\n",
      "Epoch 45 — train RMSE 224.216041 - train R2 0.842529 — val RMSE 92.783133 - val R2 0.972697\n",
      "Epoch 46 — train RMSE 126.694911 - train R2 0.949721 — val RMSE 95.034684 - val R2 0.971356\n",
      "Epoch 47 — train RMSE 231.168232 - train R2 0.832612 — val RMSE 170.591749 - val R2 0.907704\n",
      "Epoch 48 — train RMSE 236.614046 - train R2 0.824633 — val RMSE 96.679628 - val R2 0.970356\n",
      "Epoch 49 — train RMSE 227.859802 - train R2 0.837369 — val RMSE 111.198902 - val R2 0.960783\n",
      "Early stopping triggered\n"
     ]
    }
   ],
   "source": [
    "train, test = model_selection.train_test_split(data, test_size=0.1, random_state=1, stratify= data['Concentration'])\n",
    "\n",
    "train, validation = model_selection.train_test_split(train, test_size=0.1, random_state=1, stratify= train['Concentration'])\n",
    "\n",
    "model ,train_rmse, train_r2, val_rmse, val_r2, stand  = train_model(configs, train, validation, 100, 8, True, True)"
   ]
  },
  {
   "attachments": {},
   "cell_type": "markdown",
   "metadata": {},
   "source": [
    "New config"
   ]
  },
  {
   "cell_type": "code",
   "execution_count": 7,
   "metadata": {},
   "outputs": [],
   "source": [
    "configs = Details(\n",
    "    pred_len = 1,      \n",
    "    seq_len  = 350,\n",
    "    d_ff = 32,\n",
    "    patch_len= 16, \n",
    "    stride = 8, \n",
    "    llm_layers = 16, #increased\n",
    "    description = \"This dataset contains near-infrared (NIR) spectroscopy measurements of lactate concentration in a \" \\\n",
    "                  \"phosphate-buffered saline (PBS) solution. Each spectrum includes absorbance values across \" \\\n",
    "                  \"350 wavelengths. \" ,\n",
    "    dropout = 0.1,\n",
    "    n_heads = 4, #increased\n",
    "    d_model = 16,\n",
    "    enc_in = 1,\n",
    "    d_llm = 4096,\n",
    "    llm_model = 'LLAMA',\n",
    "    lr = 0.001\n",
    ")"
   ]
  },
  {
   "cell_type": "code",
   "execution_count": 8,
   "metadata": {},
   "outputs": [
    {
     "data": {
      "application/vnd.jupyter.widget-view+json": {
       "model_id": "ded01195c72042c2a034ea70c2933740",
       "version_major": 2,
       "version_minor": 0
      },
      "text/plain": [
       "Loading checkpoint shards:   0%|          | 0/2 [00:00<?, ?it/s]"
      ]
     },
     "metadata": {},
     "output_type": "display_data"
    },
    {
     "ename": "OutOfMemoryError",
     "evalue": "CUDA out of memory. Tried to allocate 84.00 MiB. GPU 0 has a total capacity of 23.68 GiB of which 34.50 MiB is free. Including non-PyTorch memory, this process has 23.41 GiB memory in use. Of the allocated memory 21.21 GiB is allocated by PyTorch, and 956.18 MiB is reserved by PyTorch but unallocated. If reserved but unallocated memory is large try setting PYTORCH_CUDA_ALLOC_CONF=expandable_segments:True to avoid fragmentation.  See documentation for Memory Management  (https://pytorch.org/docs/stable/notes/cuda.html#environment-variables)",
     "output_type": "error",
     "traceback": [
      "\u001b[0;31m---------------------------------------------------------------------------\u001b[0m",
      "\u001b[0;31mOutOfMemoryError\u001b[0m                          Traceback (most recent call last)",
      "Cell \u001b[0;32mIn[8], line 5\u001b[0m\n\u001b[1;32m      1\u001b[0m train, test \u001b[38;5;241m=\u001b[39m model_selection\u001b[38;5;241m.\u001b[39mtrain_test_split(data, test_size\u001b[38;5;241m=\u001b[39m\u001b[38;5;241m0.1\u001b[39m, random_state\u001b[38;5;241m=\u001b[39m\u001b[38;5;241m1\u001b[39m, stratify\u001b[38;5;241m=\u001b[39m data[\u001b[38;5;124m'\u001b[39m\u001b[38;5;124mConcentration\u001b[39m\u001b[38;5;124m'\u001b[39m])\n\u001b[1;32m      3\u001b[0m train, validation \u001b[38;5;241m=\u001b[39m model_selection\u001b[38;5;241m.\u001b[39mtrain_test_split(train, test_size\u001b[38;5;241m=\u001b[39m\u001b[38;5;241m0.1\u001b[39m, random_state\u001b[38;5;241m=\u001b[39m\u001b[38;5;241m1\u001b[39m, stratify\u001b[38;5;241m=\u001b[39m train[\u001b[38;5;124m'\u001b[39m\u001b[38;5;124mConcentration\u001b[39m\u001b[38;5;124m'\u001b[39m])\n\u001b[0;32m----> 5\u001b[0m model \u001b[38;5;241m=\u001b[39m \u001b[43mtrain_model_earlystop\u001b[49m\u001b[43m(\u001b[49m\u001b[43mconfigs\u001b[49m\u001b[43m,\u001b[49m\u001b[43m \u001b[49m\u001b[43mtrain\u001b[49m\u001b[43m,\u001b[49m\u001b[43m \u001b[49m\u001b[43mvalidation\u001b[49m\u001b[43m,\u001b[49m\u001b[43m \u001b[49m\u001b[38;5;241;43m100\u001b[39;49m\u001b[43m,\u001b[49m\u001b[43m \u001b[49m\u001b[38;5;241;43m8\u001b[39;49m\u001b[43m,\u001b[49m\u001b[43m \u001b[49m\u001b[38;5;28;43;01mTrue\u001b[39;49;00m\u001b[43m)\u001b[49m\n",
      "Cell \u001b[0;32mIn[5], line 64\u001b[0m, in \u001b[0;36mtrain_model_earlystop\u001b[0;34m(configs, train, validation, epochs, batch_size, updates, patience)\u001b[0m\n\u001b[1;32m     62\u001b[0m x_enc, y_true \u001b[38;5;241m=\u001b[39m x_enc\u001b[38;5;241m.\u001b[39mfloat()\u001b[38;5;241m.\u001b[39mto(device), y_true\u001b[38;5;241m.\u001b[39mfloat()\u001b[38;5;241m.\u001b[39mto(device)\n\u001b[1;32m     63\u001b[0m opt\u001b[38;5;241m.\u001b[39mzero_grad()\n\u001b[0;32m---> 64\u001b[0m y_pred \u001b[38;5;241m=\u001b[39m \u001b[43mmodel\u001b[49m\u001b[43m(\u001b[49m\u001b[43mx_enc\u001b[49m\u001b[43m,\u001b[49m\u001b[43m \u001b[49m\u001b[38;5;28;43;01mNone\u001b[39;49;00m\u001b[43m,\u001b[49m\u001b[43m \u001b[49m\u001b[38;5;28;43;01mNone\u001b[39;49;00m\u001b[43m,\u001b[49m\u001b[43m \u001b[49m\u001b[38;5;28;43;01mNone\u001b[39;49;00m\u001b[43m)\u001b[49m  \n\u001b[1;32m     65\u001b[0m loss \u001b[38;5;241m=\u001b[39m criterion(y_pred, y_true)\n\u001b[1;32m     66\u001b[0m loss\u001b[38;5;241m.\u001b[39mbackward()\n",
      "File \u001b[0;32m~/.local/lib/python3.10/site-packages/torch/nn/modules/module.py:1751\u001b[0m, in \u001b[0;36mModule._wrapped_call_impl\u001b[0;34m(self, *args, **kwargs)\u001b[0m\n\u001b[1;32m   1749\u001b[0m     \u001b[38;5;28;01mreturn\u001b[39;00m \u001b[38;5;28mself\u001b[39m\u001b[38;5;241m.\u001b[39m_compiled_call_impl(\u001b[38;5;241m*\u001b[39margs, \u001b[38;5;241m*\u001b[39m\u001b[38;5;241m*\u001b[39mkwargs)  \u001b[38;5;66;03m# type: ignore[misc]\u001b[39;00m\n\u001b[1;32m   1750\u001b[0m \u001b[38;5;28;01melse\u001b[39;00m:\n\u001b[0;32m-> 1751\u001b[0m     \u001b[38;5;28;01mreturn\u001b[39;00m \u001b[38;5;28;43mself\u001b[39;49m\u001b[38;5;241;43m.\u001b[39;49m\u001b[43m_call_impl\u001b[49m\u001b[43m(\u001b[49m\u001b[38;5;241;43m*\u001b[39;49m\u001b[43margs\u001b[49m\u001b[43m,\u001b[49m\u001b[43m \u001b[49m\u001b[38;5;241;43m*\u001b[39;49m\u001b[38;5;241;43m*\u001b[39;49m\u001b[43mkwargs\u001b[49m\u001b[43m)\u001b[49m\n",
      "File \u001b[0;32m~/.local/lib/python3.10/site-packages/torch/nn/modules/module.py:1762\u001b[0m, in \u001b[0;36mModule._call_impl\u001b[0;34m(self, *args, **kwargs)\u001b[0m\n\u001b[1;32m   1757\u001b[0m \u001b[38;5;66;03m# If we don't have any hooks, we want to skip the rest of the logic in\u001b[39;00m\n\u001b[1;32m   1758\u001b[0m \u001b[38;5;66;03m# this function, and just call forward.\u001b[39;00m\n\u001b[1;32m   1759\u001b[0m \u001b[38;5;28;01mif\u001b[39;00m \u001b[38;5;129;01mnot\u001b[39;00m (\u001b[38;5;28mself\u001b[39m\u001b[38;5;241m.\u001b[39m_backward_hooks \u001b[38;5;129;01mor\u001b[39;00m \u001b[38;5;28mself\u001b[39m\u001b[38;5;241m.\u001b[39m_backward_pre_hooks \u001b[38;5;129;01mor\u001b[39;00m \u001b[38;5;28mself\u001b[39m\u001b[38;5;241m.\u001b[39m_forward_hooks \u001b[38;5;129;01mor\u001b[39;00m \u001b[38;5;28mself\u001b[39m\u001b[38;5;241m.\u001b[39m_forward_pre_hooks\n\u001b[1;32m   1760\u001b[0m         \u001b[38;5;129;01mor\u001b[39;00m _global_backward_pre_hooks \u001b[38;5;129;01mor\u001b[39;00m _global_backward_hooks\n\u001b[1;32m   1761\u001b[0m         \u001b[38;5;129;01mor\u001b[39;00m _global_forward_hooks \u001b[38;5;129;01mor\u001b[39;00m _global_forward_pre_hooks):\n\u001b[0;32m-> 1762\u001b[0m     \u001b[38;5;28;01mreturn\u001b[39;00m \u001b[43mforward_call\u001b[49m\u001b[43m(\u001b[49m\u001b[38;5;241;43m*\u001b[39;49m\u001b[43margs\u001b[49m\u001b[43m,\u001b[49m\u001b[43m \u001b[49m\u001b[38;5;241;43m*\u001b[39;49m\u001b[38;5;241;43m*\u001b[39;49m\u001b[43mkwargs\u001b[49m\u001b[43m)\u001b[49m\n\u001b[1;32m   1764\u001b[0m result \u001b[38;5;241m=\u001b[39m \u001b[38;5;28;01mNone\u001b[39;00m\n\u001b[1;32m   1765\u001b[0m called_always_called_hooks \u001b[38;5;241m=\u001b[39m \u001b[38;5;28mset\u001b[39m()\n",
      "Cell \u001b[0;32mIn[2], line 128\u001b[0m, in \u001b[0;36mModel.forward\u001b[0;34m(self, x_enc, x_mark_enc, x_dec, x_mark_dec, mask)\u001b[0m\n\u001b[1;32m    127\u001b[0m \u001b[38;5;28;01mdef\u001b[39;00m \u001b[38;5;21mforward\u001b[39m(\u001b[38;5;28mself\u001b[39m, x_enc, x_mark_enc, x_dec, x_mark_dec, mask\u001b[38;5;241m=\u001b[39m\u001b[38;5;28;01mNone\u001b[39;00m):\n\u001b[0;32m--> 128\u001b[0m     dec_out \u001b[38;5;241m=\u001b[39m \u001b[38;5;28;43mself\u001b[39;49m\u001b[38;5;241;43m.\u001b[39;49m\u001b[43mforecast\u001b[49m\u001b[43m(\u001b[49m\u001b[43mx_enc\u001b[49m\u001b[43m,\u001b[49m\u001b[43m \u001b[49m\u001b[43mx_mark_enc\u001b[49m\u001b[43m,\u001b[49m\u001b[43m \u001b[49m\u001b[43mx_dec\u001b[49m\u001b[43m,\u001b[49m\u001b[43m \u001b[49m\u001b[43mx_mark_dec\u001b[49m\u001b[43m)\u001b[49m\n\u001b[1;32m    129\u001b[0m     \u001b[38;5;28;01mreturn\u001b[39;00m dec_out[:, \u001b[38;5;241m-\u001b[39m\u001b[38;5;28mself\u001b[39m\u001b[38;5;241m.\u001b[39mpred_len:, :]\n",
      "Cell \u001b[0;32mIn[2], line 178\u001b[0m, in \u001b[0;36mModel.forecast\u001b[0;34m(self, x_enc, x_mark_enc, x_dec, x_mark_dec)\u001b[0m\n\u001b[1;32m    176\u001b[0m enc_out \u001b[38;5;241m=\u001b[39m \u001b[38;5;28mself\u001b[39m\u001b[38;5;241m.\u001b[39mreprogramming_layer(enc_out, source_embeddings, source_embeddings)\n\u001b[1;32m    177\u001b[0m llama_enc_out \u001b[38;5;241m=\u001b[39m torch\u001b[38;5;241m.\u001b[39mcat([prompt_embeddings, enc_out], dim\u001b[38;5;241m=\u001b[39m\u001b[38;5;241m1\u001b[39m)\n\u001b[0;32m--> 178\u001b[0m dec_out \u001b[38;5;241m=\u001b[39m \u001b[38;5;28;43mself\u001b[39;49m\u001b[38;5;241;43m.\u001b[39;49m\u001b[43mllm_model\u001b[49m\u001b[43m(\u001b[49m\u001b[43minputs_embeds\u001b[49m\u001b[38;5;241;43m=\u001b[39;49m\u001b[43mllama_enc_out\u001b[49m\u001b[43m)\u001b[49m\u001b[38;5;241m.\u001b[39mlast_hidden_state\n\u001b[1;32m    179\u001b[0m \u001b[38;5;66;03m#print(dec_out)\u001b[39;00m\n\u001b[1;32m    180\u001b[0m dec_out \u001b[38;5;241m=\u001b[39m dec_out[:, :, :\u001b[38;5;28mself\u001b[39m\u001b[38;5;241m.\u001b[39md_ff]\n",
      "File \u001b[0;32m~/.local/lib/python3.10/site-packages/torch/nn/modules/module.py:1751\u001b[0m, in \u001b[0;36mModule._wrapped_call_impl\u001b[0;34m(self, *args, **kwargs)\u001b[0m\n\u001b[1;32m   1749\u001b[0m     \u001b[38;5;28;01mreturn\u001b[39;00m \u001b[38;5;28mself\u001b[39m\u001b[38;5;241m.\u001b[39m_compiled_call_impl(\u001b[38;5;241m*\u001b[39margs, \u001b[38;5;241m*\u001b[39m\u001b[38;5;241m*\u001b[39mkwargs)  \u001b[38;5;66;03m# type: ignore[misc]\u001b[39;00m\n\u001b[1;32m   1750\u001b[0m \u001b[38;5;28;01melse\u001b[39;00m:\n\u001b[0;32m-> 1751\u001b[0m     \u001b[38;5;28;01mreturn\u001b[39;00m \u001b[38;5;28;43mself\u001b[39;49m\u001b[38;5;241;43m.\u001b[39;49m\u001b[43m_call_impl\u001b[49m\u001b[43m(\u001b[49m\u001b[38;5;241;43m*\u001b[39;49m\u001b[43margs\u001b[49m\u001b[43m,\u001b[49m\u001b[43m \u001b[49m\u001b[38;5;241;43m*\u001b[39;49m\u001b[38;5;241;43m*\u001b[39;49m\u001b[43mkwargs\u001b[49m\u001b[43m)\u001b[49m\n",
      "File \u001b[0;32m~/.local/lib/python3.10/site-packages/torch/nn/modules/module.py:1762\u001b[0m, in \u001b[0;36mModule._call_impl\u001b[0;34m(self, *args, **kwargs)\u001b[0m\n\u001b[1;32m   1757\u001b[0m \u001b[38;5;66;03m# If we don't have any hooks, we want to skip the rest of the logic in\u001b[39;00m\n\u001b[1;32m   1758\u001b[0m \u001b[38;5;66;03m# this function, and just call forward.\u001b[39;00m\n\u001b[1;32m   1759\u001b[0m \u001b[38;5;28;01mif\u001b[39;00m \u001b[38;5;129;01mnot\u001b[39;00m (\u001b[38;5;28mself\u001b[39m\u001b[38;5;241m.\u001b[39m_backward_hooks \u001b[38;5;129;01mor\u001b[39;00m \u001b[38;5;28mself\u001b[39m\u001b[38;5;241m.\u001b[39m_backward_pre_hooks \u001b[38;5;129;01mor\u001b[39;00m \u001b[38;5;28mself\u001b[39m\u001b[38;5;241m.\u001b[39m_forward_hooks \u001b[38;5;129;01mor\u001b[39;00m \u001b[38;5;28mself\u001b[39m\u001b[38;5;241m.\u001b[39m_forward_pre_hooks\n\u001b[1;32m   1760\u001b[0m         \u001b[38;5;129;01mor\u001b[39;00m _global_backward_pre_hooks \u001b[38;5;129;01mor\u001b[39;00m _global_backward_hooks\n\u001b[1;32m   1761\u001b[0m         \u001b[38;5;129;01mor\u001b[39;00m _global_forward_hooks \u001b[38;5;129;01mor\u001b[39;00m _global_forward_pre_hooks):\n\u001b[0;32m-> 1762\u001b[0m     \u001b[38;5;28;01mreturn\u001b[39;00m \u001b[43mforward_call\u001b[49m\u001b[43m(\u001b[49m\u001b[38;5;241;43m*\u001b[39;49m\u001b[43margs\u001b[49m\u001b[43m,\u001b[49m\u001b[43m \u001b[49m\u001b[38;5;241;43m*\u001b[39;49m\u001b[38;5;241;43m*\u001b[39;49m\u001b[43mkwargs\u001b[49m\u001b[43m)\u001b[49m\n\u001b[1;32m   1764\u001b[0m result \u001b[38;5;241m=\u001b[39m \u001b[38;5;28;01mNone\u001b[39;00m\n\u001b[1;32m   1765\u001b[0m called_always_called_hooks \u001b[38;5;241m=\u001b[39m \u001b[38;5;28mset\u001b[39m()\n",
      "File \u001b[0;32m~/.local/lib/python3.10/site-packages/transformers/utils/generic.py:969\u001b[0m, in \u001b[0;36mcan_return_tuple.<locals>.wrapper\u001b[0;34m(self, *args, **kwargs)\u001b[0m\n\u001b[1;32m    966\u001b[0m     set_attribute_for_modules(\u001b[38;5;28mself\u001b[39m, \u001b[38;5;124m\"\u001b[39m\u001b[38;5;124m_is_top_level_module\u001b[39m\u001b[38;5;124m\"\u001b[39m, \u001b[38;5;28;01mFalse\u001b[39;00m)\n\u001b[1;32m    968\u001b[0m \u001b[38;5;28;01mtry\u001b[39;00m:\n\u001b[0;32m--> 969\u001b[0m     output \u001b[38;5;241m=\u001b[39m \u001b[43mfunc\u001b[49m\u001b[43m(\u001b[49m\u001b[38;5;28;43mself\u001b[39;49m\u001b[43m,\u001b[49m\u001b[43m \u001b[49m\u001b[38;5;241;43m*\u001b[39;49m\u001b[43margs\u001b[49m\u001b[43m,\u001b[49m\u001b[43m \u001b[49m\u001b[38;5;241;43m*\u001b[39;49m\u001b[38;5;241;43m*\u001b[39;49m\u001b[43mkwargs\u001b[49m\u001b[43m)\u001b[49m\n\u001b[1;32m    970\u001b[0m     \u001b[38;5;28;01mif\u001b[39;00m is_requested_to_return_tuple \u001b[38;5;129;01mor\u001b[39;00m (is_configured_to_return_tuple \u001b[38;5;129;01mand\u001b[39;00m is_top_level_module):\n\u001b[1;32m    971\u001b[0m         output \u001b[38;5;241m=\u001b[39m output\u001b[38;5;241m.\u001b[39mto_tuple()\n",
      "File \u001b[0;32m~/.local/lib/python3.10/site-packages/transformers/models/llama/modeling_llama.py:453\u001b[0m, in \u001b[0;36mLlamaModel.forward\u001b[0;34m(self, input_ids, attention_mask, position_ids, past_key_values, inputs_embeds, use_cache, output_attentions, output_hidden_states, cache_position, **flash_attn_kwargs)\u001b[0m\n\u001b[1;32m    450\u001b[0m \u001b[38;5;28;01mif\u001b[39;00m output_hidden_states:\n\u001b[1;32m    451\u001b[0m     all_hidden_states \u001b[38;5;241m+\u001b[39m\u001b[38;5;241m=\u001b[39m (hidden_states,)\n\u001b[0;32m--> 453\u001b[0m layer_outputs \u001b[38;5;241m=\u001b[39m \u001b[43mdecoder_layer\u001b[49m\u001b[43m(\u001b[49m\n\u001b[1;32m    454\u001b[0m \u001b[43m    \u001b[49m\u001b[43mhidden_states\u001b[49m\u001b[43m,\u001b[49m\n\u001b[1;32m    455\u001b[0m \u001b[43m    \u001b[49m\u001b[43mattention_mask\u001b[49m\u001b[38;5;241;43m=\u001b[39;49m\u001b[43mcausal_mask\u001b[49m\u001b[43m,\u001b[49m\n\u001b[1;32m    456\u001b[0m \u001b[43m    \u001b[49m\u001b[43mposition_ids\u001b[49m\u001b[38;5;241;43m=\u001b[39;49m\u001b[43mposition_ids\u001b[49m\u001b[43m,\u001b[49m\n\u001b[1;32m    457\u001b[0m \u001b[43m    \u001b[49m\u001b[43mpast_key_value\u001b[49m\u001b[38;5;241;43m=\u001b[39;49m\u001b[43mpast_key_values\u001b[49m\u001b[43m,\u001b[49m\n\u001b[1;32m    458\u001b[0m \u001b[43m    \u001b[49m\u001b[43moutput_attentions\u001b[49m\u001b[38;5;241;43m=\u001b[39;49m\u001b[43moutput_attentions\u001b[49m\u001b[43m,\u001b[49m\n\u001b[1;32m    459\u001b[0m \u001b[43m    \u001b[49m\u001b[43muse_cache\u001b[49m\u001b[38;5;241;43m=\u001b[39;49m\u001b[43muse_cache\u001b[49m\u001b[43m,\u001b[49m\n\u001b[1;32m    460\u001b[0m \u001b[43m    \u001b[49m\u001b[43mcache_position\u001b[49m\u001b[38;5;241;43m=\u001b[39;49m\u001b[43mcache_position\u001b[49m\u001b[43m,\u001b[49m\n\u001b[1;32m    461\u001b[0m \u001b[43m    \u001b[49m\u001b[43mposition_embeddings\u001b[49m\u001b[38;5;241;43m=\u001b[39;49m\u001b[43mposition_embeddings\u001b[49m\u001b[43m,\u001b[49m\n\u001b[1;32m    462\u001b[0m \u001b[43m    \u001b[49m\u001b[38;5;241;43m*\u001b[39;49m\u001b[38;5;241;43m*\u001b[39;49m\u001b[43mflash_attn_kwargs\u001b[49m\u001b[43m,\u001b[49m\n\u001b[1;32m    463\u001b[0m \u001b[43m\u001b[49m\u001b[43m)\u001b[49m\n\u001b[1;32m    465\u001b[0m hidden_states \u001b[38;5;241m=\u001b[39m layer_outputs[\u001b[38;5;241m0\u001b[39m]\n\u001b[1;32m    467\u001b[0m \u001b[38;5;28;01mif\u001b[39;00m output_attentions:\n",
      "File \u001b[0;32m~/.local/lib/python3.10/site-packages/transformers/modeling_layers.py:48\u001b[0m, in \u001b[0;36mGradientCheckpointingLayer.__call__\u001b[0;34m(self, *args, **kwargs)\u001b[0m\n\u001b[1;32m     46\u001b[0m \u001b[38;5;28;01mif\u001b[39;00m \u001b[38;5;28mself\u001b[39m\u001b[38;5;241m.\u001b[39mgradient_checkpointing \u001b[38;5;129;01mand\u001b[39;00m \u001b[38;5;28mself\u001b[39m\u001b[38;5;241m.\u001b[39mtraining:\n\u001b[1;32m     47\u001b[0m     \u001b[38;5;28;01mreturn\u001b[39;00m \u001b[38;5;28mself\u001b[39m\u001b[38;5;241m.\u001b[39m_gradient_checkpointing_func(partial(\u001b[38;5;28msuper\u001b[39m()\u001b[38;5;241m.\u001b[39m\u001b[38;5;21m__call__\u001b[39m, \u001b[38;5;241m*\u001b[39m\u001b[38;5;241m*\u001b[39mkwargs), \u001b[38;5;241m*\u001b[39margs)\n\u001b[0;32m---> 48\u001b[0m \u001b[38;5;28;01mreturn\u001b[39;00m \u001b[38;5;28;43msuper\u001b[39;49m\u001b[43m(\u001b[49m\u001b[43m)\u001b[49m\u001b[38;5;241;43m.\u001b[39;49m\u001b[38;5;21;43m__call__\u001b[39;49m\u001b[43m(\u001b[49m\u001b[38;5;241;43m*\u001b[39;49m\u001b[43margs\u001b[49m\u001b[43m,\u001b[49m\u001b[43m \u001b[49m\u001b[38;5;241;43m*\u001b[39;49m\u001b[38;5;241;43m*\u001b[39;49m\u001b[43mkwargs\u001b[49m\u001b[43m)\u001b[49m\n",
      "File \u001b[0;32m~/.local/lib/python3.10/site-packages/torch/nn/modules/module.py:1751\u001b[0m, in \u001b[0;36mModule._wrapped_call_impl\u001b[0;34m(self, *args, **kwargs)\u001b[0m\n\u001b[1;32m   1749\u001b[0m     \u001b[38;5;28;01mreturn\u001b[39;00m \u001b[38;5;28mself\u001b[39m\u001b[38;5;241m.\u001b[39m_compiled_call_impl(\u001b[38;5;241m*\u001b[39margs, \u001b[38;5;241m*\u001b[39m\u001b[38;5;241m*\u001b[39mkwargs)  \u001b[38;5;66;03m# type: ignore[misc]\u001b[39;00m\n\u001b[1;32m   1750\u001b[0m \u001b[38;5;28;01melse\u001b[39;00m:\n\u001b[0;32m-> 1751\u001b[0m     \u001b[38;5;28;01mreturn\u001b[39;00m \u001b[38;5;28;43mself\u001b[39;49m\u001b[38;5;241;43m.\u001b[39;49m\u001b[43m_call_impl\u001b[49m\u001b[43m(\u001b[49m\u001b[38;5;241;43m*\u001b[39;49m\u001b[43margs\u001b[49m\u001b[43m,\u001b[49m\u001b[43m \u001b[49m\u001b[38;5;241;43m*\u001b[39;49m\u001b[38;5;241;43m*\u001b[39;49m\u001b[43mkwargs\u001b[49m\u001b[43m)\u001b[49m\n",
      "File \u001b[0;32m~/.local/lib/python3.10/site-packages/torch/nn/modules/module.py:1762\u001b[0m, in \u001b[0;36mModule._call_impl\u001b[0;34m(self, *args, **kwargs)\u001b[0m\n\u001b[1;32m   1757\u001b[0m \u001b[38;5;66;03m# If we don't have any hooks, we want to skip the rest of the logic in\u001b[39;00m\n\u001b[1;32m   1758\u001b[0m \u001b[38;5;66;03m# this function, and just call forward.\u001b[39;00m\n\u001b[1;32m   1759\u001b[0m \u001b[38;5;28;01mif\u001b[39;00m \u001b[38;5;129;01mnot\u001b[39;00m (\u001b[38;5;28mself\u001b[39m\u001b[38;5;241m.\u001b[39m_backward_hooks \u001b[38;5;129;01mor\u001b[39;00m \u001b[38;5;28mself\u001b[39m\u001b[38;5;241m.\u001b[39m_backward_pre_hooks \u001b[38;5;129;01mor\u001b[39;00m \u001b[38;5;28mself\u001b[39m\u001b[38;5;241m.\u001b[39m_forward_hooks \u001b[38;5;129;01mor\u001b[39;00m \u001b[38;5;28mself\u001b[39m\u001b[38;5;241m.\u001b[39m_forward_pre_hooks\n\u001b[1;32m   1760\u001b[0m         \u001b[38;5;129;01mor\u001b[39;00m _global_backward_pre_hooks \u001b[38;5;129;01mor\u001b[39;00m _global_backward_hooks\n\u001b[1;32m   1761\u001b[0m         \u001b[38;5;129;01mor\u001b[39;00m _global_forward_hooks \u001b[38;5;129;01mor\u001b[39;00m _global_forward_pre_hooks):\n\u001b[0;32m-> 1762\u001b[0m     \u001b[38;5;28;01mreturn\u001b[39;00m \u001b[43mforward_call\u001b[49m\u001b[43m(\u001b[49m\u001b[38;5;241;43m*\u001b[39;49m\u001b[43margs\u001b[49m\u001b[43m,\u001b[49m\u001b[43m \u001b[49m\u001b[38;5;241;43m*\u001b[39;49m\u001b[38;5;241;43m*\u001b[39;49m\u001b[43mkwargs\u001b[49m\u001b[43m)\u001b[49m\n\u001b[1;32m   1764\u001b[0m result \u001b[38;5;241m=\u001b[39m \u001b[38;5;28;01mNone\u001b[39;00m\n\u001b[1;32m   1765\u001b[0m called_always_called_hooks \u001b[38;5;241m=\u001b[39m \u001b[38;5;28mset\u001b[39m()\n",
      "File \u001b[0;32m~/.local/lib/python3.10/site-packages/transformers/models/llama/modeling_llama.py:324\u001b[0m, in \u001b[0;36mLlamaDecoderLayer.forward\u001b[0;34m(self, hidden_states, attention_mask, position_ids, past_key_value, output_attentions, use_cache, cache_position, position_embeddings, **kwargs)\u001b[0m\n\u001b[1;32m    322\u001b[0m residual \u001b[38;5;241m=\u001b[39m hidden_states\n\u001b[1;32m    323\u001b[0m hidden_states \u001b[38;5;241m=\u001b[39m \u001b[38;5;28mself\u001b[39m\u001b[38;5;241m.\u001b[39mpost_attention_layernorm(hidden_states)\n\u001b[0;32m--> 324\u001b[0m hidden_states \u001b[38;5;241m=\u001b[39m \u001b[38;5;28;43mself\u001b[39;49m\u001b[38;5;241;43m.\u001b[39;49m\u001b[43mmlp\u001b[49m\u001b[43m(\u001b[49m\u001b[43mhidden_states\u001b[49m\u001b[43m)\u001b[49m\n\u001b[1;32m    325\u001b[0m hidden_states \u001b[38;5;241m=\u001b[39m residual \u001b[38;5;241m+\u001b[39m hidden_states\n\u001b[1;32m    327\u001b[0m outputs \u001b[38;5;241m=\u001b[39m (hidden_states,)\n",
      "File \u001b[0;32m~/.local/lib/python3.10/site-packages/torch/nn/modules/module.py:1751\u001b[0m, in \u001b[0;36mModule._wrapped_call_impl\u001b[0;34m(self, *args, **kwargs)\u001b[0m\n\u001b[1;32m   1749\u001b[0m     \u001b[38;5;28;01mreturn\u001b[39;00m \u001b[38;5;28mself\u001b[39m\u001b[38;5;241m.\u001b[39m_compiled_call_impl(\u001b[38;5;241m*\u001b[39margs, \u001b[38;5;241m*\u001b[39m\u001b[38;5;241m*\u001b[39mkwargs)  \u001b[38;5;66;03m# type: ignore[misc]\u001b[39;00m\n\u001b[1;32m   1750\u001b[0m \u001b[38;5;28;01melse\u001b[39;00m:\n\u001b[0;32m-> 1751\u001b[0m     \u001b[38;5;28;01mreturn\u001b[39;00m \u001b[38;5;28;43mself\u001b[39;49m\u001b[38;5;241;43m.\u001b[39;49m\u001b[43m_call_impl\u001b[49m\u001b[43m(\u001b[49m\u001b[38;5;241;43m*\u001b[39;49m\u001b[43margs\u001b[49m\u001b[43m,\u001b[49m\u001b[43m \u001b[49m\u001b[38;5;241;43m*\u001b[39;49m\u001b[38;5;241;43m*\u001b[39;49m\u001b[43mkwargs\u001b[49m\u001b[43m)\u001b[49m\n",
      "File \u001b[0;32m~/.local/lib/python3.10/site-packages/torch/nn/modules/module.py:1762\u001b[0m, in \u001b[0;36mModule._call_impl\u001b[0;34m(self, *args, **kwargs)\u001b[0m\n\u001b[1;32m   1757\u001b[0m \u001b[38;5;66;03m# If we don't have any hooks, we want to skip the rest of the logic in\u001b[39;00m\n\u001b[1;32m   1758\u001b[0m \u001b[38;5;66;03m# this function, and just call forward.\u001b[39;00m\n\u001b[1;32m   1759\u001b[0m \u001b[38;5;28;01mif\u001b[39;00m \u001b[38;5;129;01mnot\u001b[39;00m (\u001b[38;5;28mself\u001b[39m\u001b[38;5;241m.\u001b[39m_backward_hooks \u001b[38;5;129;01mor\u001b[39;00m \u001b[38;5;28mself\u001b[39m\u001b[38;5;241m.\u001b[39m_backward_pre_hooks \u001b[38;5;129;01mor\u001b[39;00m \u001b[38;5;28mself\u001b[39m\u001b[38;5;241m.\u001b[39m_forward_hooks \u001b[38;5;129;01mor\u001b[39;00m \u001b[38;5;28mself\u001b[39m\u001b[38;5;241m.\u001b[39m_forward_pre_hooks\n\u001b[1;32m   1760\u001b[0m         \u001b[38;5;129;01mor\u001b[39;00m _global_backward_pre_hooks \u001b[38;5;129;01mor\u001b[39;00m _global_backward_hooks\n\u001b[1;32m   1761\u001b[0m         \u001b[38;5;129;01mor\u001b[39;00m _global_forward_hooks \u001b[38;5;129;01mor\u001b[39;00m _global_forward_pre_hooks):\n\u001b[0;32m-> 1762\u001b[0m     \u001b[38;5;28;01mreturn\u001b[39;00m \u001b[43mforward_call\u001b[49m\u001b[43m(\u001b[49m\u001b[38;5;241;43m*\u001b[39;49m\u001b[43margs\u001b[49m\u001b[43m,\u001b[49m\u001b[43m \u001b[49m\u001b[38;5;241;43m*\u001b[39;49m\u001b[38;5;241;43m*\u001b[39;49m\u001b[43mkwargs\u001b[49m\u001b[43m)\u001b[49m\n\u001b[1;32m   1764\u001b[0m result \u001b[38;5;241m=\u001b[39m \u001b[38;5;28;01mNone\u001b[39;00m\n\u001b[1;32m   1765\u001b[0m called_always_called_hooks \u001b[38;5;241m=\u001b[39m \u001b[38;5;28mset\u001b[39m()\n",
      "File \u001b[0;32m~/.local/lib/python3.10/site-packages/transformers/models/llama/modeling_llama.py:162\u001b[0m, in \u001b[0;36mLlamaMLP.forward\u001b[0;34m(self, x)\u001b[0m\n\u001b[1;32m    161\u001b[0m \u001b[38;5;28;01mdef\u001b[39;00m \u001b[38;5;21mforward\u001b[39m(\u001b[38;5;28mself\u001b[39m, x):\n\u001b[0;32m--> 162\u001b[0m     down_proj \u001b[38;5;241m=\u001b[39m \u001b[38;5;28mself\u001b[39m\u001b[38;5;241m.\u001b[39mdown_proj(\u001b[38;5;28;43mself\u001b[39;49m\u001b[38;5;241;43m.\u001b[39;49m\u001b[43mact_fn\u001b[49m\u001b[43m(\u001b[49m\u001b[38;5;28;43mself\u001b[39;49m\u001b[38;5;241;43m.\u001b[39;49m\u001b[43mgate_proj\u001b[49m\u001b[43m(\u001b[49m\u001b[43mx\u001b[49m\u001b[43m)\u001b[49m\u001b[43m)\u001b[49m\u001b[43m \u001b[49m\u001b[38;5;241;43m*\u001b[39;49m\u001b[43m \u001b[49m\u001b[38;5;28;43mself\u001b[39;49m\u001b[38;5;241;43m.\u001b[39;49m\u001b[43mup_proj\u001b[49m\u001b[43m(\u001b[49m\u001b[43mx\u001b[49m\u001b[43m)\u001b[49m)\n\u001b[1;32m    163\u001b[0m     \u001b[38;5;28;01mreturn\u001b[39;00m down_proj\n",
      "\u001b[0;31mOutOfMemoryError\u001b[0m: CUDA out of memory. Tried to allocate 84.00 MiB. GPU 0 has a total capacity of 23.68 GiB of which 34.50 MiB is free. Including non-PyTorch memory, this process has 23.41 GiB memory in use. Of the allocated memory 21.21 GiB is allocated by PyTorch, and 956.18 MiB is reserved by PyTorch but unallocated. If reserved but unallocated memory is large try setting PYTORCH_CUDA_ALLOC_CONF=expandable_segments:True to avoid fragmentation.  See documentation for Memory Management  (https://pytorch.org/docs/stable/notes/cuda.html#environment-variables)"
     ]
    }
   ],
   "source": [
    "train, test = model_selection.train_test_split(data, test_size=0.1, random_state=1, stratify= data['Concentration'])\n",
    "\n",
    "train, validation = model_selection.train_test_split(train, test_size=0.1, random_state=1, stratify= train['Concentration'])\n",
    "\n",
    "model = train_model(configs, train, validation, 100, 8, True, True)"
   ]
  },
  {
   "attachments": {},
   "cell_type": "markdown",
   "metadata": {},
   "source": [
    "Epoch  1 — train RMSE 647.933455 - train R2 -0.315008 — val RMSE 590.783431 - val R2 -0.106943\n",
    "Epoch  2 — train RMSE 554.334365 - train R2 0.037477 — val RMSE 519.252565 - val R2 0.144882\n",
    "Epoch  3 — train RMSE 526.764650 - train R2 0.130838 — val RMSE 427.802442 - val R2 0.419563\n",
    "Epoch  4 — train RMSE 405.918747 - train R2 0.483886 — val RMSE 242.420577 - val R2 0.813616\n",
    "Epoch  5 — train RMSE 259.992053 - train R2 0.788267 — val RMSE 111.821413 - val R2 0.960343\n",
    "Epoch  6 — train RMSE 225.142789 - train R2 0.841224 — val RMSE 78.034123 - val R2 0.980687\n",
    "Epoch  7 — train RMSE 225.829603 - train R2 0.840254 — val RMSE 87.608671 - val R2 0.975658\n",
    "Epoch  8 — train RMSE 239.649822 - train R2 0.820104 — val RMSE 103.283298 - val R2 0.966168\n",
    "Epoch  9 — train RMSE 218.162494 - train R2 0.850917 — val RMSE 96.721934 - val R2 0.970330\n",
    "Epoch 10 — train RMSE 262.254871 - train R2 0.784566 — val RMSE 204.681310 - val R2 0.867131\n",
    "Epoch 11 — train RMSE 284.733322 - train R2 0.746052 — val RMSE 217.162258 - val R2 0.850432\n",
    "Epoch 12 — train RMSE 273.583936 - train R2 0.765551 — val RMSE 111.706636 - val R2 0.960424\n",
    "Epoch 13 — train RMSE 244.976271 - train R2 0.812018 — val RMSE 132.690155 - val R2 0.944160\n",
    "Epoch 14 — train RMSE 232.132526 - train R2 0.831213 — val RMSE 81.462859 - val R2 0.978953\n",
    "Epoch 15 — train RMSE 186.777658 - train R2 0.890726 — val RMSE 99.534035 - val R2 0.968580\n",
    "Epoch 16 — train RMSE 273.329657 - train R2 0.765986 — val RMSE 74.748253 - val R2 0.982280\n",
    "Epoch 17 — train RMSE 189.396052 - train R2 0.887641 — val RMSE 95.888920 - val R2 0.970839\n",
    "Epoch 18 — train RMSE 274.031313 - train R2 0.764783 — val RMSE 128.773256 - val R2 0.947408\n",
    "Epoch 19 — train RMSE 212.659864 - train R2 0.858343 — val RMSE 59.524765 - val R2 0.988763\n",
    "Epoch 20 — train RMSE 259.917481 - train R2 0.788389 — val RMSE 98.310219 - val R2 0.969347\n",
    "Epoch 21 — train RMSE 222.779508 - train R2 0.844540 — val RMSE 67.700090 - val R2 0.985464\n",
    "Epoch 22 — train RMSE 222.768471 - train R2 0.844556 — val RMSE 65.380988 - val R2 0.986443\n",
    "Epoch 23 — train RMSE 236.554575 - train R2 0.824721 — val RMSE 57.695442 - val R2 0.989443\n",
    "Epoch 24 — train RMSE 225.247918 - train R2 0.841076 — val RMSE 82.387769 - val R2 0.978472\n",
    "Epoch 25 — train RMSE 236.934763 - train R2 0.824157 — val RMSE 67.392820 - val R2 0.985596\n",
    "Epoch 26 — train RMSE 248.071697 - train R2 0.807238 — val RMSE 78.450618 - val R2 0.980481\n",
    "Epoch 27 — train RMSE 210.518964 - train R2 0.861181 — val RMSE 57.891505 - val R2 0.989371\n",
    "Epoch 28 — train RMSE 195.953701 - train R2 0.879725 — val RMSE 89.896251 - val R2 0.974370\n",
    "Epoch 29 — train RMSE 195.274108 - train R2 0.880558 — val RMSE 50.932884 - val R2 0.991773\n",
    "Epoch 30 — train RMSE 222.186458 - train R2 0.845367 — val RMSE 62.777909 - val R2 0.987501\n",
    "Epoch 31 — train RMSE 177.366306 - train R2 0.901461 — val RMSE 58.224725 - val R2 0.989248\n",
    "Epoch 32 — train RMSE 191.663961 - train R2 0.884934 — val RMSE 51.307647 - val R2 0.991651\n",
    "Epoch 33 — train RMSE 140.003503 - train R2 0.938603 — val RMSE 65.591855 - val R2 0.986355\n",
    "Epoch 34 — train RMSE 207.488315 - train R2 0.865149 — val RMSE 58.179779 - val R2 0.989265\n",
    "Epoch 35 — train RMSE 192.416205 - train R2 0.884029 — val RMSE 49.677407 - val R2 0.992173\n",
    "Epoch 36 — train RMSE 246.397685 - train R2 0.809831 — val RMSE 83.766312 - val R2 0.977746\n",
    "Epoch 37 — train RMSE 195.741398 - train R2 0.879986 — val RMSE 64.266039 - val R2 0.986901\n",
    "Epoch 38 — train RMSE 252.020815 - train R2 0.801052 — val RMSE 62.718037 - val R2 0.987525\n",
    "Epoch 39 — train RMSE 260.489098 - train R2 0.787457 — val RMSE 87.761534 - val R2 0.975573\n",
    "Epoch 40 — train RMSE 270.706953 - train R2 0.770456 — val RMSE 73.990626 - val R2 0.982637\n",
    "Epoch 41 — train RMSE 193.077308 - train R2 0.883230 — val RMSE 62.386516 - val R2 0.987656\n",
    "Epoch 42 — train RMSE 222.709220 - train R2 0.844638 — val RMSE 56.211224 - val R2 0.989979\n",
    "Epoch 43 — train RMSE 193.706473 - train R2 0.882468 — val RMSE 68.752004 - val R2 0.985009\n",
    "Epoch 44 — train RMSE 160.370031 - train R2 0.919441 — val RMSE 54.623470 - val R2 0.990537\n",
    "Epoch 45 — train RMSE 233.484939 - train R2 0.829240 — val RMSE 71.820866 - val R2 0.983640\n",
    "Epoch 46 — train RMSE 208.150687 - train R2 0.864286 — val RMSE 66.932094 - val R2 0.985792\n",
    "Epoch 47 — train RMSE 221.307029 - train R2 0.846588 — val RMSE 70.514370 - val R2 0.984230\n",
    "Epoch 48 — train RMSE 193.526990 - train R2 0.882686 — val RMSE 66.622031 - val R2 0.985923\n",
    "Epoch 49 — train RMSE 177.295699 - train R2 0.901539 — val RMSE 73.677913 - val R2 0.982784\n",
    "Epoch 50 — train RMSE 194.113478 - train R2 0.881974 — val RMSE 76.524885 - val R2 0.981427\n",
    "Epoch 51 — train RMSE 234.503027 - train R2 0.827748 — val RMSE 67.803062 - val R2 0.985420\n",
    "Epoch 52 — train RMSE 246.821589 - train R2 0.809176 — val RMSE 68.505124 - val R2 0.985116\n",
    "Epoch 53 — train RMSE 206.986450 - train R2 0.865800 — val RMSE 56.618211 - val R2 0.989833\n",
    "Epoch 54 — train RMSE 257.492518 - train R2 0.792319 — val RMSE 66.517137 - val R2 0.985967\n",
    "Epoch 55 — train RMSE 220.718738 - train R2 0.847403 — val RMSE 67.874026 - val R2 0.985389\n",
    "Epoch 56 — train RMSE 221.465702 - train R2 0.846368 — val RMSE 61.709236 - val R2 0.987923\n",
    "Epoch 57 — train RMSE 233.576072 - train R2 0.829107 — val RMSE 66.964073 - val R2 0.985778\n",
    "Epoch 58 — train RMSE 257.642484 - train R2 0.792077 — val RMSE 58.672171 - val R2 0.989082\n",
    "Epoch 59 — train RMSE 177.827767 - train R2 0.900947 — val RMSE 70.909587 - val R2 0.984053\n",
    "Epoch 60 — train RMSE 176.563579 - train R2 0.902351 — val RMSE 50.410932 - val R2 0.991940\n",
    "Epoch 61 — train RMSE 205.035570 - train R2 0.868318 — val RMSE 62.451023 - val R2 0.987631\n",
    "Epoch 62 — train RMSE 232.925949 - train R2 0.830057 — val RMSE 56.260436 - val R2 0.989961\n",
    "Epoch 63 — train RMSE 257.318634 - train R2 0.792599 — val RMSE 51.317448 - val R2 0.991648\n",
    "Epoch 64 — train RMSE 246.144955 - train R2 0.810220 — val RMSE 57.359755 - val R2 0.989565\n",
    "Epoch 65 — train RMSE 245.645796 - train R2 0.810989 — val RMSE 56.545341 - val R2 0.989859\n",
    "Epoch 66 — train RMSE 246.225224 - train R2 0.810097 — val RMSE 68.738537 - val R2 0.985015\n",
    "Epoch 67 — train RMSE 258.143453 - train R2 0.791268 — val RMSE 74.796053 - val R2 0.982257\n",
    "Epoch 68 — train RMSE 257.183617 - train R2 0.792817 — val RMSE 58.010287 - val R2 0.989327\n",
    "Epoch 69 — train RMSE 176.315585 - train R2 0.902625 — val RMSE 53.946784 - val R2 0.990770\n",
    "Epoch 70 — train RMSE 268.406021 - train R2 0.774341 — val RMSE 47.917516 - val R2 0.992718\n",
    "Epoch 71 — train RMSE 158.687798 - train R2 0.921122 — val RMSE 54.538018 - val R2 0.990567\n",
    "Epoch 72 — train RMSE 207.091296 - train R2 0.865664 — val RMSE 62.547627 - val R2 0.987592\n",
    "Epoch 73 — train RMSE 207.313206 - train R2 0.865376 — val RMSE 63.649774 - val R2 0.987151\n",
    "Epoch 74 — train RMSE 233.869369 - train R2 0.828678 — val RMSE 48.378893 - val R2 0.992577\n",
    "Epoch 75 — train RMSE 207.293031 - train R2 0.865403 — val RMSE 49.218000 - val R2 0.992317\n",
    "Epoch 76 — train RMSE 221.727798 - train R2 0.846005 — val RMSE 64.252048 - val R2 0.986907\n",
    "Epoch 77 — train RMSE 175.968764 - train R2 0.903007 — val RMSE 54.083346 - val R2 0.990723\n",
    "Epoch 78 — train RMSE 206.299465 - train R2 0.866690 — val RMSE 62.655637 - val R2 0.987549\n",
    "Epoch 79 — train RMSE 220.535845 - train R2 0.847656 — val RMSE 52.221089 - val R2 0.991351\n",
    "Epoch 80 — train RMSE 232.751398 - train R2 0.830312 — val RMSE 48.730239 - val R2 0.992469\n",
    "Epoch 81 — train RMSE 191.753990 - train R2 0.884825 — val RMSE 48.250687 - val R2 0.992616\n",
    "Epoch 82 — train RMSE 234.538251 - train R2 0.827696 — val RMSE 51.232930 - val R2 0.991675\n",
    "Epoch 83 — train RMSE 267.974160 - train R2 0.775067 — val RMSE 63.712996 - val R2 0.987126\n",
    "Epoch 84 — train RMSE 289.398406 - train R2 0.737663 — val RMSE 55.629509 - val R2 0.990185\n",
    "Epoch 85 — train RMSE 279.228745 - train R2 0.755776 — val RMSE 43.946445 - val R2 0.993875\n",
    "Epoch 86 — train RMSE 245.837264 - train R2 0.810695 — val RMSE 58.499524 - val R2 0.989146\n",
    "Epoch 87 — train RMSE 244.719813 - train R2 0.812412 — val RMSE 63.712965 - val R2 0.987126\n",
    "Epoch 88 — train RMSE 219.288635 - train R2 0.849374 — val RMSE 60.452224 - val R2 0.988410\n",
    "Epoch 89 — train RMSE 256.419968 - train R2 0.794046 — val RMSE 44.369312 - val R2 0.993756\n",
    "Epoch 90 — train RMSE 191.022641 - train R2 0.885702 — val RMSE 56.342505 - val R2 0.989932\n",
    "Epoch 91 — train RMSE 220.675689 - train R2 0.847463 — val RMSE 66.351615 - val R2 0.986037\n",
    "Epoch 92 — train RMSE 278.484414 - train R2 0.757077 — val RMSE 48.916995 - val R2 0.992411\n",
    "Epoch 93 — train RMSE 259.067124 - train R2 0.789771 — val RMSE 70.129189 - val R2 0.984402\n",
    "Epoch 94 — train RMSE 269.145029 - train R2 0.773097 — val RMSE 59.313521 - val R2 0.988842\n",
    "Epoch 95 — train RMSE 257.527233 - train R2 0.792263 — val RMSE 68.189781 - val R2 0.985253\n",
    "Epoch 96 — train RMSE 233.824828 - train R2 0.828743 — val RMSE 47.819657 - val R2 0.992748\n",
    "Epoch 97 — train RMSE 280.761518 - train R2 0.753088 — val RMSE 45.924158 - val R2 0.993311\n",
    "Epoch 98 — train RMSE 177.906563 - train R2 0.900859 — val RMSE 52.388500 - val R2 0.991296\n",
    "Epoch 99 — train RMSE 322.090981 - train R2 0.675044 — val RMSE 333.826504 - val R2 0.646564\n",
    "Epoch 100 — train RMSE 279.152773 - train R2 0.755909 — val RMSE 166.940327 - val R2 0.911612"
   ]
  },
  {
   "cell_type": "markdown",
   "metadata": {},
   "source": [
    "Different config"
   ]
  },
  {
   "cell_type": "code",
   "execution_count": 6,
   "metadata": {},
   "outputs": [],
   "source": [
    "configs = Details(\n",
    "    pred_len = 1,      \n",
    "    seq_len  = 350,\n",
    "    d_ff = 32,\n",
    "    patch_len= 16, \n",
    "    stride = 8, \n",
    "    llm_layers = 8, #increased\n",
    "    description = \"This dataset contains near-infrared (NIR) spectroscopy measurements of lactate concentration in a \" \\\n",
    "                  \"phosphate-buffered saline (PBS) solution. Each spectrum includes absorbance values across \" \\\n",
    "                  \"350 wavelengths. \" ,\n",
    "    dropout = 0.1,\n",
    "    n_heads = 2,\n",
    "    d_model = 16,\n",
    "    enc_in = 1,\n",
    "    d_llm = 4096,\n",
    "    llm_model = 'LLAMA',\n",
    "    lr = 0.0001\n",
    ")"
   ]
  },
  {
   "cell_type": "code",
   "execution_count": 7,
   "metadata": {},
   "outputs": [
    {
     "data": {
      "application/vnd.jupyter.widget-view+json": {
       "model_id": "206bb7dec0eb4bd38642904ad4326359",
       "version_major": 2,
       "version_minor": 0
      },
      "text/plain": [
       "Loading checkpoint shards:   0%|          | 0/2 [00:00<?, ?it/s]"
      ]
     },
     "metadata": {},
     "output_type": "display_data"
    },
    {
     "name": "stdout",
     "output_type": "stream",
     "text": [
      "Epoch  1 — train RMSE 698.529635 - train R2 -0.528401 — val RMSE 686.871303 - val R2 -0.496303\n",
      "Epoch  2 — train RMSE 692.385459 - train R2 -0.501631 — val RMSE 678.774838 - val R2 -0.461236\n",
      "Epoch  3 — train RMSE 682.929578 - train R2 -0.460896 — val RMSE 668.664212 - val R2 -0.418029\n",
      "Epoch  4 — train RMSE 670.880472 - train R2 -0.409801 — val RMSE 655.785812 - val R2 -0.363932\n",
      "Epoch  5 — train RMSE 655.931472 - train R2 -0.347673 — val RMSE 642.891199 - val R2 -0.310822\n",
      "Epoch  6 — train RMSE 646.518512 - train R2 -0.309271 — val RMSE 631.273131 - val R2 -0.263873\n",
      "Epoch  7 — train RMSE 638.474735 - train R2 -0.276894 — val RMSE 621.695929 - val R2 -0.225815\n",
      "Epoch  8 — train RMSE 632.362440 - train R2 -0.252563 — val RMSE 614.541979 - val R2 -0.197766\n",
      "Epoch  9 — train RMSE 621.447047 - train R2 -0.209695 — val RMSE 605.453872 - val R2 -0.162602\n",
      "Epoch 10 — train RMSE 617.888078 - train R2 -0.195879 — val RMSE 599.424086 - val R2 -0.139560\n",
      "Epoch 11 — train RMSE 603.538415 - train R2 -0.140978 — val RMSE 591.765381 - val R2 -0.110626\n",
      "Epoch 12 — train RMSE 593.550360 - train R2 -0.103526 — val RMSE 578.312064 - val R2 -0.060702\n",
      "Epoch 13 — train RMSE 581.439491 - train R2 -0.058953 — val RMSE 567.380466 - val R2 -0.020981\n",
      "Epoch 14 — train RMSE 576.377474 - train R2 -0.040594 — val RMSE 551.760945 - val R2 0.034459\n",
      "Epoch 15 — train RMSE 562.727059 - train R2 0.008111 — val RMSE 537.352015 - val R2 0.084230\n",
      "Epoch 16 — train RMSE 543.482707 - train R2 0.074793 — val RMSE 526.034479 - val R2 0.122399\n",
      "Epoch 17 — train RMSE 529.639604 - train R2 0.121325 — val RMSE 507.551891 - val R2 0.182986\n",
      "Epoch 18 — train RMSE 520.125726 - train R2 0.152608 — val RMSE 493.015950 - val R2 0.229113\n",
      "Epoch 19 — train RMSE 488.394966 - train R2 0.252846 — val RMSE 479.139137 - val R2 0.271898\n",
      "Epoch 20 — train RMSE 489.126964 - train R2 0.250605 — val RMSE 467.320428 - val R2 0.307375\n",
      "Epoch 21 — train RMSE 479.597848 - train R2 0.279520 — val RMSE 452.755211 - val R2 0.349877\n",
      "Epoch 22 — train RMSE 489.773250 - train R2 0.248623 — val RMSE 446.827725 - val R2 0.366788\n",
      "Epoch 23 — train RMSE 464.061376 - train R2 0.325443 — val RMSE 430.266206 - val R2 0.412858\n",
      "Epoch 24 — train RMSE 423.592174 - train R2 0.437965 — val RMSE 416.556841 - val R2 0.449677\n",
      "Epoch 25 — train RMSE 442.310763 - train R2 0.387195 — val RMSE 405.785273 - val R2 0.477771\n",
      "Epoch 26 — train RMSE 431.028468 - train R2 0.418058 — val RMSE 397.758740 - val R2 0.498226\n",
      "Epoch 27 — train RMSE 437.354752 - train R2 0.400850 — val RMSE 385.253478 - val R2 0.529281\n",
      "Epoch 28 — train RMSE 440.950678 - train R2 0.390957 — val RMSE 373.627216 - val R2 0.557263\n",
      "Epoch 29 — train RMSE 382.410332 - train R2 0.541935 — val RMSE 371.235790 - val R2 0.562912\n",
      "Epoch 30 — train RMSE 382.677009 - train R2 0.541296 — val RMSE 353.573609 - val R2 0.603513\n",
      "Epoch 31 — train RMSE 407.240852 - train R2 0.480518 — val RMSE 353.266664 - val R2 0.604201\n",
      "Epoch 32 — train RMSE 389.577318 - train R2 0.524605 — val RMSE 334.756867 - val R2 0.644592\n",
      "Epoch 33 — train RMSE 358.273264 - train R2 0.597935 — val RMSE 324.007246 - val R2 0.667051\n",
      "Epoch 34 — train RMSE 349.552901 - train R2 0.617269 — val RMSE 312.817270 - val R2 0.689651\n",
      "Epoch 35 — train RMSE 333.923448 - train R2 0.650730 — val RMSE 302.110137 - val R2 0.710533\n",
      "Epoch 36 — train RMSE 365.889456 - train R2 0.580659 — val RMSE 294.526268 - val R2 0.724883\n",
      "Epoch 37 — train RMSE 328.926524 - train R2 0.661105 — val RMSE 284.158420 - val R2 0.743912\n",
      "Epoch 38 — train RMSE 333.860734 - train R2 0.650861 — val RMSE 282.585703 - val R2 0.746738\n",
      "Epoch 39 — train RMSE 355.921480 - train R2 0.603196 — val RMSE 273.267783 - val R2 0.763165\n",
      "Epoch 40 — train RMSE 320.202632 - train R2 0.678843 — val RMSE 263.589628 - val R2 0.779644\n",
      "Epoch 41 — train RMSE 328.392715 - train R2 0.662204 — val RMSE 251.854342 - val R2 0.798828\n",
      "Epoch 42 — train RMSE 326.036269 - train R2 0.667034 — val RMSE 251.853046 - val R2 0.798830\n",
      "Epoch 43 — train RMSE 312.899385 - train R2 0.693326 — val RMSE 238.605343 - val R2 0.819437\n",
      "Epoch 44 — train RMSE 288.172958 - train R2 0.739880 — val RMSE 233.856167 - val R2 0.826553\n",
      "Epoch 45 — train RMSE 263.166838 - train R2 0.783065 — val RMSE 223.344307 - val R2 0.841796\n",
      "Epoch 46 — train RMSE 287.440632 - train R2 0.741200 — val RMSE 217.309332 - val R2 0.850230\n",
      "Epoch 47 — train RMSE 253.600237 - train R2 0.798550 — val RMSE 214.258414 - val R2 0.854406\n",
      "Epoch 48 — train RMSE 262.110266 - train R2 0.784803 — val RMSE 203.659297 - val R2 0.868454\n",
      "Epoch 49 — train RMSE 277.183031 - train R2 0.759342 — val RMSE 197.414435 - val R2 0.876398\n",
      "Epoch 50 — train RMSE 229.009303 - train R2 0.835724 — val RMSE 193.094971 - val R2 0.881747\n",
      "Epoch 51 — train RMSE 283.744059 - train R2 0.747814 — val RMSE 188.145405 - val R2 0.887732\n",
      "Epoch 52 — train RMSE 267.442151 - train R2 0.775959 — val RMSE 181.255011 - val R2 0.895805\n",
      "Epoch 53 — train RMSE 305.878228 - train R2 0.706935 — val RMSE 177.558045 - val R2 0.900012\n",
      "Epoch 54 — train RMSE 226.813515 - train R2 0.838859 — val RMSE 175.497574 - val R2 0.902319\n",
      "Epoch 55 — train RMSE 237.595898 - train R2 0.823174 — val RMSE 164.891181 - val R2 0.913769\n",
      "Epoch 56 — train RMSE 235.179821 - train R2 0.826752 — val RMSE 160.878457 - val R2 0.917915\n",
      "Epoch 57 — train RMSE 234.616944 - train R2 0.827581 — val RMSE 155.658148 - val R2 0.923156\n",
      "Epoch 58 — train RMSE 275.073296 - train R2 0.762991 — val RMSE 151.482666 - val R2 0.927223\n",
      "Epoch 59 — train RMSE 263.453356 - train R2 0.782592 — val RMSE 148.817668 - val R2 0.929761\n",
      "Epoch 60 — train RMSE 240.090043 - train R2 0.819442 — val RMSE 147.826935 - val R2 0.930693\n",
      "Epoch 61 — train RMSE 213.704742 - train R2 0.856947 — val RMSE 144.082523 - val R2 0.934160\n",
      "Epoch 62 — train RMSE 291.679483 - train R2 0.733511 — val RMSE 137.685479 - val R2 0.939876\n",
      "Epoch 63 — train RMSE 209.404849 - train R2 0.862646 — val RMSE 133.379873 - val R2 0.943578\n",
      "Epoch 64 — train RMSE 221.698163 - train R2 0.846046 — val RMSE 130.708578 - val R2 0.945815\n",
      "Epoch 65 — train RMSE 232.365594 - train R2 0.830874 — val RMSE 127.019587 - val R2 0.948831\n",
      "Epoch 66 — train RMSE 255.768906 - train R2 0.795090 — val RMSE 124.215682 - val R2 0.951065\n",
      "Epoch 67 — train RMSE 190.681615 - train R2 0.886110 — val RMSE 131.155494 - val R2 0.945444\n",
      "Epoch 68 — train RMSE 235.985204 - train R2 0.825564 — val RMSE 140.069504 - val R2 0.937776\n",
      "Epoch 69 — train RMSE 244.443539 - train R2 0.812835 — val RMSE 128.397614 - val R2 0.947714\n",
      "Epoch 70 — train RMSE 215.627159 - train R2 0.854362 — val RMSE 115.942849 - val R2 0.957366\n",
      "Epoch 71 — train RMSE 228.601246 - train R2 0.836309 — val RMSE 113.007384 - val R2 0.959497\n",
      "Epoch 72 — train RMSE 199.313034 - train R2 0.875566 — val RMSE 109.394936 - val R2 0.962045\n",
      "Epoch 73 — train RMSE 238.874390 - train R2 0.821266 — val RMSE 107.347857 - val R2 0.963453\n",
      "Epoch 74 — train RMSE 273.300241 - train R2 0.766037 — val RMSE 111.758821 - val R2 0.960387\n",
      "Epoch 75 — train RMSE 251.941011 - train R2 0.801178 — val RMSE 112.510661 - val R2 0.959853\n",
      "Epoch 76 — train RMSE 213.764384 - train R2 0.856868 — val RMSE 105.079293 - val R2 0.964981\n",
      "Epoch 77 — train RMSE 183.415424 - train R2 0.894625 — val RMSE 102.691347 - val R2 0.966555\n",
      "Epoch 78 — train RMSE 238.156429 - train R2 0.822339 — val RMSE 103.176143 - val R2 0.966238\n",
      "Epoch 79 — train RMSE 181.795658 - train R2 0.896478 — val RMSE 99.219464 - val R2 0.968778\n",
      "Epoch 80 — train RMSE 197.420069 - train R2 0.877918 — val RMSE 103.062862 - val R2 0.966312\n",
      "Epoch 81 — train RMSE 224.754354 - train R2 0.841772 — val RMSE 99.279952 - val R2 0.968740\n",
      "Epoch 82 — train RMSE 249.762903 - train R2 0.804600 — val RMSE 102.319568 - val R2 0.966796\n",
      "Epoch 83 — train RMSE 182.278759 - train R2 0.895927 — val RMSE 97.484351 - val R2 0.969860\n",
      "Epoch 84 — train RMSE 236.555470 - train R2 0.824719 — val RMSE 98.667635 - val R2 0.969124\n",
      "Epoch 85 — train RMSE 211.588294 - train R2 0.859767 — val RMSE 95.421122 - val R2 0.971123\n",
      "Epoch 86 — train RMSE 237.412201 - train R2 0.823448 — val RMSE 96.070574 - val R2 0.970728\n",
      "Epoch 87 — train RMSE 282.317606 - train R2 0.750343 — val RMSE 94.374426 - val R2 0.971753\n",
      "Epoch 88 — train RMSE 210.738318 - train R2 0.860891 — val RMSE 89.992974 - val R2 0.974315\n",
      "Epoch 89 — train RMSE 195.466081 - train R2 0.880323 — val RMSE 96.193845 - val R2 0.970653\n",
      "Epoch 90 — train RMSE 248.514545 - train R2 0.806549 — val RMSE 91.130377 - val R2 0.973661\n",
      "Epoch 91 — train RMSE 224.450177 - train R2 0.842200 — val RMSE 88.771722 - val R2 0.975007\n",
      "Epoch 92 — train RMSE 236.336075 - train R2 0.825045 — val RMSE 88.157898 - val R2 0.975351\n",
      "Epoch 93 — train RMSE 209.416933 - train R2 0.862630 — val RMSE 91.956904 - val R2 0.973181\n",
      "Epoch 94 — train RMSE 162.671551 - train R2 0.917112 — val RMSE 89.297070 - val R2 0.974710\n",
      "Epoch 95 — train RMSE 247.824405 - train R2 0.807622 — val RMSE 88.672077 - val R2 0.975063\n",
      "Epoch 96 — train RMSE 143.542975 - train R2 0.935460 — val RMSE 85.031412 - val R2 0.977069\n",
      "Epoch 97 — train RMSE 281.183405 - train R2 0.752345 — val RMSE 96.141325 - val R2 0.970685\n",
      "Epoch 98 — train RMSE 247.908984 - train R2 0.807491 — val RMSE 83.409006 - val R2 0.977935\n",
      "Epoch 99 — train RMSE 249.343782 - train R2 0.805256 — val RMSE 96.319729 - val R2 0.970576\n",
      "Epoch 100 — train RMSE 248.462567 - train R2 0.806630 — val RMSE 90.773865 - val R2 0.973867\n"
     ]
    }
   ],
   "source": [
    "train, test = model_selection.train_test_split(data, test_size=0.1, random_state=1, stratify= data['Concentration'])\n",
    "\n",
    "train, validation = model_selection.train_test_split(train, test_size=0.1, random_state=1, stratify= train['Concentration'])\n",
    "\n",
    "model = train_model(configs, train, validation, 100, 16, True, True)"
   ]
  },
  {
   "cell_type": "code",
   "execution_count": 6,
   "metadata": {},
   "outputs": [],
   "source": [
    "configs = Details(\n",
    "    pred_len = 1,      \n",
    "    seq_len  = 350,\n",
    "    d_ff = 32,\n",
    "    patch_len= 16, \n",
    "    stride = 8, \n",
    "    llm_layers = 10,#increased\n",
    "    description = \"This dataset contains near-infrared (NIR) spectroscopy measurements of lactate concentration in a \" \\\n",
    "                  \"phosphate-buffered saline (PBS) solution. Each spectrum includes absorbance values across \" \\\n",
    "                  \"350 wavelengths. \" ,\n",
    "    dropout = 0.1,\n",
    "    n_heads = 2,\n",
    "    d_model = 16,\n",
    "    enc_in = 1,\n",
    "    d_llm = 4096,\n",
    "    llm_model = 'LLAMA',\n",
    "    lr = 0.0001\n",
    ")"
   ]
  },
  {
   "cell_type": "code",
   "execution_count": 7,
   "metadata": {},
   "outputs": [
    {
     "data": {
      "application/vnd.jupyter.widget-view+json": {
       "model_id": "350825b8047241a5af6ff95b794bd4e1",
       "version_major": 2,
       "version_minor": 0
      },
      "text/plain": [
       "Loading checkpoint shards:   0%|          | 0/2 [00:00<?, ?it/s]"
      ]
     },
     "metadata": {},
     "output_type": "display_data"
    },
    {
     "name": "stdout",
     "output_type": "stream",
     "text": [
      "Epoch  1 — train RMSE 696.926833 - train R2 -0.521395 — val RMSE 682.083051 - val R2 -0.475514\n",
      "Epoch  2 — train RMSE 681.566362 - train R2 -0.455070 — val RMSE 663.005962 - val R2 -0.394131\n",
      "Epoch  3 — train RMSE 662.701806 - train R2 -0.375637 — val RMSE 643.593998 - val R2 -0.313690\n",
      "Epoch  4 — train RMSE 642.290885 - train R2 -0.292204 — val RMSE 626.815762 - val R2 -0.246088\n",
      "Epoch  5 — train RMSE 630.708416 - train R2 -0.246019 — val RMSE 613.986805 - val R2 -0.195603\n",
      "Epoch  6 — train RMSE 614.342829 - train R2 -0.182195 — val RMSE 595.250879 - val R2 -0.123748\n",
      "Epoch  7 — train RMSE 597.576276 - train R2 -0.118547 — val RMSE 580.025585 - val R2 -0.066997\n",
      "Epoch  8 — train RMSE 588.930044 - train R2 -0.086413 — val RMSE 569.645723 - val R2 -0.029150\n",
      "Epoch  9 — train RMSE 575.885645 - train R2 -0.038820 — val RMSE 553.499936 - val R2 0.028363\n",
      "Epoch 10 — train RMSE 563.163650 - train R2 0.006572 — val RMSE 550.168064 - val R2 0.040026\n",
      "Epoch 11 — train RMSE 565.061636 - train R2 -0.000136 — val RMSE 538.905916 - val R2 0.078926\n",
      "Epoch 12 — train RMSE 571.866367 - train R2 -0.024369 — val RMSE 528.406988 - val R2 0.114465\n",
      "Epoch 13 — train RMSE 538.039278 - train R2 0.093233 — val RMSE 534.799210 - val R2 0.092910\n",
      "Epoch 14 — train RMSE 546.508327 - train R2 0.064463 — val RMSE 522.387907 - val R2 0.134524\n",
      "Epoch 15 — train RMSE 536.132292 - train R2 0.099650 — val RMSE 510.044430 - val R2 0.174941\n",
      "Epoch 16 — train RMSE 529.572462 - train R2 0.121547 — val RMSE 503.922667 - val R2 0.194628\n",
      "Epoch 17 — train RMSE 502.985325 - train R2 0.207538 — val RMSE 447.664517 - val R2 0.364414\n",
      "Epoch 18 — train RMSE 467.126871 - train R2 0.316502 — val RMSE 427.223074 - val R2 0.421134\n",
      "Epoch 19 — train RMSE 456.791889 - train R2 0.346412 — val RMSE 410.605560 - val R2 0.465290\n",
      "Epoch 20 — train RMSE 445.272774 - train R2 0.378960 — val RMSE 392.480851 - val R2 0.511454\n",
      "Epoch 21 — train RMSE 416.665433 - train R2 0.456196 — val RMSE 364.503102 - val R2 0.578623\n",
      "Epoch 22 — train RMSE 403.953290 - train R2 0.488872 — val RMSE 357.070147 - val R2 0.595633\n",
      "Epoch 23 — train RMSE 373.594728 - train R2 0.562811 — val RMSE 322.428832 - val R2 0.670287\n",
      "Epoch 24 — train RMSE 362.638186 - train R2 0.588078 — val RMSE 322.810131 - val R2 0.669506\n",
      "Epoch 25 — train RMSE 357.276966 - train R2 0.600168 — val RMSE 302.858768 - val R2 0.709096\n",
      "Epoch 26 — train RMSE 401.391949 - train R2 0.495333 — val RMSE 289.411465 - val R2 0.734356\n",
      "Epoch 27 — train RMSE 384.599231 - train R2 0.536676 — val RMSE 340.291109 - val R2 0.632743\n",
      "Epoch 28 — train RMSE 359.175258 - train R2 0.595908 — val RMSE 287.425252 - val R2 0.737990\n",
      "Epoch 29 — train RMSE 366.971018 - train R2 0.578176 — val RMSE 282.603813 - val R2 0.746706\n",
      "Epoch 30 — train RMSE 332.190959 - train R2 0.654345 — val RMSE 262.797071 - val R2 0.780967\n",
      "Epoch 31 — train RMSE 332.088435 - train R2 0.654558 — val RMSE 287.534592 - val R2 0.737790\n",
      "Epoch 32 — train RMSE 312.585826 - train R2 0.693940 — val RMSE 228.501058 - val R2 0.834406\n",
      "Epoch 33 — train RMSE 309.497000 - train R2 0.699959 — val RMSE 207.666507 - val R2 0.863227\n",
      "Epoch 34 — train RMSE 327.825299 - train R2 0.663370 — val RMSE 216.350884 - val R2 0.851548\n",
      "Epoch 35 — train RMSE 267.496015 - train R2 0.775869 — val RMSE 183.275213 - val R2 0.893469\n",
      "Epoch 36 — train RMSE 244.282795 - train R2 0.813081 — val RMSE 165.707108 - val R2 0.912913\n",
      "Epoch 37 — train RMSE 220.867679 - train R2 0.847197 — val RMSE 152.723502 - val R2 0.926026\n",
      "Epoch 38 — train RMSE 172.340856 - train R2 0.906965 — val RMSE 150.043853 - val R2 0.928599\n",
      "Epoch 39 — train RMSE 181.501367 - train R2 0.896812 — val RMSE 134.897544 - val R2 0.942287\n",
      "Epoch 40 — train RMSE 221.181921 - train R2 0.846762 — val RMSE 126.935542 - val R2 0.948898\n",
      "Epoch 41 — train RMSE 245.757358 - train R2 0.810818 — val RMSE 124.043896 - val R2 0.951200\n",
      "Epoch 42 — train RMSE 245.345158 - train R2 0.811452 — val RMSE 118.990642 - val R2 0.955095\n",
      "Epoch 43 — train RMSE 190.504618 - train R2 0.886321 — val RMSE 115.036274 - val R2 0.958030\n",
      "Epoch 44 — train RMSE 232.490976 - train R2 0.830691 — val RMSE 127.270851 - val R2 0.948628\n",
      "Epoch 45 — train RMSE 253.780740 - train R2 0.798263 — val RMSE 109.903101 - val R2 0.961692\n",
      "Epoch 46 — train RMSE 172.748857 - train R2 0.906525 — val RMSE 111.458472 - val R2 0.960600\n",
      "Epoch 47 — train RMSE 254.740158 - train R2 0.796735 — val RMSE 116.948414 - val R2 0.956623\n",
      "Epoch 48 — train RMSE 346.615928 - train R2 0.623674 — val RMSE 257.830232 - val R2 0.789168\n",
      "Epoch 49 — train RMSE 383.195590 - train R2 0.540052 — val RMSE 204.025281 - val R2 0.867981\n",
      "Epoch 50 — train RMSE 297.485065 - train R2 0.722797 — val RMSE 417.431361 - val R2 0.447364\n",
      "Epoch 51 — train RMSE 357.878345 - train R2 0.598821 — val RMSE 193.697522 - val R2 0.881008\n",
      "Epoch 52 — train RMSE 300.801339 - train R2 0.716582 — val RMSE 166.966089 - val R2 0.911585\n",
      "Epoch 53 — train RMSE 197.831162 - train R2 0.877409 — val RMSE 155.930866 - val R2 0.922886\n",
      "Epoch 54 — train RMSE 255.826705 - train R2 0.794997 — val RMSE 134.462358 - val R2 0.942658\n",
      "Epoch 55 — train RMSE 202.492810 - train R2 0.871564 — val RMSE 168.487014 - val R2 0.909967\n",
      "Early stopping triggered; Best val RMSE : 109.903101\n"
     ]
    }
   ],
   "source": [
    "train, test = model_selection.train_test_split(data, test_size=0.1, random_state=1, stratify= data['Concentration'])\n",
    "\n",
    "train, validation = model_selection.train_test_split(train, test_size=0.1, random_state=1, stratify= train['Concentration'])\n",
    "\n",
    "model = train_model(configs, train, validation, 100, 8, True, True)"
   ]
  },
  {
   "cell_type": "code",
   "execution_count": 7,
   "metadata": {},
   "outputs": [
    {
     "data": {
      "application/vnd.jupyter.widget-view+json": {
       "model_id": "a271937be3834ac8a0a7710c470029f5",
       "version_major": 2,
       "version_minor": 0
      },
      "text/plain": [
       "Loading checkpoint shards:   0%|          | 0/2 [00:00<?, ?it/s]"
      ]
     },
     "metadata": {},
     "output_type": "display_data"
    },
    {
     "name": "stdout",
     "output_type": "stream",
     "text": [
      "Epoch  1 — train RMSE 695.520008 - train R2 -0.515259 — val RMSE 681.391631 - val R2 -0.472524\n",
      "Epoch  2 — train RMSE 681.746886 - train R2 -0.455841 — val RMSE 665.108773 - val R2 -0.402989\n",
      "Epoch  3 — train RMSE 670.796588 - train R2 -0.409449 — val RMSE 650.730449 - val R2 -0.342985\n",
      "Epoch  4 — train RMSE 658.297653 - train R2 -0.357414 — val RMSE 638.381284 - val R2 -0.292496\n",
      "Epoch  5 — train RMSE 642.436627 - train R2 -0.292790 — val RMSE 623.357974 - val R2 -0.232378\n",
      "Epoch  6 — train RMSE 620.918306 - train R2 -0.207637 — val RMSE 605.856786 - val R2 -0.164149\n",
      "Epoch  7 — train RMSE 605.927928 - train R2 -0.150031 — val RMSE 596.618492 - val R2 -0.128918\n",
      "Epoch  8 — train RMSE 592.066726 - train R2 -0.098016 — val RMSE 580.348178 - val R2 -0.068184\n",
      "Epoch  9 — train RMSE 596.830264 - train R2 -0.115756 — val RMSE 569.614158 - val R2 -0.029035\n",
      "Epoch 10 — train RMSE 576.964496 - train R2 -0.042715 — val RMSE 560.564531 - val R2 0.003402\n",
      "Epoch 11 — train RMSE 561.906069 - train R2 0.011003 — val RMSE 556.519822 - val R2 0.017732\n",
      "Epoch 12 — train RMSE 544.365589 - train R2 0.071785 — val RMSE 535.636027 - val R2 0.090069\n",
      "Epoch 13 — train RMSE 564.109810 - train R2 0.003230 — val RMSE 520.091898 - val R2 0.142115\n",
      "Epoch 14 — train RMSE 539.248060 - train R2 0.089154 — val RMSE 498.413847 - val R2 0.212140\n",
      "Epoch 15 — train RMSE 495.517185 - train R2 0.230896 — val RMSE 471.171927 - val R2 0.295911\n",
      "Epoch 16 — train RMSE 475.414360 - train R2 0.292035 — val RMSE 439.276789 - val R2 0.388009\n",
      "Epoch 17 — train RMSE 449.201644 - train R2 0.367952 — val RMSE 423.512756 - val R2 0.431145\n",
      "Epoch 18 — train RMSE 420.776987 - train R2 0.445411 — val RMSE 396.791010 - val R2 0.500664\n",
      "Epoch 19 — train RMSE 414.634928 - train R2 0.461483 — val RMSE 378.924547 - val R2 0.544620\n",
      "Epoch 20 — train RMSE 399.688416 - train R2 0.499608 — val RMSE 364.215483 - val R2 0.579287\n",
      "Epoch 21 — train RMSE 368.675345 - train R2 0.574249 — val RMSE 339.564628 - val R2 0.634309\n",
      "Epoch 22 — train RMSE 312.288504 - train R2 0.694522 — val RMSE 314.956464 - val R2 0.685392\n",
      "Epoch 23 — train RMSE 359.092297 - train R2 0.596094 — val RMSE 298.115789 - val R2 0.718137\n",
      "Epoch 24 — train RMSE 327.722933 - train R2 0.663580 — val RMSE 305.649663 - val R2 0.703710\n",
      "Epoch 25 — train RMSE 312.059846 - train R2 0.694969 — val RMSE 268.167173 - val R2 0.771924\n",
      "Epoch 26 — train RMSE 312.632270 - train R2 0.693849 — val RMSE 264.849034 - val R2 0.777533\n",
      "Epoch 27 — train RMSE 462.380207 - train R2 0.330322 — val RMSE 391.707839 - val R2 0.513376\n",
      "Epoch 28 — train RMSE 349.289491 - train R2 0.617846 — val RMSE 284.062816 - val R2 0.744084\n",
      "Epoch 29 — train RMSE 315.269906 - train R2 0.688662 — val RMSE 242.249502 - val R2 0.813879\n",
      "Epoch 30 — train RMSE 278.995487 - train R2 0.756184 — val RMSE 221.870775 - val R2 0.843876\n",
      "Epoch 31 — train RMSE 251.424246 - train R2 0.801992 — val RMSE 202.555213 - val R2 0.869877\n",
      "Epoch 32 — train RMSE 271.488268 - train R2 0.769129 — val RMSE 201.138028 - val R2 0.871691\n",
      "Epoch 33 — train RMSE 308.062670 - train R2 0.702734 — val RMSE 181.818441 - val R2 0.895156\n",
      "Epoch 34 — train RMSE 264.567735 - train R2 0.780749 — val RMSE 178.635469 - val R2 0.898794\n",
      "Epoch 35 — train RMSE 224.656899 - train R2 0.841909 — val RMSE 168.012438 - val R2 0.910473\n",
      "Epoch 36 — train RMSE 243.075513 - train R2 0.814924 — val RMSE 150.979570 - val R2 0.927706\n",
      "Epoch 37 — train RMSE 250.916837 - train R2 0.802791 — val RMSE 143.228914 - val R2 0.934938\n",
      "Epoch 38 — train RMSE 246.430367 - train R2 0.809780 — val RMSE 133.994083 - val R2 0.943057\n",
      "Epoch 39 — train RMSE 244.808326 - train R2 0.812276 — val RMSE 129.905997 - val R2 0.946479\n",
      "Epoch 40 — train RMSE 232.285517 - train R2 0.830990 — val RMSE 126.707935 - val R2 0.949081\n",
      "Epoch 41 — train RMSE 217.040414 - train R2 0.852447 — val RMSE 121.361193 - val R2 0.953288\n",
      "Epoch 42 — train RMSE 215.814352 - train R2 0.854109 — val RMSE 117.847177 - val R2 0.955954\n",
      "Epoch 43 — train RMSE 201.262077 - train R2 0.873121 — val RMSE 115.160654 - val R2 0.957939\n",
      "Epoch 44 — train RMSE 198.950117 - train R2 0.876019 — val RMSE 108.973995 - val R2 0.962337\n",
      "Epoch 45 — train RMSE 212.454931 - train R2 0.858616 — val RMSE 104.195894 - val R2 0.965567\n",
      "Epoch 46 — train RMSE 312.258331 - train R2 0.694581 — val RMSE 104.952063 - val R2 0.965066\n",
      "Epoch 47 — train RMSE 283.965356 - train R2 0.747420 — val RMSE 101.768007 - val R2 0.967153\n",
      "Epoch 48 — train RMSE 293.100704 - train R2 0.730908 — val RMSE 103.285722 - val R2 0.966166\n",
      "Epoch 49 — train RMSE 283.558868 - train R2 0.748143 — val RMSE 100.433730 - val R2 0.968009\n",
      "Epoch 50 — train RMSE 275.072754 - train R2 0.762992 — val RMSE 101.844068 - val R2 0.967104\n",
      "Epoch 51 — train RMSE 211.649872 - train R2 0.859685 — val RMSE 96.643380 - val R2 0.970378\n",
      "Epoch 52 — train RMSE 211.035542 - train R2 0.860499 — val RMSE 92.110391 - val R2 0.973092\n",
      "Epoch 53 — train RMSE 211.055130 - train R2 0.860473 — val RMSE 103.370285 - val R2 0.966111\n",
      "Epoch 54 — train RMSE 248.778938 - train R2 0.806137 — val RMSE 95.079725 - val R2 0.971329\n",
      "Epoch 55 — train RMSE 195.890757 - train R2 0.879802 — val RMSE 93.453664 - val R2 0.972301\n",
      "Epoch 56 — train RMSE 195.590347 - train R2 0.880171 — val RMSE 90.318642 - val R2 0.974128\n",
      "Epoch 57 — train RMSE 194.953968 - train R2 0.880949 — val RMSE 91.031970 - val R2 0.973718\n",
      "Epoch 58 — train RMSE 222.907225 - train R2 0.844362 — val RMSE 89.926504 - val R2 0.974353\n",
      "Epoch 59 — train RMSE 208.713505 - train R2 0.863551 — val RMSE 88.290042 - val R2 0.975277\n",
      "Epoch 60 — train RMSE 235.596670 - train R2 0.826138 — val RMSE 86.904161 - val R2 0.976048\n",
      "Epoch 61 — train RMSE 194.505350 - train R2 0.881497 — val RMSE 94.399640 - val R2 0.971738\n",
      "Epoch 62 — train RMSE 235.837940 - train R2 0.825781 — val RMSE 101.600732 - val R2 0.967261\n",
      "Epoch 63 — train RMSE 178.999517 - train R2 0.899638 — val RMSE 88.589084 - val R2 0.975110\n",
      "Epoch 64 — train RMSE 235.519561 - train R2 0.826251 — val RMSE 91.341266 - val R2 0.973539\n",
      "Epoch 65 — train RMSE 248.019102 - train R2 0.807319 — val RMSE 89.471496 - val R2 0.974611\n",
      "Epoch 66 — train RMSE 209.868272 - train R2 0.862038 — val RMSE 82.421432 - val R2 0.978455\n",
      "Epoch 67 — train RMSE 234.730079 - train R2 0.827414 — val RMSE 91.224795 - val R2 0.973607\n",
      "Epoch 68 — train RMSE 260.347911 - train R2 0.787687 — val RMSE 79.798044 - val R2 0.979805\n",
      "Epoch 69 — train RMSE 208.353309 - train R2 0.864022 — val RMSE 81.872261 - val R2 0.978741\n",
      "Epoch 70 — train RMSE 258.146839 - train R2 0.791262 — val RMSE 79.533820 - val R2 0.979938\n",
      "Epoch 71 — train RMSE 161.253022 - train R2 0.918551 — val RMSE 102.358053 - val R2 0.966771\n",
      "Epoch 72 — train RMSE 209.983640 - train R2 0.861886 — val RMSE 86.911877 - val R2 0.976043\n",
      "Epoch 73 — train RMSE 162.914690 - train R2 0.916864 — val RMSE 81.987990 - val R2 0.978681\n",
      "Epoch 74 — train RMSE 208.902657 - train R2 0.863304 — val RMSE 76.032211 - val R2 0.981666\n",
      "Epoch 75 — train RMSE 235.307005 - train R2 0.826565 — val RMSE 81.410431 - val R2 0.978980\n",
      "Epoch 76 — train RMSE 221.992114 - train R2 0.845637 — val RMSE 82.874871 - val R2 0.978217\n",
      "Epoch 77 — train RMSE 207.628784 - train R2 0.864966 — val RMSE 81.515758 - val R2 0.978926\n",
      "Epoch 78 — train RMSE 193.276511 - train R2 0.882989 — val RMSE 116.696895 - val R2 0.956810\n",
      "Epoch 79 — train RMSE 259.580728 - train R2 0.788937 — val RMSE 80.087147 - val R2 0.979658\n",
      "Epoch 80 — train RMSE 247.107884 - train R2 0.808733 — val RMSE 81.739749 - val R2 0.978810\n",
      "Epoch 81 — train RMSE 246.540453 - train R2 0.809610 — val RMSE 87.628288 - val R2 0.975647\n",
      "Epoch 82 — train RMSE 194.557425 - train R2 0.881433 — val RMSE 85.893675 - val R2 0.976601\n",
      "Epoch 83 — train RMSE 193.036490 - train R2 0.883280 — val RMSE 69.982358 - val R2 0.984467\n",
      "Epoch 84 — train RMSE 233.379702 - train R2 0.829394 — val RMSE 82.134294 - val R2 0.978605\n",
      "Epoch 85 — train RMSE 279.884272 - train R2 0.754628 — val RMSE 80.200360 - val R2 0.979600\n",
      "Epoch 86 — train RMSE 179.234447 - train R2 0.899374 — val RMSE 78.925936 - val R2 0.980244\n",
      "Epoch 87 — train RMSE 234.825403 - train R2 0.827274 — val RMSE 75.961940 - val R2 0.981700\n",
      "Epoch 88 — train RMSE 258.207489 - train R2 0.791164 — val RMSE 67.440077 - val R2 0.985575\n",
      "Epoch 89 — train RMSE 209.099180 - train R2 0.863047 — val RMSE 83.029934 - val R2 0.978136\n",
      "Epoch 90 — train RMSE 279.935226 - train R2 0.754539 — val RMSE 84.243570 - val R2 0.977492\n",
      "Epoch 91 — train RMSE 299.930218 - train R2 0.718221 — val RMSE 74.511757 - val R2 0.982392\n",
      "Epoch 92 — train RMSE 234.092479 - train R2 0.828351 — val RMSE 96.958831 - val R2 0.970184\n",
      "Epoch 93 — train RMSE 139.767193 - train R2 0.938810 — val RMSE 88.489562 - val R2 0.975166\n",
      "Epoch 94 — train RMSE 246.822539 - train R2 0.809174 — val RMSE 78.910893 - val R2 0.980251\n",
      "Epoch 95 — train RMSE 193.540990 - train R2 0.882669 — val RMSE 81.084000 - val R2 0.979148\n",
      "Epoch 96 — train RMSE 221.270779 - train R2 0.846639 — val RMSE 72.925917 - val R2 0.983133\n",
      "Epoch 97 — train RMSE 207.257508 - train R2 0.865449 — val RMSE 82.550593 - val R2 0.978387\n",
      "Epoch 98 — train RMSE 234.976901 - train R2 0.827051 — val RMSE 67.211503 - val R2 0.985673\n",
      "Epoch 99 — train RMSE 245.529044 - train R2 0.811169 — val RMSE 77.845658 - val R2 0.980781\n",
      "Epoch 100 — train RMSE 207.010465 - train R2 0.865769 — val RMSE 81.957056 - val R2 0.978697\n"
     ]
    }
   ],
   "source": [
    "configs = Details(\n",
    "    pred_len = 1,      \n",
    "    seq_len  = 350,\n",
    "    d_ff = 32,\n",
    "    patch_len= 16, \n",
    "    stride = 8, \n",
    "    llm_layers = 14, #Increased\n",
    "    description = \"This dataset contains near-infrared (NIR) spectroscopy measurements of lactate concentration in a \" \\\n",
    "                  \"phosphate-buffered saline (PBS) solution. Each spectrum includes absorbance values across \" \\\n",
    "                  \"350 wavelengths. \" ,\n",
    "    dropout = 0.1,\n",
    "    n_heads = 4, #Increased\n",
    "    d_model = 16,\n",
    "    enc_in = 1,\n",
    "    d_llm = 4096,\n",
    "    llm_model = 'LLAMA',\n",
    "    lr = 0.0001\n",
    ")\n",
    "\n",
    "train, test = model_selection.train_test_split(data, test_size=0.1, random_state=1, stratify= data['Concentration'])\n",
    "\n",
    "train, validation = model_selection.train_test_split(train, test_size=0.1, random_state=1, stratify= train['Concentration'])\n",
    "\n",
    "model = train_model(configs, train, validation, 100, 8, True, True)"
   ]
  },
  {
   "cell_type": "code",
   "execution_count": 7,
   "metadata": {},
   "outputs": [
    {
     "data": {
      "application/vnd.jupyter.widget-view+json": {
       "model_id": "07c209431ea943228afc841a1836f027",
       "version_major": 2,
       "version_minor": 0
      },
      "text/plain": [
       "Loading checkpoint shards:   0%|          | 0/2 [00:00<?, ?it/s]"
      ]
     },
     "metadata": {},
     "output_type": "display_data"
    },
    {
     "name": "stdout",
     "output_type": "stream",
     "text": [
      "Epoch  1 — train RMSE 648.940741 - train R2 -0.319100 — val RMSE 603.506557 - val R2 -0.155135\n",
      "Epoch  2 — train RMSE 598.371144 - train R2 -0.121525 — val RMSE 522.453272 - val R2 0.134307\n",
      "Epoch  3 — train RMSE 490.634196 - train R2 0.245979 — val RMSE 305.258174 - val R2 0.704469\n",
      "Epoch  4 — train RMSE 362.307965 - train R2 0.588828 — val RMSE 191.363799 - val R2 0.883858\n",
      "Epoch  5 — train RMSE 250.837878 - train R2 0.802915 — val RMSE 205.095075 - val R2 0.866593\n",
      "Epoch  6 — train RMSE 286.282024 - train R2 0.743282 — val RMSE 101.069427 - val R2 0.967603\n",
      "Epoch  7 — train RMSE 274.496863 - train R2 0.763983 — val RMSE 74.170660 - val R2 0.982553\n",
      "Epoch  8 — train RMSE 251.189024 - train R2 0.802363 — val RMSE 74.514280 - val R2 0.982390\n",
      "Epoch  9 — train RMSE 274.315071 - train R2 0.764296 — val RMSE 92.427212 - val R2 0.972906\n",
      "Epoch 10 — train RMSE 251.448012 - train R2 0.801955 — val RMSE 123.983495 - val R2 0.951248\n",
      "Epoch 11 — train RMSE 257.634799 - train R2 0.792089 — val RMSE 84.990294 - val R2 0.977091\n",
      "Epoch 12 — train RMSE 265.806705 - train R2 0.778691 — val RMSE 100.364862 - val R2 0.968053\n",
      "Epoch 13 — train RMSE 266.290663 - train R2 0.777884 — val RMSE 79.738533 - val R2 0.979835\n",
      "Epoch 14 — train RMSE 267.448694 - train R2 0.775948 — val RMSE 86.220257 - val R2 0.976423\n",
      "Epoch 15 — train RMSE 227.269274 - train R2 0.838211 — val RMSE 78.392784 - val R2 0.980510\n",
      "Epoch 16 — train RMSE 214.688775 - train R2 0.855627 — val RMSE 77.986064 - val R2 0.980711\n",
      "Epoch 17 — train RMSE 197.119674 - train R2 0.878290 — val RMSE 82.567613 - val R2 0.978378\n",
      "Early stopping triggered; Best val RMSE : 74.170660\n"
     ]
    }
   ],
   "source": [
    "configs = Details(\n",
    "    pred_len = 1,      \n",
    "    seq_len  = 350,\n",
    "    d_ff = 32,\n",
    "    patch_len= 16, \n",
    "    stride = 8, \n",
    "    llm_layers = 14,\n",
    "    description = \"This dataset contains near-infrared (NIR) spectroscopy measurements of lactate concentration in a \" \\\n",
    "                  \"phosphate-buffered saline (PBS) solution. Each spectrum includes absorbance values across \" \\\n",
    "                  \"350 wavelengths. \" ,\n",
    "    dropout = 0.1,\n",
    "    n_heads = 4,\n",
    "    d_model = 16,\n",
    "    enc_in = 1,\n",
    "    d_llm = 4096,\n",
    "    llm_model = 'LLAMA',\n",
    "    lr = 0.001 #Increased learning rate\n",
    ")\n",
    "\n",
    "train, test = model_selection.train_test_split(data, test_size=0.1, random_state=1, stratify= data['Concentration'])\n",
    "\n",
    "train, validation = model_selection.train_test_split(train, test_size=0.1, random_state=1, stratify= train['Concentration'])\n",
    "\n",
    "model = train_model(configs, train, validation, 100, 8, True, True)\n",
    "\n"
   ]
  },
  {
   "cell_type": "markdown",
   "metadata": {},
   "source": [
    "Increasing learning rate clearly obtained better results in fewer epochs "
   ]
  },
  {
   "cell_type": "code",
   "execution_count": 6,
   "metadata": {},
   "outputs": [
    {
     "data": {
      "application/vnd.jupyter.widget-view+json": {
       "model_id": "035ea03ed4eb422b8f662c3c4136cb7f",
       "version_major": 2,
       "version_minor": 0
      },
      "text/plain": [
       "Loading checkpoint shards:   0%|          | 0/2 [00:00<?, ?it/s]"
      ]
     },
     "metadata": {},
     "output_type": "display_data"
    },
    {
     "name": "stdout",
     "output_type": "stream",
     "text": [
      "Epoch  1 — train RMSE 663.442306 - train R2 -0.378713 — val RMSE 603.828049 - val R2 -0.156366\n",
      "Epoch  2 — train RMSE 604.630480 - train R2 -0.145111 — val RMSE 536.161542 - val R2 0.088283\n",
      "Epoch  3 — train RMSE 547.640894 - train R2 0.060581 — val RMSE 494.291262 - val R2 0.225120\n",
      "Epoch  4 — train RMSE 429.893507 - train R2 0.421119 — val RMSE 293.641380 - val R2 0.726534\n",
      "Epoch  5 — train RMSE 358.862853 - train R2 0.596611 — val RMSE 273.390894 - val R2 0.762952\n",
      "Epoch  6 — train RMSE 388.132399 - train R2 0.528125 — val RMSE 169.188288 - val R2 0.909216\n",
      "Epoch  7 — train RMSE 306.860267 - train R2 0.705050 — val RMSE 138.377800 - val R2 0.939270\n",
      "Epoch  8 — train RMSE 446.980617 - train R2 0.374187 — val RMSE 381.827391 - val R2 0.537616\n",
      "Epoch  9 — train RMSE 447.865198 - train R2 0.371707 — val RMSE 309.187620 - val R2 0.696811\n",
      "Epoch 10 — train RMSE 378.523513 - train R2 0.551200 — val RMSE 181.908387 - val R2 0.895052\n",
      "Epoch 11 — train RMSE 329.876814 - train R2 0.659144 — val RMSE 196.847478 - val R2 0.877107\n",
      "Epoch 12 — train RMSE 356.910442 - train R2 0.600988 — val RMSE 126.438350 - val R2 0.949298\n",
      "Epoch 13 — train RMSE 344.093343 - train R2 0.629131 — val RMSE 139.581159 - val R2 0.938209\n",
      "Epoch 14 — train RMSE 365.582841 - train R2 0.581362 — val RMSE 132.010049 - val R2 0.944731\n",
      "Epoch 15 — train RMSE 349.047599 - train R2 0.618375 — val RMSE 130.855658 - val R2 0.945693\n",
      "Epoch 16 — train RMSE 318.871462 - train R2 0.681508 — val RMSE 122.950013 - val R2 0.952057\n",
      "Epoch 17 — train RMSE 346.292849 - train R2 0.624375 — val RMSE 136.488960 - val R2 0.940917\n",
      "Epoch 18 — train RMSE 300.144900 - train R2 0.717818 — val RMSE 133.352220 - val R2 0.943601\n",
      "Epoch 19 — train RMSE 392.532951 - train R2 0.517364 — val RMSE 150.643849 - val R2 0.928027\n",
      "Epoch 20 — train RMSE 345.938358 - train R2 0.625143 — val RMSE 160.136325 - val R2 0.918670\n",
      "Epoch 21 — train RMSE 325.978250 - train R2 0.667153 — val RMSE 126.496932 - val R2 0.949251\n",
      "Epoch 22 — train RMSE 335.173880 - train R2 0.648109 — val RMSE 138.865710 - val R2 0.938841\n",
      "Epoch 23 — train RMSE 342.169963 - train R2 0.633266 — val RMSE 124.135874 - val R2 0.951128\n",
      "Epoch 24 — train RMSE 335.697739 - train R2 0.647009 — val RMSE 135.249715 - val R2 0.941985\n",
      "Epoch 25 — train RMSE 325.444984 - train R2 0.668241 — val RMSE 139.796277 - val R2 0.938019\n",
      "Epoch 26 — train RMSE 333.244598 - train R2 0.652148 — val RMSE 127.419168 - val R2 0.948508\n",
      "Early stopping triggered; Best val RMSE : 122.950013\n"
     ]
    }
   ],
   "source": [
    "configs = Details(\n",
    "    pred_len = 1,      \n",
    "    seq_len  = 350,\n",
    "    d_ff = 32,\n",
    "    patch_len= 16, \n",
    "    stride = 8, \n",
    "    llm_layers = 14,\n",
    "    description = \"This dataset contains near-infrared (NIR) spectroscopy measurements of lactate concentration in a \" \\\n",
    "                  \"phosphate-buffered saline (PBS) solution. Each spectrum includes absorbance values across \" \\\n",
    "                  \"350 wavelengths. \" ,\n",
    "    dropout = 0.2, #Increased dropout\n",
    "    n_heads = 4,\n",
    "    d_model = 16,\n",
    "    enc_in = 1,\n",
    "    d_llm = 4096,\n",
    "    llm_model = 'LLAMA',\n",
    "    lr = 0.001 \n",
    ")\n",
    "\n",
    "train, test = model_selection.train_test_split(data, test_size=0.1, random_state=1, stratify= data['Concentration'])\n",
    "\n",
    "train, validation = model_selection.train_test_split(train, test_size=0.1, random_state=1, stratify= train['Concentration'])\n",
    "\n",
    "model = train_model(configs, train, validation, 100, 8, True, True)"
   ]
  },
  {
   "cell_type": "code",
   "execution_count": 9,
   "metadata": {},
   "outputs": [
    {
     "data": {
      "application/vnd.jupyter.widget-view+json": {
       "model_id": "915c07b40e764d2ba6c8fecedde531e5",
       "version_major": 2,
       "version_minor": 0
      },
      "text/plain": [
       "Loading checkpoint shards:   0%|          | 0/2 [00:00<?, ?it/s]"
      ]
     },
     "metadata": {},
     "output_type": "display_data"
    },
    {
     "name": "stdout",
     "output_type": "stream",
     "text": [
      "Epoch  1 — train RMSE 695.241510 - train R2 -0.514045 — val RMSE 681.282941 - val R2 -0.472054\n",
      "Epoch  2 — train RMSE 682.048649 - train R2 -0.457129 — val RMSE 664.908523 - val R2 -0.402144\n",
      "Epoch  3 — train RMSE 669.103661 - train R2 -0.402343 — val RMSE 651.421624 - val R2 -0.345839\n",
      "Epoch  4 — train RMSE 656.024611 - train R2 -0.348056 — val RMSE 637.376624 - val R2 -0.288431\n",
      "Epoch  5 — train RMSE 629.852475 - train R2 -0.242639 — val RMSE 616.851317 - val R2 -0.206785\n",
      "Epoch  6 — train RMSE 627.137422 - train R2 -0.231949 — val RMSE 602.216972 - val R2 -0.150204\n",
      "Epoch  7 — train RMSE 606.554046 - train R2 -0.152408 — val RMSE 587.133383 - val R2 -0.093308\n",
      "Epoch  8 — train RMSE 594.341260 - train R2 -0.106469 — val RMSE 571.486364 - val R2 -0.035811\n",
      "Epoch  9 — train RMSE 635.433086 - train R2 -0.264757 — val RMSE 594.018459 - val R2 -0.119099\n",
      "Epoch 10 — train RMSE 608.526889 - train R2 -0.159917 — val RMSE 566.643992 - val R2 -0.018332\n",
      "Epoch 11 — train RMSE 569.939752 - train R2 -0.017479 — val RMSE 551.769908 - val R2 0.034428\n",
      "Epoch 12 — train RMSE 583.950614 - train R2 -0.068120 — val RMSE 546.610600 - val R2 0.052400\n",
      "Epoch 13 — train RMSE 563.481055 - train R2 0.005451 — val RMSE 547.911204 - val R2 0.047886\n",
      "Epoch 14 — train RMSE 570.018397 - train R2 -0.017760 — val RMSE 534.273305 - val R2 0.094693\n",
      "Epoch 15 — train RMSE 578.071839 - train R2 -0.046722 — val RMSE 523.148797 - val R2 0.132001\n",
      "Epoch 16 — train RMSE 525.583215 - train R2 0.134733 — val RMSE 511.967879 - val R2 0.168707\n",
      "Epoch 17 — train RMSE 508.585610 - train R2 0.189793 — val RMSE 458.226131 - val R2 0.334070\n",
      "Epoch 18 — train RMSE 472.364582 - train R2 0.301089 — val RMSE 445.976242 - val R2 0.369199\n",
      "Epoch 19 — train RMSE 436.962694 - train R2 0.401924 — val RMSE 421.849578 - val R2 0.435604\n",
      "Epoch 20 — train RMSE 442.836532 - train R2 0.385737 — val RMSE 391.207441 - val R2 0.514619\n",
      "Epoch 21 — train RMSE 428.140977 - train R2 0.425829 — val RMSE 375.419999 - val R2 0.553004\n",
      "Epoch 22 — train RMSE 405.990480 - train R2 0.483703 — val RMSE 378.133693 - val R2 0.546519\n",
      "Epoch 23 — train RMSE 364.954510 - train R2 0.582799 — val RMSE 332.350140 - val R2 0.649684\n",
      "Epoch 24 — train RMSE 438.563830 - train R2 0.397533 — val RMSE 318.988832 - val R2 0.677285\n",
      "Epoch 25 — train RMSE 357.359772 - train R2 0.599983 — val RMSE 302.382606 - val R2 0.710010\n",
      "Epoch 26 — train RMSE 376.571554 - train R2 0.555817 — val RMSE 289.318930 - val R2 0.734526\n",
      "Epoch 27 — train RMSE 370.963174 - train R2 0.568949 — val RMSE 280.300251 - val R2 0.750818\n",
      "Epoch 28 — train RMSE 419.455027 - train R2 0.448890 — val RMSE 263.679930 - val R2 0.779493\n",
      "Epoch 29 — train RMSE 409.137773 - train R2 0.475668 — val RMSE 249.893221 - val R2 0.801949\n",
      "Epoch 30 — train RMSE 336.721452 - train R2 0.644852 — val RMSE 239.603923 - val R2 0.817922\n",
      "Epoch 31 — train RMSE 324.859085 - train R2 0.669434 — val RMSE 229.824447 - val R2 0.832482\n",
      "Epoch 32 — train RMSE 345.889103 - train R2 0.625250 — val RMSE 218.975640 - val R2 0.847924\n",
      "Epoch 33 — train RMSE 342.502182 - train R2 0.632553 — val RMSE 211.958011 - val R2 0.857515\n",
      "Epoch 34 — train RMSE 305.822842 - train R2 0.707041 — val RMSE 203.803037 - val R2 0.868268\n",
      "Epoch 35 — train RMSE 357.997068 - train R2 0.598555 — val RMSE 206.222844 - val R2 0.865122\n",
      "Epoch 36 — train RMSE 300.858095 - train R2 0.716475 — val RMSE 189.663482 - val R2 0.885913\n",
      "Epoch 37 — train RMSE 308.623094 - train R2 0.701651 — val RMSE 185.856471 - val R2 0.890447\n",
      "Epoch 38 — train RMSE 316.272350 - train R2 0.686679 — val RMSE 178.595900 - val R2 0.898839\n",
      "Epoch 39 — train RMSE 324.592518 - train R2 0.669977 — val RMSE 171.595911 - val R2 0.906614\n",
      "Epoch 40 — train RMSE 306.025123 - train R2 0.706653 — val RMSE 170.794389 - val R2 0.907484\n",
      "Epoch 41 — train RMSE 299.497892 - train R2 0.719033 — val RMSE 479.351533 - val R2 0.271253\n",
      "Epoch 42 — train RMSE 393.599013 - train R2 0.514739 — val RMSE 208.509409 - val R2 0.862114\n",
      "Epoch 43 — train RMSE 317.932606 - train R2 0.683380 — val RMSE 176.559079 - val R2 0.901134\n",
      "Epoch 44 — train RMSE 400.578904 - train R2 0.497375 — val RMSE 299.573580 - val R2 0.715373\n",
      "Epoch 45 — train RMSE 341.524372 - train R2 0.634648 — val RMSE 582.213132 - val R2 -0.075060\n",
      "Epoch 46 — train RMSE 478.206639 - train R2 0.283694 — val RMSE 588.298075 - val R2 -0.097649\n",
      "Epoch 47 — train RMSE 531.381747 - train R2 0.115535 — val RMSE 368.076557 - val R2 0.570320\n",
      "Epoch 48 — train RMSE 354.938775 - train R2 0.605384 — val RMSE 223.399632 - val R2 0.841717\n",
      "Epoch 49 — train RMSE 262.251656 - train R2 0.784571 — val RMSE 179.858959 - val R2 0.897403\n",
      "Epoch 50 — train RMSE 333.388240 - train R2 0.651849 — val RMSE 165.548544 - val R2 0.913080\n",
      "Epoch 51 — train RMSE 332.764224 - train R2 0.653151 — val RMSE 159.746286 - val R2 0.919066\n",
      "Epoch 52 — train RMSE 395.123166 - train R2 0.510973 — val RMSE 158.474110 - val R2 0.920350\n",
      "Epoch 53 — train RMSE 519.629795 - train R2 0.154223 — val RMSE 519.031512 - val R2 0.145610\n",
      "Epoch 54 — train RMSE 448.077961 - train R2 0.371110 — val RMSE 305.493236 - val R2 0.704013\n",
      "Epoch 55 — train RMSE 372.639491 - train R2 0.565044 — val RMSE 186.511662 - val R2 0.889673\n",
      "Epoch 56 — train RMSE 350.231305 - train R2 0.615782 — val RMSE 164.577865 - val R2 0.914096\n",
      "Epoch 57 — train RMSE 252.361094 - train R2 0.800514 — val RMSE 156.953083 - val R2 0.921872\n",
      "Epoch 58 — train RMSE 294.104972 - train R2 0.729061 — val RMSE 150.963733 - val R2 0.927721\n",
      "Epoch 59 — train RMSE 356.268705 - train R2 0.602421 — val RMSE 153.029324 - val R2 0.925729\n",
      "Epoch 60 — train RMSE 262.931405 - train R2 0.783453 — val RMSE 152.418432 - val R2 0.926321\n",
      "Epoch 61 — train RMSE 338.938454 - train R2 0.640160 — val RMSE 147.619786 - val R2 0.930887\n",
      "Epoch 62 — train RMSE 355.798122 - train R2 0.603471 — val RMSE 144.992942 - val R2 0.933325\n",
      "Epoch 63 — train RMSE 272.869827 - train R2 0.766773 — val RMSE 142.542469 - val R2 0.935560\n",
      "Epoch 64 — train RMSE 329.952210 - train R2 0.658988 — val RMSE 146.672963 - val R2 0.931771\n",
      "Epoch 65 — train RMSE 271.176495 - train R2 0.769659 — val RMSE 141.835111 - val R2 0.936198\n",
      "Epoch 66 — train RMSE 346.971844 - train R2 0.622900 — val RMSE 145.707179 - val R2 0.932667\n",
      "Epoch 67 — train RMSE 292.734263 - train R2 0.731580 — val RMSE 146.569218 - val R2 0.931867\n",
      "Epoch 68 — train RMSE 371.870219 - train R2 0.566838 — val RMSE 141.369617 - val R2 0.936616\n",
      "Epoch 69 — train RMSE 364.030856 - train R2 0.584908 — val RMSE 145.050109 - val R2 0.933272\n",
      "Epoch 70 — train RMSE 329.776546 - train R2 0.659351 — val RMSE 139.456624 - val R2 0.938320\n",
      "Epoch 71 — train RMSE 284.963306 - train R2 0.745642 — val RMSE 149.794100 - val R2 0.928836\n",
      "Epoch 72 — train RMSE 483.478364 - train R2 0.267814 — val RMSE 442.189854 - val R2 0.379865\n",
      "Epoch 73 — train RMSE 450.509082 - train R2 0.364267 — val RMSE 361.581015 - val R2 0.585352\n",
      "Epoch 74 — train RMSE 507.299709 - train R2 0.193886 — val RMSE 358.988909 - val R2 0.591275\n",
      "Epoch 75 — train RMSE 360.467085 - train R2 0.592996 — val RMSE 194.507322 - val R2 0.880011\n",
      "Epoch 76 — train RMSE 289.624264 - train R2 0.737253 — val RMSE 162.468083 - val R2 0.916285\n",
      "Epoch 77 — train RMSE 357.126372 - train R2 0.600505 — val RMSE 150.911583 - val R2 0.927771\n",
      "Epoch 78 — train RMSE 302.543951 - train R2 0.713289 — val RMSE 148.033712 - val R2 0.930499\n",
      "Epoch 79 — train RMSE 293.861288 - train R2 0.729509 — val RMSE 143.613654 - val R2 0.934588\n",
      "Epoch 80 — train RMSE 293.307086 - train R2 0.730529 — val RMSE 147.369373 - val R2 0.931122\n",
      "Early stopping triggered; Best val RMSE : 139.456624\n"
     ]
    }
   ],
   "source": [
    "configs = Details(\n",
    "    pred_len = 1,      \n",
    "    seq_len  = 350,\n",
    "    d_ff = 32,\n",
    "    patch_len= 16, \n",
    "    stride = 8, \n",
    "    llm_layers = 14,\n",
    "    description = \"This dataset contains near-infrared (NIR) spectroscopy measurements of lactate concentration in a \" \\\n",
    "                  \"phosphate-buffered saline (PBS) solution. Each spectrum includes absorbance values across \" \\\n",
    "                  \"350 wavelengths. \" ,\n",
    "    dropout = 0.2, #Increased dropout\n",
    "    n_heads = 4,\n",
    "    d_model = 16,\n",
    "    enc_in = 1,\n",
    "    d_llm = 4096,\n",
    "    llm_model = 'LLAMA',\n",
    "    lr = 0.0001 #Decreased learning rate\n",
    ")\n",
    "\n",
    "train, test = model_selection.train_test_split(data, test_size=0.1, random_state=1, stratify= data['Concentration'])\n",
    "\n",
    "train, validation = model_selection.train_test_split(train, test_size=0.1, random_state=1, stratify= train['Concentration'])\n",
    "\n",
    "model = train_model(configs, train, validation, 100, 8, True, True)"
   ]
  },
  {
   "cell_type": "code",
   "execution_count": 7,
   "metadata": {},
   "outputs": [
    {
     "data": {
      "application/vnd.jupyter.widget-view+json": {
       "model_id": "606bf1ba182b4c468f9ce39684a13782",
       "version_major": 2,
       "version_minor": 0
      },
      "text/plain": [
       "Loading checkpoint shards:   0%|          | 0/2 [00:00<?, ?it/s]"
      ]
     },
     "metadata": {},
     "output_type": "display_data"
    },
    {
     "name": "stdout",
     "output_type": "stream",
     "text": [
      "Epoch  1 — train RMSE 700.984634 - train R2 -0.539163 — val RMSE 692.355332 - val R2 -0.520291\n",
      "Epoch  2 — train RMSE 700.543003 - train R2 -0.537224 — val RMSE 692.239216 - val R2 -0.519782\n",
      "Epoch  3 — train RMSE 700.280079 - train R2 -0.536070 — val RMSE 691.816190 - val R2 -0.517925\n",
      "Epoch  4 — train RMSE 699.353373 - train R2 -0.532007 — val RMSE 689.836818 - val R2 -0.509251\n",
      "Epoch  5 — train RMSE 697.163112 - train R2 -0.522426 — val RMSE 687.047584 - val R2 -0.497071\n",
      "Epoch  6 — train RMSE 693.969090 - train R2 -0.508509 — val RMSE 684.210323 - val R2 -0.484732\n",
      "Epoch  7 — train RMSE 691.219594 - train R2 -0.496579 — val RMSE 681.355697 - val R2 -0.472369\n",
      "Epoch  8 — train RMSE 687.219660 - train R2 -0.479308 — val RMSE 678.003964 - val R2 -0.457919\n",
      "Epoch  9 — train RMSE 684.720456 - train R2 -0.468568 — val RMSE 674.930425 - val R2 -0.444730\n",
      "Epoch 10 — train RMSE 681.517139 - train R2 -0.454860 — val RMSE 672.168273 - val R2 -0.432930\n",
      "Epoch 11 — train RMSE 680.182300 - train R2 -0.449166 — val RMSE 669.549610 - val R2 -0.421786\n",
      "Epoch 12 — train RMSE 675.639468 - train R2 -0.429873 — val RMSE 666.839344 - val R2 -0.410299\n",
      "Epoch 13 — train RMSE 674.755056 - train R2 -0.426132 — val RMSE 664.392039 - val R2 -0.399966\n",
      "Epoch 14 — train RMSE 671.923670 - train R2 -0.414189 — val RMSE 661.910575 - val R2 -0.389529\n",
      "Epoch 15 — train RMSE 668.009216 - train R2 -0.397759 — val RMSE 659.710081 - val R2 -0.380305\n",
      "Epoch 16 — train RMSE 664.160123 - train R2 -0.381698 — val RMSE 657.585676 - val R2 -0.371430\n",
      "Epoch 17 — train RMSE 665.947736 - train R2 -0.389146 — val RMSE 655.711505 - val R2 -0.363623\n",
      "Epoch 18 — train RMSE 663.339541 - train R2 -0.378286 — val RMSE 653.623249 - val R2 -0.354952\n",
      "Epoch 19 — train RMSE 661.357976 - train R2 -0.370064 — val RMSE 652.924933 - val R2 -0.352058\n",
      "Epoch 20 — train RMSE 661.246753 - train R2 -0.369603 — val RMSE 650.406508 - val R2 -0.341648\n",
      "Epoch 21 — train RMSE 657.143948 - train R2 -0.352660 — val RMSE 647.879968 - val R2 -0.331245\n",
      "Epoch 22 — train RMSE 655.721294 - train R2 -0.346809 — val RMSE 647.369913 - val R2 -0.329149\n",
      "Epoch 23 — train RMSE 655.459287 - train R2 -0.345734 — val RMSE 644.030776 - val R2 -0.315473\n",
      "Epoch 24 — train RMSE 656.124842 - train R2 -0.348467 — val RMSE 643.914439 - val R2 -0.314998\n",
      "Epoch 25 — train RMSE 653.725869 - train R2 -0.338624 — val RMSE 641.383514 - val R2 -0.304681\n",
      "Epoch 26 — train RMSE 647.486231 - train R2 -0.313193 — val RMSE 638.938518 - val R2 -0.294753\n",
      "Epoch 27 — train RMSE 645.617954 - train R2 -0.305626 — val RMSE 639.996332 - val R2 -0.299044\n",
      "Epoch 28 — train RMSE 647.540496 - train R2 -0.313413 — val RMSE 637.182666 - val R2 -0.287647\n",
      "Epoch 29 — train RMSE 644.460759 - train R2 -0.300949 — val RMSE 634.553362 - val R2 -0.277042\n",
      "Epoch 30 — train RMSE 641.968709 - train R2 -0.290908 — val RMSE 632.171135 - val R2 -0.267471\n",
      "Epoch 31 — train RMSE 640.649878 - train R2 -0.285609 — val RMSE 630.604831 - val R2 -0.261198\n",
      "Epoch 32 — train RMSE 636.814469 - train R2 -0.270262 — val RMSE 628.743272 - val R2 -0.253763\n",
      "Epoch 33 — train RMSE 641.416193 - train R2 -0.288686 — val RMSE 627.577429 - val R2 -0.249118\n",
      "Epoch 34 — train RMSE 635.286710 - train R2 -0.264174 — val RMSE 625.547198 - val R2 -0.241049\n",
      "Epoch 35 — train RMSE 635.505503 - train R2 -0.265046 — val RMSE 624.572554 - val R2 -0.237185\n",
      "Epoch 36 — train RMSE 634.291502 - train R2 -0.260216 — val RMSE 621.922467 - val R2 -0.226708\n",
      "Epoch 37 — train RMSE 632.351046 - train R2 -0.252518 — val RMSE 620.120471 - val R2 -0.219610\n",
      "Epoch 38 — train RMSE 628.709799 - train R2 -0.238135 — val RMSE 618.539649 - val R2 -0.213400\n",
      "Epoch 39 — train RMSE 630.703153 - train R2 -0.245999 — val RMSE 617.132153 - val R2 -0.207884\n",
      "Epoch 40 — train RMSE 626.520610 - train R2 -0.229527 — val RMSE 615.169813 - val R2 -0.200214\n",
      "Epoch 41 — train RMSE 620.053247 - train R2 -0.204274 — val RMSE 614.489200 - val R2 -0.197560\n",
      "Epoch 42 — train RMSE 618.976826 - train R2 -0.200097 — val RMSE 612.301754 - val R2 -0.189049\n",
      "Epoch 43 — train RMSE 621.016326 - train R2 -0.208018 — val RMSE 609.781896 - val R2 -0.179282\n",
      "Epoch 44 — train RMSE 619.196829 - train R2 -0.200951 — val RMSE 612.171934 - val R2 -0.188545\n",
      "Epoch 45 — train RMSE 622.803881 - train R2 -0.214983 — val RMSE 605.842653 - val R2 -0.164095\n",
      "Epoch 46 — train RMSE 617.772070 - train R2 -0.195430 — val RMSE 604.054911 - val R2 -0.157235\n",
      "Epoch 47 — train RMSE 609.397061 - train R2 -0.163237 — val RMSE 603.837578 - val R2 -0.156403\n",
      "Epoch 48 — train RMSE 612.541709 - train R2 -0.175273 — val RMSE 600.558041 - val R2 -0.143876\n",
      "Epoch 49 — train RMSE 613.489360 - train R2 -0.178913 — val RMSE 598.622475 - val R2 -0.136514\n",
      "Epoch 50 — train RMSE 609.780270 - train R2 -0.164700 — val RMSE 597.524555 - val R2 -0.132349\n",
      "Epoch 51 — train RMSE 608.561971 - train R2 -0.160051 — val RMSE 594.156545 - val R2 -0.119620\n",
      "Epoch 52 — train RMSE 602.714345 - train R2 -0.137865 — val RMSE 591.634395 - val R2 -0.110135\n",
      "Epoch 53 — train RMSE 598.877078 - train R2 -0.123422 — val RMSE 590.163510 - val R2 -0.104622\n",
      "Epoch 54 — train RMSE 609.032686 - train R2 -0.161847 — val RMSE 588.282823 - val R2 -0.097592\n",
      "Epoch 55 — train RMSE 599.167736 - train R2 -0.124513 — val RMSE 588.188918 - val R2 -0.097242\n",
      "Epoch 56 — train RMSE 594.834814 - train R2 -0.108307 — val RMSE 584.757128 - val R2 -0.084476\n",
      "Epoch 57 — train RMSE 590.942426 - train R2 -0.093850 — val RMSE 585.468542 - val R2 -0.087116\n",
      "Epoch 58 — train RMSE 594.874252 - train R2 -0.108454 — val RMSE 580.987111 - val R2 -0.070537\n",
      "Epoch 59 — train RMSE 588.959991 - train R2 -0.086523 — val RMSE 578.875843 - val R2 -0.062771\n",
      "Epoch 60 — train RMSE 582.975678 - train R2 -0.064556 — val RMSE 576.058699 - val R2 -0.052452\n",
      "Epoch 61 — train RMSE 592.340449 - train R2 -0.099031 — val RMSE 574.637066 - val R2 -0.047264\n",
      "Epoch 62 — train RMSE 585.194677 - train R2 -0.072675 — val RMSE 585.204598 - val R2 -0.086136\n",
      "Epoch 63 — train RMSE 583.684545 - train R2 -0.067146 — val RMSE 571.310986 - val R2 -0.035175\n",
      "Epoch 64 — train RMSE 581.995728 - train R2 -0.060980 — val RMSE 569.718070 - val R2 -0.029411\n",
      "Epoch 65 — train RMSE 572.664593 - train R2 -0.027231 — val RMSE 571.720061 - val R2 -0.036658\n",
      "Epoch 66 — train RMSE 575.139446 - train R2 -0.036129 — val RMSE 578.173694 - val R2 -0.060194\n",
      "Epoch 67 — train RMSE 574.685632 - train R2 -0.034495 — val RMSE 568.018039 - val R2 -0.023277\n",
      "Epoch 68 — train RMSE 572.973931 - train R2 -0.028341 — val RMSE 566.003195 - val R2 -0.016030\n",
      "Epoch 69 — train RMSE 567.779565 - train R2 -0.009781 — val RMSE 559.037063 - val R2 0.008826\n",
      "Epoch 70 — train RMSE 571.543630 - train R2 -0.023214 — val RMSE 556.407801 - val R2 0.018127\n",
      "Epoch 71 — train RMSE 567.468177 - train R2 -0.008673 — val RMSE 555.676727 - val R2 0.020706\n",
      "Epoch 72 — train RMSE 574.062704 - train R2 -0.032253 — val RMSE 553.826088 - val R2 0.027218\n",
      "Epoch 73 — train RMSE 566.436837 - train R2 -0.005010 — val RMSE 553.621070 - val R2 0.027938\n",
      "Epoch 74 — train RMSE 570.100510 - train R2 -0.018053 — val RMSE 550.578155 - val R2 0.038594\n",
      "Epoch 75 — train RMSE 550.520795 - train R2 0.050674 — val RMSE 548.030087 - val R2 0.047472\n",
      "Epoch 76 — train RMSE 559.189760 - train R2 0.020542 — val RMSE 546.688154 - val R2 0.052131\n",
      "Epoch 77 — train RMSE 563.842602 - train R2 0.004174 — val RMSE 546.343878 - val R2 0.053325\n",
      "Epoch 78 — train RMSE 554.387688 - train R2 0.037292 — val RMSE 542.889081 - val R2 0.065260\n",
      "Epoch 79 — train RMSE 543.708451 - train R2 0.074024 — val RMSE 540.982739 - val R2 0.071813\n",
      "Epoch 80 — train RMSE 553.448054 - train R2 0.040553 — val RMSE 537.292049 - val R2 0.084434\n",
      "Epoch 81 — train RMSE 549.408845 - train R2 0.054506 — val RMSE 540.929499 - val R2 0.071995\n",
      "Epoch 82 — train RMSE 549.654886 - train R2 0.053659 — val RMSE 535.152647 - val R2 0.091711\n",
      "Epoch 83 — train RMSE 543.855953 - train R2 0.073521 — val RMSE 532.496992 - val R2 0.100703\n",
      "Epoch 84 — train RMSE 554.199709 - train R2 0.037944 — val RMSE 530.709637 - val R2 0.106730\n",
      "Epoch 85 — train RMSE 554.369541 - train R2 0.037355 — val RMSE 528.349852 - val R2 0.114656\n",
      "Epoch 86 — train RMSE 544.749124 - train R2 0.070476 — val RMSE 528.122359 - val R2 0.115418\n",
      "Epoch 87 — train RMSE 544.386997 - train R2 0.071711 — val RMSE 524.932410 - val R2 0.126072\n",
      "Epoch 88 — train RMSE 524.813315 - train R2 0.137265 — val RMSE 523.676789 - val R2 0.130248\n",
      "Epoch 89 — train RMSE 535.598368 - train R2 0.101442 — val RMSE 521.439714 - val R2 0.137663\n",
      "Epoch 90 — train RMSE 533.671624 - train R2 0.107896 — val RMSE 521.544113 - val R2 0.137318\n",
      "Epoch 91 — train RMSE 536.224444 - train R2 0.099340 — val RMSE 522.438764 - val R2 0.134356\n",
      "Epoch 92 — train RMSE 527.987274 - train R2 0.126799 — val RMSE 516.474229 - val R2 0.154008\n",
      "Epoch 93 — train RMSE 536.213823 - train R2 0.099376 — val RMSE 522.123212 - val R2 0.135401\n",
      "Epoch 94 — train RMSE 541.802295 - train R2 0.080505 — val RMSE 513.051411 - val R2 0.165184\n",
      "Epoch 95 — train RMSE 528.145463 - train R2 0.126276 — val RMSE 510.389389 - val R2 0.173825\n",
      "Epoch 96 — train RMSE 511.877658 - train R2 0.179271 — val RMSE 508.646930 - val R2 0.179456\n",
      "Epoch 97 — train RMSE 511.113614 - train R2 0.181719 — val RMSE 506.632776 - val R2 0.185942\n",
      "Epoch 98 — train RMSE 516.440891 - train R2 0.164573 — val RMSE 504.796912 - val R2 0.191831\n",
      "Epoch 99 — train RMSE 531.655841 - train R2 0.114622 — val RMSE 505.647311 - val R2 0.189106\n",
      "Epoch 100 — train RMSE 516.799891 - train R2 0.163410 — val RMSE 508.709131 - val R2 0.179256\n"
     ]
    }
   ],
   "source": [
    "\n",
    "configs = Details(\n",
    "    pred_len = 1,      \n",
    "    seq_len  = 350,\n",
    "    d_ff = 32,\n",
    "    patch_len= 16, \n",
    "    stride = 8, \n",
    "    llm_layers = 14, \n",
    "    description = \"This dataset contains near-infrared (NIR) spectroscopy measurements of lactate concentration in a \" \\\n",
    "                  \"phosphate-buffered saline (PBS) solution. Each spectrum includes absorbance values across \" \\\n",
    "                  \"350 wavelengths. \" ,\n",
    "    dropout = 0.1, \n",
    "    n_heads = 8,#increased heads\n",
    "    d_model = 16,\n",
    "    enc_in = 1,\n",
    "    d_llm = 4096,\n",
    "    llm_model = 'LLAMA',\n",
    "    lr = 0.00001 #Decreased learning rate\n",
    ")\n",
    "\n",
    "train, test = model_selection.train_test_split(data, test_size=0.1, random_state=1, stratify= data['Concentration'])\n",
    "\n",
    "train, validation = model_selection.train_test_split(train, test_size=0.1, random_state=1, stratify= train['Concentration'])\n",
    "\n",
    "model = train_model(configs, train, validation, 100, 8, True, True)"
   ]
  },
  {
   "attachments": {},
   "cell_type": "markdown",
   "metadata": {},
   "source": [
    "Test new data"
   ]
  },
  {
   "cell_type": "code",
   "execution_count": 31,
   "metadata": {},
   "outputs": [
    {
     "name": "stdout",
     "output_type": "stream",
     "text": [
      "Test RMSE 156.189932 — Test R2 0.924961\n"
     ]
    }
   ],
   "source": [
    "model.eval()\n",
    "\n",
    "#Normalize test data\n",
    "test.columns = test.columns.astype(str)\n",
    "scaler = StandardScaler()\n",
    "normalized = scaler.fit_transform(test.iloc[:,1:].T).T\n",
    "X_test_n = pd.DataFrame(normalized, columns = test.iloc[:,1:].columns)\n",
    "\n",
    "stand = StandardScaler()\n",
    "scaled = stand.fit_transform(X_test_n.iloc[:,1:])#Data leackage fix!!!!!\n",
    "X_test_n = pd.DataFrame(scaled, columns = X_test_n.iloc[:,1:].columns)\n",
    "\n",
    "X_test = torch.from_numpy(X_test_n.to_numpy().astype('float32')).unsqueeze(-1) \n",
    "y_test = torch.from_numpy(test.iloc[:,0].to_numpy().astype('float32')).unsqueeze(1).unsqueeze(1)\n",
    "\n",
    "device = torch.device(\"cuda\" if torch.cuda.is_available() else \"cpu\")\n",
    "X_test = X_test.to(device)\n",
    "y_test = y_test.to(device)\n",
    "\n",
    "\n",
    "with torch.no_grad():\n",
    "    y_pred = model(X_test, None, None, None)\n",
    "\n",
    "r2_metric = R2Score() \n",
    "criterion = torch.nn.MSELoss()\n",
    "r2_metric.update(y_pred.squeeze(), y_test.squeeze())\n",
    "test_r2 = r2_metric.compute()\n",
    "test_rmse = sqrt(criterion(y_test, y_pred))\n",
    "\n",
    "\n",
    "print(f\"Test RMSE {test_rmse:.6f} — Test R2 {test_r2:.6f}\")\n"
   ]
  },
  {
   "cell_type": "code",
   "execution_count": 45,
   "metadata": {},
   "outputs": [
    {
     "name": "stdout",
     "output_type": "stream",
     "text": [
      "[[1300.]] [[989.5504]]\n",
      "[[130.]] [[49.47639]]\n",
      "[[13.]] [[-18.178505]]\n",
      "[[13.]] [[-9.151216]]\n",
      "[[13.]] [[13.981222]]\n",
      "[[1300.]] [[1059.87]]\n",
      "[[1300.]] [[1084.0287]]\n",
      "[[130.]] [[84.786255]]\n",
      "[[130.]] [[66.15697]]\n",
      "[[130.]] [[44.047195]]\n",
      "[[130.]] [[51.052605]]\n",
      "[[130.]] [[26.825974]]\n",
      "[[1300.]] [[1147.9308]]\n",
      "[[130.]] [[40.68179]]\n",
      "[[130.]] [[48.303932]]\n",
      "[[0.]] [[239.86089]]\n",
      "[[130.]] [[134.98781]]\n",
      "[[13.]] [[-11.023138]]\n",
      "[[1300.]] [[1170.4755]]\n",
      "[[130.]] [[38.09917]]\n",
      "[[13.]] [[-12.153199]]\n",
      "[[1300.]] [[1070.7787]]\n",
      "[[13.]] [[-3.4081333]]\n",
      "[[1300.]] [[1102.3422]]\n",
      "[[13.]] [[-6.505058]]\n",
      "[[13.]] [[-10.581898]]\n",
      "[[0.]] [[425.99167]]\n",
      "[[0.]] [[170.8798]]\n",
      "[[1300.]] [[1096.2156]]\n",
      "[[1300.]] [[1112.2673]]\n",
      "[[130.]] [[79.177635]]\n",
      "[[1300.]] [[1106.8644]]\n",
      "[[13.]] [[-6.1857886]]\n",
      "[[1300.]] [[1054.8514]]\n",
      "[[0.]] [[181.70709]]\n",
      "[[130.]] [[68.194374]]\n"
     ]
    }
   ],
   "source": [
    "errors = {}\n",
    "y_test_np = y_test.cpu().numpy()\n",
    "y_pred_np = y_pred.cpu().numpy()\n",
    "for i in np.unique(y_test_np):\n",
    "    errors[i] = []\n",
    "\n",
    "for i in range(36):\n",
    "    #print(y_test.cpu().numpy()[i], y_pred.cpu().numpy()[i])\n",
    "    error[y_test_np[i]].append(abs(y_test_np[i] - y_pred_np[i]))\n",
    "\n",
    "for k in error.keys():\n",
    "    print(f'{k} mean error of : {mean(error[k])}')\n"
   ]
  },
  {
   "attachments": {},
   "cell_type": "markdown",
   "metadata": {},
   "source": [
    "#### Corss Val learning rate"
   ]
  },
  {
   "cell_type": "code",
   "execution_count": 25,
   "metadata": {},
   "outputs": [
    {
     "data": {
      "application/vnd.jupyter.widget-view+json": {
       "model_id": "525bb580b8ed479f9de0b673273ef82f",
       "version_major": 2,
       "version_minor": 0
      },
      "text/plain": [
       "Loading checkpoint shards:   0%|          | 0/2 [00:00<?, ?it/s]"
      ]
     },
     "metadata": {},
     "output_type": "display_data"
    },
    {
     "name": "stdout",
     "output_type": "stream",
     "text": [
      "Fold  1 — train RMSE 306.631782 - train R2 0.708471 — val RMSE 238.800127 - val R2 0.812031\n"
     ]
    },
    {
     "data": {
      "application/vnd.jupyter.widget-view+json": {
       "model_id": "3ee91579ad694aa4b21c8b34a1026b04",
       "version_major": 2,
       "version_minor": 0
      },
      "text/plain": [
       "Loading checkpoint shards:   0%|          | 0/2 [00:00<?, ?it/s]"
      ]
     },
     "metadata": {},
     "output_type": "display_data"
    },
    {
     "name": "stdout",
     "output_type": "stream",
     "text": [
      "Fold  2 — train RMSE 341.398960 - train R2 0.641077 — val RMSE 304.676218 - val R2 0.682768\n"
     ]
    },
    {
     "data": {
      "application/vnd.jupyter.widget-view+json": {
       "model_id": "7ed0200741844316be7655a8e80eb33f",
       "version_major": 2,
       "version_minor": 0
      },
      "text/plain": [
       "Loading checkpoint shards:   0%|          | 0/2 [00:00<?, ?it/s]"
      ]
     },
     "metadata": {},
     "output_type": "display_data"
    },
    {
     "name": "stdout",
     "output_type": "stream",
     "text": [
      "Fold  3 — train RMSE 365.527141 - train R2 0.575687 — val RMSE 353.782735 - val R2 0.624702\n"
     ]
    },
    {
     "data": {
      "application/vnd.jupyter.widget-view+json": {
       "model_id": "6cddf861269d4814b7207317f27ffda8",
       "version_major": 2,
       "version_minor": 0
      },
      "text/plain": [
       "Loading checkpoint shards:   0%|          | 0/2 [00:00<?, ?it/s]"
      ]
     },
     "metadata": {},
     "output_type": "display_data"
    },
    {
     "name": "stdout",
     "output_type": "stream",
     "text": [
      "Fold  4 — train RMSE 305.243363 - train R2 0.714522 — val RMSE 239.239394 - val R2 0.797419\n"
     ]
    },
    {
     "data": {
      "application/vnd.jupyter.widget-view+json": {
       "model_id": "b34ec2e209004851bc31c245b56a3c3e",
       "version_major": 2,
       "version_minor": 0
      },
      "text/plain": [
       "Loading checkpoint shards:   0%|          | 0/2 [00:00<?, ?it/s]"
      ]
     },
     "metadata": {},
     "output_type": "display_data"
    },
    {
     "name": "stdout",
     "output_type": "stream",
     "text": [
      "Fold  5 — train RMSE 318.618733 - train R2 0.666564 — val RMSE 337.168615 - val R2 0.684770\n",
      "CrossVal reuslts for leraning rate 0.000100 — train RMSE 327.483996 - train R2 0.661264 — val RMSE 294.733418 - val R2 0.720338\n"
     ]
    },
    {
     "data": {
      "application/vnd.jupyter.widget-view+json": {
       "model_id": "a5bc9b92966b4728861bb7e98a941794",
       "version_major": 2,
       "version_minor": 0
      },
      "text/plain": [
       "Loading checkpoint shards:   0%|          | 0/2 [00:00<?, ?it/s]"
      ]
     },
     "metadata": {},
     "output_type": "display_data"
    },
    {
     "name": "stdout",
     "output_type": "stream",
     "text": [
      "Fold  1 — train RMSE 241.495311 - train R2 0.819172 — val RMSE 68.339521 - val R2 0.984606\n"
     ]
    },
    {
     "data": {
      "application/vnd.jupyter.widget-view+json": {
       "model_id": "122d791089aa430db8fcb77bc18b535a",
       "version_major": 2,
       "version_minor": 0
      },
      "text/plain": [
       "Loading checkpoint shards:   0%|          | 0/2 [00:00<?, ?it/s]"
      ]
     },
     "metadata": {},
     "output_type": "display_data"
    },
    {
     "name": "stdout",
     "output_type": "stream",
     "text": [
      "Fold  2 — train RMSE 240.993487 - train R2 0.821150 — val RMSE 83.293858 - val R2 0.976290\n"
     ]
    },
    {
     "data": {
      "application/vnd.jupyter.widget-view+json": {
       "model_id": "23e037d3926145beaa6fa22f3d9b9a66",
       "version_major": 2,
       "version_minor": 0
      },
      "text/plain": [
       "Loading checkpoint shards:   0%|          | 0/2 [00:00<?, ?it/s]"
      ]
     },
     "metadata": {},
     "output_type": "display_data"
    },
    {
     "name": "stdout",
     "output_type": "stream",
     "text": [
      "Fold  3 — train RMSE 218.030081 - train R2 0.849034 — val RMSE 83.735146 - val R2 0.978976\n"
     ]
    },
    {
     "data": {
      "application/vnd.jupyter.widget-view+json": {
       "model_id": "2dc33224dd9c4392a04a84950342217b",
       "version_major": 2,
       "version_minor": 0
      },
      "text/plain": [
       "Loading checkpoint shards:   0%|          | 0/2 [00:00<?, ?it/s]"
      ]
     },
     "metadata": {},
     "output_type": "display_data"
    },
    {
     "name": "stdout",
     "output_type": "stream",
     "text": [
      "Fold  4 — train RMSE 247.797070 - train R2 0.811864 — val RMSE 56.156056 - val R2 0.988838\n"
     ]
    },
    {
     "data": {
      "application/vnd.jupyter.widget-view+json": {
       "model_id": "61fde9ac2fe740dc860b2d80e34e03c3",
       "version_major": 2,
       "version_minor": 0
      },
      "text/plain": [
       "Loading checkpoint shards:   0%|          | 0/2 [00:00<?, ?it/s]"
      ]
     },
     "metadata": {},
     "output_type": "display_data"
    },
    {
     "name": "stdout",
     "output_type": "stream",
     "text": [
      "Fold  5 — train RMSE 213.863850 - train R2 0.849774 — val RMSE 79.472172 - val R2 0.982487\n",
      "CrossVal reuslts for leraning rate 0.001000 — train RMSE 232.435960 - train R2 0.830199 — val RMSE 74.199351 - val R2 0.982239\n"
     ]
    },
    {
     "data": {
      "application/vnd.jupyter.widget-view+json": {
       "model_id": "2c83c24fb5e94cc4a78a5c02a8ac0722",
       "version_major": 2,
       "version_minor": 0
      },
      "text/plain": [
       "Loading checkpoint shards:   0%|          | 0/2 [00:00<?, ?it/s]"
      ]
     },
     "metadata": {},
     "output_type": "display_data"
    },
    {
     "name": "stdout",
     "output_type": "stream",
     "text": [
      "Fold  1 — train RMSE 348.548996 - train R2 0.623318 — val RMSE 268.966415 - val R2 0.761542\n"
     ]
    },
    {
     "data": {
      "application/vnd.jupyter.widget-view+json": {
       "model_id": "bf69f0b827f940f3b61abdd9e752df9c",
       "version_major": 2,
       "version_minor": 0
      },
      "text/plain": [
       "Loading checkpoint shards:   0%|          | 0/2 [00:00<?, ?it/s]"
      ]
     },
     "metadata": {},
     "output_type": "display_data"
    },
    {
     "name": "stdout",
     "output_type": "stream",
     "text": [
      "Fold  2 — train RMSE 451.933688 - train R2 0.371034 — val RMSE 263.956396 - val R2 0.761898\n"
     ]
    },
    {
     "data": {
      "application/vnd.jupyter.widget-view+json": {
       "model_id": "bd36ddc3b5eb4cc5befe48c7990e7f64",
       "version_major": 2,
       "version_minor": 0
      },
      "text/plain": [
       "Loading checkpoint shards:   0%|          | 0/2 [00:00<?, ?it/s]"
      ]
     },
     "metadata": {},
     "output_type": "display_data"
    },
    {
     "name": "stdout",
     "output_type": "stream",
     "text": [
      "Fold  3 — train RMSE 333.323498 - train R2 0.647159 — val RMSE 204.939043 - val R2 0.874063\n"
     ]
    },
    {
     "data": {
      "application/vnd.jupyter.widget-view+json": {
       "model_id": "eb26a4ebdf084e5886193c40e4d298a2",
       "version_major": 2,
       "version_minor": 0
      },
      "text/plain": [
       "Loading checkpoint shards:   0%|          | 0/2 [00:00<?, ?it/s]"
      ]
     },
     "metadata": {},
     "output_type": "display_data"
    },
    {
     "name": "stdout",
     "output_type": "stream",
     "text": [
      "Fold  4 — train RMSE 226.540781 - train R2 0.842756 — val RMSE 105.157881 - val R2 0.960860\n"
     ]
    },
    {
     "data": {
      "application/vnd.jupyter.widget-view+json": {
       "model_id": "f9ca2dc375824cfab6f6261828b37564",
       "version_major": 2,
       "version_minor": 0
      },
      "text/plain": [
       "Loading checkpoint shards:   0%|          | 0/2 [00:00<?, ?it/s]"
      ]
     },
     "metadata": {},
     "output_type": "display_data"
    },
    {
     "name": "stdout",
     "output_type": "stream",
     "text": [
      "Fold  5 — train RMSE 224.487092 - train R2 0.834479 — val RMSE 128.079144 - val R2 0.954513\n",
      "CrossVal reuslts for leraning rate 0.010000 — train RMSE 316.966811 - train R2 0.663749 — val RMSE 194.219776 - val R2 0.862575\n"
     ]
    },
    {
     "data": {
      "application/vnd.jupyter.widget-view+json": {
       "model_id": "d6c0b6a8e13e4831aea3d485333d15da",
       "version_major": 2,
       "version_minor": 0
      },
      "text/plain": [
       "Loading checkpoint shards:   0%|          | 0/2 [00:00<?, ?it/s]"
      ]
     },
     "metadata": {},
     "output_type": "display_data"
    },
    {
     "name": "stdout",
     "output_type": "stream",
     "text": [
      "Fold  1 — train RMSE 202.598012 - train R2 0.872732 — val RMSE 133.847599 - val R2 0.940948\n"
     ]
    },
    {
     "data": {
      "application/vnd.jupyter.widget-view+json": {
       "model_id": "ef804415d2134faba47935172d3ac418",
       "version_major": 2,
       "version_minor": 0
      },
      "text/plain": [
       "Loading checkpoint shards:   0%|          | 0/2 [00:00<?, ?it/s]"
      ]
     },
     "metadata": {},
     "output_type": "display_data"
    },
    {
     "name": "stdout",
     "output_type": "stream",
     "text": [
      "Fold  2 — train RMSE 332.432053 - train R2 0.659683 — val RMSE 197.117110 - val R2 0.867215\n"
     ]
    },
    {
     "data": {
      "application/vnd.jupyter.widget-view+json": {
       "model_id": "5ea6bb555d2d46e4830e9e9b1e0171f7",
       "version_major": 2,
       "version_minor": 0
      },
      "text/plain": [
       "Loading checkpoint shards:   0%|          | 0/2 [00:00<?, ?it/s]"
      ]
     },
     "metadata": {},
     "output_type": "display_data"
    },
    {
     "name": "stdout",
     "output_type": "stream",
     "text": [
      "Fold  3 — train RMSE 347.879422 - train R2 0.615670 — val RMSE 280.255221 - val R2 0.764489\n"
     ]
    },
    {
     "data": {
      "application/vnd.jupyter.widget-view+json": {
       "model_id": "10b2084978244580a2ba528f9c2d6213",
       "version_major": 2,
       "version_minor": 0
      },
      "text/plain": [
       "Loading checkpoint shards:   0%|          | 0/2 [00:00<?, ?it/s]"
      ]
     },
     "metadata": {},
     "output_type": "display_data"
    },
    {
     "name": "stdout",
     "output_type": "stream",
     "text": [
      "Fold  4 — train RMSE 336.136952 - train R2 0.653812 — val RMSE 78.307207 - val R2 0.978296\n"
     ]
    },
    {
     "data": {
      "application/vnd.jupyter.widget-view+json": {
       "model_id": "c7978b404fc34908b1a9be63b32297f0",
       "version_major": 2,
       "version_minor": 0
      },
      "text/plain": [
       "Loading checkpoint shards:   0%|          | 0/2 [00:00<?, ?it/s]"
      ]
     },
     "metadata": {},
     "output_type": "display_data"
    },
    {
     "name": "stdout",
     "output_type": "stream",
     "text": [
      "Fold  5 — train RMSE 318.522527 - train R2 0.666765 — val RMSE 233.359818 - val R2 0.848997\n",
      "CrossVal reuslts for leraning rate 0.100000 — train RMSE 307.513793 - train R2 0.693732 — val RMSE 184.577391 - val R2 0.879989\n"
     ]
    }
   ],
   "source": [
    "train, test = model_selection.train_test_split(data, test_size=0.1, random_state=1, stratify= data['Concentration'])\n",
    "\n",
    "for lr in [1e-4, 1e-3, 1e-2, 1e-1]:\n",
    "    configs = Details(\n",
    "    pred_len = 1,      \n",
    "    seq_len  = 350,\n",
    "    d_ff = 32,\n",
    "    patch_len= 16, \n",
    "    stride = 8, \n",
    "    llm_layers = 4,\n",
    "    description = \"This dataset contains near-infrared (NIR) spectroscopy measurements of lactate concentration in a \" \\\n",
    "                  \"phosphate-buffered saline (PBS) solution. Each spectrum includes absorbance values across \" \\\n",
    "                  \"350 wavelengths. \" ,\n",
    "    dropout = 0.1,\n",
    "    n_heads = 2,\n",
    "    d_model = 16,\n",
    "    enc_in = 1,\n",
    "    d_llm = 4096,\n",
    "    llm_model = 'LLAMA',\n",
    "    lr = lr\n",
    "    )\n",
    "\n",
    "    k = 5\n",
    "    kf = KFold(n_splits=k, shuffle=True, random_state=42)\n",
    "\n",
    "    train_rmse_list = []\n",
    "    train_r2_list = []\n",
    "    val_rmse_list = []\n",
    "    val_r2_list = []\n",
    "\n",
    "    for f, (train_i, val_i) in enumerate(kf.split(train)):\n",
    "        \n",
    "        #Split data \n",
    "        train_ds = train.iloc[train_i,:]\n",
    "        val_ds = train.iloc[val_i,:]\n",
    "\n",
    "        model, train_rmse, train_r2, val_rmse, val_r2 = train_model(configs, train_ds, val_ds, 20, 8, False,False)\n",
    "\n",
    "        train_rmse_list.append(train_rmse)\n",
    "        train_r2_list.append(train_r2)\n",
    "        val_rmse_list.append(val_rmse)\n",
    "        val_r2_list.append(val_r2)\n",
    "        print(f\"Fold {f +1:2d} — train RMSE {train_rmse:.6f} - train R2 {train_r2:.6f} — val RMSE {val_rmse:.6f} - val R2 {val_r2:.6f}\")\n",
    "    print(f\"CrossVal reuslts for leraning rate {lr:.6f} — train RMSE {sum(train_rmse_list)/k:.6f} - train R2 {sum(train_r2_list)/k:.6f} — val RMSE {sum(val_rmse_list)/k:.6f} - val R2 {sum(val_r2_list)/k:.6f}\")\n",
    "\n",
    "        \n",
    "        "
   ]
  },
  {
   "attachments": {},
   "cell_type": "markdown",
   "metadata": {},
   "source": [
    "Best lr = 0.001"
   ]
  },
  {
   "cell_type": "code",
   "execution_count": 12,
   "metadata": {},
   "outputs": [],
   "source": [
    "configs = Details(\n",
    "    pred_len = 1,      \n",
    "    seq_len  = 350,\n",
    "    d_ff = 32,\n",
    "    patch_len= 16, \n",
    "    stride = 8, \n",
    "    llm_layers = 4,\n",
    "    description = \"This dataset contains near-infrared (NIR) spectroscopy measurements of lactate concentration in a \" \\\n",
    "                  \"phosphate-buffered saline (PBS) solution. Each spectrum includes absorbance values across \" \\\n",
    "                  \"350 wavelengths. \" ,\n",
    "    dropout = 0.1,\n",
    "    n_heads = 2,\n",
    "    d_model = 16,\n",
    "    enc_in = 1,\n",
    "    d_llm = 4096,\n",
    "    llm_model = 'LLAMA',\n",
    "    lr = 0.001\n",
    ")"
   ]
  },
  {
   "cell_type": "code",
   "execution_count": 13,
   "metadata": {},
   "outputs": [
    {
     "data": {
      "application/vnd.jupyter.widget-view+json": {
       "model_id": "7cdd66162aae454cb61ed6d4842c00ba",
       "version_major": 2,
       "version_minor": 0
      },
      "text/plain": [
       "Loading checkpoint shards:   0%|          | 0/2 [00:00<?, ?it/s]"
      ]
     },
     "metadata": {},
     "output_type": "display_data"
    },
    {
     "name": "stdout",
     "output_type": "stream",
     "text": [
      "Epoch  1 — train RMSE 654.211866 - train R2 -0.340616 — val RMSE 659.208806 - val R2 -0.378208\n",
      "Epoch  2 — train RMSE 619.817002 - train R2 -0.203357 — val RMSE 579.661411 - val R2 -0.065657\n",
      "Epoch  3 — train RMSE 509.771222 - train R2 0.186012 — val RMSE 456.100007 - val R2 0.340235\n",
      "Epoch  4 — train RMSE 369.568820 - train R2 0.572183 — val RMSE 239.069394 - val R2 0.818734\n",
      "Epoch  5 — train RMSE 377.251939 - train R2 0.554210 — val RMSE 222.791873 - val R2 0.842577\n",
      "Epoch  6 — train RMSE 287.477750 - train R2 0.741133 — val RMSE 231.272010 - val R2 0.830365\n",
      "Epoch  7 — train RMSE 302.177535 - train R2 0.713983 — val RMSE 287.779518 - val R2 0.737343\n",
      "Epoch  8 — train RMSE 259.858258 - train R2 0.788485 — val RMSE 212.239863 - val R2 0.857136\n",
      "Epoch  9 — train RMSE 296.417205 - train R2 0.724784 — val RMSE 208.214701 - val R2 0.862504\n",
      "Epoch 10 — train RMSE 295.031373 - train R2 0.727351 — val RMSE 215.559127 - val R2 0.852633\n",
      "Epoch 11 — train RMSE 262.992899 - train R2 0.783352 — val RMSE 204.135534 - val R2 0.867838\n",
      "Epoch 12 — train RMSE 255.749236 - train R2 0.795122 — val RMSE 179.939452 - val R2 0.897312\n",
      "Epoch 13 — train RMSE 315.848817 - train R2 0.687517 — val RMSE 204.497507 - val R2 0.867369\n",
      "Epoch 14 — train RMSE 219.453283 - train R2 0.849148 — val RMSE 175.513541 - val R2 0.902301\n",
      "Epoch 15 — train RMSE 205.746939 - train R2 0.867403 — val RMSE 151.991331 - val R2 0.926733\n",
      "Epoch 16 — train RMSE 259.816315 - train R2 0.788554 — val RMSE 157.561320 - val R2 0.921265\n",
      "Epoch 17 — train RMSE 330.582515 - train R2 0.657684 — val RMSE 156.570866 - val R2 0.922252\n",
      "Epoch 18 — train RMSE 162.082132 - train R2 0.917712 — val RMSE 150.715700 - val R2 0.927958\n",
      "Epoch 19 — train RMSE 280.758283 - train R2 0.753093 — val RMSE 149.608030 - val R2 0.929013\n",
      "Epoch 20 — train RMSE 233.753850 - train R2 0.828847 — val RMSE 165.599242 - val R2 0.913027\n",
      "Epoch 21 — train RMSE 244.271027 - train R2 0.813099 — val RMSE 150.421438 - val R2 0.928239\n",
      "Epoch 22 — train RMSE 252.508657 - train R2 0.800281 — val RMSE 168.779349 - val R2 0.909654\n",
      "Epoch 23 — train RMSE 275.594646 - train R2 0.762092 — val RMSE 344.712573 - val R2 0.623137\n",
      "Epoch 24 — train RMSE 232.398252 - train R2 0.830826 — val RMSE 122.677617 - val R2 0.952269\n",
      "Epoch 25 — train RMSE 288.827937 - train R2 0.738696 — val RMSE 117.137952 - val R2 0.956482\n",
      "Epoch 26 — train RMSE 276.885678 - train R2 0.759858 — val RMSE 135.669743 - val R2 0.941624\n",
      "Epoch 27 — train RMSE 268.479396 - train R2 0.774218 — val RMSE 132.901803 - val R2 0.943982\n",
      "Epoch 28 — train RMSE 256.489679 - train R2 0.793934 — val RMSE 142.935133 - val R2 0.935204\n",
      "Epoch 29 — train RMSE 328.106800 - train R2 0.662792 — val RMSE 114.365982 - val R2 0.958518\n",
      "Epoch 30 — train RMSE 214.439904 - train R2 0.855961 — val RMSE 124.659856 - val R2 0.950714\n",
      "Epoch 31 — train RMSE 255.710820 - train R2 0.795183 — val RMSE 107.617166 - val R2 0.963269\n",
      "Epoch 32 — train RMSE 212.516937 - train R2 0.858533 — val RMSE 109.709997 - val R2 0.961827\n",
      "Epoch 33 — train RMSE 310.134691 - train R2 0.698722 — val RMSE 209.474779 - val R2 0.860834\n",
      "Epoch 34 — train RMSE 284.196518 - train R2 0.747009 — val RMSE 136.960890 - val R2 0.940508\n",
      "Epoch 35 — train RMSE 185.712481 - train R2 0.891969 — val RMSE 123.822985 - val R2 0.951374\n",
      "Epoch 36 — train RMSE 270.466827 - train R2 0.770863 — val RMSE 122.992219 - val R2 0.952024\n",
      "Epoch 37 — train RMSE 190.082550 - train R2 0.886825 — val RMSE 130.410263 - val R2 0.946062\n",
      "Epoch 38 — train RMSE 279.273455 - train R2 0.755698 — val RMSE 108.064002 - val R2 0.962963\n",
      "Epoch 39 — train RMSE 271.428322 - train R2 0.769231 — val RMSE 99.679095 - val R2 0.968488\n",
      "Epoch 40 — train RMSE 300.176316 - train R2 0.717759 — val RMSE 161.045408 - val R2 0.917744\n",
      "Epoch 41 — train RMSE 173.422358 - train R2 0.905794 — val RMSE 104.022455 - val R2 0.965682\n",
      "Epoch 42 — train RMSE 328.340976 - train R2 0.662310 — val RMSE 99.210974 - val R2 0.968783\n",
      "Epoch 43 — train RMSE 169.401741 - train R2 0.910112 — val RMSE 96.014037 - val R2 0.970763\n",
      "Epoch 44 — train RMSE 252.361583 - train R2 0.800513 — val RMSE 91.169741 - val R2 0.973638\n",
      "Epoch 45 — train RMSE 240.394395 - train R2 0.818984 — val RMSE 98.856919 - val R2 0.969006\n",
      "Epoch 46 — train RMSE 251.513983 - train R2 0.801851 — val RMSE 89.139745 - val R2 0.974799\n",
      "Epoch 47 — train RMSE 315.946505 - train R2 0.687324 — val RMSE 93.244879 - val R2 0.972425\n",
      "Epoch 48 — train RMSE 231.158314 - train R2 0.832627 — val RMSE 91.301493 - val R2 0.973562\n",
      "Epoch 49 — train RMSE 294.389831 - train R2 0.728536 — val RMSE 87.739226 - val R2 0.975585\n",
      "Epoch 50 — train RMSE 237.155853 - train R2 0.823829 — val RMSE 82.155577 - val R2 0.978594\n",
      "Epoch 51 — train RMSE 264.539317 - train R2 0.780796 — val RMSE 94.181915 - val R2 0.971868\n",
      "Epoch 52 — train RMSE 226.799300 - train R2 0.838879 — val RMSE 82.977639 - val R2 0.978163\n",
      "Epoch 53 — train RMSE 285.116073 - train R2 0.745369 — val RMSE 78.564105 - val R2 0.980424\n",
      "Epoch 54 — train RMSE 210.219913 - train R2 0.861575 — val RMSE 82.696864 - val R2 0.978311\n",
      "Epoch 55 — train RMSE 199.459196 - train R2 0.875383 — val RMSE 98.870060 - val R2 0.968997\n",
      "Epoch 56 — train RMSE 210.000098 - train R2 0.861864 — val RMSE 100.610406 - val R2 0.967896\n",
      "Epoch 57 — train RMSE 263.940100 - train R2 0.781788 — val RMSE 86.373416 - val R2 0.976339\n",
      "Epoch 58 — train RMSE 274.183606 - train R2 0.764522 — val RMSE 93.860122 - val R2 0.972060\n",
      "Epoch 59 — train RMSE 270.772124 - train R2 0.770345 — val RMSE 77.910305 - val R2 0.980749\n",
      "Epoch 60 — train RMSE 141.548810 - train R2 0.937240 — val RMSE 81.917890 - val R2 0.978717\n",
      "Epoch 61 — train RMSE 226.666382 - train R2 0.839068 — val RMSE 143.559203 - val R2 0.934637\n",
      "Epoch 62 — train RMSE 252.340160 - train R2 0.800547 — val RMSE 102.216554 - val R2 0.966863\n",
      "Epoch 63 — train RMSE 287.475999 - train R2 0.741137 — val RMSE 87.608721 - val R2 0.975658\n",
      "Epoch 64 — train RMSE 235.630115 - train R2 0.826088 — val RMSE 76.321394 - val R2 0.981526\n",
      "Epoch 65 — train RMSE 286.471854 - train R2 0.742942 — val RMSE 82.168864 - val R2 0.978587\n",
      "Epoch 66 — train RMSE 241.836073 - train R2 0.816807 — val RMSE 83.226152 - val R2 0.978032\n",
      "Epoch 67 — train RMSE 217.201169 - train R2 0.852228 — val RMSE 85.595012 - val R2 0.976764\n",
      "Epoch 68 — train RMSE 296.404536 - train R2 0.724807 — val RMSE 74.011635 - val R2 0.982627\n",
      "Epoch 69 — train RMSE 245.879002 - train R2 0.810630 — val RMSE 105.350749 - val R2 0.964800\n",
      "Epoch 70 — train RMSE 184.764270 - train R2 0.893069 — val RMSE 69.521576 - val R2 0.984671\n",
      "Epoch 71 — train RMSE 217.432525 - train R2 0.851913 — val RMSE 170.625791 - val R2 0.907667\n",
      "Epoch 72 — train RMSE 245.676081 - train R2 0.810943 — val RMSE 86.055172 - val R2 0.976513\n",
      "Epoch 73 — train RMSE 294.394155 - train R2 0.728527 — val RMSE 128.877080 - val R2 0.947323\n",
      "Epoch 74 — train RMSE 257.109719 - train R2 0.792936 — val RMSE 282.864924 - val R2 0.746238\n",
      "Epoch 75 — train RMSE 327.623311 - train R2 0.663785 — val RMSE 309.676455 - val R2 0.695852\n",
      "Epoch 76 — train RMSE 306.093403 - train R2 0.706522 — val RMSE 204.810283 - val R2 0.866963\n",
      "Epoch 77 — train RMSE 315.174292 - train R2 0.688851 — val RMSE 113.205664 - val R2 0.959355\n",
      "Epoch 78 — train RMSE 314.348195 - train R2 0.690480 — val RMSE 148.823951 - val R2 0.929755\n",
      "Epoch 79 — train RMSE 352.599295 - train R2 0.610569 — val RMSE 211.326136 - val R2 0.858364\n",
      "Epoch 80 — train RMSE 325.868351 - train R2 0.667377 — val RMSE 155.471757 - val R2 0.923339\n",
      "Epoch 81 — train RMSE 316.165614 - train R2 0.686890 — val RMSE 134.859737 - val R2 0.942319\n",
      "Epoch 82 — train RMSE 266.103378 - train R2 0.778197 — val RMSE 102.359855 - val R2 0.966770\n",
      "Epoch 83 — train RMSE 242.162802 - train R2 0.816311 — val RMSE 142.843443 - val R2 0.935287\n",
      "Epoch 84 — train RMSE 364.197524 - train R2 0.584528 — val RMSE 119.117233 - val R2 0.954999\n",
      "Epoch 85 — train RMSE 312.012700 - train R2 0.695062 — val RMSE 106.326718 - val R2 0.964145\n",
      "Epoch 86 — train RMSE 253.417576 - train R2 0.798840 — val RMSE 94.396237 - val R2 0.971740\n",
      "Epoch 87 — train RMSE 287.505007 - train R2 0.741084 — val RMSE 110.844308 - val R2 0.961033\n",
      "Epoch 88 — train RMSE 268.608619 - train R2 0.774001 — val RMSE 114.861973 - val R2 0.958157\n",
      "Epoch 89 — train RMSE 310.350222 - train R2 0.698303 — val RMSE 119.229824 - val R2 0.954914\n",
      "Epoch 90 — train RMSE 277.693348 - train R2 0.758455 — val RMSE 166.672382 - val R2 0.911896\n",
      "Epoch 91 — train RMSE 252.540133 - train R2 0.800231 — val RMSE 129.942552 - val R2 0.946449\n",
      "Epoch 92 — train RMSE 287.799886 - train R2 0.740553 — val RMSE 123.225276 - val R2 0.951842\n",
      "Epoch 93 — train RMSE 291.588943 - train R2 0.733676 — val RMSE 109.326693 - val R2 0.962093\n",
      "Epoch 94 — train RMSE 251.138184 - train R2 0.802443 — val RMSE 115.197805 - val R2 0.957912\n",
      "Epoch 95 — train RMSE 327.370865 - train R2 0.664303 — val RMSE 111.058296 - val R2 0.960883\n",
      "Epoch 96 — train RMSE 284.073258 - train R2 0.747228 — val RMSE 109.638330 - val R2 0.961876\n",
      "Epoch 97 — train RMSE 205.316094 - train R2 0.867958 — val RMSE 82.336220 - val R2 0.978499\n",
      "Epoch 98 — train RMSE 298.675424 - train R2 0.720574 — val RMSE 77.096938 - val R2 0.981149\n",
      "Epoch 99 — train RMSE 244.616569 - train R2 0.812570 — val RMSE 79.708657 - val R2 0.979850\n",
      "Epoch 100 — train RMSE 216.440184 - train R2 0.853262 — val RMSE 83.569750 - val R2 0.977850\n"
     ]
    }
   ],
   "source": [
    "train, test = model_selection.train_test_split(data, test_size=0.1, random_state=1, stratify= data['Concentration'])\n",
    "\n",
    "train, validation = model_selection.train_test_split(train, test_size=0.1, random_state=1, stratify= train['Concentration'])\n",
    "\n",
    "model_lr = train_model(configs, train, validation, 100, 8, True, False)"
   ]
  },
  {
   "cell_type": "code",
   "execution_count": 8,
   "metadata": {},
   "outputs": [],
   "source": [
    "model_lr, train_rmse, train_r2, val_rmse, val_r2 = model"
   ]
  },
  {
   "cell_type": "code",
   "execution_count": 9,
   "metadata": {},
   "outputs": [
    {
     "name": "stdout",
     "output_type": "stream",
     "text": [
      "Test RMSE 97.008809 — Test R2 0.969740\n"
     ]
    }
   ],
   "source": [
    "model_lr.eval()\n",
    "\n",
    "#Normalize test data\n",
    "test.columns = test.columns.astype(str)\n",
    "scaler = StandardScaler()\n",
    "normalized = scaler.fit_transform(test.iloc[:,1:].T).T\n",
    "X_test_n = pd.DataFrame(normalized, columns = test.iloc[:,1:].columns)\n",
    "\n",
    "stand = StandardScaler()\n",
    "scaled = stand.fit_transform(X_test_n.iloc[:,1:])#Data leackage fix!!!!!\n",
    "X_test_n = pd.DataFrame(scaled, columns = X_test_n.iloc[:,1:].columns)\n",
    "\n",
    "X_test = torch.from_numpy(X_test_n.to_numpy().astype('float32')).unsqueeze(-1) \n",
    "y_test = torch.from_numpy(test.iloc[:,0].to_numpy().astype('float32')).unsqueeze(1).unsqueeze(1)\n",
    "\n",
    "device = torch.device(\"cuda\" if torch.cuda.is_available() else \"cpu\")\n",
    "X_test = X_test.to(device)\n",
    "y_test = y_test.to(device)\n",
    "\n",
    "\n",
    "with torch.no_grad():\n",
    "    y_pred = model_lr(X_test, None, None, None)\n",
    "\n",
    "r2_metric = R2Score() \n",
    "criterion = torch.nn.MSELoss()\n",
    "r2_metric.update(y_pred.squeeze(), y_test.squeeze())\n",
    "test_r2 = r2_metric.compute()\n",
    "test_rmse = sqrt(criterion(y_test, y_pred))\n",
    "\n",
    "\n",
    "print(f\"Test RMSE {test_rmse:.6f} — Test R2 {test_r2:.6f}\")\n"
   ]
  },
  {
   "attachments": {},
   "cell_type": "markdown",
   "metadata": {},
   "source": [
    "### Increase batch size"
   ]
  },
  {
   "cell_type": "code",
   "execution_count": 9,
   "metadata": {},
   "outputs": [],
   "source": [
    "configs = Details(\n",
    "    pred_len = 1,      \n",
    "    seq_len  = 350,\n",
    "    d_ff = 32,\n",
    "    patch_len= 16, \n",
    "    stride = 8, \n",
    "    llm_layers = 4,\n",
    "    description = \"This dataset contains near-infrared (NIR) spectroscopy measurements of lactate concentration in a \" \\\n",
    "                  \"phosphate-buffered saline (PBS) solution. Each spectrum includes absorbance values across \" \\\n",
    "                  \"350 wavelengths. \" ,\n",
    "    dropout = 0.1,\n",
    "    n_heads = 2,\n",
    "    d_model = 16,\n",
    "    enc_in = 1,\n",
    "    d_llm = 4096,\n",
    "    llm_model = 'LLAMA',\n",
    "    lr = 0.001\n",
    ")"
   ]
  },
  {
   "cell_type": "code",
   "execution_count": 10,
   "metadata": {},
   "outputs": [
    {
     "data": {
      "application/vnd.jupyter.widget-view+json": {
       "model_id": "68d7926ecb6d49679cf4af6c3675d653",
       "version_major": 2,
       "version_minor": 0
      },
      "text/plain": [
       "Loading checkpoint shards:   0%|          | 0/2 [00:00<?, ?it/s]"
      ]
     },
     "metadata": {},
     "output_type": "display_data"
    },
    {
     "name": "stdout",
     "output_type": "stream",
     "text": [
      "Epoch  1 — train RMSE 671.317481 - train R2 -0.411638 — val RMSE 614.105040 - val R2 -0.196063\n",
      "Epoch  2 — train RMSE 610.635144 - train R2 -0.167969 — val RMSE 605.197411 - val R2 -0.161617\n",
      "Epoch  3 — train RMSE 584.503924 - train R2 -0.070144 — val RMSE 519.387034 - val R2 0.144439\n",
      "Epoch  4 — train RMSE 509.324987 - train R2 0.187436 — val RMSE 412.297526 - val R2 0.460874\n",
      "Epoch  5 — train RMSE 439.017116 - train R2 0.396287 — val RMSE 505.881424 - val R2 0.188355\n",
      "Epoch  6 — train RMSE 344.242235 - train R2 0.628810 — val RMSE 245.188026 - val R2 0.809337\n",
      "Epoch  7 — train RMSE 320.512998 - train R2 0.678220 — val RMSE 200.867297 - val R2 0.872036\n",
      "Epoch  8 — train RMSE 313.414014 - train R2 0.692316 — val RMSE 364.980661 - val R2 0.577518\n",
      "Epoch  9 — train RMSE 346.913743 - train R2 0.623027 — val RMSE 179.003247 - val R2 0.898377\n",
      "Epoch 10 — train RMSE 257.724034 - train R2 0.791945 — val RMSE 170.486789 - val R2 0.907817\n",
      "Epoch 11 — train RMSE 255.480254 - train R2 0.795552 — val RMSE 138.925127 - val R2 0.938789\n",
      "Epoch 12 — train RMSE 226.748679 - train R2 0.838951 — val RMSE 140.497480 - val R2 0.937395\n",
      "Epoch 13 — train RMSE 159.554946 - train R2 0.920258 — val RMSE 120.402738 - val R2 0.954023\n",
      "Epoch 14 — train RMSE 285.490861 - train R2 0.744699 — val RMSE 126.242922 - val R2 0.949454\n",
      "Epoch 15 — train RMSE 240.019449 - train R2 0.819548 — val RMSE 114.992620 - val R2 0.958062\n",
      "Epoch 16 — train RMSE 209.448298 - train R2 0.862589 — val RMSE 102.572733 - val R2 0.966632\n",
      "Epoch 17 — train RMSE 297.681994 - train R2 0.722430 — val RMSE 88.149519 - val R2 0.975356\n",
      "Epoch 18 — train RMSE 276.512095 - train R2 0.760505 — val RMSE 83.497173 - val R2 0.977889\n",
      "Epoch 19 — train RMSE 290.211246 - train R2 0.736187 — val RMSE 99.674976 - val R2 0.968491\n",
      "Epoch 20 — train RMSE 205.732905 - train R2 0.867421 — val RMSE 105.446711 - val R2 0.964736\n",
      "Epoch 21 — train RMSE 264.676695 - train R2 0.780568 — val RMSE 105.476593 - val R2 0.964716\n",
      "Epoch 22 — train RMSE 215.379144 - train R2 0.854697 — val RMSE 91.255950 - val R2 0.973589\n",
      "Epoch 23 — train RMSE 274.718253 - train R2 0.763603 — val RMSE 93.456959 - val R2 0.972299\n",
      "Epoch 24 — train RMSE 263.683123 - train R2 0.782213 — val RMSE 79.843999 - val R2 0.979781\n",
      "Epoch 25 — train RMSE 263.382670 - train R2 0.782709 — val RMSE 93.477210 - val R2 0.972287\n",
      "Epoch 26 — train RMSE 184.268882 - train R2 0.893642 — val RMSE 96.987810 - val R2 0.970167\n",
      "Epoch 27 — train RMSE 273.474877 - train R2 0.765738 — val RMSE 101.417091 - val R2 0.967379\n",
      "Epoch 28 — train RMSE 227.378562 - train R2 0.838055 — val RMSE 80.614452 - val R2 0.979389\n",
      "Epoch 29 — train RMSE 294.872981 - train R2 0.727644 — val RMSE 74.310691 - val R2 0.982487\n",
      "Epoch 30 — train RMSE 213.782753 - train R2 0.856843 — val RMSE 93.897049 - val R2 0.972038\n",
      "Epoch 31 — train RMSE 201.297622 - train R2 0.873076 — val RMSE 102.517720 - val R2 0.966668\n",
      "Epoch 32 — train RMSE 261.713692 - train R2 0.785454 — val RMSE 82.180558 - val R2 0.978581\n",
      "Epoch 33 — train RMSE 214.683823 - train R2 0.855634 — val RMSE 90.995372 - val R2 0.973739\n",
      "Epoch 34 — train RMSE 126.503961 - train R2 0.949873 — val RMSE 80.493951 - val R2 0.979451\n",
      "Epoch 35 — train RMSE 252.834808 - train R2 0.799764 — val RMSE 84.734744 - val R2 0.977228\n",
      "Epoch 36 — train RMSE 199.901213 - train R2 0.874831 — val RMSE 92.251052 - val R2 0.973009\n",
      "Epoch 37 — train RMSE 238.432600 - train R2 0.821927 — val RMSE 66.814329 - val R2 0.985842\n",
      "Epoch 38 — train RMSE 199.558005 - train R2 0.875260 — val RMSE 67.852722 - val R2 0.985398\n",
      "Epoch 39 — train RMSE 214.452820 - train R2 0.855944 — val RMSE 95.462461 - val R2 0.971098\n",
      "Epoch 40 — train RMSE 261.897817 - train R2 0.785152 — val RMSE 91.677646 - val R2 0.973344\n",
      "Epoch 41 — train RMSE 238.107858 - train R2 0.822411 — val RMSE 93.616097 - val R2 0.972205\n",
      "Epoch 42 — train RMSE 226.807038 - train R2 0.838868 — val RMSE 79.985437 - val R2 0.979710\n",
      "Epoch 43 — train RMSE 248.781716 - train R2 0.806133 — val RMSE 67.597743 - val R2 0.985508\n",
      "Epoch 44 — train RMSE 236.606938 - train R2 0.824643 — val RMSE 64.321301 - val R2 0.986879\n",
      "Epoch 45 — train RMSE 196.215994 - train R2 0.879403 — val RMSE 62.595752 - val R2 0.987573\n",
      "Epoch 46 — train RMSE 238.472720 - train R2 0.821867 — val RMSE 86.999923 - val R2 0.975995\n",
      "Epoch 47 — train RMSE 196.217697 - train R2 0.879401 — val RMSE 81.986400 - val R2 0.978682\n",
      "Epoch 48 — train RMSE 180.146014 - train R2 0.898348 — val RMSE 78.156236 - val R2 0.980627\n",
      "Epoch 49 — train RMSE 165.821345 - train R2 0.913871 — val RMSE 86.880455 - val R2 0.976061\n",
      "Epoch 50 — train RMSE 236.624735 - train R2 0.824617 — val RMSE 71.328609 - val R2 0.983864\n",
      "Epoch 51 — train RMSE 248.606996 - train R2 0.806405 — val RMSE 87.833597 - val R2 0.975532\n",
      "Epoch 52 — train RMSE 195.777289 - train R2 0.879942 — val RMSE 71.675358 - val R2 0.983707\n",
      "Epoch 53 — train RMSE 212.845188 - train R2 0.858096 — val RMSE 77.238253 - val R2 0.981079\n",
      "Epoch 54 — train RMSE 252.593709 - train R2 0.800146 — val RMSE 94.581596 - val R2 0.971628\n",
      "Epoch 55 — train RMSE 212.265076 - train R2 0.858868 — val RMSE 84.125763 - val R2 0.977555\n",
      "Epoch 56 — train RMSE 225.031447 - train R2 0.841381 — val RMSE 78.264008 - val R2 0.980574\n",
      "Epoch 57 — train RMSE 213.634112 - train R2 0.857042 — val RMSE 74.231061 - val R2 0.982524\n",
      "Epoch 58 — train RMSE 287.889026 - train R2 0.740392 — val RMSE 202.649279 - val R2 0.869756\n",
      "Epoch 59 — train RMSE 206.133405 - train R2 0.866904 — val RMSE 96.733349 - val R2 0.970323\n",
      "Epoch 60 — train RMSE 229.274286 - train R2 0.835344 — val RMSE 76.050986 - val R2 0.981657\n",
      "Epoch 61 — train RMSE 253.791943 - train R2 0.798245 — val RMSE 93.572039 - val R2 0.972231\n",
      "Epoch 62 — train RMSE 213.930919 - train R2 0.856644 — val RMSE 93.622356 - val R2 0.972201\n",
      "Epoch 63 — train RMSE 253.728595 - train R2 0.798346 — val RMSE 72.071294 - val R2 0.983526\n",
      "Epoch 64 — train RMSE 183.055235 - train R2 0.895038 — val RMSE 95.696251 - val R2 0.970956\n",
      "Epoch 65 — train RMSE 184.593457 - train R2 0.893267 — val RMSE 85.300088 - val R2 0.976924\n",
      "Epoch 66 — train RMSE 253.167167 - train R2 0.799238 — val RMSE 87.023620 - val R2 0.975982\n",
      "Epoch 67 — train RMSE 212.634418 - train R2 0.858377 — val RMSE 75.232037 - val R2 0.982050\n",
      "Epoch 68 — train RMSE 225.124098 - train R2 0.841251 — val RMSE 74.579590 - val R2 0.982360\n",
      "Epoch 69 — train RMSE 252.130700 - train R2 0.800878 — val RMSE 91.555155 - val R2 0.973415\n",
      "Epoch 70 — train RMSE 212.153286 - train R2 0.859017 — val RMSE 78.886382 - val R2 0.980263\n",
      "Epoch 71 — train RMSE 210.270082 - train R2 0.861509 — val RMSE 88.963617 - val R2 0.974899\n",
      "Epoch 72 — train RMSE 226.439008 - train R2 0.839391 — val RMSE 90.463674 - val R2 0.974045\n",
      "Epoch 73 — train RMSE 260.944309 - train R2 0.786714 — val RMSE 81.499486 - val R2 0.978934\n",
      "Epoch 74 — train RMSE 212.136721 - train R2 0.859039 — val RMSE 92.846336 - val R2 0.972660\n",
      "Epoch 75 — train RMSE 283.018151 - train R2 0.749103 — val RMSE 77.559692 - val R2 0.980922\n",
      "Epoch 76 — train RMSE 240.490861 - train R2 0.818839 — val RMSE 71.907821 - val R2 0.983601\n",
      "Epoch 77 — train RMSE 225.845446 - train R2 0.840232 — val RMSE 74.919478 - val R2 0.982198\n",
      "Epoch 78 — train RMSE 224.052971 - train R2 0.842758 — val RMSE 82.930166 - val R2 0.978188\n",
      "Epoch 79 — train RMSE 210.081384 - train R2 0.861757 — val RMSE 75.011843 - val R2 0.982154\n",
      "Epoch 80 — train RMSE 223.666731 - train R2 0.843300 — val RMSE 78.538199 - val R2 0.980437\n",
      "Epoch 81 — train RMSE 179.380586 - train R2 0.899210 — val RMSE 80.234115 - val R2 0.979583\n",
      "Epoch 82 — train RMSE 179.696847 - train R2 0.898854 — val RMSE 76.230477 - val R2 0.981570\n",
      "Epoch 83 — train RMSE 235.592508 - train R2 0.826144 — val RMSE 74.675367 - val R2 0.982314\n",
      "Epoch 84 — train RMSE 210.325446 - train R2 0.861436 — val RMSE 84.390382 - val R2 0.977413\n",
      "Epoch 85 — train RMSE 195.300658 - train R2 0.880526 — val RMSE 61.409888 - val R2 0.988040\n",
      "Epoch 86 — train RMSE 194.134822 - train R2 0.881948 — val RMSE 71.533159 - val R2 0.983771\n",
      "Epoch 87 — train RMSE 210.935382 - train R2 0.860631 — val RMSE 92.109345 - val R2 0.973092\n",
      "Epoch 88 — train RMSE 195.169127 - train R2 0.880686 — val RMSE 80.698691 - val R2 0.979346\n",
      "Epoch 89 — train RMSE 246.915097 - train R2 0.809031 — val RMSE 68.714344 - val R2 0.985025\n",
      "Epoch 90 — train RMSE 259.528710 - train R2 0.789021 — val RMSE 69.353620 - val R2 0.984745\n",
      "Epoch 91 — train RMSE 223.204194 - train R2 0.843947 — val RMSE 70.807392 - val R2 0.984099\n",
      "Epoch 92 — train RMSE 249.134768 - train R2 0.805582 — val RMSE 77.535880 - val R2 0.980933\n",
      "Epoch 93 — train RMSE 259.263286 - train R2 0.789453 — val RMSE 66.802165 - val R2 0.985847\n",
      "Epoch 94 — train RMSE 235.467007 - train R2 0.826329 — val RMSE 76.498007 - val R2 0.981440\n",
      "Epoch 95 — train RMSE 259.796247 - train R2 0.788586 — val RMSE 73.568494 - val R2 0.982835\n",
      "Epoch 96 — train RMSE 195.197398 - train R2 0.880652 — val RMSE 63.581619 - val R2 0.987179\n",
      "Epoch 97 — train RMSE 260.294930 - train R2 0.787774 — val RMSE 74.319629 - val R2 0.982482\n",
      "Epoch 98 — train RMSE 260.508783 - train R2 0.787425 — val RMSE 66.276626 - val R2 0.986069\n",
      "Epoch 99 — train RMSE 247.346528 - train R2 0.808363 — val RMSE 65.668063 - val R2 0.986323\n",
      "Epoch 100 — train RMSE 270.414732 - train R2 0.770951 — val RMSE 73.442840 - val R2 0.982893\n"
     ]
    }
   ],
   "source": [
    "train, test = model_selection.train_test_split(data, test_size=0.1, random_state=1, stratify= data['Concentration'])\n",
    "\n",
    "train, validation = model_selection.train_test_split(train, test_size=0.1, random_state=1, stratify= train['Concentration'])\n",
    "\n",
    "model_16 = train_model(configs, train, validation, 100, 16, True, False)"
   ]
  },
  {
   "attachments": {},
   "cell_type": "markdown",
   "metadata": {},
   "source": [
    "### Subset"
   ]
  },
  {
   "attachments": {},
   "cell_type": "markdown",
   "metadata": {},
   "source": [
    "Only concentration >= 13"
   ]
  },
  {
   "cell_type": "code",
   "execution_count": 58,
   "metadata": {},
   "outputs": [],
   "source": [
    "data2 = data[data['Concentration']>1.3]"
   ]
  },
  {
   "cell_type": "code",
   "execution_count": 59,
   "metadata": {},
   "outputs": [],
   "source": [
    "train, test = model_selection.train_test_split(data2, test_size=0.1, random_state=1, stratify = data2['Concentration'])"
   ]
  },
  {
   "cell_type": "code",
   "execution_count": null,
   "metadata": {},
   "outputs": [
    {
     "data": {
      "application/vnd.jupyter.widget-view+json": {
       "model_id": "7c11347d684349e182beac8fab0fa974",
       "version_major": 2,
       "version_minor": 0
      },
      "text/plain": [
       "Loading checkpoint shards:   0%|          | 0/2 [00:00<?, ?it/s]"
      ]
     },
     "metadata": {},
     "output_type": "display_data"
    },
    {
     "name": "stdout",
     "output_type": "stream",
     "text": [
      "Epoch  1 — train RMSE 743.472150 - train R2 -0.652276 — val RMSE 729.533913 - val R2 -0.597559\n",
      "Epoch  2 — train RMSE 725.898850 - train R2 -0.575091 — val RMSE 707.223863 - val R2 -0.501342\n",
      "Epoch  3 — train RMSE 697.267952 - train R2 -0.453292 — val RMSE 679.852310 - val R2 -0.387379\n",
      "Epoch  4 — train RMSE 681.497750 - train R2 -0.388296 — val RMSE 661.738601 - val R2 -0.314434\n",
      "Epoch  5 — train RMSE 660.329915 - train R2 -0.303393 — val RMSE 645.392740 - val R2 -0.250300\n",
      "Epoch  6 — train RMSE 643.070002 - train R2 -0.236146 — val RMSE 626.801253 - val R2 -0.179304\n",
      "Epoch  7 — train RMSE 623.763343 - train R2 -0.163036 — val RMSE 603.159891 - val R2 -0.092021\n",
      "Epoch  8 — train RMSE 597.727648 - train R2 -0.067973 — val RMSE 579.519087 - val R2 -0.008095\n",
      "Epoch  9 — train RMSE 570.979971 - train R2 0.025470 — val RMSE 556.005510 - val R2 0.072051\n",
      "Epoch 10 — train RMSE 552.266893 - train R2 0.088301 — val RMSE 529.651023 - val R2 0.157935\n",
      "Epoch 11 — train RMSE 533.623683 - train R2 0.148816 — val RMSE 510.326742 - val R2 0.218260\n",
      "Epoch 12 — train RMSE 512.536985 - train R2 0.214758 — val RMSE 488.210361 - val R2 0.284549\n",
      "Epoch 13 — train RMSE 488.934653 - train R2 0.285413 — val RMSE 461.177375 - val R2 0.361587\n",
      "Epoch 14 — train RMSE 471.195353 - train R2 0.336325 — val RMSE 464.488786 - val R2 0.352386\n",
      "Epoch 15 — train RMSE 451.468156 - train R2 0.390733 — val RMSE 422.584694 - val R2 0.463965\n",
      "Epoch 16 — train RMSE 432.292368 - train R2 0.441390 — val RMSE 402.523588 - val R2 0.513650\n",
      "Epoch 17 — train RMSE 386.428134 - train R2 0.553634 — val RMSE 377.855420 - val R2 0.571434\n",
      "Epoch 18 — train RMSE 411.409562 - train R2 0.494057 — val RMSE 359.461944 - val R2 0.612143\n",
      "Epoch 19 — train RMSE 375.239656 - train R2 0.579108 — val RMSE 340.656973 - val R2 0.651662\n",
      "Epoch 20 — train RMSE 352.336676 - train R2 0.628919 — val RMSE 327.821958 - val R2 0.677417\n",
      "Epoch 21 — train RMSE 338.778305 - train R2 0.656929 — val RMSE 314.642463 - val R2 0.702833\n",
      "Epoch 22 — train RMSE 323.361498 - train R2 0.687442 — val RMSE 291.836221 - val R2 0.744351\n",
      "Epoch 23 — train RMSE 310.208081 - train R2 0.712353 — val RMSE 275.291425 - val R2 0.772516\n",
      "Epoch 24 — train RMSE 275.767990 - train R2 0.772678 — val RMSE 262.898459 - val R2 0.792536\n",
      "Epoch 25 — train RMSE 350.551032 - train R2 0.632670 — val RMSE 260.924543 - val R2 0.795640\n",
      "Epoch 26 — train RMSE 268.783806 - train R2 0.784047 — val RMSE 235.417184 - val R2 0.833643\n",
      "Epoch 27 — train RMSE 260.014287 - train R2 0.797909 — val RMSE 237.340388 - val R2 0.830913\n",
      "Epoch 28 — train RMSE 276.015534 - train R2 0.772270 — val RMSE 217.566964 - val R2 0.857914\n",
      "Epoch 29 — train RMSE 245.800791 - train R2 0.819399 — val RMSE 208.145611 - val R2 0.869953\n",
      "Epoch 30 — train RMSE 262.068436 - train R2 0.794703 — val RMSE 204.902309 - val R2 0.873974\n",
      "Epoch 31 — train RMSE 226.206562 - train R2 0.847045 — val RMSE 192.038912 - val R2 0.889301\n",
      "Epoch 32 — train RMSE 259.133202 - train R2 0.799276 — val RMSE 182.095567 - val R2 0.900468\n",
      "Epoch 33 — train RMSE 355.964805 - train R2 0.621237 — val RMSE 181.163851 - val R2 0.901483\n",
      "Epoch 34 — train RMSE 265.417813 - train R2 0.789422 — val RMSE 159.715170 - val R2 0.923430\n",
      "Epoch 35 — train RMSE 306.755837 - train R2 0.718720 — val RMSE 196.574565 - val R2 0.884010\n",
      "Epoch 36 — train RMSE 256.137437 - train R2 0.803890 — val RMSE 159.520236 - val R2 0.923617\n",
      "Epoch 37 — train RMSE 235.462933 - train R2 0.834271 — val RMSE 152.478531 - val R2 0.930212\n",
      "Epoch 38 — train RMSE 218.932489 - train R2 0.856724 — val RMSE 136.664372 - val R2 0.943937\n",
      "Epoch 39 — train RMSE 230.989833 - train R2 0.840508 — val RMSE 143.059515 - val R2 0.938567\n",
      "Epoch 40 — train RMSE 260.077186 - train R2 0.797811 — val RMSE 136.348251 - val R2 0.944196\n",
      "Epoch 41 — train RMSE 233.566206 - train R2 0.836930 — val RMSE 133.127245 - val R2 0.946801\n",
      "Epoch 42 — train RMSE 316.320462 - train R2 0.700906 — val RMSE 126.203953 - val R2 0.952191\n",
      "Epoch 43 — train RMSE 229.002659 - train R2 0.843240 — val RMSE 120.698305 - val R2 0.956271\n",
      "Epoch 44 — train RMSE 212.728847 - train R2 0.864729 — val RMSE 129.892204 - val R2 0.949356\n",
      "Epoch 45 — train RMSE 139.738545 - train R2 0.941631 — val RMSE 119.858008 - val R2 0.956878\n",
      "Epoch 46 — train RMSE 212.243352 - train R2 0.865345 — val RMSE 116.648295 - val R2 0.959157\n",
      "Epoch 47 — train RMSE 267.851775 - train R2 0.785542 — val RMSE 117.217233 - val R2 0.958757\n",
      "Epoch 48 — train RMSE 255.336622 - train R2 0.805114 — val RMSE 133.869038 - val R2 0.946207\n",
      "Epoch 49 — train RMSE 241.040287 - train R2 0.826327 — val RMSE 121.765114 - val R2 0.955495\n",
      "Epoch 50 — train RMSE 241.068267 - train R2 0.826287 — val RMSE 124.510898 - val R2 0.953465\n"
     ]
    }
   ],
   "source": [
    "train, validation = model_selection.train_test_split(train, test_size=0.1, random_state=1, stratify= train['Concentration'])\n",
    "\n",
    "odel_red = train_model(configs, train, validation, 50, 8, True, False)"
   ]
  },
  {
   "cell_type": "code",
   "execution_count": 62,
   "metadata": {},
   "outputs": [
    {
     "name": "stdout",
     "output_type": "stream",
     "text": [
      "Test RMSE 175.141344 — Test R2 0.915253\n"
     ]
    }
   ],
   "source": [
    "model_red.eval()\n",
    "\n",
    "#Normalize test data\n",
    "test.columns = test.columns.astype(str)\n",
    "scaler = StandardScaler()\n",
    "normalized = scaler.fit_transform(test.iloc[:,1:].T).T\n",
    "X_test_n = pd.DataFrame(normalized, columns = test.iloc[:,1:].columns)\n",
    "\n",
    "stand = StandardScaler()\n",
    "scaled = stand.fit_transform(X_test_n.iloc[:,1:])#Data leackage fix!!!!!\n",
    "X_test_n = pd.DataFrame(scaled, columns = X_test_n.iloc[:,1:].columns)\n",
    "\n",
    "X_test = torch.from_numpy(X_test_n.to_numpy().astype('float32')).unsqueeze(-1) \n",
    "y_test = torch.from_numpy(test.iloc[:,0].to_numpy().astype('float32')).unsqueeze(1).unsqueeze(1)\n",
    "\n",
    "device = torch.device(\"cuda\" if torch.cuda.is_available() else \"cpu\")\n",
    "X_test = X_test.to(device)\n",
    "y_test = y_test.to(device)\n",
    "\n",
    "\n",
    "with torch.no_grad():\n",
    "    y_pred = model_red(X_test, None, None, None)\n",
    "\n",
    "r2_metric = R2Score() \n",
    "criterion = torch.nn.MSELoss()\n",
    "r2_metric.update(y_pred.squeeze(), y_test.squeeze())\n",
    "test_r2 = r2_metric.compute()\n",
    "test_rmse = sqrt(criterion(y_test, y_pred))\n",
    "\n",
    "\n",
    "print(f\"Test RMSE {test_rmse:.6f} — Test R2 {test_r2:.6f}\")\n"
   ]
  },
  {
   "attachments": {},
   "cell_type": "markdown",
   "metadata": {},
   "source": [
    "### Oversample minority classes"
   ]
  },
  {
   "cell_type": "code",
   "execution_count": 4,
   "metadata": {},
   "outputs": [
    {
     "data": {
      "text/plain": [
       "13.0      102\n",
       "130.0     102\n",
       "1300.0    102\n",
       "1.3        30\n",
       "0.0        20\n",
       "Name: Concentration, dtype: int64"
      ]
     },
     "execution_count": 4,
     "metadata": {},
     "output_type": "execute_result"
    }
   ],
   "source": [
    "data['Concentration'].value_counts()"
   ]
  },
  {
   "cell_type": "code",
   "execution_count": 26,
   "metadata": {},
   "outputs": [],
   "source": [
    "train, test = model_selection.train_test_split(data, test_size=0.1, random_state=1, stratify= data['Concentration'])"
   ]
  },
  {
   "cell_type": "code",
   "execution_count": 32,
   "metadata": {},
   "outputs": [
    {
     "data": {
      "text/plain": [
       "13.0      92\n",
       "1300.0    92\n",
       "130.0     91\n",
       "1.3       27\n",
       "0.0       18\n",
       "Name: Concentration, dtype: int64"
      ]
     },
     "execution_count": 32,
     "metadata": {},
     "output_type": "execute_result"
    }
   ],
   "source": [
    "train['Concentration'].value_counts()"
   ]
  },
  {
   "cell_type": "code",
   "execution_count": 33,
   "metadata": {},
   "outputs": [],
   "source": [
    "from imblearn.over_sampling import SMOTE\n",
    "\n",
    "train['Concentration'].replace([0.0, 1.3, 13.0, 130.0, 1300.0],[0, 1, 2, 3, 4], inplace=True)\n",
    "\n",
    "smote = SMOTE(sampling_strategy={0 : 70, 1: 70})\n",
    "X_resampled, y_resampled = smote.fit_resample(train.iloc[:,1:], train['Concentration'])\n",
    "\n",
    "y_resampled = pd.DataFrame(y_resampled, columns=[\"Concentration\"])\n",
    "y_resampled['Concentration'].replace([0, 1, 2, 3, 4], [0.0, 1.3, 13.0, 130.0, 1300.0], inplace=True)\n",
    "train['Concentration'].replace([0, 1, 2, 3, 4], [0.0, 1.3, 13.0, 130.0, 1300.0], inplace=True)\n",
    "\n",
    "oversampled = pd.concat([y_resampled, X_resampled], axis = 1) \n"
   ]
  },
  {
   "cell_type": "code",
   "execution_count": 34,
   "metadata": {},
   "outputs": [
    {
     "data": {
      "text/plain": [
       "13.0      92\n",
       "1300.0    92\n",
       "130.0     91\n",
       "0.0       70\n",
       "1.3       70\n",
       "Name: Concentration, dtype: int64"
      ]
     },
     "execution_count": 34,
     "metadata": {},
     "output_type": "execute_result"
    }
   ],
   "source": [
    "oversampled['Concentration'].value_counts()"
   ]
  },
  {
   "cell_type": "code",
   "execution_count": 35,
   "metadata": {},
   "outputs": [
    {
     "data": {
      "application/vnd.jupyter.widget-view+json": {
       "model_id": "7d28d748b15a4737afd0a3278e1ec7bd",
       "version_major": 2,
       "version_minor": 0
      },
      "text/plain": [
       "Loading checkpoint shards:   0%|          | 0/2 [00:00<?, ?it/s]"
      ]
     },
     "metadata": {},
     "output_type": "display_data"
    },
    {
     "name": "stdout",
     "output_type": "stream",
     "text": [
      "Epoch  1 — train RMSE 593.641703 - train R2 -0.316990 — val RMSE 702.236399 - val R2 -0.464091\n",
      "Epoch  2 — train RMSE 566.706380 - train R2 -0.200189 — val RMSE 657.431760 - val R2 -0.283225\n",
      "Epoch  3 — train RMSE 539.815623 - train R2 -0.088992 — val RMSE 628.685563 - val R2 -0.173460\n",
      "Epoch  4 — train RMSE 535.783225 - train R2 -0.072783 — val RMSE 616.608485 - val R2 -0.128809\n",
      "Epoch  5 — train RMSE 513.406271 - train R2 0.014956 — val RMSE 590.490068 - val R2 -0.035206\n",
      "Epoch  6 — train RMSE 503.490061 - train R2 0.052639 — val RMSE 574.554885 - val R2 0.019913\n",
      "Epoch  7 — train RMSE 480.828113 - train R2 0.136001 — val RMSE 539.836692 - val R2 0.134781\n",
      "Epoch  8 — train RMSE 493.570057 - train R2 0.089602 — val RMSE 540.229189 - val R2 0.133522\n",
      "Epoch  9 — train RMSE 456.939802 - train R2 0.219718 — val RMSE 504.981248 - val R2 0.242902\n",
      "Epoch 10 — train RMSE 446.412113 - train R2 0.255259 — val RMSE 465.117741 - val R2 0.357716\n",
      "Epoch 11 — train RMSE 411.343704 - train R2 0.367671 — val RMSE 438.441379 - val R2 0.429278\n",
      "Epoch 12 — train RMSE 393.137723 - train R2 0.422406 — val RMSE 423.487946 - val R2 0.467544\n",
      "Epoch 13 — train RMSE 388.763985 - train R2 0.435186 — val RMSE 387.520066 - val R2 0.554149\n",
      "Epoch 14 — train RMSE 346.077614 - train R2 0.552410 — val RMSE 361.350673 - val R2 0.612333\n",
      "Epoch 15 — train RMSE 338.972977 - train R2 0.570598 — val RMSE 323.624011 - val R2 0.689056\n",
      "Epoch 16 — train RMSE 321.510292 - train R2 0.613701 — val RMSE 354.539628 - val R2 0.626809\n",
      "Epoch 17 — train RMSE 333.899411 - train R2 0.583356 — val RMSE 283.803388 - val R2 0.760869\n",
      "Epoch 18 — train RMSE 283.403199 - train R2 0.699847 — val RMSE 243.922088 - val R2 0.823354\n",
      "Epoch 19 — train RMSE 283.390762 - train R2 0.699873 — val RMSE 279.068187 - val R2 0.768782\n",
      "Epoch 20 — train RMSE 277.731360 - train R2 0.711741 — val RMSE 192.222978 - val R2 0.890299\n",
      "Epoch 21 — train RMSE 232.196731 - train R2 0.798514 — val RMSE 198.404042 - val R2 0.883130\n",
      "Epoch 22 — train RMSE 228.515779 - train R2 0.804851 — val RMSE 179.761862 - val R2 0.904061\n",
      "Epoch 23 — train RMSE 294.201972 - train R2 0.676537 — val RMSE 284.147097 - val R2 0.760289\n",
      "Epoch 24 — train RMSE 210.104959 - train R2 0.835030 — val RMSE 277.828818 - val R2 0.770831\n",
      "Epoch 25 — train RMSE 179.393580 - train R2 0.879733 — val RMSE 220.973225 - val R2 0.855029\n",
      "Epoch 26 — train RMSE 219.589988 - train R2 0.819798 — val RMSE 123.470878 - val R2 0.954738\n",
      "Epoch 27 — train RMSE 215.870320 - train R2 0.825852 — val RMSE 115.719347 - val R2 0.960243\n",
      "Epoch 28 — train RMSE 191.497594 - train R2 0.862956 — val RMSE 108.213846 - val R2 0.965233\n",
      "Epoch 29 — train RMSE 165.759416 - train R2 0.897319 — val RMSE 164.559555 - val R2 0.919602\n",
      "Epoch 30 — train RMSE 212.975577 - train R2 0.830491 — val RMSE 86.899313 - val R2 0.977580\n",
      "Epoch 31 — train RMSE 190.583286 - train R2 0.864262 — val RMSE 111.876264 - val R2 0.962840\n",
      "Epoch 32 — train RMSE 251.994356 - train R2 0.762690 — val RMSE 142.454484 - val R2 0.939750\n",
      "Epoch 33 — train RMSE 162.227208 - train R2 0.901648 — val RMSE 113.029860 - val R2 0.962070\n",
      "Epoch 34 — train RMSE 175.930983 - train R2 0.884331 — val RMSE 112.085653 - val R2 0.962701\n",
      "Epoch 35 — train RMSE 224.247863 - train R2 0.812073 — val RMSE 152.803845 - val R2 0.930678\n",
      "Epoch 36 — train RMSE 199.230536 - train R2 0.851664 — val RMSE 111.854593 - val R2 0.962854\n",
      "Epoch 37 — train RMSE 188.247704 - train R2 0.867568 — val RMSE 91.963447 - val R2 0.974891\n",
      "Epoch 38 — train RMSE 200.218573 - train R2 0.850189 — val RMSE 93.357286 - val R2 0.974124\n",
      "Epoch 39 — train RMSE 250.521099 - train R2 0.765457 — val RMSE 238.734755 - val R2 0.830787\n",
      "Epoch 40 — train RMSE 198.935394 - train R2 0.852104 — val RMSE 133.892021 - val R2 0.946776\n",
      "Epoch 41 — train RMSE 175.460999 - train R2 0.884948 — val RMSE 92.011901 - val R2 0.974864\n",
      "Epoch 42 — train RMSE 147.397013 - train R2 0.918808 — val RMSE 84.166806 - val R2 0.978968\n",
      "Epoch 43 — train RMSE 162.345391 - train R2 0.901505 — val RMSE 67.901746 - val R2 0.986311\n",
      "Epoch 44 — train RMSE 201.633304 - train R2 0.848065 — val RMSE 92.611830 - val R2 0.974536\n",
      "Epoch 45 — train RMSE 256.121160 - train R2 0.754854 — val RMSE 117.287211 - val R2 0.959158\n",
      "Epoch 46 — train RMSE 212.779177 - train R2 0.830803 — val RMSE 237.610408 - val R2 0.832378\n",
      "Epoch 47 — train RMSE 222.631054 - train R2 0.814773 — val RMSE 91.507739 - val R2 0.975139\n",
      "Epoch 48 — train RMSE 175.735764 - train R2 0.884587 — val RMSE 126.446354 - val R2 0.952531\n",
      "Epoch 49 — train RMSE 210.936821 - train R2 0.833721 — val RMSE 114.688735 - val R2 0.960948\n",
      "Epoch 50 — train RMSE 199.494970 - train R2 0.851270 — val RMSE 105.259504 - val R2 0.967105\n"
     ]
    }
   ],
   "source": [
    "train, validation = model_selection.train_test_split(oversampled, test_size=0.1, random_state=1, stratify= train['Concentration'])\n",
    "\n",
    "model_overs = train_model(configs, train, validation, 50, 8, True, False)"
   ]
  },
  {
   "cell_type": "code",
   "execution_count": 36,
   "metadata": {},
   "outputs": [
    {
     "name": "stdout",
     "output_type": "stream",
     "text": [
      "Test RMSE 237.536181 — Test R2 0.818570\n"
     ]
    }
   ],
   "source": [
    "model_overs.eval()\n",
    "\n",
    "#Normalize test data\n",
    "test.columns = test.columns.astype(str)\n",
    "scaler = StandardScaler()\n",
    "normalized = scaler.fit_transform(test.iloc[:,1:].T).T\n",
    "X_test_n = pd.DataFrame(normalized, columns = test.iloc[:,1:].columns)\n",
    "\n",
    "stand = StandardScaler()\n",
    "scaled = stand.fit_transform(X_test_n.iloc[:,1:])#Data leackage fix!!!!!\n",
    "X_test_n = pd.DataFrame(scaled, columns = X_test_n.iloc[:,1:].columns)\n",
    "\n",
    "X_test = torch.from_numpy(X_test_n.to_numpy().astype('float32')).unsqueeze(-1) \n",
    "y_test = torch.from_numpy(test.iloc[:,0].to_numpy().astype('float32')).unsqueeze(1).unsqueeze(1)\n",
    "\n",
    "device = torch.device(\"cuda\" if torch.cuda.is_available() else \"cpu\")\n",
    "X_test = X_test.to(device)\n",
    "y_test = y_test.to(device)\n",
    "\n",
    "\n",
    "with torch.no_grad():\n",
    "    y_pred = model_overs(X_test, None, None, None)\n",
    "\n",
    "r2_metric = R2Score() \n",
    "criterion = torch.nn.MSELoss()\n",
    "r2_metric.update(y_pred.squeeze(), y_test.squeeze())\n",
    "test_r2 = r2_metric.compute()\n",
    "test_rmse = sqrt(criterion(y_test, y_pred))\n",
    "\n",
    "\n",
    "print(f\"Test RMSE {test_rmse:.6f} — Test R2 {test_r2:.6f}\")\n"
   ]
  },
  {
   "cell_type": "code",
   "execution_count": null,
   "metadata": {},
   "outputs": [],
   "source": []
  },
  {
   "cell_type": "code",
   "execution_count": null,
   "metadata": {},
   "outputs": [],
   "source": []
  },
  {
   "cell_type": "code",
   "execution_count": null,
   "metadata": {},
   "outputs": [],
   "source": []
  },
  {
   "cell_type": "markdown",
   "metadata": {},
   "source": [
    "### Test Other LLMs"
   ]
  },
  {
   "cell_type": "markdown",
   "metadata": {},
   "source": [
    "#### GPT 2"
   ]
  },
  {
   "cell_type": "code",
   "execution_count": 42,
   "metadata": {},
   "outputs": [],
   "source": [
    "configs = Details(\n",
    "    pred_len = 1,      \n",
    "    seq_len  = 350,\n",
    "    d_ff = 32,\n",
    "    patch_len= 16, \n",
    "    stride = 8, \n",
    "    llm_layers = 12,\n",
    "    description = \"This dataset contains near-infrared (NIR) spectroscopy measurements of lactate concentration in a \" \\\n",
    "                  \"phosphate-buffered saline (PBS) solution. Each spectrum includes absorbance values across \" \\\n",
    "                  \"350 wavelengths. \" ,\n",
    "    dropout = 0.1,\n",
    "    n_heads = 2,\n",
    "    d_model = 16,\n",
    "    enc_in = 1,\n",
    "    d_llm = 768,\n",
    "    llm_model = 'GPT2',\n",
    "    lr = 0.0001\n",
    ")"
   ]
  },
  {
   "cell_type": "code",
   "execution_count": 45,
   "metadata": {},
   "outputs": [
    {
     "name": "stdout",
     "output_type": "stream",
     "text": [
      "Epoch  1 — train RMSE 699.866052 - train R2 -0.534255 — val RMSE 689.531963 - val R2 -0.507918\n",
      "Epoch  2 — train RMSE 691.786341 - train R2 -0.499034 — val RMSE 669.607295 - val R2 -0.422031\n",
      "Epoch  3 — train RMSE 673.612560 - train R2 -0.421307 — val RMSE 653.521955 - val R2 -0.354532\n",
      "Epoch  4 — train RMSE 659.323884 - train R2 -0.361649 — val RMSE 637.989659 - val R2 -0.290910\n",
      "Epoch  5 — train RMSE 650.613045 - train R2 -0.325907 — val RMSE 628.292888 - val R2 -0.251968\n",
      "Epoch  6 — train RMSE 640.812781 - train R2 -0.286263 — val RMSE 618.309426 - val R2 -0.212497\n",
      "Epoch  7 — train RMSE 632.917790 - train R2 -0.254764 — val RMSE 610.643871 - val R2 -0.182619\n",
      "Epoch  8 — train RMSE 625.976690 - train R2 -0.227394 — val RMSE 602.727855 - val R2 -0.152156\n",
      "Epoch  9 — train RMSE 616.776536 - train R2 -0.191580 — val RMSE 592.097945 - val R2 -0.111875\n",
      "Epoch 10 — train RMSE 619.583623 - train R2 -0.202451 — val RMSE 583.461104 - val R2 -0.079674\n",
      "Epoch 11 — train RMSE 599.243970 - train R2 -0.124799 — val RMSE 571.837902 - val R2 -0.037086\n",
      "Epoch 12 — train RMSE 591.179729 - train R2 -0.094729 — val RMSE 556.937518 - val R2 0.016257\n",
      "Epoch 13 — train RMSE 571.487609 - train R2 -0.023013 — val RMSE 547.167954 - val R2 0.050467\n",
      "Epoch 14 — train RMSE 569.681647 - train R2 -0.016558 — val RMSE 544.385157 - val R2 0.060101\n",
      "Epoch 15 — train RMSE 545.787258 - train R2 0.066930 — val RMSE 520.657363 - val R2 0.140249\n",
      "Epoch 16 — train RMSE 541.745376 - train R2 0.080698 — val RMSE 513.677097 - val R2 0.163147\n",
      "Epoch 17 — train RMSE 549.558730 - train R2 0.053990 — val RMSE 486.245557 - val R2 0.250140\n",
      "Epoch 18 — train RMSE 514.862466 - train R2 0.169672 — val RMSE 472.395243 - val R2 0.292250\n",
      "Epoch 19 — train RMSE 489.076265 - train R2 0.250760 — val RMSE 450.849909 - val R2 0.355337\n",
      "Epoch 20 — train RMSE 492.092679 - train R2 0.241490 — val RMSE 439.437789 - val R2 0.387560\n",
      "Epoch 21 — train RMSE 501.262799 - train R2 0.212957 — val RMSE 421.716202 - val R2 0.435961\n",
      "Epoch 22 — train RMSE 458.775257 - train R2 0.340724 — val RMSE 405.467559 - val R2 0.478588\n",
      "Epoch 23 — train RMSE 458.856736 - train R2 0.340490 — val RMSE 395.156377 - val R2 0.504770\n",
      "Epoch 24 — train RMSE 435.827869 - train R2 0.405027 — val RMSE 387.991385 - val R2 0.522566\n",
      "Epoch 25 — train RMSE 424.153804 - train R2 0.436473 — val RMSE 361.136879 - val R2 0.586370\n",
      "Epoch 26 — train RMSE 400.015264 - train R2 0.498789 — val RMSE 345.606549 - val R2 0.621180\n",
      "Epoch 27 — train RMSE 396.015047 - train R2 0.508763 — val RMSE 336.040429 - val R2 0.641861\n",
      "Epoch 28 — train RMSE 401.589476 - train R2 0.494836 — val RMSE 319.395563 - val R2 0.676461\n",
      "Epoch 29 — train RMSE 378.013385 - train R2 0.552408 — val RMSE 325.722598 - val R2 0.663516\n",
      "Epoch 30 — train RMSE 379.466913 - train R2 0.548960 — val RMSE 300.468332 - val R2 0.713670\n",
      "Epoch 31 — train RMSE 391.465923 - train R2 0.519984 — val RMSE 283.996479 - val R2 0.744203\n",
      "Epoch 32 — train RMSE 346.204419 - train R2 0.624567 — val RMSE 280.868724 - val R2 0.749807\n",
      "Epoch 33 — train RMSE 335.541564 - train R2 0.647337 — val RMSE 261.689256 - val R2 0.782810\n",
      "Epoch 34 — train RMSE 363.591366 - train R2 0.585910 — val RMSE 252.159257 - val R2 0.798341\n",
      "Epoch 35 — train RMSE 406.029608 - train R2 0.483604 — val RMSE 243.547574 - val R2 0.811879\n",
      "Epoch 36 — train RMSE 339.697922 - train R2 0.638546 — val RMSE 232.671054 - val R2 0.828307\n",
      "Epoch 37 — train RMSE 333.057139 - train R2 0.652540 — val RMSE 239.563943 - val R2 0.817983\n",
      "Epoch 38 — train RMSE 296.318872 - train R2 0.724966 — val RMSE 215.841060 - val R2 0.852247\n",
      "Epoch 39 — train RMSE 288.594578 - train R2 0.739118 — val RMSE 207.778503 - val R2 0.863079\n",
      "Epoch 40 — train RMSE 311.172123 - train R2 0.696702 — val RMSE 198.530743 - val R2 0.874996\n",
      "Epoch 41 — train RMSE 310.678941 - train R2 0.697663 — val RMSE 189.804222 - val R2 0.885744\n",
      "Epoch 42 — train RMSE 255.219488 - train R2 0.795969 — val RMSE 181.345417 - val R2 0.895701\n",
      "Epoch 43 — train RMSE 264.404116 - train R2 0.781020 — val RMSE 172.727819 - val R2 0.905378\n",
      "Epoch 44 — train RMSE 259.384393 - train R2 0.789256 — val RMSE 166.296541 - val R2 0.912293\n",
      "Epoch 45 — train RMSE 274.180006 - train R2 0.764528 — val RMSE 158.217602 - val R2 0.920608\n",
      "Epoch 46 — train RMSE 280.241953 - train R2 0.754001 — val RMSE 160.566893 - val R2 0.918233\n",
      "Epoch 47 — train RMSE 247.404193 - train R2 0.808274 — val RMSE 146.150677 - val R2 0.932256\n",
      "Epoch 48 — train RMSE 277.659408 - train R2 0.758514 — val RMSE 149.562581 - val R2 0.929056\n",
      "Epoch 49 — train RMSE 243.609662 - train R2 0.814110 — val RMSE 147.284980 - val R2 0.931200\n",
      "Epoch 50 — train RMSE 292.039981 - train R2 0.732852 — val RMSE 153.862927 - val R2 0.924918\n",
      "Epoch 51 — train RMSE 246.324529 - train R2 0.809943 — val RMSE 126.549129 - val R2 0.949209\n",
      "Epoch 52 — train RMSE 286.618225 - train R2 0.742679 — val RMSE 120.929908 - val R2 0.953619\n",
      "Epoch 53 — train RMSE 275.569962 - train R2 0.762135 — val RMSE 126.065604 - val R2 0.949596\n",
      "Epoch 54 — train RMSE 239.493136 - train R2 0.820339 — val RMSE 116.174478 - val R2 0.957195\n",
      "Epoch 55 — train RMSE 211.790259 - train R2 0.859499 — val RMSE 111.562113 - val R2 0.960527\n",
      "Epoch 56 — train RMSE 275.905237 - train R2 0.761555 — val RMSE 142.577506 - val R2 0.935528\n",
      "Epoch 57 — train RMSE 200.522786 - train R2 0.874051 — val RMSE 118.890342 - val R2 0.955171\n",
      "Epoch 58 — train RMSE 263.173091 - train R2 0.783055 — val RMSE 125.045419 - val R2 0.950409\n",
      "Epoch 59 — train RMSE 273.693869 - train R2 0.765362 — val RMSE 105.812147 - val R2 0.964491\n",
      "Epoch 60 — train RMSE 264.268224 - train R2 0.781245 — val RMSE 180.759216 - val R2 0.896374\n",
      "Epoch 61 — train RMSE 271.200618 - train R2 0.769618 — val RMSE 279.216861 - val R2 0.752741\n",
      "Epoch 62 — train RMSE 290.185192 - train R2 0.736234 — val RMSE 149.339352 - val R2 0.929268\n",
      "Epoch 63 — train RMSE 150.891664 - train R2 0.928682 — val RMSE 125.183185 - val R2 0.950300\n",
      "Epoch 64 — train RMSE 205.643280 - train R2 0.867536 — val RMSE 95.213235 - val R2 0.971248\n",
      "Epoch 65 — train RMSE 161.314645 - train R2 0.918489 — val RMSE 92.560237 - val R2 0.972828\n",
      "Epoch 66 — train RMSE 203.367843 - train R2 0.870452 — val RMSE 87.740558 - val R2 0.975584\n",
      "Epoch 67 — train RMSE 207.842963 - train R2 0.864687 — val RMSE 85.150097 - val R2 0.977005\n",
      "Epoch 68 — train RMSE 218.479357 - train R2 0.850484 — val RMSE 98.721904 - val R2 0.969090\n",
      "Epoch 69 — train RMSE 201.125191 - train R2 0.873293 — val RMSE 97.783222 - val R2 0.969675\n",
      "Epoch 70 — train RMSE 240.931767 - train R2 0.818174 — val RMSE 76.998583 - val R2 0.981197\n",
      "Epoch 71 — train RMSE 201.112552 - train R2 0.873309 — val RMSE 75.814841 - val R2 0.981770\n",
      "Epoch 72 — train RMSE 240.059557 - train R2 0.819488 — val RMSE 98.983379 - val R2 0.968926\n",
      "Epoch 73 — train RMSE 199.370586 - train R2 0.875494 — val RMSE 69.128811 - val R2 0.984844\n",
      "Epoch 74 — train RMSE 212.180944 - train R2 0.858980 — val RMSE 85.412724 - val R2 0.976863\n",
      "Epoch 75 — train RMSE 238.514571 - train R2 0.821804 — val RMSE 67.733594 - val R2 0.985450\n",
      "Epoch 76 — train RMSE 213.627364 - train R2 0.857051 — val RMSE 66.025043 - val R2 0.986174\n",
      "Epoch 77 — train RMSE 212.840556 - train R2 0.858102 — val RMSE 86.659644 - val R2 0.976182\n",
      "Epoch 78 — train RMSE 212.360823 - train R2 0.858741 — val RMSE 67.597529 - val R2 0.985508\n",
      "Epoch 79 — train RMSE 272.437496 - train R2 0.767512 — val RMSE 79.371399 - val R2 0.980020\n",
      "Epoch 80 — train RMSE 212.182430 - train R2 0.858978 — val RMSE 64.504136 - val R2 0.986804\n",
      "Epoch 81 — train RMSE 197.483765 - train R2 0.877840 — val RMSE 65.124234 - val R2 0.986549\n",
      "Epoch 82 — train RMSE 197.204129 - train R2 0.878185 — val RMSE 64.065109 - val R2 0.986983\n",
      "Epoch 83 — train RMSE 197.782725 - train R2 0.877469 — val RMSE 101.759685 - val R2 0.967159\n",
      "Epoch 84 — train RMSE 260.891819 - train R2 0.786799 — val RMSE 359.436980 - val R2 0.590254\n",
      "Epoch 85 — train RMSE 318.612225 - train R2 0.682025 — val RMSE 229.660433 - val R2 0.832721\n",
      "Epoch 86 — train RMSE 261.159597 - train R2 0.786362 — val RMSE 233.194399 - val R2 0.827533\n",
      "Epoch 87 — train RMSE 197.843222 - train R2 0.877395 — val RMSE 68.070765 - val R2 0.985304\n",
      "Epoch 88 — train RMSE 305.140132 - train R2 0.708347 — val RMSE 68.837365 - val R2 0.984971\n",
      "Epoch 89 — train RMSE 275.740314 - train R2 0.761840 — val RMSE 69.485968 - val R2 0.984687\n",
      "Epoch 90 — train RMSE 250.593854 - train R2 0.803298 — val RMSE 70.382549 - val R2 0.984289\n",
      "Epoch 91 — train RMSE 284.202666 - train R2 0.746998 — val RMSE 65.543279 - val R2 0.986375\n",
      "Epoch 92 — train RMSE 197.664776 - train R2 0.877616 — val RMSE 62.636387 - val R2 0.987557\n",
      "Epoch 93 — train RMSE 283.314803 - train R2 0.748576 — val RMSE 61.368711 - val R2 0.988056\n",
      "Epoch 94 — train RMSE 240.557109 - train R2 0.818739 — val RMSE 65.164123 - val R2 0.986533\n",
      "Epoch 95 — train RMSE 261.384760 - train R2 0.785993 — val RMSE 61.370587 - val R2 0.988055\n",
      "Epoch 96 — train RMSE 210.936391 - train R2 0.860630 — val RMSE 60.877494 - val R2 0.988246\n",
      "Epoch 97 — train RMSE 212.692590 - train R2 0.858299 — val RMSE 60.153687 - val R2 0.988524\n",
      "Epoch 98 — train RMSE 196.289705 - train R2 0.879312 — val RMSE 59.547015 - val R2 0.988754\n",
      "Epoch 99 — train RMSE 210.951386 - train R2 0.860610 — val RMSE 64.000847 - val R2 0.987009\n",
      "Epoch 100 — train RMSE 271.003435 - train R2 0.769953 — val RMSE 61.341054 - val R2 0.988066\n"
     ]
    }
   ],
   "source": [
    "train, test = model_selection.train_test_split(data, test_size=0.1, random_state=1, stratify= data['Concentration'])\n",
    "\n",
    "train, validation = model_selection.train_test_split(train, test_size=0.1, random_state=1, stratify= train['Concentration'])\n",
    "\n",
    "model ,train_rmse, train_r2, val_rmse, val_r2, stand  = train_model(configs, train, validation, 100, 8, True, False)"
   ]
  },
  {
   "cell_type": "markdown",
   "metadata": {},
   "source": [
    "##### Hyperparameter tunning"
   ]
  },
  {
   "cell_type": "code",
   "execution_count": 7,
   "metadata": {},
   "outputs": [
    {
     "name": "stdout",
     "output_type": "stream",
     "text": [
      "Trial  1  config : {'pred_len': 1, 'seq_len': 350, 'd_ff': 32, 'patch_len': 16, 'stride': 8, 'llm_layers': 4, 'content': 'This dataset contains near-infrared (NIR) spectroscopy measurements of lactate concentration in a phosphate-buffered saline (PBS) solution. Each spectrum includes absorbance values across 350 wavelengths. ', 'dropout': 0.1, 'd_model': 16, 'enc_in': 1, 'n_heads': 16, 'd_llm': 768, 'llm_model': 'GPT2', 'lr': 0.001}, 8\n",
      "Trial  1  results — train RMSE 235.557973 - train R2 0.826195 — val RMSE 92.081445 - val R2 0.973109\n",
      "Trial  2  config : {'pred_len': 1, 'seq_len': 350, 'd_ff': 32, 'patch_len': 16, 'stride': 8, 'llm_layers': 8, 'content': 'This dataset contains near-infrared (NIR) spectroscopy measurements of lactate concentration in a phosphate-buffered saline (PBS) solution. Each spectrum includes absorbance values across 350 wavelengths. ', 'dropout': 0.1, 'd_model': 16, 'enc_in': 1, 'n_heads': 8, 'd_llm': 768, 'llm_model': 'GPT2', 'lr': 0.001}, 8\n",
      "Trial  2  results — train RMSE 271.369398 - train R2 0.769331 — val RMSE 141.070603 - val R2 0.936884\n",
      "Trial  3  config : {'pred_len': 1, 'seq_len': 350, 'd_ff': 64, 'patch_len': 16, 'stride': 8, 'llm_layers': 8, 'content': 'This dataset contains near-infrared (NIR) spectroscopy measurements of lactate concentration in a phosphate-buffered saline (PBS) solution. Each spectrum includes absorbance values across 350 wavelengths. ', 'dropout': 0.1, 'd_model': 16, 'enc_in': 1, 'n_heads': 16, 'd_llm': 768, 'llm_model': 'GPT2', 'lr': 0.001}, 16\n",
      "Trial  3  results — train RMSE 186.358855 - train R2 0.891215 — val RMSE 85.275181 - val R2 0.976937\n",
      "Trial  4  config : {'pred_len': 1, 'seq_len': 350, 'd_ff': 64, 'patch_len': 16, 'stride': 8, 'llm_layers': 8, 'content': 'This dataset contains near-infrared (NIR) spectroscopy measurements of lactate concentration in a phosphate-buffered saline (PBS) solution. Each spectrum includes absorbance values across 350 wavelengths. ', 'dropout': 0.1, 'd_model': 16, 'enc_in': 1, 'n_heads': 4, 'd_llm': 768, 'llm_model': 'GPT2', 'lr': 0.001}, 8\n",
      "Trial  4  results — train RMSE 294.435278 - train R2 0.728452 — val RMSE 208.185919 - val R2 0.862542\n",
      "Trial  5  config : {'pred_len': 1, 'seq_len': 350, 'd_ff': 64, 'patch_len': 16, 'stride': 8, 'llm_layers': 12, 'content': 'This dataset contains near-infrared (NIR) spectroscopy measurements of lactate concentration in a phosphate-buffered saline (PBS) solution. Each spectrum includes absorbance values across 350 wavelengths. ', 'dropout': 0.1, 'd_model': 16, 'enc_in': 1, 'n_heads': 16, 'd_llm': 768, 'llm_model': 'GPT2', 'lr': 0.001}, 16\n",
      "Trial  5  results — train RMSE 258.884734 - train R2 0.790067 — val RMSE 138.155660 - val R2 0.939465\n",
      "Trial  6  config : {'pred_len': 1, 'seq_len': 350, 'd_ff': 64, 'patch_len': 16, 'stride': 8, 'llm_layers': 12, 'content': 'This dataset contains near-infrared (NIR) spectroscopy measurements of lactate concentration in a phosphate-buffered saline (PBS) solution. Each spectrum includes absorbance values across 350 wavelengths. ', 'dropout': 0.1, 'd_model': 16, 'enc_in': 1, 'n_heads': 16, 'd_llm': 768, 'llm_model': 'GPT2', 'lr': 0.001}, 8\n",
      "Trial  6  results — train RMSE 263.907514 - train R2 0.781842 — val RMSE 127.780207 - val R2 0.948216\n",
      "Trial  7  config : {'pred_len': 1, 'seq_len': 350, 'd_ff': 64, 'patch_len': 16, 'stride': 8, 'llm_layers': 8, 'content': 'This dataset contains near-infrared (NIR) spectroscopy measurements of lactate concentration in a phosphate-buffered saline (PBS) solution. Each spectrum includes absorbance values across 350 wavelengths. ', 'dropout': 0.1, 'd_model': 16, 'enc_in': 1, 'n_heads': 16, 'd_llm': 768, 'llm_model': 'GPT2', 'lr': 0.001}, 16\n",
      "Trial  7  results — train RMSE 254.736480 - train R2 0.796741 — val RMSE 100.400908 - val R2 0.968030\n",
      "Trial  8  config : {'pred_len': 1, 'seq_len': 350, 'd_ff': 32, 'patch_len': 16, 'stride': 8, 'llm_layers': 4, 'content': 'This dataset contains near-infrared (NIR) spectroscopy measurements of lactate concentration in a phosphate-buffered saline (PBS) solution. Each spectrum includes absorbance values across 350 wavelengths. ', 'dropout': 0.1, 'd_model': 16, 'enc_in': 1, 'n_heads': 16, 'd_llm': 768, 'llm_model': 'GPT2', 'lr': 0.001}, 8\n",
      "Trial  8  results — train RMSE 280.470362 - train R2 0.753600 — val RMSE 96.633466 - val R2 0.970384\n",
      "Trial  9  config : {'pred_len': 1, 'seq_len': 350, 'd_ff': 64, 'patch_len': 16, 'stride': 8, 'llm_layers': 12, 'content': 'This dataset contains near-infrared (NIR) spectroscopy measurements of lactate concentration in a phosphate-buffered saline (PBS) solution. Each spectrum includes absorbance values across 350 wavelengths. ', 'dropout': 0.1, 'd_model': 16, 'enc_in': 1, 'n_heads': 16, 'd_llm': 768, 'llm_model': 'GPT2', 'lr': 0.001}, 16\n",
      "Trial  9  results — train RMSE 180.031820 - train R2 0.898477 — val RMSE 144.308812 - val R2 0.933953\n",
      "Trial 10  config : {'pred_len': 1, 'seq_len': 350, 'd_ff': 32, 'patch_len': 16, 'stride': 8, 'llm_layers': 8, 'content': 'This dataset contains near-infrared (NIR) spectroscopy measurements of lactate concentration in a phosphate-buffered saline (PBS) solution. Each spectrum includes absorbance values across 350 wavelengths. ', 'dropout': 0.1, 'd_model': 16, 'enc_in': 1, 'n_heads': 8, 'd_llm': 768, 'llm_model': 'GPT2', 'lr': 0.001}, 8\n",
      "Trial 10  results — train RMSE 292.910264 - train R2 0.731257 — val RMSE 94.340189 - val R2 0.971773\n",
      "Trial 11  config : {'pred_len': 1, 'seq_len': 350, 'd_ff': 64, 'patch_len': 16, 'stride': 8, 'llm_layers': 4, 'content': 'This dataset contains near-infrared (NIR) spectroscopy measurements of lactate concentration in a phosphate-buffered saline (PBS) solution. Each spectrum includes absorbance values across 350 wavelengths. ', 'dropout': 0.1, 'd_model': 16, 'enc_in': 1, 'n_heads': 8, 'd_llm': 768, 'llm_model': 'GPT2', 'lr': 0.001}, 8\n",
      "Trial 11  results — train RMSE 277.857205 - train R2 0.758170 — val RMSE 180.494690 - val R2 0.896677\n",
      "Trial 12  config : {'pred_len': 1, 'seq_len': 350, 'd_ff': 64, 'patch_len': 16, 'stride': 8, 'llm_layers': 8, 'content': 'This dataset contains near-infrared (NIR) spectroscopy measurements of lactate concentration in a phosphate-buffered saline (PBS) solution. Each spectrum includes absorbance values across 350 wavelengths. ', 'dropout': 0.1, 'd_model': 16, 'enc_in': 1, 'n_heads': 4, 'd_llm': 768, 'llm_model': 'GPT2', 'lr': 0.001}, 8\n",
      "Trial 12  results — train RMSE 351.619162 - train R2 0.612731 — val RMSE 249.043766 - val R2 0.803293\n",
      "Trial 13  config : {'pred_len': 1, 'seq_len': 350, 'd_ff': 64, 'patch_len': 16, 'stride': 8, 'llm_layers': 4, 'content': 'This dataset contains near-infrared (NIR) spectroscopy measurements of lactate concentration in a phosphate-buffered saline (PBS) solution. Each spectrum includes absorbance values across 350 wavelengths. ', 'dropout': 0.1, 'd_model': 16, 'enc_in': 1, 'n_heads': 16, 'd_llm': 768, 'llm_model': 'GPT2', 'lr': 0.001}, 16\n",
      "Trial 13  results — train RMSE 221.665140 - train R2 0.846092 — val RMSE 86.787830 - val R2 0.976112\n",
      "Trial 14  config : {'pred_len': 1, 'seq_len': 350, 'd_ff': 32, 'patch_len': 16, 'stride': 8, 'llm_layers': 8, 'content': 'This dataset contains near-infrared (NIR) spectroscopy measurements of lactate concentration in a phosphate-buffered saline (PBS) solution. Each spectrum includes absorbance values across 350 wavelengths. ', 'dropout': 0.1, 'd_model': 16, 'enc_in': 1, 'n_heads': 16, 'd_llm': 768, 'llm_model': 'GPT2', 'lr': 0.001}, 8\n",
      "Trial 14  results — train RMSE 286.088948 - train R2 0.743629 — val RMSE 192.397508 - val R2 0.882600\n",
      "Trial 15  config : {'pred_len': 1, 'seq_len': 350, 'd_ff': 64, 'patch_len': 16, 'stride': 8, 'llm_layers': 4, 'content': 'This dataset contains near-infrared (NIR) spectroscopy measurements of lactate concentration in a phosphate-buffered saline (PBS) solution. Each spectrum includes absorbance values across 350 wavelengths. ', 'dropout': 0.1, 'd_model': 16, 'enc_in': 1, 'n_heads': 4, 'd_llm': 768, 'llm_model': 'GPT2', 'lr': 0.001}, 16\n",
      "Trial 15  results — train RMSE 272.205987 - train R2 0.767907 — val RMSE 107.035600 - val R2 0.963665\n",
      "Trial 16  config : {'pred_len': 1, 'seq_len': 350, 'd_ff': 64, 'patch_len': 16, 'stride': 8, 'llm_layers': 12, 'content': 'This dataset contains near-infrared (NIR) spectroscopy measurements of lactate concentration in a phosphate-buffered saline (PBS) solution. Each spectrum includes absorbance values across 350 wavelengths. ', 'dropout': 0.1, 'd_model': 16, 'enc_in': 1, 'n_heads': 4, 'd_llm': 768, 'llm_model': 'GPT2', 'lr': 0.001}, 8\n",
      "Trial 16  results — train RMSE 284.214298 - train R2 0.746977 — val RMSE 84.358816 - val R2 0.977430\n",
      "Trial 17  config : {'pred_len': 1, 'seq_len': 350, 'd_ff': 32, 'patch_len': 16, 'stride': 8, 'llm_layers': 8, 'content': 'This dataset contains near-infrared (NIR) spectroscopy measurements of lactate concentration in a phosphate-buffered saline (PBS) solution. Each spectrum includes absorbance values across 350 wavelengths. ', 'dropout': 0.1, 'd_model': 16, 'enc_in': 1, 'n_heads': 4, 'd_llm': 768, 'llm_model': 'GPT2', 'lr': 0.001}, 8\n",
      "Trial 17  results — train RMSE 263.524996 - train R2 0.782474 — val RMSE 178.592769 - val R2 0.898843\n",
      "Trial 18  config : {'pred_len': 1, 'seq_len': 350, 'd_ff': 64, 'patch_len': 16, 'stride': 8, 'llm_layers': 4, 'content': 'This dataset contains near-infrared (NIR) spectroscopy measurements of lactate concentration in a phosphate-buffered saline (PBS) solution. Each spectrum includes absorbance values across 350 wavelengths. ', 'dropout': 0.1, 'd_model': 16, 'enc_in': 1, 'n_heads': 16, 'd_llm': 768, 'llm_model': 'GPT2', 'lr': 0.001}, 16\n",
      "Trial 18  results — train RMSE 291.674312 - train R2 0.733521 — val RMSE 85.243921 - val R2 0.976954\n",
      "Trial 19  config : {'pred_len': 1, 'seq_len': 350, 'd_ff': 32, 'patch_len': 16, 'stride': 8, 'llm_layers': 8, 'content': 'This dataset contains near-infrared (NIR) spectroscopy measurements of lactate concentration in a phosphate-buffered saline (PBS) solution. Each spectrum includes absorbance values across 350 wavelengths. ', 'dropout': 0.1, 'd_model': 16, 'enc_in': 1, 'n_heads': 8, 'd_llm': 768, 'llm_model': 'GPT2', 'lr': 0.001}, 8\n",
      "Trial 19  results — train RMSE 344.545356 - train R2 0.628156 — val RMSE 216.322173 - val R2 0.851587\n",
      "Trial 20  config : {'pred_len': 1, 'seq_len': 350, 'd_ff': 64, 'patch_len': 16, 'stride': 8, 'llm_layers': 4, 'content': 'This dataset contains near-infrared (NIR) spectroscopy measurements of lactate concentration in a phosphate-buffered saline (PBS) solution. Each spectrum includes absorbance values across 350 wavelengths. ', 'dropout': 0.1, 'd_model': 16, 'enc_in': 1, 'n_heads': 16, 'd_llm': 768, 'llm_model': 'GPT2', 'lr': 0.001}, 8\n",
      "Trial 20  results — train RMSE 216.198503 - train R2 0.853589 — val RMSE 78.198472 - val R2 0.980606\n",
      "Trial 21  config : {'pred_len': 1, 'seq_len': 350, 'd_ff': 32, 'patch_len': 16, 'stride': 8, 'llm_layers': 8, 'content': 'This dataset contains near-infrared (NIR) spectroscopy measurements of lactate concentration in a phosphate-buffered saline (PBS) solution. Each spectrum includes absorbance values across 350 wavelengths. ', 'dropout': 0.1, 'd_model': 16, 'enc_in': 1, 'n_heads': 8, 'd_llm': 768, 'llm_model': 'GPT2', 'lr': 0.001}, 16\n",
      "Trial 21  results — train RMSE 253.786615 - train R2 0.798254 — val RMSE 201.439236 - val R2 0.871306\n",
      "Trial 22  config : {'pred_len': 1, 'seq_len': 350, 'd_ff': 32, 'patch_len': 16, 'stride': 8, 'llm_layers': 8, 'content': 'This dataset contains near-infrared (NIR) spectroscopy measurements of lactate concentration in a phosphate-buffered saline (PBS) solution. Each spectrum includes absorbance values across 350 wavelengths. ', 'dropout': 0.1, 'd_model': 16, 'enc_in': 1, 'n_heads': 8, 'd_llm': 768, 'llm_model': 'GPT2', 'lr': 0.001}, 16\n",
      "Trial 22  results — train RMSE 263.889720 - train R2 0.781871 — val RMSE 153.319833 - val R2 0.925447\n",
      "Trial 23  config : {'pred_len': 1, 'seq_len': 350, 'd_ff': 32, 'patch_len': 16, 'stride': 8, 'llm_layers': 12, 'content': 'This dataset contains near-infrared (NIR) spectroscopy measurements of lactate concentration in a phosphate-buffered saline (PBS) solution. Each spectrum includes absorbance values across 350 wavelengths. ', 'dropout': 0.1, 'd_model': 16, 'enc_in': 1, 'n_heads': 8, 'd_llm': 768, 'llm_model': 'GPT2', 'lr': 0.001}, 16\n",
      "Trial 23  results — train RMSE 291.437150 - train R2 0.733954 — val RMSE 169.050664 - val R2 0.909364\n",
      "Trial 24  config : {'pred_len': 1, 'seq_len': 350, 'd_ff': 32, 'patch_len': 16, 'stride': 8, 'llm_layers': 12, 'content': 'This dataset contains near-infrared (NIR) spectroscopy measurements of lactate concentration in a phosphate-buffered saline (PBS) solution. Each spectrum includes absorbance values across 350 wavelengths. ', 'dropout': 0.1, 'd_model': 16, 'enc_in': 1, 'n_heads': 4, 'd_llm': 768, 'llm_model': 'GPT2', 'lr': 0.001}, 16\n",
      "Trial 24  results — train RMSE 302.969533 - train R2 0.712482 — val RMSE 237.098448 - val R2 0.821710\n",
      "Trial 25  config : {'pred_len': 1, 'seq_len': 350, 'd_ff': 32, 'patch_len': 16, 'stride': 8, 'llm_layers': 4, 'content': 'This dataset contains near-infrared (NIR) spectroscopy measurements of lactate concentration in a phosphate-buffered saline (PBS) solution. Each spectrum includes absorbance values across 350 wavelengths. ', 'dropout': 0.1, 'd_model': 16, 'enc_in': 1, 'n_heads': 8, 'd_llm': 768, 'llm_model': 'GPT2', 'lr': 0.001}, 16\n",
      "Trial 25  results — train RMSE 201.260774 - train R2 0.873122 — val RMSE 90.155588 - val R2 0.974222\n",
      "Trial 26  config : {'pred_len': 1, 'seq_len': 350, 'd_ff': 32, 'patch_len': 16, 'stride': 8, 'llm_layers': 8, 'content': 'This dataset contains near-infrared (NIR) spectroscopy measurements of lactate concentration in a phosphate-buffered saline (PBS) solution. Each spectrum includes absorbance values across 350 wavelengths. ', 'dropout': 0.1, 'd_model': 16, 'enc_in': 1, 'n_heads': 16, 'd_llm': 768, 'llm_model': 'GPT2', 'lr': 0.001}, 16\n",
      "Trial 26  results — train RMSE 228.213860 - train R2 0.836863 — val RMSE 72.640707 - val R2 0.983265\n",
      "Trial 27  config : {'pred_len': 1, 'seq_len': 350, 'd_ff': 64, 'patch_len': 16, 'stride': 8, 'llm_layers': 12, 'content': 'This dataset contains near-infrared (NIR) spectroscopy measurements of lactate concentration in a phosphate-buffered saline (PBS) solution. Each spectrum includes absorbance values across 350 wavelengths. ', 'dropout': 0.1, 'd_model': 16, 'enc_in': 1, 'n_heads': 16, 'd_llm': 768, 'llm_model': 'GPT2', 'lr': 0.001}, 16\n",
      "Trial 27  results — train RMSE 298.064503 - train R2 0.721716 — val RMSE 104.609792 - val R2 0.965293\n",
      "Trial 28  config : {'pred_len': 1, 'seq_len': 350, 'd_ff': 64, 'patch_len': 16, 'stride': 8, 'llm_layers': 8, 'content': 'This dataset contains near-infrared (NIR) spectroscopy measurements of lactate concentration in a phosphate-buffered saline (PBS) solution. Each spectrum includes absorbance values across 350 wavelengths. ', 'dropout': 0.1, 'd_model': 16, 'enc_in': 1, 'n_heads': 4, 'd_llm': 768, 'llm_model': 'GPT2', 'lr': 0.001}, 16\n",
      "Trial 28  results — train RMSE 251.094671 - train R2 0.802511 — val RMSE 141.567881 - val R2 0.936438\n",
      "Trial 29  config : {'pred_len': 1, 'seq_len': 350, 'd_ff': 32, 'patch_len': 16, 'stride': 8, 'llm_layers': 4, 'content': 'This dataset contains near-infrared (NIR) spectroscopy measurements of lactate concentration in a phosphate-buffered saline (PBS) solution. Each spectrum includes absorbance values across 350 wavelengths. ', 'dropout': 0.1, 'd_model': 16, 'enc_in': 1, 'n_heads': 4, 'd_llm': 768, 'llm_model': 'GPT2', 'lr': 0.001}, 16\n",
      "Trial 29  results — train RMSE 322.630320 - train R2 0.673955 — val RMSE 198.607395 - val R2 0.874899\n",
      "Trial 30  config : {'pred_len': 1, 'seq_len': 350, 'd_ff': 32, 'patch_len': 16, 'stride': 8, 'llm_layers': 4, 'content': 'This dataset contains near-infrared (NIR) spectroscopy measurements of lactate concentration in a phosphate-buffered saline (PBS) solution. Each spectrum includes absorbance values across 350 wavelengths. ', 'dropout': 0.1, 'd_model': 16, 'enc_in': 1, 'n_heads': 8, 'd_llm': 768, 'llm_model': 'GPT2', 'lr': 0.001}, 8\n",
      "Trial 30  results — train RMSE 251.143048 - train R2 0.802435 — val RMSE 101.589047 - val R2 0.967269\n",
      "Best config : {'pred_len': 1, 'seq_len': 350, 'd_ff': 32, 'patch_len': 16, 'stride': 8, 'llm_layers': 8, 'content': 'This dataset contains near-infrared (NIR) spectroscopy measurements of lactate concentration in a phosphate-buffered saline (PBS) solution. Each spectrum includes absorbance values across 350 wavelengths. ', 'dropout': 0.1, 'd_model': 16, 'enc_in': 1, 'n_heads': 16, 'd_llm': 768, 'llm_model': 'GPT2', 'lr': 0.001}, 16 - best val RMSE : 72.640707\n"
     ]
    }
   ],
   "source": [
    "random_trials = 30\n",
    "\n",
    "best_config = None\n",
    "best_rmse = float('inf')\n",
    "results = {}\n",
    "\n",
    "for r in range(random_trials):\n",
    "    configs = Details(\n",
    "        pred_len = 1,      \n",
    "        seq_len  = 350,\n",
    "        d_ff = random.choice([32, 64]),\n",
    "        patch_len= 16, \n",
    "        stride = 8, \n",
    "        llm_layers = random.choice([4, 8, 12]),\n",
    "        description = \"This dataset contains near-infrared (NIR) spectroscopy measurements of lactate concentration in a \" \\\n",
    "                    \"phosphate-buffered saline (PBS) solution. Each spectrum includes absorbance values across \" \\\n",
    "                    \"350 wavelengths. \" ,\n",
    "        dropout = 0.1,\n",
    "        n_heads = random.choice([4, 8, 16]),\n",
    "        d_model = 16,\n",
    "        enc_in = 1,\n",
    "        d_llm = 768,\n",
    "        llm_model = 'GPT2',\n",
    "        lr = 0.001,\n",
    "    )\n",
    "    \n",
    "    batch_size = random.choice([8, 16])\n",
    "\n",
    "    train, test = model_selection.train_test_split(data, test_size=0.1, random_state=1, stratify= data['Concentration'])\n",
    "\n",
    "    train, validation = model_selection.train_test_split(train, test_size=0.1, random_state=1, stratify= train['Concentration'])\n",
    "\n",
    "    model ,train_rmse, train_r2, val_rmse, val_r2, stand  = train_model(configs, train, validation, 30, batch_size, False, False)\n",
    "\n",
    "    results[r] = {'config': configs, 'train_rmse' : train_rmse, 'train_r2': train_r2, 'val_rmse' : val_rmse, 'val_r2' : val_r2}\n",
    "\n",
    "    if val_rmse < best_rmse:\n",
    "        best_rmse = val_rmse\n",
    "        best_config = configs\n",
    "        best_batch = batch_size\n",
    "\n",
    "    print(f\"Trial {r + 1:2d}  config : {vars(configs)}, {batch_size}\")\n",
    "    print(f\"Trial {r + 1:2d}  results — train RMSE {train_rmse:.6f} - train R2 {train_r2:.6f} — val RMSE {val_rmse:.6f} - val R2 {val_r2:.6f}\")\n",
    "print(f\"Best config : {vars(best_config)}, {best_batch} - best val RMSE : {best_rmse:.6f}\")\n",
    "\n",
    "\n",
    "    "
   ]
  },
  {
   "cell_type": "markdown",
   "metadata": {},
   "source": [
    "Train best model:"
   ]
  },
  {
   "cell_type": "code",
   "execution_count": 9,
   "metadata": {},
   "outputs": [],
   "source": [
    "configs = Details(\n",
    "    pred_len = 1,      \n",
    "    seq_len  = 350,\n",
    "    d_ff = 32,\n",
    "    patch_len= 16, \n",
    "    stride = 8, \n",
    "    llm_layers = 8,\n",
    "    description = \"This dataset contains near-infrared (NIR) spectroscopy measurements of lactate concentration in a \" \\\n",
    "                  \"phosphate-buffered saline (PBS) solution. Each spectrum includes absorbance values across \" \\\n",
    "                  \"350 wavelengths. \" ,\n",
    "    dropout = 0.1,\n",
    "    n_heads = 16,\n",
    "    d_model = 16,\n",
    "    enc_in = 1,\n",
    "    d_llm = 768,\n",
    "    llm_model = 'GPT2',\n",
    "    lr = 0.0001\n",
    ")"
   ]
  },
  {
   "cell_type": "code",
   "execution_count": 11,
   "metadata": {},
   "outputs": [
    {
     "name": "stdout",
     "output_type": "stream",
     "text": [
      "Epoch  1 — train RMSE 699.606266 - train R2 -0.533116 — val RMSE 688.550777 - val R2 -0.503629\n",
      "Epoch  2 — train RMSE 695.441935 - train R2 -0.514919 — val RMSE 683.797713 - val R2 -0.482942\n",
      "Epoch  3 — train RMSE 689.477974 - train R2 -0.489047 — val RMSE 674.220986 - val R2 -0.441695\n",
      "Epoch  4 — train RMSE 679.620722 - train R2 -0.446774 — val RMSE 660.675648 - val R2 -0.384349\n",
      "Epoch  5 — train RMSE 669.355795 - train R2 -0.403400 — val RMSE 648.567544 - val R2 -0.334072\n",
      "Epoch  6 — train RMSE 656.391654 - train R2 -0.349564 — val RMSE 637.925373 - val R2 -0.290650\n",
      "Epoch  7 — train RMSE 651.075653 - train R2 -0.327793 — val RMSE 629.596572 - val R2 -0.257169\n",
      "Epoch  8 — train RMSE 638.624485 - train R2 -0.277493 — val RMSE 620.476178 - val R2 -0.221010\n",
      "Epoch  9 — train RMSE 630.253468 - train R2 -0.244223 — val RMSE 613.532268 - val R2 -0.193833\n",
      "Epoch 10 — train RMSE 622.052594 - train R2 -0.212054 — val RMSE 607.603541 - val R2 -0.170872\n",
      "Epoch 11 — train RMSE 618.313217 - train R2 -0.197525 — val RMSE 602.203973 - val R2 -0.150154\n",
      "Epoch 12 — train RMSE 607.495941 - train R2 -0.155991 — val RMSE 595.770273 - val R2 -0.125710\n",
      "Epoch 13 — train RMSE 608.634350 - train R2 -0.160327 — val RMSE 585.499746 - val R2 -0.087232\n",
      "Epoch 14 — train RMSE 599.386715 - train R2 -0.125335 — val RMSE 573.830141 - val R2 -0.044325\n",
      "Epoch 15 — train RMSE 591.730231 - train R2 -0.096769 — val RMSE 565.804378 - val R2 -0.015316\n",
      "Epoch 16 — train RMSE 583.792400 - train R2 -0.067541 — val RMSE 557.138518 - val R2 0.015547\n",
      "Epoch 17 — train RMSE 572.935137 - train R2 -0.028202 — val RMSE 548.689746 - val R2 0.045178\n",
      "Epoch 18 — train RMSE 570.720031 - train R2 -0.020267 — val RMSE 551.270918 - val R2 0.036173\n",
      "Epoch 19 — train RMSE 577.157246 - train R2 -0.043412 — val RMSE 534.450543 - val R2 0.094092\n",
      "Epoch 20 — train RMSE 560.803788 - train R2 0.014879 — val RMSE 529.620250 - val R2 0.110393\n",
      "Epoch 21 — train RMSE 554.957787 - train R2 0.035311 — val RMSE 519.380821 - val R2 0.144459\n",
      "Epoch 22 — train RMSE 547.450238 - train R2 0.061235 — val RMSE 512.549822 - val R2 0.166816\n",
      "Epoch 23 — train RMSE 549.511913 - train R2 0.054151 — val RMSE 504.750635 - val R2 0.191979\n",
      "Epoch 24 — train RMSE 543.883526 - train R2 0.073428 — val RMSE 497.889813 - val R2 0.213796\n",
      "Epoch 25 — train RMSE 538.170636 - train R2 0.092791 — val RMSE 491.651903 - val R2 0.233373\n",
      "Epoch 26 — train RMSE 522.741048 - train R2 0.144065 — val RMSE 489.507413 - val R2 0.240046\n",
      "Epoch 27 — train RMSE 516.829687 - train R2 0.163314 — val RMSE 479.631434 - val R2 0.270401\n",
      "Epoch 28 — train RMSE 517.606648 - train R2 0.160796 — val RMSE 471.542706 - val R2 0.294802\n",
      "Epoch 29 — train RMSE 486.139668 - train R2 0.259731 — val RMSE 461.756954 - val R2 0.323768\n",
      "Epoch 30 — train RMSE 493.658340 - train R2 0.236656 — val RMSE 456.587230 - val R2 0.338825\n",
      "Epoch 31 — train RMSE 506.727403 - train R2 0.195703 — val RMSE 451.656828 - val R2 0.353027\n",
      "Epoch 32 — train RMSE 492.179182 - train R2 0.241223 — val RMSE 446.514619 - val R2 0.367675\n",
      "Epoch 33 — train RMSE 491.527417 - train R2 0.243232 — val RMSE 441.914938 - val R2 0.380636\n",
      "Epoch 34 — train RMSE 477.834575 - train R2 0.284808 — val RMSE 436.363569 - val R2 0.396099\n",
      "Epoch 35 — train RMSE 484.737601 - train R2 0.263995 — val RMSE 429.338172 - val R2 0.415388\n",
      "Epoch 36 — train RMSE 461.549534 - train R2 0.332726 — val RMSE 422.849245 - val R2 0.432926\n",
      "Epoch 37 — train RMSE 447.396710 - train R2 0.373021 — val RMSE 416.321184 - val R2 0.450300\n",
      "Epoch 38 — train RMSE 448.441059 - train R2 0.370090 — val RMSE 411.546056 - val R2 0.462837\n",
      "Epoch 39 — train RMSE 442.905457 - train R2 0.385546 — val RMSE 403.278701 - val R2 0.484202\n",
      "Epoch 40 — train RMSE 431.010407 - train R2 0.418107 — val RMSE 400.451464 - val R2 0.491409\n",
      "Epoch 41 — train RMSE 451.126776 - train R2 0.362523 — val RMSE 396.684846 - val R2 0.500932\n",
      "Epoch 42 — train RMSE 456.162745 - train R2 0.348211 — val RMSE 395.827861 - val R2 0.503086\n",
      "Epoch 43 — train RMSE 488.188857 - train R2 0.253477 — val RMSE 388.638323 - val R2 0.520973\n",
      "Epoch 44 — train RMSE 440.920341 - train R2 0.391041 — val RMSE 380.098892 - val R2 0.541793\n",
      "Epoch 45 — train RMSE 434.680980 - train R2 0.408154 — val RMSE 375.588450 - val R2 0.552603\n",
      "Epoch 46 — train RMSE 400.206327 - train R2 0.498310 — val RMSE 365.895931 - val R2 0.575396\n",
      "Epoch 47 — train RMSE 402.928573 - train R2 0.491462 — val RMSE 362.405526 - val R2 0.583458\n",
      "Epoch 48 — train RMSE 455.403184 - train R2 0.350379 — val RMSE 353.169488 - val R2 0.604419\n",
      "Epoch 49 — train RMSE 427.678213 - train R2 0.427070 — val RMSE 343.003462 - val R2 0.626865\n",
      "Epoch 50 — train RMSE 414.609031 - train R2 0.461551 — val RMSE 342.819428 - val R2 0.627265\n",
      "Epoch 51 — train RMSE 403.390888 - train R2 0.490294 — val RMSE 332.506426 - val R2 0.649354\n",
      "Epoch 52 — train RMSE 389.754806 - train R2 0.524171 — val RMSE 329.799868 - val R2 0.655039\n",
      "Epoch 53 — train RMSE 428.899717 - train R2 0.423792 — val RMSE 331.907531 - val R2 0.650616\n",
      "Epoch 54 — train RMSE 397.661707 - train R2 0.504669 — val RMSE 326.228998 - val R2 0.662469\n",
      "Epoch 55 — train RMSE 376.277958 - train R2 0.556509 — val RMSE 312.372086 - val R2 0.690534\n",
      "Epoch 56 — train RMSE 372.677624 - train R2 0.564955 — val RMSE 311.848414 - val R2 0.691571\n",
      "Epoch 57 — train RMSE 380.450555 - train R2 0.546618 — val RMSE 301.030937 - val R2 0.712597\n",
      "Epoch 58 — train RMSE 377.380975 - train R2 0.553905 — val RMSE 304.141903 - val R2 0.706626\n",
      "Epoch 59 — train RMSE 398.927659 - train R2 0.501511 — val RMSE 294.357258 - val R2 0.725199\n",
      "Epoch 60 — train RMSE 372.670649 - train R2 0.564971 — val RMSE 282.365489 - val R2 0.747133\n",
      "Epoch 61 — train RMSE 363.560784 - train R2 0.585980 — val RMSE 272.995629 - val R2 0.763637\n",
      "Epoch 62 — train RMSE 336.865416 - train R2 0.644548 — val RMSE 272.831371 - val R2 0.763921\n",
      "Epoch 63 — train RMSE 354.528119 - train R2 0.606297 — val RMSE 267.444803 - val R2 0.773151\n",
      "Epoch 64 — train RMSE 324.711445 - train R2 0.669735 — val RMSE 257.814924 - val R2 0.789193\n",
      "Epoch 65 — train RMSE 328.001293 - train R2 0.663009 — val RMSE 259.792037 - val R2 0.785947\n",
      "Epoch 66 — train RMSE 278.250634 - train R2 0.757484 — val RMSE 252.686259 - val R2 0.797497\n",
      "Epoch 67 — train RMSE 316.681601 - train R2 0.685867 — val RMSE 247.722820 - val R2 0.805374\n",
      "Epoch 68 — train RMSE 329.532993 - train R2 0.659854 — val RMSE 245.893166 - val R2 0.808238\n",
      "Epoch 69 — train RMSE 338.412274 - train R2 0.641277 — val RMSE 240.319847 - val R2 0.816833\n",
      "Epoch 70 — train RMSE 290.184120 - train R2 0.736236 — val RMSE 226.181227 - val R2 0.837751\n",
      "Epoch 71 — train RMSE 309.127124 - train R2 0.700676 — val RMSE 219.085207 - val R2 0.847772\n",
      "Epoch 72 — train RMSE 321.511470 - train R2 0.676212 — val RMSE 218.561262 - val R2 0.848499\n",
      "Epoch 73 — train RMSE 292.971891 - train R2 0.731144 — val RMSE 219.377466 - val R2 0.847365\n",
      "Epoch 74 — train RMSE 319.406282 - train R2 0.680438 — val RMSE 208.679797 - val R2 0.861889\n",
      "Epoch 75 — train RMSE 285.929446 - train R2 0.743914 — val RMSE 204.322810 - val R2 0.867596\n",
      "Epoch 76 — train RMSE 255.216890 - train R2 0.795974 — val RMSE 205.225852 - val R2 0.866423\n",
      "Epoch 77 — train RMSE 271.115902 - train R2 0.769762 — val RMSE 190.203848 - val R2 0.885262\n",
      "Epoch 78 — train RMSE 289.144084 - train R2 0.738124 — val RMSE 183.077228 - val R2 0.893699\n",
      "Epoch 79 — train RMSE 229.343042 - train R2 0.835245 — val RMSE 186.997232 - val R2 0.889098\n",
      "Epoch 80 — train RMSE 307.298318 - train R2 0.704207 — val RMSE 180.210511 - val R2 0.897002\n",
      "Epoch 81 — train RMSE 270.050971 - train R2 0.771567 — val RMSE 174.465540 - val R2 0.903464\n",
      "Epoch 82 — train RMSE 277.492981 - train R2 0.758803 — val RMSE 169.594142 - val R2 0.908780\n",
      "Epoch 83 — train RMSE 241.118764 - train R2 0.817892 — val RMSE 172.042600 - val R2 0.906127\n",
      "Epoch 84 — train RMSE 264.438782 - train R2 0.780963 — val RMSE 158.620167 - val R2 0.920203\n",
      "Epoch 85 — train RMSE 319.574359 - train R2 0.680102 — val RMSE 151.689129 - val R2 0.927024\n",
      "Epoch 86 — train RMSE 235.919005 - train R2 0.825661 — val RMSE 159.863272 - val R2 0.918948\n",
      "Epoch 87 — train RMSE 278.473642 - train R2 0.757095 — val RMSE 154.299441 - val R2 0.924491\n",
      "Epoch 88 — train RMSE 240.920268 - train R2 0.818192 — val RMSE 155.041678 - val R2 0.923763\n",
      "Epoch 89 — train RMSE 241.316102 - train R2 0.817594 — val RMSE 139.850328 - val R2 0.937971\n",
      "Epoch 90 — train RMSE 228.029223 - train R2 0.837127 — val RMSE 149.508371 - val R2 0.929108\n",
      "Epoch 91 — train RMSE 238.824335 - train R2 0.821341 — val RMSE 146.354907 - val R2 0.932067\n",
      "Epoch 92 — train RMSE 224.307101 - train R2 0.842401 — val RMSE 127.242845 - val R2 0.948651\n",
      "Epoch 93 — train RMSE 225.008037 - train R2 0.841414 — val RMSE 127.601281 - val R2 0.948361\n",
      "Epoch 94 — train RMSE 279.664071 - train R2 0.755014 — val RMSE 122.645310 - val R2 0.952294\n",
      "Epoch 95 — train RMSE 264.828416 - train R2 0.780317 — val RMSE 124.959089 - val R2 0.950477\n",
      "Epoch 96 — train RMSE 298.267320 - train R2 0.721337 — val RMSE 132.077954 - val R2 0.944674\n",
      "Epoch 97 — train RMSE 242.477186 - train R2 0.815834 — val RMSE 141.528231 - val R2 0.936473\n",
      "Epoch 98 — train RMSE 240.894135 - train R2 0.818231 — val RMSE 127.223054 - val R2 0.948667\n",
      "Epoch 99 — train RMSE 262.953737 - train R2 0.783416 — val RMSE 114.597847 - val R2 0.958349\n",
      "Epoch 100 — train RMSE 238.119009 - train R2 0.822395 — val RMSE 120.295938 - val R2 0.954104\n",
      "Epoch 101 — train RMSE 271.471231 - train R2 0.769158 — val RMSE 111.596297 - val R2 0.960503\n",
      "Epoch 102 — train RMSE 237.595711 - train R2 0.823175 — val RMSE 107.490743 - val R2 0.963355\n",
      "Epoch 103 — train RMSE 247.405970 - train R2 0.808271 — val RMSE 101.004484 - val R2 0.967644\n",
      "Epoch 104 — train RMSE 196.243349 - train R2 0.879369 — val RMSE 106.632865 - val R2 0.963938\n",
      "Epoch 105 — train RMSE 236.417911 - train R2 0.824923 — val RMSE 104.794327 - val R2 0.965171\n",
      "Epoch 106 — train RMSE 176.215874 - train R2 0.902735 — val RMSE 99.389332 - val R2 0.968671\n",
      "Epoch 107 — train RMSE 258.854005 - train R2 0.790117 — val RMSE 90.547451 - val R2 0.973997\n",
      "Epoch 108 — train RMSE 297.546661 - train R2 0.722682 — val RMSE 96.619760 - val R2 0.970393\n",
      "Epoch 109 — train RMSE 189.180798 - train R2 0.887896 — val RMSE 90.593160 - val R2 0.973971\n",
      "Epoch 110 — train RMSE 277.874295 - train R2 0.758140 — val RMSE 97.394336 - val R2 0.969916\n",
      "Epoch 111 — train RMSE 203.755895 - train R2 0.869957 — val RMSE 91.754377 - val R2 0.973299\n",
      "Epoch 112 — train RMSE 243.625436 - train R2 0.814086 — val RMSE 94.456138 - val R2 0.971704\n",
      "Epoch 113 — train RMSE 267.488368 - train R2 0.775882 — val RMSE 94.728480 - val R2 0.971540\n",
      "Epoch 114 — train RMSE 229.693763 - train R2 0.834741 — val RMSE 103.453827 - val R2 0.966056\n",
      "Epoch 115 — train RMSE 275.197430 - train R2 0.762777 — val RMSE 88.462753 - val R2 0.975181\n",
      "Epoch 116 — train RMSE 204.158493 - train R2 0.869442 — val RMSE 82.187454 - val R2 0.978577\n",
      "Epoch 117 — train RMSE 215.915677 - train R2 0.853972 — val RMSE 88.336935 - val R2 0.975251\n",
      "Epoch 118 — train RMSE 188.671399 - train R2 0.888499 — val RMSE 85.334664 - val R2 0.976905\n",
      "Epoch 119 — train RMSE 253.182087 - train R2 0.799214 — val RMSE 79.979964 - val R2 0.979712\n",
      "Epoch 120 — train RMSE 216.376192 - train R2 0.853348 — val RMSE 88.555443 - val R2 0.975129\n",
      "Epoch 121 — train RMSE 186.208693 - train R2 0.891391 — val RMSE 75.520322 - val R2 0.981912\n",
      "Epoch 122 — train RMSE 284.541977 - train R2 0.746394 — val RMSE 75.464827 - val R2 0.981938\n",
      "Epoch 123 — train RMSE 274.366279 - train R2 0.764208 — val RMSE 75.106662 - val R2 0.982109\n",
      "Epoch 124 — train RMSE 263.461458 - train R2 0.782579 — val RMSE 80.092698 - val R2 0.979655\n",
      "Epoch 125 — train RMSE 254.426776 - train R2 0.797235 — val RMSE 94.587552 - val R2 0.971625\n",
      "Epoch 126 — train RMSE 151.738405 - train R2 0.927880 — val RMSE 79.618868 - val R2 0.979895\n",
      "Epoch 127 — train RMSE 227.643765 - train R2 0.837677 — val RMSE 91.262607 - val R2 0.973585\n",
      "Epoch 128 — train RMSE 229.008842 - train R2 0.835725 — val RMSE 84.376411 - val R2 0.977421\n",
      "Epoch 129 — train RMSE 251.248132 - train R2 0.802270 — val RMSE 88.480831 - val R2 0.975171\n",
      "Epoch 130 — train RMSE 214.776206 - train R2 0.855509 — val RMSE 82.345173 - val R2 0.978495\n",
      "Epoch 131 — train RMSE 305.922640 - train R2 0.706849 — val RMSE 73.040618 - val R2 0.983080\n",
      "Epoch 132 — train RMSE 229.540884 - train R2 0.834961 — val RMSE 88.032092 - val R2 0.975422\n",
      "Epoch 133 — train RMSE 252.769459 - train R2 0.799868 — val RMSE 144.345083 - val R2 0.933920\n",
      "Epoch 134 — train RMSE 168.583685 - train R2 0.910978 — val RMSE 76.087280 - val R2 0.981639\n",
      "Epoch 135 — train RMSE 167.184327 - train R2 0.912449 — val RMSE 82.787712 - val R2 0.978263\n",
      "Epoch 136 — train RMSE 228.042409 - train R2 0.837108 — val RMSE 77.164280 - val R2 0.981116\n",
      "Epoch 137 — train RMSE 213.892575 - train R2 0.856696 — val RMSE 77.015598 - val R2 0.981188\n",
      "Epoch 138 — train RMSE 200.102223 - train R2 0.874579 — val RMSE 87.495513 - val R2 0.975720\n",
      "Epoch 139 — train RMSE 212.758231 - train R2 0.858212 — val RMSE 73.822581 - val R2 0.982716\n",
      "Epoch 140 — train RMSE 184.774997 - train R2 0.893057 — val RMSE 80.433216 - val R2 0.979482\n",
      "Epoch 141 — train RMSE 184.333613 - train R2 0.893567 — val RMSE 74.928545 - val R2 0.982194\n",
      "Epoch 142 — train RMSE 197.377115 - train R2 0.877972 — val RMSE 76.497340 - val R2 0.981441\n",
      "Epoch 143 — train RMSE 198.126183 - train R2 0.877044 — val RMSE 68.501328 - val R2 0.985118\n",
      "Epoch 144 — train RMSE 183.316274 - train R2 0.894738 — val RMSE 66.743908 - val R2 0.985872\n",
      "Epoch 145 — train RMSE 238.601283 - train R2 0.821675 — val RMSE 87.615298 - val R2 0.975654\n",
      "Epoch 146 — train RMSE 263.719374 - train R2 0.782153 — val RMSE 85.219022 - val R2 0.976967\n",
      "Epoch 147 — train RMSE 273.368509 - train R2 0.765920 — val RMSE 70.893382 - val R2 0.984060\n",
      "Epoch 148 — train RMSE 250.238105 - train R2 0.803856 — val RMSE 81.545883 - val R2 0.978910\n",
      "Epoch 149 — train RMSE 182.307686 - train R2 0.895894 — val RMSE 68.809087 - val R2 0.984984\n",
      "Epoch 150 — train RMSE 198.206182 - train R2 0.876944 — val RMSE 74.931691 - val R2 0.982193\n",
      "Epoch 151 — train RMSE 197.530542 - train R2 0.877782 — val RMSE 72.893032 - val R2 0.983148\n",
      "Epoch 152 — train RMSE 197.780035 - train R2 0.877473 — val RMSE 68.825968 - val R2 0.984976\n",
      "Epoch 153 — train RMSE 312.320405 - train R2 0.694460 — val RMSE 105.479394 - val R2 0.964714\n",
      "Epoch 154 — train RMSE 250.245809 - train R2 0.803844 — val RMSE 68.584789 - val R2 0.985082\n",
      "Epoch 155 — train RMSE 225.567463 - train R2 0.840625 — val RMSE 87.144411 - val R2 0.975915\n",
      "Epoch 156 — train RMSE 283.819120 - train R2 0.747681 — val RMSE 69.082048 - val R2 0.984864\n",
      "Epoch 157 — train RMSE 183.944257 - train R2 0.894016 — val RMSE 77.715059 - val R2 0.980845\n",
      "Epoch 158 — train RMSE 213.187988 - train R2 0.857638 — val RMSE 70.574527 - val R2 0.984203\n",
      "Epoch 159 — train RMSE 239.100217 - train R2 0.820928 — val RMSE 75.238900 - val R2 0.982046\n",
      "Epoch 160 — train RMSE 197.865982 - train R2 0.877366 — val RMSE 84.631751 - val R2 0.977284\n",
      "Epoch 161 — train RMSE 183.047058 - train R2 0.895047 — val RMSE 81.032833 - val R2 0.979175\n",
      "Epoch 162 — train RMSE 181.714598 - train R2 0.896570 — val RMSE 68.906774 - val R2 0.984941\n",
      "Epoch 163 — train RMSE 165.082043 - train R2 0.914638 — val RMSE 83.212105 - val R2 0.978040\n",
      "Epoch 164 — train RMSE 260.158939 - train R2 0.787996 — val RMSE 59.299168 - val R2 0.988848\n",
      "Epoch 165 — train RMSE 181.456785 - train R2 0.896863 — val RMSE 67.197087 - val R2 0.985679\n",
      "Epoch 166 — train RMSE 209.305880 - train R2 0.862776 — val RMSE 59.452854 - val R2 0.988790\n",
      "Epoch 167 — train RMSE 210.286977 - train R2 0.861486 — val RMSE 68.380593 - val R2 0.985170\n",
      "Epoch 168 — train RMSE 249.798055 - train R2 0.804545 — val RMSE 71.076088 - val R2 0.983978\n",
      "Epoch 169 — train RMSE 223.804408 - train R2 0.843107 — val RMSE 66.924233 - val R2 0.985795\n",
      "Epoch 170 — train RMSE 292.705330 - train R2 0.731633 — val RMSE 69.529429 - val R2 0.984668\n",
      "Epoch 171 — train RMSE 210.367968 - train R2 0.861380 — val RMSE 95.438855 - val R2 0.971112\n",
      "Epoch 172 — train RMSE 146.832414 - train R2 0.932468 — val RMSE 63.007212 - val R2 0.987409\n",
      "Epoch 173 — train RMSE 223.692817 - train R2 0.843263 — val RMSE 67.300546 - val R2 0.985635\n",
      "Epoch 174 — train RMSE 210.238518 - train R2 0.861550 — val RMSE 62.611974 - val R2 0.987567\n",
      "Epoch 175 — train RMSE 224.766544 - train R2 0.841755 — val RMSE 64.946135 - val R2 0.986623\n",
      "Epoch 176 — train RMSE 124.548665 - train R2 0.951410 — val RMSE 60.310679 - val R2 0.988464\n",
      "Epoch 177 — train RMSE 211.484354 - train R2 0.859905 — val RMSE 77.869120 - val R2 0.980769\n",
      "Epoch 178 — train RMSE 273.078219 - train R2 0.766417 — val RMSE 65.407734 - val R2 0.986432\n",
      "Epoch 179 — train RMSE 259.905858 - train R2 0.788408 — val RMSE 65.266893 - val R2 0.986490\n",
      "Epoch 180 — train RMSE 271.131244 - train R2 0.769736 — val RMSE 60.760632 - val R2 0.988291\n",
      "Epoch 181 — train RMSE 180.012252 - train R2 0.898499 — val RMSE 62.213755 - val R2 0.987724\n",
      "Epoch 182 — train RMSE 247.395492 - train R2 0.808287 — val RMSE 62.331140 - val R2 0.987678\n",
      "Epoch 183 — train RMSE 94.393177 - train R2 0.972091 — val RMSE 94.765881 - val R2 0.971518\n",
      "Epoch 184 — train RMSE 224.825815 - train R2 0.841671 — val RMSE 61.828331 - val R2 0.987876\n",
      "Epoch 185 — train RMSE 248.985134 - train R2 0.805816 — val RMSE 62.322022 - val R2 0.987682\n",
      "Epoch 186 — train RMSE 180.765039 - train R2 0.897648 — val RMSE 61.764083 - val R2 0.987901\n",
      "Epoch 187 — train RMSE 259.730543 - train R2 0.788693 — val RMSE 63.450435 - val R2 0.987232\n",
      "Epoch 188 — train RMSE 247.999848 - train R2 0.807349 — val RMSE 62.228722 - val R2 0.987719\n",
      "Epoch 189 — train RMSE 259.505388 - train R2 0.789059 — val RMSE 62.513828 - val R2 0.987606\n",
      "Epoch 190 — train RMSE 223.395854 - train R2 0.843679 — val RMSE 66.166781 - val R2 0.986115\n",
      "Epoch 191 — train RMSE 270.299840 - train R2 0.771146 — val RMSE 61.174646 - val R2 0.988131\n",
      "Epoch 192 — train RMSE 209.316095 - train R2 0.862763 — val RMSE 64.075825 - val R2 0.986979\n",
      "Epoch 193 — train RMSE 248.327713 - train R2 0.806840 — val RMSE 59.086069 - val R2 0.988928\n",
      "Epoch 194 — train RMSE 210.863896 - train R2 0.860725 — val RMSE 61.474882 - val R2 0.988014\n",
      "Epoch 195 — train RMSE 178.101055 - train R2 0.900643 — val RMSE 59.134901 - val R2 0.988909\n",
      "Epoch 196 — train RMSE 269.838978 - train R2 0.771925 — val RMSE 61.508558 - val R2 0.988001\n",
      "Epoch 197 — train RMSE 209.163744 - train R2 0.862962 — val RMSE 61.544966 - val R2 0.987987\n",
      "Epoch 198 — train RMSE 310.369538 - train R2 0.698265 — val RMSE 65.958085 - val R2 0.986202\n",
      "Epoch 199 — train RMSE 260.361682 - train R2 0.787665 — val RMSE 227.967945 - val R2 0.835178\n",
      "Epoch 200 — train RMSE 232.149288 - train R2 0.831188 — val RMSE 184.419383 - val R2 0.892135\n"
     ]
    }
   ],
   "source": [
    "train, test = model_selection.train_test_split(data, test_size=0.1, random_state=1, stratify= data['Concentration'])\n",
    "\n",
    "train, validation = model_selection.train_test_split(train, test_size=0.1, random_state=1, stratify= train['Concentration'])\n",
    "\n",
    "model ,train_rmse, train_r2, val_rmse, val_r2, stand  = train_model(configs, train, validation, 200, 16, True, True)"
   ]
  },
  {
   "cell_type": "markdown",
   "metadata": {},
   "source": [
    "Grid search with 5-fold cv"
   ]
  },
  {
   "cell_type": "code",
   "execution_count": 14,
   "metadata": {},
   "outputs": [
    {
     "name": "stdout",
     "output_type": "stream",
     "text": [
      "Trial  1  config : {'pred_len': 1, 'seq_len': 350, 'd_ff': 32, 'patch_len': 16, 'stride': 8, 'llm_layers': 4, 'content': 'This dataset contains near-infrared (NIR) spectroscopy measurements of lactate concentration in a phosphate-buffered saline (PBS) solution. Each spectrum includes absorbance values across 350 wavelengths. ', 'dropout': 0.1, 'd_model': 16, 'enc_in': 1, 'n_heads': 4, 'd_llm': 768, 'llm_model': 'GPT2', 'lr': 0.001}, 8\n",
      "Trial  1 CV results — train RMSE 356.232323 - train R2 0.592366 — val RMSE 271.255699 - val R2 0.735146\n",
      "Trial  2  config : {'pred_len': 1, 'seq_len': 350, 'd_ff': 32, 'patch_len': 16, 'stride': 8, 'llm_layers': 4, 'content': 'This dataset contains near-infrared (NIR) spectroscopy measurements of lactate concentration in a phosphate-buffered saline (PBS) solution. Each spectrum includes absorbance values across 350 wavelengths. ', 'dropout': 0.1, 'd_model': 16, 'enc_in': 1, 'n_heads': 8, 'd_llm': 768, 'llm_model': 'GPT2', 'lr': 0.001}, 8\n",
      "Trial  2 CV results — train RMSE 348.578071 - train R2 0.609410 — val RMSE 276.064421 - val R2 0.744711\n",
      "Trial  3  config : {'pred_len': 1, 'seq_len': 350, 'd_ff': 32, 'patch_len': 16, 'stride': 8, 'llm_layers': 4, 'content': 'This dataset contains near-infrared (NIR) spectroscopy measurements of lactate concentration in a phosphate-buffered saline (PBS) solution. Each spectrum includes absorbance values across 350 wavelengths. ', 'dropout': 0.1, 'd_model': 16, 'enc_in': 1, 'n_heads': 16, 'd_llm': 768, 'llm_model': 'GPT2', 'lr': 0.001}, 8\n",
      "Trial  3 CV results — train RMSE 269.964883 - train R2 0.769227 — val RMSE 161.130500 - val R2 0.913372\n",
      "Trial  4  config : {'pred_len': 1, 'seq_len': 350, 'd_ff': 32, 'patch_len': 16, 'stride': 8, 'llm_layers': 8, 'content': 'This dataset contains near-infrared (NIR) spectroscopy measurements of lactate concentration in a phosphate-buffered saline (PBS) solution. Each spectrum includes absorbance values across 350 wavelengths. ', 'dropout': 0.1, 'd_model': 16, 'enc_in': 1, 'n_heads': 4, 'd_llm': 768, 'llm_model': 'GPT2', 'lr': 0.001}, 8\n",
      "Trial  4 CV results — train RMSE 312.361616 - train R2 0.679352 — val RMSE 199.323946 - val R2 0.865318\n",
      "Trial  5  config : {'pred_len': 1, 'seq_len': 350, 'd_ff': 32, 'patch_len': 16, 'stride': 8, 'llm_layers': 8, 'content': 'This dataset contains near-infrared (NIR) spectroscopy measurements of lactate concentration in a phosphate-buffered saline (PBS) solution. Each spectrum includes absorbance values across 350 wavelengths. ', 'dropout': 0.1, 'd_model': 16, 'enc_in': 1, 'n_heads': 8, 'd_llm': 768, 'llm_model': 'GPT2', 'lr': 0.001}, 8\n",
      "Trial  5 CV results — train RMSE 316.580501 - train R2 0.678596 — val RMSE 222.092662 - val R2 0.823995\n",
      "Trial  6  config : {'pred_len': 1, 'seq_len': 350, 'd_ff': 32, 'patch_len': 16, 'stride': 8, 'llm_layers': 8, 'content': 'This dataset contains near-infrared (NIR) spectroscopy measurements of lactate concentration in a phosphate-buffered saline (PBS) solution. Each spectrum includes absorbance values across 350 wavelengths. ', 'dropout': 0.1, 'd_model': 16, 'enc_in': 1, 'n_heads': 16, 'd_llm': 768, 'llm_model': 'GPT2', 'lr': 0.001}, 8\n",
      "Trial  6 CV results — train RMSE 335.786906 - train R2 0.614549 — val RMSE 230.843714 - val R2 0.763786\n",
      "Trial  7  config : {'pred_len': 1, 'seq_len': 350, 'd_ff': 32, 'patch_len': 16, 'stride': 8, 'llm_layers': 12, 'content': 'This dataset contains near-infrared (NIR) spectroscopy measurements of lactate concentration in a phosphate-buffered saline (PBS) solution. Each spectrum includes absorbance values across 350 wavelengths. ', 'dropout': 0.1, 'd_model': 16, 'enc_in': 1, 'n_heads': 4, 'd_llm': 768, 'llm_model': 'GPT2', 'lr': 0.001}, 8\n",
      "Trial  7 CV results — train RMSE 349.441115 - train R2 0.613967 — val RMSE 230.079828 - val R2 0.828661\n",
      "Trial  8  config : {'pred_len': 1, 'seq_len': 350, 'd_ff': 32, 'patch_len': 16, 'stride': 8, 'llm_layers': 12, 'content': 'This dataset contains near-infrared (NIR) spectroscopy measurements of lactate concentration in a phosphate-buffered saline (PBS) solution. Each spectrum includes absorbance values across 350 wavelengths. ', 'dropout': 0.1, 'd_model': 16, 'enc_in': 1, 'n_heads': 8, 'd_llm': 768, 'llm_model': 'GPT2', 'lr': 0.001}, 8\n",
      "Trial  8 CV results — train RMSE 331.583991 - train R2 0.650051 — val RMSE 217.290785 - val R2 0.836864\n",
      "Trial  9  config : {'pred_len': 1, 'seq_len': 350, 'd_ff': 32, 'patch_len': 16, 'stride': 8, 'llm_layers': 12, 'content': 'This dataset contains near-infrared (NIR) spectroscopy measurements of lactate concentration in a phosphate-buffered saline (PBS) solution. Each spectrum includes absorbance values across 350 wavelengths. ', 'dropout': 0.1, 'd_model': 16, 'enc_in': 1, 'n_heads': 16, 'd_llm': 768, 'llm_model': 'GPT2', 'lr': 0.001}, 8\n",
      "Trial  9 CV results — train RMSE 269.402121 - train R2 0.770800 — val RMSE 188.911970 - val R2 0.883269\n",
      "Trial 10  config : {'pred_len': 1, 'seq_len': 350, 'd_ff': 32, 'patch_len': 16, 'stride': 8, 'llm_layers': 4, 'content': 'This dataset contains near-infrared (NIR) spectroscopy measurements of lactate concentration in a phosphate-buffered saline (PBS) solution. Each spectrum includes absorbance values across 350 wavelengths. ', 'dropout': 0.1, 'd_model': 16, 'enc_in': 1, 'n_heads': 4, 'd_llm': 768, 'llm_model': 'GPT2', 'lr': 0.001}, 16\n",
      "Trial 10 CV results — train RMSE 325.794791 - train R2 0.655950 — val RMSE 224.897021 - val R2 0.817427\n",
      "Trial 11  config : {'pred_len': 1, 'seq_len': 350, 'd_ff': 32, 'patch_len': 16, 'stride': 8, 'llm_layers': 4, 'content': 'This dataset contains near-infrared (NIR) spectroscopy measurements of lactate concentration in a phosphate-buffered saline (PBS) solution. Each spectrum includes absorbance values across 350 wavelengths. ', 'dropout': 0.1, 'd_model': 16, 'enc_in': 1, 'n_heads': 8, 'd_llm': 768, 'llm_model': 'GPT2', 'lr': 0.001}, 16\n",
      "Trial 11 CV results — train RMSE 318.646279 - train R2 0.675605 — val RMSE 180.248101 - val R2 0.891569\n",
      "Trial 12  config : {'pred_len': 1, 'seq_len': 350, 'd_ff': 32, 'patch_len': 16, 'stride': 8, 'llm_layers': 4, 'content': 'This dataset contains near-infrared (NIR) spectroscopy measurements of lactate concentration in a phosphate-buffered saline (PBS) solution. Each spectrum includes absorbance values across 350 wavelengths. ', 'dropout': 0.1, 'd_model': 16, 'enc_in': 1, 'n_heads': 16, 'd_llm': 768, 'llm_model': 'GPT2', 'lr': 0.001}, 16\n",
      "Trial 12 CV results — train RMSE 317.960935 - train R2 0.675797 — val RMSE 196.635303 - val R2 0.870563\n",
      "Trial 13  config : {'pred_len': 1, 'seq_len': 350, 'd_ff': 32, 'patch_len': 16, 'stride': 8, 'llm_layers': 8, 'content': 'This dataset contains near-infrared (NIR) spectroscopy measurements of lactate concentration in a phosphate-buffered saline (PBS) solution. Each spectrum includes absorbance values across 350 wavelengths. ', 'dropout': 0.1, 'd_model': 16, 'enc_in': 1, 'n_heads': 4, 'd_llm': 768, 'llm_model': 'GPT2', 'lr': 0.001}, 16\n",
      "Trial 13 CV results — train RMSE 331.711919 - train R2 0.635857 — val RMSE 243.923913 - val R2 0.787347\n",
      "Trial 14  config : {'pred_len': 1, 'seq_len': 350, 'd_ff': 32, 'patch_len': 16, 'stride': 8, 'llm_layers': 8, 'content': 'This dataset contains near-infrared (NIR) spectroscopy measurements of lactate concentration in a phosphate-buffered saline (PBS) solution. Each spectrum includes absorbance values across 350 wavelengths. ', 'dropout': 0.1, 'd_model': 16, 'enc_in': 1, 'n_heads': 8, 'd_llm': 768, 'llm_model': 'GPT2', 'lr': 0.001}, 16\n",
      "Trial 14 CV results — train RMSE 303.970915 - train R2 0.707213 — val RMSE 190.917023 - val R2 0.872890\n",
      "Trial 15  config : {'pred_len': 1, 'seq_len': 350, 'd_ff': 32, 'patch_len': 16, 'stride': 8, 'llm_layers': 8, 'content': 'This dataset contains near-infrared (NIR) spectroscopy measurements of lactate concentration in a phosphate-buffered saline (PBS) solution. Each spectrum includes absorbance values across 350 wavelengths. ', 'dropout': 0.1, 'd_model': 16, 'enc_in': 1, 'n_heads': 16, 'd_llm': 768, 'llm_model': 'GPT2', 'lr': 0.001}, 16\n",
      "Trial 15 CV results — train RMSE 297.567017 - train R2 0.710024 — val RMSE 198.117728 - val R2 0.866865\n",
      "Trial 16  config : {'pred_len': 1, 'seq_len': 350, 'd_ff': 32, 'patch_len': 16, 'stride': 8, 'llm_layers': 12, 'content': 'This dataset contains near-infrared (NIR) spectroscopy measurements of lactate concentration in a phosphate-buffered saline (PBS) solution. Each spectrum includes absorbance values across 350 wavelengths. ', 'dropout': 0.1, 'd_model': 16, 'enc_in': 1, 'n_heads': 4, 'd_llm': 768, 'llm_model': 'GPT2', 'lr': 0.001}, 16\n",
      "Trial 16 CV results — train RMSE 382.100049 - train R2 0.540046 — val RMSE 292.751718 - val R2 0.716965\n",
      "Trial 17  config : {'pred_len': 1, 'seq_len': 350, 'd_ff': 32, 'patch_len': 16, 'stride': 8, 'llm_layers': 12, 'content': 'This dataset contains near-infrared (NIR) spectroscopy measurements of lactate concentration in a phosphate-buffered saline (PBS) solution. Each spectrum includes absorbance values across 350 wavelengths. ', 'dropout': 0.1, 'd_model': 16, 'enc_in': 1, 'n_heads': 8, 'd_llm': 768, 'llm_model': 'GPT2', 'lr': 0.001}, 16\n",
      "Trial 17 CV results — train RMSE 328.834604 - train R2 0.648261 — val RMSE 239.227340 - val R2 0.751966\n",
      "Trial 18  config : {'pred_len': 1, 'seq_len': 350, 'd_ff': 32, 'patch_len': 16, 'stride': 8, 'llm_layers': 12, 'content': 'This dataset contains near-infrared (NIR) spectroscopy measurements of lactate concentration in a phosphate-buffered saline (PBS) solution. Each spectrum includes absorbance values across 350 wavelengths. ', 'dropout': 0.1, 'd_model': 16, 'enc_in': 1, 'n_heads': 16, 'd_llm': 768, 'llm_model': 'GPT2', 'lr': 0.001}, 16\n",
      "Trial 18 CV results — train RMSE 301.873289 - train R2 0.710395 — val RMSE 218.161748 - val R2 0.839009\n",
      "Trial 19  config : {'pred_len': 1, 'seq_len': 350, 'd_ff': 64, 'patch_len': 16, 'stride': 8, 'llm_layers': 4, 'content': 'This dataset contains near-infrared (NIR) spectroscopy measurements of lactate concentration in a phosphate-buffered saline (PBS) solution. Each spectrum includes absorbance values across 350 wavelengths. ', 'dropout': 0.1, 'd_model': 16, 'enc_in': 1, 'n_heads': 4, 'd_llm': 768, 'llm_model': 'GPT2', 'lr': 0.001}, 8\n",
      "Trial 19 CV results — train RMSE 296.969793 - train R2 0.703893 — val RMSE 209.361271 - val R2 0.845465\n",
      "Trial 20  config : {'pred_len': 1, 'seq_len': 350, 'd_ff': 64, 'patch_len': 16, 'stride': 8, 'llm_layers': 4, 'content': 'This dataset contains near-infrared (NIR) spectroscopy measurements of lactate concentration in a phosphate-buffered saline (PBS) solution. Each spectrum includes absorbance values across 350 wavelengths. ', 'dropout': 0.1, 'd_model': 16, 'enc_in': 1, 'n_heads': 8, 'd_llm': 768, 'llm_model': 'GPT2', 'lr': 0.001}, 8\n",
      "Trial 20 CV results — train RMSE 294.082785 - train R2 0.723784 — val RMSE 170.020265 - val R2 0.899567\n",
      "Trial 21  config : {'pred_len': 1, 'seq_len': 350, 'd_ff': 64, 'patch_len': 16, 'stride': 8, 'llm_layers': 4, 'content': 'This dataset contains near-infrared (NIR) spectroscopy measurements of lactate concentration in a phosphate-buffered saline (PBS) solution. Each spectrum includes absorbance values across 350 wavelengths. ', 'dropout': 0.1, 'd_model': 16, 'enc_in': 1, 'n_heads': 16, 'd_llm': 768, 'llm_model': 'GPT2', 'lr': 0.001}, 8\n",
      "Trial 21 CV results — train RMSE 270.334160 - train R2 0.768621 — val RMSE 120.297329 - val R2 0.950361\n",
      "Trial 22  config : {'pred_len': 1, 'seq_len': 350, 'd_ff': 64, 'patch_len': 16, 'stride': 8, 'llm_layers': 8, 'content': 'This dataset contains near-infrared (NIR) spectroscopy measurements of lactate concentration in a phosphate-buffered saline (PBS) solution. Each spectrum includes absorbance values across 350 wavelengths. ', 'dropout': 0.1, 'd_model': 16, 'enc_in': 1, 'n_heads': 4, 'd_llm': 768, 'llm_model': 'GPT2', 'lr': 0.001}, 8\n",
      "Trial 22 CV results — train RMSE 307.512161 - train R2 0.684029 — val RMSE 241.700915 - val R2 0.801581\n",
      "Trial 23  config : {'pred_len': 1, 'seq_len': 350, 'd_ff': 64, 'patch_len': 16, 'stride': 8, 'llm_layers': 8, 'content': 'This dataset contains near-infrared (NIR) spectroscopy measurements of lactate concentration in a phosphate-buffered saline (PBS) solution. Each spectrum includes absorbance values across 350 wavelengths. ', 'dropout': 0.1, 'd_model': 16, 'enc_in': 1, 'n_heads': 8, 'd_llm': 768, 'llm_model': 'GPT2', 'lr': 0.001}, 8\n",
      "Trial 23 CV results — train RMSE 252.219737 - train R2 0.798799 — val RMSE 160.998103 - val R2 0.890108\n",
      "Trial 24  config : {'pred_len': 1, 'seq_len': 350, 'd_ff': 64, 'patch_len': 16, 'stride': 8, 'llm_layers': 8, 'content': 'This dataset contains near-infrared (NIR) spectroscopy measurements of lactate concentration in a phosphate-buffered saline (PBS) solution. Each spectrum includes absorbance values across 350 wavelengths. ', 'dropout': 0.1, 'd_model': 16, 'enc_in': 1, 'n_heads': 16, 'd_llm': 768, 'llm_model': 'GPT2', 'lr': 0.001}, 8\n",
      "Trial 24 CV results — train RMSE 238.174724 - train R2 0.817882 — val RMSE 180.248483 - val R2 0.874650\n",
      "Trial 25  config : {'pred_len': 1, 'seq_len': 350, 'd_ff': 64, 'patch_len': 16, 'stride': 8, 'llm_layers': 12, 'content': 'This dataset contains near-infrared (NIR) spectroscopy measurements of lactate concentration in a phosphate-buffered saline (PBS) solution. Each spectrum includes absorbance values across 350 wavelengths. ', 'dropout': 0.1, 'd_model': 16, 'enc_in': 1, 'n_heads': 4, 'd_llm': 768, 'llm_model': 'GPT2', 'lr': 0.001}, 8\n",
      "Trial 25 CV results — train RMSE 336.129234 - train R2 0.627519 — val RMSE 206.333927 - val R2 0.842428\n",
      "Trial 26  config : {'pred_len': 1, 'seq_len': 350, 'd_ff': 64, 'patch_len': 16, 'stride': 8, 'llm_layers': 12, 'content': 'This dataset contains near-infrared (NIR) spectroscopy measurements of lactate concentration in a phosphate-buffered saline (PBS) solution. Each spectrum includes absorbance values across 350 wavelengths. ', 'dropout': 0.1, 'd_model': 16, 'enc_in': 1, 'n_heads': 8, 'd_llm': 768, 'llm_model': 'GPT2', 'lr': 0.001}, 8\n",
      "Trial 26 CV results — train RMSE 304.066927 - train R2 0.704999 — val RMSE 198.583072 - val R2 0.854323\n",
      "Trial 27  config : {'pred_len': 1, 'seq_len': 350, 'd_ff': 64, 'patch_len': 16, 'stride': 8, 'llm_layers': 12, 'content': 'This dataset contains near-infrared (NIR) spectroscopy measurements of lactate concentration in a phosphate-buffered saline (PBS) solution. Each spectrum includes absorbance values across 350 wavelengths. ', 'dropout': 0.1, 'd_model': 16, 'enc_in': 1, 'n_heads': 16, 'd_llm': 768, 'llm_model': 'GPT2', 'lr': 0.001}, 8\n",
      "Trial 27 CV results — train RMSE 263.406493 - train R2 0.779963 — val RMSE 136.801851 - val R2 0.934521\n",
      "Trial 28  config : {'pred_len': 1, 'seq_len': 350, 'd_ff': 64, 'patch_len': 16, 'stride': 8, 'llm_layers': 4, 'content': 'This dataset contains near-infrared (NIR) spectroscopy measurements of lactate concentration in a phosphate-buffered saline (PBS) solution. Each spectrum includes absorbance values across 350 wavelengths. ', 'dropout': 0.1, 'd_model': 16, 'enc_in': 1, 'n_heads': 4, 'd_llm': 768, 'llm_model': 'GPT2', 'lr': 0.001}, 16\n",
      "Trial 28 CV results — train RMSE 320.663994 - train R2 0.662923 — val RMSE 201.092241 - val R2 0.833837\n",
      "Trial 29  config : {'pred_len': 1, 'seq_len': 350, 'd_ff': 64, 'patch_len': 16, 'stride': 8, 'llm_layers': 4, 'content': 'This dataset contains near-infrared (NIR) spectroscopy measurements of lactate concentration in a phosphate-buffered saline (PBS) solution. Each spectrum includes absorbance values across 350 wavelengths. ', 'dropout': 0.1, 'd_model': 16, 'enc_in': 1, 'n_heads': 8, 'd_llm': 768, 'llm_model': 'GPT2', 'lr': 0.001}, 16\n",
      "Trial 29 CV results — train RMSE 271.784531 - train R2 0.764655 — val RMSE 161.537784 - val R2 0.902871\n",
      "Trial 30  config : {'pred_len': 1, 'seq_len': 350, 'd_ff': 64, 'patch_len': 16, 'stride': 8, 'llm_layers': 4, 'content': 'This dataset contains near-infrared (NIR) spectroscopy measurements of lactate concentration in a phosphate-buffered saline (PBS) solution. Each spectrum includes absorbance values across 350 wavelengths. ', 'dropout': 0.1, 'd_model': 16, 'enc_in': 1, 'n_heads': 16, 'd_llm': 768, 'llm_model': 'GPT2', 'lr': 0.001}, 16\n",
      "Trial 30 CV results — train RMSE 275.395169 - train R2 0.756548 — val RMSE 139.752825 - val R2 0.934366\n",
      "Trial 31  config : {'pred_len': 1, 'seq_len': 350, 'd_ff': 64, 'patch_len': 16, 'stride': 8, 'llm_layers': 8, 'content': 'This dataset contains near-infrared (NIR) spectroscopy measurements of lactate concentration in a phosphate-buffered saline (PBS) solution. Each spectrum includes absorbance values across 350 wavelengths. ', 'dropout': 0.1, 'd_model': 16, 'enc_in': 1, 'n_heads': 4, 'd_llm': 768, 'llm_model': 'GPT2', 'lr': 0.001}, 16\n",
      "Trial 31 CV results — train RMSE 258.007586 - train R2 0.784099 — val RMSE 133.560020 - val R2 0.941170\n",
      "Trial 32  config : {'pred_len': 1, 'seq_len': 350, 'd_ff': 64, 'patch_len': 16, 'stride': 8, 'llm_layers': 8, 'content': 'This dataset contains near-infrared (NIR) spectroscopy measurements of lactate concentration in a phosphate-buffered saline (PBS) solution. Each spectrum includes absorbance values across 350 wavelengths. ', 'dropout': 0.1, 'd_model': 16, 'enc_in': 1, 'n_heads': 8, 'd_llm': 768, 'llm_model': 'GPT2', 'lr': 0.001}, 16\n",
      "Trial 32 CV results — train RMSE 245.526998 - train R2 0.803387 — val RMSE 156.204095 - val R2 0.917394\n",
      "Trial 33  config : {'pred_len': 1, 'seq_len': 350, 'd_ff': 64, 'patch_len': 16, 'stride': 8, 'llm_layers': 8, 'content': 'This dataset contains near-infrared (NIR) spectroscopy measurements of lactate concentration in a phosphate-buffered saline (PBS) solution. Each spectrum includes absorbance values across 350 wavelengths. ', 'dropout': 0.1, 'd_model': 16, 'enc_in': 1, 'n_heads': 16, 'd_llm': 768, 'llm_model': 'GPT2', 'lr': 0.001}, 16\n",
      "Trial 33 CV results — train RMSE 277.412059 - train R2 0.755043 — val RMSE 159.728650 - val R2 0.910617\n",
      "Trial 34  config : {'pred_len': 1, 'seq_len': 350, 'd_ff': 64, 'patch_len': 16, 'stride': 8, 'llm_layers': 12, 'content': 'This dataset contains near-infrared (NIR) spectroscopy measurements of lactate concentration in a phosphate-buffered saline (PBS) solution. Each spectrum includes absorbance values across 350 wavelengths. ', 'dropout': 0.1, 'd_model': 16, 'enc_in': 1, 'n_heads': 4, 'd_llm': 768, 'llm_model': 'GPT2', 'lr': 0.001}, 16\n",
      "Trial 34 CV results — train RMSE 309.411874 - train R2 0.694674 — val RMSE 184.490321 - val R2 0.865555\n",
      "Trial 35  config : {'pred_len': 1, 'seq_len': 350, 'd_ff': 64, 'patch_len': 16, 'stride': 8, 'llm_layers': 12, 'content': 'This dataset contains near-infrared (NIR) spectroscopy measurements of lactate concentration in a phosphate-buffered saline (PBS) solution. Each spectrum includes absorbance values across 350 wavelengths. ', 'dropout': 0.1, 'd_model': 16, 'enc_in': 1, 'n_heads': 8, 'd_llm': 768, 'llm_model': 'GPT2', 'lr': 0.001}, 16\n",
      "Trial 35 CV results — train RMSE 316.426777 - train R2 0.679889 — val RMSE 247.430534 - val R2 0.737004\n",
      "Trial 36  config : {'pred_len': 1, 'seq_len': 350, 'd_ff': 64, 'patch_len': 16, 'stride': 8, 'llm_layers': 12, 'content': 'This dataset contains near-infrared (NIR) spectroscopy measurements of lactate concentration in a phosphate-buffered saline (PBS) solution. Each spectrum includes absorbance values across 350 wavelengths. ', 'dropout': 0.1, 'd_model': 16, 'enc_in': 1, 'n_heads': 16, 'd_llm': 768, 'llm_model': 'GPT2', 'lr': 0.001}, 16\n",
      "Trial 36 CV results — train RMSE 273.785343 - train R2 0.758774 — val RMSE 159.587989 - val R2 0.913318\n",
      "Best config : ({'pred_len': 1, 'seq_len': 350, 'd_ff': 64, 'patch_len': 16, 'stride': 8, 'llm_layers': 4, 'content': 'This dataset contains near-infrared (NIR) spectroscopy measurements of lactate concentration in a phosphate-buffered saline (PBS) solution. Each spectrum includes absorbance values across 350 wavelengths. ', 'dropout': 0.1, 'd_model': 16, 'enc_in': 1, 'n_heads': 16, 'd_llm': 768, 'llm_model': 'GPT2', 'lr': 0.001}, {16}) - best cv val RMSE : 120.297329\n"
     ]
    }
   ],
   "source": [
    "param_grid = {'d_ff' : [32, 64], 'batch_size' : [8, 16], 'llm_layers' : [4, 8, 12], 'n_heads' :  [4, 8, 16]}\n",
    "\n",
    "keys = list(param_grid.keys())\n",
    "all_configs = list(itertools.product(*[param_grid[k] for k in keys]))\n",
    "\n",
    "best_config = None\n",
    "best_rmse = float('inf')\n",
    "results = []\n",
    "r = 0\n",
    "\n",
    "train, test = model_selection.train_test_split(data, test_size=0.1, random_state=1, stratify= data['Concentration'])\n",
    "\n",
    "for idx, values in enumerate(all_configs):\n",
    "    config_dict = dict(zip(keys, values))\n",
    "    \n",
    "    configs = Details(\n",
    "        pred_len = 1,      \n",
    "        seq_len  = 350,\n",
    "        d_ff = config_dict['d_ff'],\n",
    "        patch_len= 16, \n",
    "        stride = 8, \n",
    "        llm_layers = config_dict['llm_layers'],\n",
    "        description = \"This dataset contains near-infrared (NIR) spectroscopy measurements of lactate concentration in a \" \\\n",
    "                    \"phosphate-buffered saline (PBS) solution. Each spectrum includes absorbance values across \" \\\n",
    "                    \"350 wavelengths. \" ,\n",
    "        dropout = 0.1,\n",
    "        n_heads = config_dict['n_heads'],\n",
    "        d_model = 16,\n",
    "        enc_in = 1,\n",
    "        d_llm = 768,\n",
    "        llm_model = 'GPT2',\n",
    "        lr = 0.001,\n",
    "    )\n",
    "    \n",
    "    batch_size = config_dict['batch_size']\n",
    "\n",
    "    k = 5\n",
    "    kf = KFold(n_splits=k, shuffle=True, random_state=42)\n",
    "\n",
    "    train_rmse_list = []\n",
    "    train_r2_list = []\n",
    "    val_rmse_list = []\n",
    "    val_r2_list = []\n",
    "\n",
    "    for f, (train_i, val_i) in enumerate(kf.split(train)):\n",
    "        \n",
    "        #Split data \n",
    "        train_ds = train.iloc[train_i,:]\n",
    "        val_ds = train.iloc[val_i,:]\n",
    "\n",
    "        model, train_rmse, train_r2, val_rmse, val_r2, stand = train_model(configs, train_ds, val_ds, 20, batch_size, False, False)\n",
    "\n",
    "        train_rmse_list.append(train_rmse)\n",
    "        train_r2_list.append(train_r2)\n",
    "        val_rmse_list.append(val_rmse)\n",
    "        val_r2_list.append(val_r2)\n",
    "\n",
    "    \n",
    "    cv_train_rmse = sum(train_rmse_list)/k\n",
    "    cv_train_r2 = sum(train_r2_list)/k\n",
    "    cv_val_rmse = sum(val_rmse_list)/k\n",
    "    cv_val_r2 = sum(val_r2_list)/k\n",
    "    results.append({'config': configs, 'train_rmse' : cv_train_rmse, 'train_r2': cv_train_r2, 'val_rmse' : cv_val_rmse, 'val_r2' : cv_val_r2})\n",
    "    \n",
    "    if cv_val_rmse < best_rmse:\n",
    "        best_rmse = cv_val_rmse\n",
    "        best_config = configs\n",
    "    r += 1\n",
    "    print(f\"Trial {r:2d}  config : {vars(configs)}, {batch_size}\")\n",
    "    print(f\"Trial {r:2d} CV results — train RMSE {cv_train_rmse:.6f} - train R2 {cv_train_r2:.6f} — val RMSE {cv_val_rmse:.6f} - val R2 {cv_val_r2:.6f}\")\n",
    "print(f\"Best config : {vars(best_config), {batch_size}} - best cv val RMSE : {best_rmse:.6f}\")\n",
    "\n",
    "#Time 160 min"
   ]
  },
  {
   "cell_type": "code",
   "execution_count": 16,
   "metadata": {},
   "outputs": [
    {
     "data": {
      "text/plain": [
       "{'pred_len': 1,\n",
       " 'seq_len': 350,\n",
       " 'd_ff': 64,\n",
       " 'patch_len': 16,\n",
       " 'stride': 8,\n",
       " 'llm_layers': 4,\n",
       " 'content': 'This dataset contains near-infrared (NIR) spectroscopy measurements of lactate concentration in a phosphate-buffered saline (PBS) solution. Each spectrum includes absorbance values across 350 wavelengths. ',\n",
       " 'dropout': 0.1,\n",
       " 'd_model': 16,\n",
       " 'enc_in': 1,\n",
       " 'n_heads': 16,\n",
       " 'd_llm': 768,\n",
       " 'llm_model': 'GPT2',\n",
       " 'lr': 0.001}"
      ]
     },
     "execution_count": 16,
     "metadata": {},
     "output_type": "execute_result"
    }
   ],
   "source": [
    "vars(best_config)"
   ]
  },
  {
   "cell_type": "markdown",
   "metadata": {},
   "source": [
    "Best model after cross val grid search:"
   ]
  },
  {
   "cell_type": "code",
   "execution_count": 17,
   "metadata": {},
   "outputs": [],
   "source": [
    "configs = Details(\n",
    "    pred_len = 1,      \n",
    "    seq_len  = 350,\n",
    "    d_ff = 64,\n",
    "    patch_len= 16, \n",
    "    stride = 8, \n",
    "    llm_layers = 4,\n",
    "    description = \"This dataset contains near-infrared (NIR) spectroscopy measurements of lactate concentration in a \" \\\n",
    "                  \"phosphate-buffered saline (PBS) solution. Each spectrum includes absorbance values across \" \\\n",
    "                  \"350 wavelengths. \" ,\n",
    "    dropout = 0.1,\n",
    "    n_heads = 16,\n",
    "    d_model = 16,\n",
    "    enc_in = 1,\n",
    "    d_llm = 768,\n",
    "    llm_model = 'GPT2',\n",
    "    lr = 0.001\n",
    ")"
   ]
  },
  {
   "cell_type": "code",
   "execution_count": 22,
   "metadata": {},
   "outputs": [
    {
     "name": "stdout",
     "output_type": "stream",
     "text": [
      "Epoch  1 — train RMSE 679.981435 - train R2 -0.448310 — val RMSE 619.665358 - val R2 -0.217821\n",
      "Epoch  2 — train RMSE 589.206206 - train R2 -0.087432 — val RMSE 520.359303 - val R2 0.141233\n",
      "Epoch  3 — train RMSE 523.847132 - train R2 0.140439 — val RMSE 431.297606 - val R2 0.410039\n",
      "Epoch  4 — train RMSE 435.018560 - train R2 0.407234 — val RMSE 349.578340 - val R2 0.612423\n",
      "Epoch  5 — train RMSE 400.969415 - train R2 0.496395 — val RMSE 249.202172 - val R2 0.803043\n",
      "Epoch  6 — train RMSE 327.380243 - train R2 0.664284 — val RMSE 194.058353 - val R2 0.880564\n",
      "Epoch  7 — train RMSE 308.438738 - train R2 0.702007 — val RMSE 179.989843 - val R2 0.897254\n",
      "Epoch  8 — train RMSE 192.725634 - train R2 0.883655 — val RMSE 144.191635 - val R2 0.934060\n",
      "Epoch  9 — train RMSE 253.295722 - train R2 0.799034 — val RMSE 182.655600 - val R2 0.894188\n",
      "Epoch 10 — train RMSE 287.214615 - train R2 0.741607 — val RMSE 137.982937 - val R2 0.939616\n",
      "Epoch 11 — train RMSE 231.039435 - train R2 0.832799 — val RMSE 118.558345 - val R2 0.955421\n",
      "Epoch 12 — train RMSE 269.841981 - train R2 0.771920 — val RMSE 119.890512 - val R2 0.954413\n",
      "Epoch 13 — train RMSE 231.054340 - train R2 0.832777 — val RMSE 102.417031 - val R2 0.966733\n",
      "Epoch 14 — train RMSE 227.397464 - train R2 0.838028 — val RMSE 124.835947 - val R2 0.950575\n",
      "Epoch 15 — train RMSE 218.341579 - train R2 0.850672 — val RMSE 134.012236 - val R2 0.943042\n",
      "Epoch 16 — train RMSE 222.755975 - train R2 0.844573 — val RMSE 123.041290 - val R2 0.951986\n",
      "Epoch 17 — train RMSE 259.261974 - train R2 0.789455 — val RMSE 167.137066 - val R2 0.911404\n",
      "Epoch 18 — train RMSE 201.392663 - train R2 0.872956 — val RMSE 212.965196 - val R2 0.856158\n",
      "Epoch 19 — train RMSE 228.181587 - train R2 0.836909 — val RMSE 154.238373 - val R2 0.924551\n",
      "Epoch 20 — train RMSE 226.846701 - train R2 0.838812 — val RMSE 195.144343 - val R2 0.879224\n",
      "Epoch 21 — train RMSE 281.018195 - train R2 0.752636 — val RMSE 90.276561 - val R2 0.974153\n",
      "Epoch 22 — train RMSE 235.710118 - train R2 0.825970 — val RMSE 209.290319 - val R2 0.861079\n",
      "Epoch 23 — train RMSE 270.140271 - train R2 0.771416 — val RMSE 97.239965 - val R2 0.970011\n",
      "Epoch 24 — train RMSE 236.819775 - train R2 0.824328 — val RMSE 125.097099 - val R2 0.950368\n",
      "Epoch 25 — train RMSE 219.636896 - train R2 0.848895 — val RMSE 80.930990 - val R2 0.979227\n",
      "Epoch 26 — train RMSE 277.573093 - train R2 0.758664 — val RMSE 91.151228 - val R2 0.973649\n",
      "Epoch 27 — train RMSE 218.148996 - train R2 0.850936 — val RMSE 74.045728 - val R2 0.982611\n",
      "Epoch 28 — train RMSE 229.198517 - train R2 0.835453 — val RMSE 75.309610 - val R2 0.982013\n",
      "Epoch 29 — train RMSE 218.335493 - train R2 0.850681 — val RMSE 91.434640 - val R2 0.973485\n",
      "Epoch 30 — train RMSE 203.697027 - train R2 0.870032 — val RMSE 74.664312 - val R2 0.982319\n",
      "Epoch 31 — train RMSE 230.597959 - train R2 0.833437 — val RMSE 68.637045 - val R2 0.985059\n",
      "Epoch 32 — train RMSE 255.808401 - train R2 0.795027 — val RMSE 87.784176 - val R2 0.975560\n",
      "Epoch 33 — train RMSE 223.501934 - train R2 0.843530 — val RMSE 115.807915 - val R2 0.957465\n",
      "Epoch 34 — train RMSE 197.173507 - train R2 0.878223 — val RMSE 81.880719 - val R2 0.978737\n",
      "Epoch 35 — train RMSE 181.302272 - train R2 0.897039 — val RMSE 113.882103 - val R2 0.958868\n",
      "Epoch 36 — train RMSE 282.783471 - train R2 0.749519 — val RMSE 103.670115 - val R2 0.965914\n",
      "Epoch 37 — train RMSE 287.802909 - train R2 0.740547 — val RMSE 112.361027 - val R2 0.959959\n",
      "Epoch 38 — train RMSE 203.614447 - train R2 0.870137 — val RMSE 112.020127 - val R2 0.960202\n",
      "Epoch 39 — train RMSE 207.537126 - train R2 0.865085 — val RMSE 110.514091 - val R2 0.961265\n",
      "Epoch 40 — train RMSE 220.947681 - train R2 0.847086 — val RMSE 107.059212 - val R2 0.963649\n",
      "Epoch 41 — train RMSE 221.722943 - train R2 0.846011 — val RMSE 137.995747 - val R2 0.939605\n",
      "Early stopping triggered; Best val RMSE : 68.637045\n"
     ]
    }
   ],
   "source": [
    "train, test = model_selection.train_test_split(data, test_size=0.1, random_state=1, stratify= data['Concentration'])\n",
    "\n",
    "train, validation = model_selection.train_test_split(train, test_size=0.1, random_state=1, stratify= train['Concentration'])\n",
    "\n",
    "model ,train_rmse, train_r2, val_rmse, val_r2, stand  = train_model(configs, train, validation, 200, 16, True, True)"
   ]
  },
  {
   "cell_type": "markdown",
   "metadata": {},
   "source": [
    "#### Bert"
   ]
  },
  {
   "cell_type": "code",
   "execution_count": null,
   "metadata": {},
   "outputs": [],
   "source": [
    "configs = Details(\n",
    "    pred_len = 1,      \n",
    "    seq_len  = 350,\n",
    "    d_ff = 32,\n",
    "    patch_len= 16, \n",
    "    stride = 8, \n",
    "    llm_layers = 12,\n",
    "    description = \"This dataset contains near-infrared (NIR) spectroscopy measurements of lactate concentration in a \" \\\n",
    "                  \"phosphate-buffered saline (PBS) solution. Each spectrum includes absorbance values across \" \\\n",
    "                  \"350 wavelengths. \" ,\n",
    "    dropout = 0.1,\n",
    "    n_heads = 2,\n",
    "    d_model = 16,\n",
    "    enc_in = 1,\n",
    "    d_llm = 768,\n",
    "    llm_model = 'BERT',\n",
    "    lr = 0.0001\n",
    ")"
   ]
  },
  {
   "cell_type": "code",
   "execution_count": 46,
   "metadata": {},
   "outputs": [
    {
     "name": "stdout",
     "output_type": "stream",
     "text": [
      "Epoch  1 — train RMSE 701.261647 - train R2 -0.540379 — val RMSE 692.688851 - val R2 -0.521757\n",
      "Epoch  2 — train RMSE 698.651181 - train R2 -0.528932 — val RMSE 683.037111 - val R2 -0.479645\n",
      "Epoch  3 — train RMSE 679.288854 - train R2 -0.445361 — val RMSE 648.757978 - val R2 -0.334855\n",
      "Epoch  4 — train RMSE 648.301735 - train R2 -0.316503 — val RMSE 626.188040 - val R2 -0.243593\n",
      "Epoch  5 — train RMSE 635.494208 - train R2 -0.265000 — val RMSE 615.509602 - val R2 -0.201541\n",
      "Epoch  6 — train RMSE 635.495429 - train R2 -0.265006 — val RMSE 610.346552 - val R2 -0.181468\n",
      "Epoch  7 — train RMSE 623.095301 - train R2 -0.216120 — val RMSE 605.763806 - val R2 -0.163792\n",
      "Epoch  8 — train RMSE 617.661029 - train R2 -0.195000 — val RMSE 589.623490 - val R2 -0.102601\n",
      "Epoch  9 — train RMSE 618.882298 - train R2 -0.199731 — val RMSE 586.974306 - val R2 -0.092715\n",
      "Epoch 10 — train RMSE 593.004224 - train R2 -0.101497 — val RMSE 568.990595 - val R2 -0.026784\n",
      "Epoch 11 — train RMSE 590.598001 - train R2 -0.092576 — val RMSE 560.187720 - val R2 0.004741\n",
      "Epoch 12 — train RMSE 580.781678 - train R2 -0.056558 — val RMSE 550.556906 - val R2 0.038668\n",
      "Epoch 13 — train RMSE 565.159553 - train R2 -0.000483 — val RMSE 544.045925 - val R2 0.061272\n",
      "Epoch 14 — train RMSE 557.894527 - train R2 0.025074 — val RMSE 537.479524 - val R2 0.083795\n",
      "Epoch 15 — train RMSE 550.952689 - train R2 0.049185 — val RMSE 536.494932 - val R2 0.087149\n",
      "Epoch 16 — train RMSE 565.145265 - train R2 -0.000432 — val RMSE 513.860538 - val R2 0.162549\n",
      "Epoch 17 — train RMSE 524.225021 - train R2 0.139199 — val RMSE 506.850543 - val R2 0.185242\n",
      "Epoch 18 — train RMSE 525.541695 - train R2 0.134869 — val RMSE 462.144593 - val R2 0.322632\n",
      "Epoch 19 — train RMSE 501.373683 - train R2 0.212609 — val RMSE 448.294197 - val R2 0.362625\n",
      "Epoch 20 — train RMSE 474.689794 - train R2 0.294191 — val RMSE 433.503546 - val R2 0.403989\n",
      "Epoch 21 — train RMSE 470.977316 - train R2 0.305188 — val RMSE 415.080936 - val R2 0.453570\n",
      "Epoch 22 — train RMSE 462.600718 - train R2 0.329683 — val RMSE 406.276744 - val R2 0.476505\n",
      "Epoch 23 — train RMSE 455.467905 - train R2 0.350195 — val RMSE 405.262560 - val R2 0.479115\n",
      "Epoch 24 — train RMSE 436.488001 - train R2 0.403223 — val RMSE 377.170158 - val R2 0.548827\n",
      "Epoch 25 — train RMSE 422.204571 - train R2 0.441641 — val RMSE 366.949676 - val R2 0.572947\n",
      "Epoch 26 — train RMSE 442.228152 - train R2 0.387424 — val RMSE 364.010423 - val R2 0.579761\n",
      "Epoch 27 — train RMSE 412.205661 - train R2 0.467775 — val RMSE 356.558266 - val R2 0.596791\n",
      "Epoch 28 — train RMSE 393.301868 - train R2 0.515471 — val RMSE 330.511680 - val R2 0.653549\n",
      "Epoch 29 — train RMSE 380.529781 - train R2 0.546429 — val RMSE 323.343323 - val R2 0.668414\n",
      "Epoch 30 — train RMSE 380.357963 - train R2 0.546839 — val RMSE 304.647914 - val R2 0.705649\n",
      "Epoch 31 — train RMSE 330.086333 - train R2 0.658711 — val RMSE 293.617723 - val R2 0.726578\n",
      "Epoch 32 — train RMSE 339.462136 - train R2 0.639047 — val RMSE 280.791338 - val R2 0.749945\n",
      "Epoch 33 — train RMSE 313.702742 - train R2 0.691749 — val RMSE 272.235845 - val R2 0.764950\n",
      "Epoch 34 — train RMSE 329.578829 - train R2 0.659759 — val RMSE 258.729921 - val R2 0.787694\n",
      "Epoch 35 — train RMSE 338.654275 - train R2 0.640763 — val RMSE 249.550803 - val R2 0.802491\n",
      "Epoch 36 — train RMSE 328.177087 - train R2 0.662647 — val RMSE 240.104282 - val R2 0.817161\n",
      "Epoch 37 — train RMSE 336.470887 - train R2 0.645380 — val RMSE 237.790452 - val R2 0.820668\n",
      "Epoch 38 — train RMSE 302.800513 - train R2 0.712802 — val RMSE 226.963225 - val R2 0.836627\n",
      "Epoch 39 — train RMSE 305.626395 - train R2 0.707417 — val RMSE 220.464356 - val R2 0.845849\n",
      "Epoch 40 — train RMSE 306.386254 - train R2 0.705960 — val RMSE 207.511153 - val R2 0.863431\n",
      "Epoch 41 — train RMSE 297.102429 - train R2 0.723510 — val RMSE 196.577218 - val R2 0.877444\n",
      "Epoch 42 — train RMSE 295.907009 - train R2 0.725730 — val RMSE 192.588859 - val R2 0.882366\n",
      "Epoch 43 — train RMSE 285.904416 - train R2 0.743959 — val RMSE 179.728781 - val R2 0.897552\n",
      "Epoch 44 — train RMSE 323.683389 - train R2 0.671823 — val RMSE 173.109792 - val R2 0.904959\n",
      "Epoch 45 — train RMSE 242.221435 - train R2 0.816222 — val RMSE 162.981434 - val R2 0.915755\n",
      "Epoch 46 — train RMSE 249.689812 - train R2 0.804715 — val RMSE 155.033725 - val R2 0.923771\n",
      "Epoch 47 — train RMSE 275.049234 - train R2 0.763033 — val RMSE 149.247082 - val R2 0.929355\n",
      "Epoch 48 — train RMSE 301.408711 - train R2 0.715437 — val RMSE 164.647725 - val R2 0.914023\n",
      "Epoch 49 — train RMSE 256.964561 - train R2 0.793170 — val RMSE 139.928743 - val R2 0.937901\n",
      "Epoch 50 — train RMSE 254.096029 - train R2 0.797762 — val RMSE 134.744126 - val R2 0.942418\n",
      "Epoch 51 — train RMSE 281.338301 - train R2 0.752072 — val RMSE 132.085593 - val R2 0.944668\n",
      "Epoch 52 — train RMSE 260.508505 - train R2 0.787425 — val RMSE 130.142345 - val R2 0.946284\n",
      "Epoch 53 — train RMSE 209.478757 - train R2 0.862549 — val RMSE 116.220232 - val R2 0.957162\n",
      "Epoch 54 — train RMSE 266.035988 - train R2 0.778309 — val RMSE 115.362597 - val R2 0.957792\n",
      "Epoch 55 — train RMSE 267.976327 - train R2 0.775063 — val RMSE 122.162428 - val R2 0.952669\n",
      "Epoch 56 — train RMSE 253.667143 - train R2 0.798444 — val RMSE 107.510505 - val R2 0.963342\n",
      "Epoch 57 — train RMSE 270.934992 - train R2 0.770069 — val RMSE 105.226424 - val R2 0.964883\n",
      "Epoch 58 — train RMSE 236.263329 - train R2 0.825152 — val RMSE 100.403113 - val R2 0.968028\n",
      "Epoch 59 — train RMSE 234.675547 - train R2 0.827494 — val RMSE 96.547555 - val R2 0.970437\n",
      "Epoch 60 — train RMSE 193.407231 - train R2 0.882831 — val RMSE 93.961033 - val R2 0.972000\n",
      "Epoch 61 — train RMSE 235.299462 - train R2 0.826576 — val RMSE 92.111387 - val R2 0.973091\n",
      "Epoch 62 — train RMSE 268.688125 - train R2 0.773867 — val RMSE 122.965522 - val R2 0.952045\n",
      "Epoch 63 — train RMSE 176.395243 - train R2 0.902537 — val RMSE 91.308025 - val R2 0.973558\n",
      "Epoch 64 — train RMSE 266.918765 - train R2 0.776835 — val RMSE 87.897768 - val R2 0.975497\n",
      "Epoch 65 — train RMSE 217.316838 - train R2 0.852071 — val RMSE 85.970422 - val R2 0.976560\n",
      "Epoch 66 — train RMSE 215.162664 - train R2 0.854989 — val RMSE 93.866256 - val R2 0.972056\n",
      "Epoch 67 — train RMSE 254.511378 - train R2 0.797100 — val RMSE 103.337859 - val R2 0.966132\n",
      "Epoch 68 — train RMSE 239.824676 - train R2 0.819841 — val RMSE 82.667784 - val R2 0.978326\n",
      "Epoch 69 — train RMSE 216.129066 - train R2 0.853683 — val RMSE 78.126632 - val R2 0.980642\n",
      "Epoch 70 — train RMSE 231.385778 - train R2 0.832297 — val RMSE 84.066339 - val R2 0.977586\n",
      "Epoch 71 — train RMSE 201.783550 - train R2 0.872462 — val RMSE 76.211025 - val R2 0.981579\n",
      "Epoch 72 — train RMSE 240.504862 - train R2 0.818818 — val RMSE 72.723299 - val R2 0.983227\n",
      "Epoch 73 — train RMSE 199.752786 - train R2 0.875016 — val RMSE 74.132764 - val R2 0.982570\n",
      "Epoch 74 — train RMSE 263.415998 - train R2 0.782654 — val RMSE 70.796524 - val R2 0.984104\n",
      "Epoch 75 — train RMSE 263.001395 - train R2 0.783337 — val RMSE 70.632092 - val R2 0.984178\n",
      "Epoch 76 — train RMSE 273.711145 - train R2 0.765333 — val RMSE 69.707698 - val R2 0.984589\n",
      "Epoch 77 — train RMSE 214.659650 - train R2 0.855666 — val RMSE 70.070504 - val R2 0.984428\n",
      "Epoch 78 — train RMSE 212.762405 - train R2 0.858206 — val RMSE 69.225730 - val R2 0.984801\n",
      "Epoch 79 — train RMSE 212.477912 - train R2 0.858585 — val RMSE 66.121466 - val R2 0.986134\n",
      "Epoch 80 — train RMSE 196.989125 - train R2 0.878451 — val RMSE 67.622384 - val R2 0.985497\n",
      "Epoch 81 — train RMSE 210.523901 - train R2 0.861174 — val RMSE 71.256779 - val R2 0.983896\n",
      "Epoch 82 — train RMSE 226.520379 - train R2 0.839276 — val RMSE 72.197839 - val R2 0.983468\n",
      "Epoch 83 — train RMSE 240.082398 - train R2 0.819454 — val RMSE 68.552294 - val R2 0.985096\n",
      "Epoch 84 — train RMSE 224.304851 - train R2 0.842404 — val RMSE 67.465199 - val R2 0.985565\n",
      "Epoch 85 — train RMSE 300.405589 - train R2 0.717328 — val RMSE 108.163344 - val R2 0.962895\n",
      "Epoch 86 — train RMSE 360.846870 - train R2 0.592138 — val RMSE 160.092775 - val R2 0.918715\n",
      "Epoch 87 — train RMSE 277.384149 - train R2 0.758992 — val RMSE 114.255929 - val R2 0.958598\n",
      "Epoch 88 — train RMSE 240.550892 - train R2 0.818749 — val RMSE 78.901961 - val R2 0.980256\n",
      "Epoch 89 — train RMSE 266.365116 - train R2 0.777760 — val RMSE 79.826322 - val R2 0.979790\n",
      "Epoch 90 — train RMSE 217.256636 - train R2 0.852153 — val RMSE 69.232816 - val R2 0.984798\n",
      "Epoch 91 — train RMSE 293.993222 - train R2 0.729266 — val RMSE 74.518960 - val R2 0.982388\n",
      "Epoch 92 — train RMSE 200.315419 - train R2 0.874311 — val RMSE 104.810390 - val R2 0.965160\n",
      "Epoch 93 — train RMSE 227.488010 - train R2 0.837899 — val RMSE 75.836106 - val R2 0.981760\n",
      "Epoch 94 — train RMSE 198.395944 - train R2 0.876709 — val RMSE 76.374948 - val R2 0.981500\n",
      "Epoch 95 — train RMSE 266.512513 - train R2 0.777514 — val RMSE 83.632565 - val R2 0.977817\n",
      "Epoch 96 — train RMSE 227.816272 - train R2 0.837431 — val RMSE 99.192264 - val R2 0.968795\n",
      "Epoch 97 — train RMSE 254.222487 - train R2 0.797560 — val RMSE 72.316167 - val R2 0.983414\n",
      "Epoch 98 — train RMSE 251.018553 - train R2 0.802631 — val RMSE 71.826733 - val R2 0.983638\n",
      "Epoch 99 — train RMSE 228.926486 - train R2 0.835843 — val RMSE 81.539730 - val R2 0.978913\n",
      "Epoch 100 — train RMSE 254.711536 - train R2 0.796781 — val RMSE 155.285849 - val R2 0.923523\n"
     ]
    }
   ],
   "source": [
    "train, test = model_selection.train_test_split(data, test_size=0.1, random_state=1, stratify= data['Concentration'])\n",
    "\n",
    "train, validation = model_selection.train_test_split(train, test_size=0.1, random_state=1, stratify= train['Concentration'])\n",
    "\n",
    "model ,train_rmse, train_r2, val_rmse, val_r2, stand  = train_model(configs, train, validation, 100, 8, True, False)"
   ]
  },
  {
   "attachments": {},
   "cell_type": "markdown",
   "metadata": {},
   "source": [
    "### Hyperparameter tunning"
   ]
  },
  {
   "attachments": {},
   "cell_type": "markdown",
   "metadata": {},
   "source": [
    "#### Grid search over batch size and learning rate"
   ]
  },
  {
   "cell_type": "code",
   "execution_count": 7,
   "metadata": {},
   "outputs": [
    {
     "data": {
      "application/vnd.jupyter.widget-view+json": {
       "model_id": "a7b0c7c2fb9a48f4b4cb471f24691f08",
       "version_major": 2,
       "version_minor": 0
      },
      "text/plain": [
       "Loading checkpoint shards:   0%|          | 0/2 [00:00<?, ?it/s]"
      ]
     },
     "metadata": {},
     "output_type": "display_data"
    },
    {
     "name": "stdout",
     "output_type": "stream",
     "text": [
      "Trial  1  lr : 0.0001,  batch size :8\n",
      "Trial  1  results — train RMSE 327.358446 - train R2 0.664328 — val RMSE 256.896361 - val R2 0.790693\n"
     ]
    },
    {
     "data": {
      "application/vnd.jupyter.widget-view+json": {
       "model_id": "188c3c19c6e5422f9ef3cecd73d8a4c9",
       "version_major": 2,
       "version_minor": 0
      },
      "text/plain": [
       "Loading checkpoint shards:   0%|          | 0/2 [00:00<?, ?it/s]"
      ]
     },
     "metadata": {},
     "output_type": "display_data"
    },
    {
     "name": "stdout",
     "output_type": "stream",
     "text": [
      "Trial  2  lr : 0.0001,  batch size :16\n",
      "Trial  2  results — train RMSE 436.169210 - train R2 0.404094 — val RMSE 410.000372 - val R2 0.466865\n"
     ]
    },
    {
     "data": {
      "application/vnd.jupyter.widget-view+json": {
       "model_id": "a41cb4cf34b54b308e0211e596e841d9",
       "version_major": 2,
       "version_minor": 0
      },
      "text/plain": [
       "Loading checkpoint shards:   0%|          | 0/2 [00:00<?, ?it/s]"
      ]
     },
     "metadata": {},
     "output_type": "display_data"
    },
    {
     "name": "stdout",
     "output_type": "stream",
     "text": [
      "Trial  3  lr : 0.0001,  batch size :32\n",
      "Trial  3  results — train RMSE 573.834509 - train R2 -0.031433 — val RMSE 562.577411 - val R2 -0.003768\n"
     ]
    },
    {
     "data": {
      "application/vnd.jupyter.widget-view+json": {
       "model_id": "8e845ede34ef4315ad759ccfef83fcc5",
       "version_major": 2,
       "version_minor": 0
      },
      "text/plain": [
       "Loading checkpoint shards:   0%|          | 0/2 [00:00<?, ?it/s]"
      ]
     },
     "metadata": {},
     "output_type": "display_data"
    },
    {
     "name": "stdout",
     "output_type": "stream",
     "text": [
      "Trial  4  lr : 0.001,  batch size :8\n",
      "Trial  4  results — train RMSE 228.295154 - train R2 0.836747 — val RMSE 72.072755 - val R2 0.983526\n"
     ]
    },
    {
     "data": {
      "application/vnd.jupyter.widget-view+json": {
       "model_id": "1d79b33d24b94400a9571a628d15175e",
       "version_major": 2,
       "version_minor": 0
      },
      "text/plain": [
       "Loading checkpoint shards:   0%|          | 0/2 [00:00<?, ?it/s]"
      ]
     },
     "metadata": {},
     "output_type": "display_data"
    },
    {
     "name": "stdout",
     "output_type": "stream",
     "text": [
      "Trial  5  lr : 0.001,  batch size :16\n",
      "Trial  5  results — train RMSE 159.647615 - train R2 0.920165 — val RMSE 91.528695 - val R2 0.973431\n"
     ]
    },
    {
     "data": {
      "application/vnd.jupyter.widget-view+json": {
       "model_id": "166cef1e7d904ef894ac247b57aada47",
       "version_major": 2,
       "version_minor": 0
      },
      "text/plain": [
       "Loading checkpoint shards:   0%|          | 0/2 [00:00<?, ?it/s]"
      ]
     },
     "metadata": {},
     "output_type": "display_data"
    },
    {
     "name": "stdout",
     "output_type": "stream",
     "text": [
      "Trial  6  lr : 0.001,  batch size :32\n",
      "Trial  6  results — train RMSE 237.470926 - train R2 0.823360 — val RMSE 84.568597 - val R2 0.977318\n"
     ]
    },
    {
     "data": {
      "application/vnd.jupyter.widget-view+json": {
       "model_id": "9c0141a52d064f059d41b8d5172d42cc",
       "version_major": 2,
       "version_minor": 0
      },
      "text/plain": [
       "Loading checkpoint shards:   0%|          | 0/2 [00:00<?, ?it/s]"
      ]
     },
     "metadata": {},
     "output_type": "display_data"
    },
    {
     "name": "stdout",
     "output_type": "stream",
     "text": [
      "Trial  7  lr : 0.01,  batch size :8\n",
      "Trial  7  results — train RMSE 299.918828 - train R2 0.718243 — val RMSE 120.420760 - val R2 0.954009\n"
     ]
    },
    {
     "data": {
      "application/vnd.jupyter.widget-view+json": {
       "model_id": "a2523e614f7d49e680391c305cfb2f11",
       "version_major": 2,
       "version_minor": 0
      },
      "text/plain": [
       "Loading checkpoint shards:   0%|          | 0/2 [00:00<?, ?it/s]"
      ]
     },
     "metadata": {},
     "output_type": "display_data"
    },
    {
     "name": "stdout",
     "output_type": "stream",
     "text": [
      "Trial  8  lr : 0.01,  batch size :16\n",
      "Trial  8  results — train RMSE 495.287300 - train R2 0.231609 — val RMSE 623.551196 - val R2 -0.233142\n"
     ]
    },
    {
     "data": {
      "application/vnd.jupyter.widget-view+json": {
       "model_id": "02536a38c5654912840ee2c884fcbc89",
       "version_major": 2,
       "version_minor": 0
      },
      "text/plain": [
       "Loading checkpoint shards:   0%|          | 0/2 [00:00<?, ?it/s]"
      ]
     },
     "metadata": {},
     "output_type": "display_data"
    },
    {
     "name": "stdout",
     "output_type": "stream",
     "text": [
      "Trial  9  lr : 0.01,  batch size :32\n",
      "Trial  9  results — train RMSE 362.301451 - train R2 0.588843 — val RMSE 219.073965 - val R2 0.847787\n"
     ]
    },
    {
     "data": {
      "application/vnd.jupyter.widget-view+json": {
       "model_id": "09ab69a1383944e8b76b6536f502aca5",
       "version_major": 2,
       "version_minor": 0
      },
      "text/plain": [
       "Loading checkpoint shards:   0%|          | 0/2 [00:00<?, ?it/s]"
      ]
     },
     "metadata": {},
     "output_type": "display_data"
    },
    {
     "name": "stdout",
     "output_type": "stream",
     "text": [
      "Trial 10  lr : 0.1,  batch size :8\n",
      "Trial 10  results — train RMSE 328.919276 - train R2 0.661120 — val RMSE 243.672153 - val R2 0.811687\n"
     ]
    },
    {
     "data": {
      "application/vnd.jupyter.widget-view+json": {
       "model_id": "407019b3db944994832d8038957d6948",
       "version_major": 2,
       "version_minor": 0
      },
      "text/plain": [
       "Loading checkpoint shards:   0%|          | 0/2 [00:00<?, ?it/s]"
      ]
     },
     "metadata": {},
     "output_type": "display_data"
    },
    {
     "name": "stdout",
     "output_type": "stream",
     "text": [
      "Trial 11  lr : 0.1,  batch size :16\n",
      "Trial 11  results — train RMSE 294.321334 - train R2 0.728662 — val RMSE 135.515707 - val R2 0.941756\n"
     ]
    },
    {
     "data": {
      "application/vnd.jupyter.widget-view+json": {
       "model_id": "f2cf955eb2374e90977c83f6ce6be181",
       "version_major": 2,
       "version_minor": 0
      },
      "text/plain": [
       "Loading checkpoint shards:   0%|          | 0/2 [00:00<?, ?it/s]"
      ]
     },
     "metadata": {},
     "output_type": "display_data"
    },
    {
     "name": "stdout",
     "output_type": "stream",
     "text": [
      "Trial 12  lr : 0.1,  batch size :32\n",
      "Trial 12  results — train RMSE 293.043622 - train R2 0.731012 — val RMSE 133.844148 - val R2 0.943184\n",
      "Best config : {'pred_len': 1, 'seq_len': 350, 'd_ff': 32, 'patch_len': 16, 'stride': 8, 'llm_layers': 4, 'content': 'This dataset contains near-infrared (NIR) spectroscopy measurements of lactate concentration in a phosphate-buffered saline (PBS) solution. Each spectrum includes absorbance values across 350 wavelengths. ', 'dropout': 0.1, 'd_model': 16, 'enc_in': 1, 'n_heads': 2, 'd_llm': 4096, 'llm_model': 'LLAMA', 'lr': 0.1} - best val RMSE : 72.072755\n"
     ]
    }
   ],
   "source": [
    "param_grid = {'lr' : [1e-4, 1e-3, 1e-2, 1e-1], 'batch_size' : [8, 16, 32]}\n",
    "\n",
    "keys = list(param_grid.keys())\n",
    "all_configs = list(itertools.product(*[param_grid[k] for k in keys]))\n",
    "\n",
    "best_config = None\n",
    "best_rmse = float('inf')\n",
    "results = []\n",
    "r = 0\n",
    "for idx, values in enumerate(all_configs):\n",
    "    config_dict = dict(zip(keys, values))\n",
    "    \n",
    "    configs = Details(\n",
    "    pred_len = 1,      \n",
    "    seq_len  = 350,\n",
    "    d_ff = 32,\n",
    "    patch_len= 16, \n",
    "    stride = 8, \n",
    "    llm_layers = 4,\n",
    "    description = \"This dataset contains near-infrared (NIR) spectroscopy measurements of lactate concentration in a \" \\\n",
    "                  \"phosphate-buffered saline (PBS) solution. Each spectrum includes absorbance values across \" \\\n",
    "                  \"350 wavelengths. \" ,\n",
    "    dropout = 0.1,\n",
    "    n_heads = 2,\n",
    "    d_model = 16,\n",
    "    enc_in = 1,\n",
    "    d_llm = 4096,\n",
    "    llm_model = 'LLAMA',\n",
    "    lr = config_dict['lr']\n",
    "    )\n",
    "    \n",
    "    batch_size = config_dict['batch_size']\n",
    "\n",
    "    train, test = model_selection.train_test_split(data, test_size=0.1, random_state=1, stratify= data['Concentration'])\n",
    "\n",
    "    train, validation = model_selection.train_test_split(train, test_size=0.1, random_state=1, stratify= train['Concentration'])\n",
    "\n",
    "    model ,train_rmse, train_r2, val_rmse, val_r2, stand  = train_model(configs, train, validation, 20, batch_size, False, False)\n",
    "\n",
    "    results.append({'config': configs, 'train_rmse' : train_rmse, 'train_r2': train_r2, 'val_rmse' : val_rmse, 'val_r2' : val_r2})\n",
    "    \n",
    "    if val_rmse < best_rmse:\n",
    "        best_rmse = val_rmse\n",
    "        best_config = configs\n",
    "    r += 1\n",
    "    print(f\"Trial {r:2d}  lr : {config_dict['lr']},  batch size :{batch_size}\")\n",
    "    print(f\"Trial {r:2d}  results — train RMSE {train_rmse:.6f} - train R2 {train_r2:.6f} — val RMSE {val_rmse:.6f} - val R2 {val_r2:.6f}\")\n",
    "print(f\"Best config : {vars(best_config)} - best val RMSE : {best_rmse:.6f}\")\n",
    "\n",
    "\n",
    "\n",
    "    "
   ]
  },
  {
   "cell_type": "code",
   "execution_count": 8,
   "metadata": {},
   "outputs": [
    {
     "data": {
      "text/plain": [
       "{'pred_len': 1,\n",
       " 'seq_len': 350,\n",
       " 'd_ff': 32,\n",
       " 'patch_len': 16,\n",
       " 'stride': 8,\n",
       " 'llm_layers': 4,\n",
       " 'content': 'This dataset contains near-infrared (NIR) spectroscopy measurements of lactate concentration in a phosphate-buffered saline (PBS) solution. Each spectrum includes absorbance values across 350 wavelengths. ',\n",
       " 'dropout': 0.1,\n",
       " 'd_model': 16,\n",
       " 'enc_in': 1,\n",
       " 'n_heads': 2,\n",
       " 'd_llm': 4096,\n",
       " 'llm_model': 'LLAMA',\n",
       " 'lr': 0.001}"
      ]
     },
     "execution_count": 8,
     "metadata": {},
     "output_type": "execute_result"
    }
   ],
   "source": [
    "vars(best_config)"
   ]
  },
  {
   "attachments": {},
   "cell_type": "markdown",
   "metadata": {},
   "source": [
    "#### Random search"
   ]
  },
  {
   "cell_type": "code",
   "execution_count": 7,
   "metadata": {},
   "outputs": [
    {
     "data": {
      "application/vnd.jupyter.widget-view+json": {
       "model_id": "0c282f8786ba4cc9befe19d2b759300e",
       "version_major": 2,
       "version_minor": 0
      },
      "text/plain": [
       "Loading checkpoint shards:   0%|          | 0/2 [00:00<?, ?it/s]"
      ]
     },
     "metadata": {},
     "output_type": "display_data"
    },
    {
     "ename": "RuntimeError",
     "evalue": "CUDA error: out of memory\nCUDA kernel errors might be asynchronously reported at some other API call, so the stacktrace below might be incorrect.\nFor debugging consider passing CUDA_LAUNCH_BLOCKING=1\nCompile with `TORCH_USE_CUDA_DSA` to enable device-side assertions.\n",
     "output_type": "error",
     "traceback": [
      "\u001b[0;31m---------------------------------------------------------------------------\u001b[0m",
      "\u001b[0;31mRuntimeError\u001b[0m                              Traceback (most recent call last)",
      "Cell \u001b[0;32mIn[7], line 36\u001b[0m\n\u001b[1;32m     32\u001b[0m train, test \u001b[39m=\u001b[39m model_selection\u001b[39m.\u001b[39mtrain_test_split(data, test_size\u001b[39m=\u001b[39m\u001b[39m0.1\u001b[39m, random_state\u001b[39m=\u001b[39m\u001b[39m1\u001b[39m, stratify\u001b[39m=\u001b[39m data[\u001b[39m'\u001b[39m\u001b[39mConcentration\u001b[39m\u001b[39m'\u001b[39m])\n\u001b[1;32m     34\u001b[0m train, validation \u001b[39m=\u001b[39m model_selection\u001b[39m.\u001b[39mtrain_test_split(train, test_size\u001b[39m=\u001b[39m\u001b[39m0.1\u001b[39m, random_state\u001b[39m=\u001b[39m\u001b[39m1\u001b[39m, stratify\u001b[39m=\u001b[39m train[\u001b[39m'\u001b[39m\u001b[39mConcentration\u001b[39m\u001b[39m'\u001b[39m])\n\u001b[0;32m---> 36\u001b[0m model ,train_rmse, train_r2, val_rmse, val_r2, stand  \u001b[39m=\u001b[39m train_model(configs, train, validation, \u001b[39m20\u001b[39;49m, batch_size, \u001b[39mFalse\u001b[39;49;00m)\n\u001b[1;32m     38\u001b[0m results[r] \u001b[39m=\u001b[39m {\u001b[39m'\u001b[39m\u001b[39mconfig\u001b[39m\u001b[39m'\u001b[39m: configs, \u001b[39m'\u001b[39m\u001b[39mtrain_rmse\u001b[39m\u001b[39m'\u001b[39m : train_rmse, \u001b[39m'\u001b[39m\u001b[39mtrain_r2\u001b[39m\u001b[39m'\u001b[39m: train_r2, \u001b[39m'\u001b[39m\u001b[39mval_rmse\u001b[39m\u001b[39m'\u001b[39m : val_rmse, \u001b[39m'\u001b[39m\u001b[39mval_r2\u001b[39m\u001b[39m'\u001b[39m : val_r2}\n\u001b[1;32m     40\u001b[0m \u001b[39m# Create a trial name (optional but helpful)\u001b[39;00m\n\u001b[1;32m     41\u001b[0m \u001b[39m#trial_name = f\"trial_{r:02d}\"\u001b[39;00m\n\u001b[1;32m     42\u001b[0m \n\u001b[0;32m   (...)\u001b[0m\n\u001b[1;32m     48\u001b[0m \n\u001b[1;32m     49\u001b[0m \u001b[39m# Log hyperparameters (grouped with final val_rmse)\u001b[39;00m\n",
      "Cell \u001b[0;32mIn[4], line 44\u001b[0m, in \u001b[0;36mtrain_model\u001b[0;34m(configs, train, validation, epochs, batch_size, updates)\u001b[0m\n\u001b[1;32m     41\u001b[0m \u001b[39m#Train model \u001b[39;00m\n\u001b[1;32m     43\u001b[0m device \u001b[39m=\u001b[39m torch\u001b[39m.\u001b[39mdevice(\u001b[39m\"\u001b[39m\u001b[39mcuda\u001b[39m\u001b[39m\"\u001b[39m \u001b[39mif\u001b[39;00m torch\u001b[39m.\u001b[39mcuda\u001b[39m.\u001b[39mis_available() \u001b[39melse\u001b[39;00m \u001b[39m\"\u001b[39m\u001b[39mcpu\u001b[39m\u001b[39m\"\u001b[39m)\n\u001b[0;32m---> 44\u001b[0m model \u001b[39m=\u001b[39m Model(configs)\u001b[39m.\u001b[39;49mto(device)\n\u001b[1;32m     45\u001b[0m \u001b[39m#opt = torch.optim.AdamW(model.parameters(), lr=configs.lr, weight_decay=1e-2)\u001b[39;00m\n\u001b[1;32m     46\u001b[0m opt \u001b[39m=\u001b[39m torch\u001b[39m.\u001b[39moptim\u001b[39m.\u001b[39mAdam(\u001b[39mfilter\u001b[39m(\u001b[39mlambda\u001b[39;00m p: p\u001b[39m.\u001b[39mrequires_grad, model\u001b[39m.\u001b[39mparameters()), lr\u001b[39m=\u001b[39mconfigs\u001b[39m.\u001b[39mlr)\n",
      "File \u001b[0;32m~/.local/lib/python3.10/site-packages/torch/nn/modules/module.py:1355\u001b[0m, in \u001b[0;36mModule.to\u001b[0;34m(self, *args, **kwargs)\u001b[0m\n\u001b[1;32m   1352\u001b[0m         \u001b[39melse\u001b[39;00m:\n\u001b[1;32m   1353\u001b[0m             \u001b[39mraise\u001b[39;00m\n\u001b[0;32m-> 1355\u001b[0m \u001b[39mreturn\u001b[39;00m \u001b[39mself\u001b[39;49m\u001b[39m.\u001b[39;49m_apply(convert)\n",
      "File \u001b[0;32m~/.local/lib/python3.10/site-packages/torch/nn/modules/module.py:915\u001b[0m, in \u001b[0;36mModule._apply\u001b[0;34m(self, fn, recurse)\u001b[0m\n\u001b[1;32m    913\u001b[0m \u001b[39mif\u001b[39;00m recurse:\n\u001b[1;32m    914\u001b[0m     \u001b[39mfor\u001b[39;00m module \u001b[39min\u001b[39;00m \u001b[39mself\u001b[39m\u001b[39m.\u001b[39mchildren():\n\u001b[0;32m--> 915\u001b[0m         module\u001b[39m.\u001b[39;49m_apply(fn)\n\u001b[1;32m    917\u001b[0m \u001b[39mdef\u001b[39;00m \u001b[39mcompute_should_use_set_data\u001b[39m(tensor, tensor_applied):\n\u001b[1;32m    918\u001b[0m     \u001b[39mif\u001b[39;00m torch\u001b[39m.\u001b[39m_has_compatible_shallow_copy_type(tensor, tensor_applied):\n\u001b[1;32m    919\u001b[0m         \u001b[39m# If the new tensor has compatible tensor type as the existing tensor,\u001b[39;00m\n\u001b[1;32m    920\u001b[0m         \u001b[39m# the current behavior is to change the tensor in-place using `.data =`,\u001b[39;00m\n\u001b[0;32m   (...)\u001b[0m\n\u001b[1;32m    925\u001b[0m         \u001b[39m# global flag to let the user control whether they want the future\u001b[39;00m\n\u001b[1;32m    926\u001b[0m         \u001b[39m# behavior of overwriting the existing tensor or not.\u001b[39;00m\n",
      "File \u001b[0;32m~/.local/lib/python3.10/site-packages/torch/nn/modules/module.py:915\u001b[0m, in \u001b[0;36mModule._apply\u001b[0;34m(self, fn, recurse)\u001b[0m\n\u001b[1;32m    913\u001b[0m \u001b[39mif\u001b[39;00m recurse:\n\u001b[1;32m    914\u001b[0m     \u001b[39mfor\u001b[39;00m module \u001b[39min\u001b[39;00m \u001b[39mself\u001b[39m\u001b[39m.\u001b[39mchildren():\n\u001b[0;32m--> 915\u001b[0m         module\u001b[39m.\u001b[39;49m_apply(fn)\n\u001b[1;32m    917\u001b[0m \u001b[39mdef\u001b[39;00m \u001b[39mcompute_should_use_set_data\u001b[39m(tensor, tensor_applied):\n\u001b[1;32m    918\u001b[0m     \u001b[39mif\u001b[39;00m torch\u001b[39m.\u001b[39m_has_compatible_shallow_copy_type(tensor, tensor_applied):\n\u001b[1;32m    919\u001b[0m         \u001b[39m# If the new tensor has compatible tensor type as the existing tensor,\u001b[39;00m\n\u001b[1;32m    920\u001b[0m         \u001b[39m# the current behavior is to change the tensor in-place using `.data =`,\u001b[39;00m\n\u001b[0;32m   (...)\u001b[0m\n\u001b[1;32m    925\u001b[0m         \u001b[39m# global flag to let the user control whether they want the future\u001b[39;00m\n\u001b[1;32m    926\u001b[0m         \u001b[39m# behavior of overwriting the existing tensor or not.\u001b[39;00m\n",
      "File \u001b[0;32m~/.local/lib/python3.10/site-packages/torch/nn/modules/module.py:942\u001b[0m, in \u001b[0;36mModule._apply\u001b[0;34m(self, fn, recurse)\u001b[0m\n\u001b[1;32m    938\u001b[0m \u001b[39m# Tensors stored in modules are graph leaves, and we don't want to\u001b[39;00m\n\u001b[1;32m    939\u001b[0m \u001b[39m# track autograd history of `param_applied`, so we have to use\u001b[39;00m\n\u001b[1;32m    940\u001b[0m \u001b[39m# `with torch.no_grad():`\u001b[39;00m\n\u001b[1;32m    941\u001b[0m \u001b[39mwith\u001b[39;00m torch\u001b[39m.\u001b[39mno_grad():\n\u001b[0;32m--> 942\u001b[0m     param_applied \u001b[39m=\u001b[39m fn(param)\n\u001b[1;32m    943\u001b[0m p_should_use_set_data \u001b[39m=\u001b[39m compute_should_use_set_data(param, param_applied)\n\u001b[1;32m    945\u001b[0m \u001b[39m# subclasses may have multiple child tensors so we need to use swap_tensors\u001b[39;00m\n",
      "File \u001b[0;32m~/.local/lib/python3.10/site-packages/torch/nn/modules/module.py:1341\u001b[0m, in \u001b[0;36mModule.to.<locals>.convert\u001b[0;34m(t)\u001b[0m\n\u001b[1;32m   1334\u001b[0m     \u001b[39mif\u001b[39;00m convert_to_format \u001b[39mis\u001b[39;00m \u001b[39mnot\u001b[39;00m \u001b[39mNone\u001b[39;00m \u001b[39mand\u001b[39;00m t\u001b[39m.\u001b[39mdim() \u001b[39min\u001b[39;00m (\u001b[39m4\u001b[39m, \u001b[39m5\u001b[39m):\n\u001b[1;32m   1335\u001b[0m         \u001b[39mreturn\u001b[39;00m t\u001b[39m.\u001b[39mto(\n\u001b[1;32m   1336\u001b[0m             device,\n\u001b[1;32m   1337\u001b[0m             dtype \u001b[39mif\u001b[39;00m t\u001b[39m.\u001b[39mis_floating_point() \u001b[39mor\u001b[39;00m t\u001b[39m.\u001b[39mis_complex() \u001b[39melse\u001b[39;00m \u001b[39mNone\u001b[39;00m,\n\u001b[1;32m   1338\u001b[0m             non_blocking,\n\u001b[1;32m   1339\u001b[0m             memory_format\u001b[39m=\u001b[39mconvert_to_format,\n\u001b[1;32m   1340\u001b[0m         )\n\u001b[0;32m-> 1341\u001b[0m     \u001b[39mreturn\u001b[39;00m t\u001b[39m.\u001b[39;49mto(\n\u001b[1;32m   1342\u001b[0m         device,\n\u001b[1;32m   1343\u001b[0m         dtype \u001b[39mif\u001b[39;49;00m t\u001b[39m.\u001b[39;49mis_floating_point() \u001b[39mor\u001b[39;49;00m t\u001b[39m.\u001b[39;49mis_complex() \u001b[39melse\u001b[39;49;00m \u001b[39mNone\u001b[39;49;00m,\n\u001b[1;32m   1344\u001b[0m         non_blocking,\n\u001b[1;32m   1345\u001b[0m     )\n\u001b[1;32m   1346\u001b[0m \u001b[39mexcept\u001b[39;00m \u001b[39mNotImplementedError\u001b[39;00m \u001b[39mas\u001b[39;00m e:\n\u001b[1;32m   1347\u001b[0m     \u001b[39mif\u001b[39;00m \u001b[39mstr\u001b[39m(e) \u001b[39m==\u001b[39m \u001b[39m\"\u001b[39m\u001b[39mCannot copy out of meta tensor; no data!\u001b[39m\u001b[39m\"\u001b[39m:\n",
      "\u001b[0;31mRuntimeError\u001b[0m: CUDA error: out of memory\nCUDA kernel errors might be asynchronously reported at some other API call, so the stacktrace below might be incorrect.\nFor debugging consider passing CUDA_LAUNCH_BLOCKING=1\nCompile with `TORCH_USE_CUDA_DSA` to enable device-side assertions.\n"
     ]
    }
   ],
   "source": [
    "#timestamp = time.strftime('%Y%m%d-%H%M%S')\n",
    "#writer = SummaryWriter(log_dir=f\"runs/random_search_{timestamp}\")\n",
    "\n",
    "random_trials = 20\n",
    "\n",
    "best_config = None\n",
    "best_rmse = float('inf')\n",
    "results = {}\n",
    "\n",
    "for r in range(random_trials):\n",
    "    configs = Details(\n",
    "        pred_len = 1,      \n",
    "        seq_len  = 350,\n",
    "        d_ff = random.choice([32, 64]),\n",
    "        patch_len= random.choice([8, 16]), \n",
    "        stride = random.choice([4, 8, 16]), \n",
    "        llm_layers = random.choice([4, 8, 16,32]),\n",
    "        description = \"This dataset contains near-infrared (NIR) spectroscopy measurements of lactate concentration in a \" \\\n",
    "                    \"phosphate-buffered saline (PBS) solution. Each spectrum includes absorbance values across \" \\\n",
    "                    \"350 wavelengths. \" ,\n",
    "        dropout = 0.1,\n",
    "        n_heads = random.choice([4, 8]),\n",
    "        d_model = 16,\n",
    "        enc_in = 1,\n",
    "        d_llm = 4096,\n",
    "        llm_model = 'LLAMA',\n",
    "        lr = 0.001\n",
    "    )\n",
    "    \n",
    "    batch_size = random.choice([8, 16, 32])\n",
    "\n",
    "    train, test = model_selection.train_test_split(data, test_size=0.1, random_state=1, stratify= data['Concentration'])\n",
    "\n",
    "    train, validation = model_selection.train_test_split(train, test_size=0.1, random_state=1, stratify= train['Concentration'])\n",
    "\n",
    "    model ,train_rmse, train_r2, val_rmse, val_r2, stand  = train_model(configs, train, validation, 20, batch_size, False, False)\n",
    "\n",
    "    results[r] = {'config': configs, 'train_rmse' : train_rmse, 'train_r2': train_r2, 'val_rmse' : val_rmse, 'val_r2' : val_r2}\n",
    "\n",
    "    # Create a trial name (optional but helpful)\n",
    "    #trial_name = f\"trial_{r:02d}\"\n",
    "\n",
    "    # Log scalar metrics (per trial)\n",
    "    #writer.add_scalar(f\"{trial_name}/RMSE/train\", train_rmse, r)\n",
    "    #writer.add_scalar(f\"{trial_name}/RMSE/val\", val_rmse, r)\n",
    "    #writer.add_scalar(f\"{trial_name}/R2/train\", train_r2, r)\n",
    "    #writer.add_scalar(f\"{trial_name}/R2/val\", val_r2, r)\n",
    "\n",
    "    # Log hyperparameters (grouped with final val_rmse)\n",
    "    '''\n",
    "    hparams = {\n",
    "        'd_ff': configs.d_ff,\n",
    "        'patch_len': configs.patch_len,\n",
    "        'stride': configs.stride,\n",
    "        'llm_layers': configs.llm_layers,\n",
    "        'dropout': configs.dropout,\n",
    "        'n_heads': configs.n_heads,\n",
    "        'lr': configs.lr,\n",
    "        'd_model': configs.d_model,\n",
    "        'batch_size': batch_size\n",
    "    }\n",
    "    metrics = {\n",
    "        'val_rmse': val_rmse,\n",
    "        'val_r2': val_r2\n",
    "    }\n",
    "    writer.add_hparams(hparams, metrics, run_name=trial_name)\n",
    "\n",
    "    '''\n",
    "    if val_rmse < best_rmse:\n",
    "        best_rmse = val_rmse\n",
    "        best_config = configs\n",
    "\n",
    "    print(f\"Trial {r + 1:2d}  config : {vars(configs)}, {batch_size}\")\n",
    "    print(f\"Trial {r + 1:2d}  results — train RMSE {train_rmse:.6f} - train R2 {train_r2:.6f} — val RMSE {val_rmse:.6f} - val R2 {val_r2:.6f}\")\n",
    "print(f\"Best config : {vars(configs)} - best val RMSE : {best_rmse:.6f}\")\n",
    "\n",
    "#writer.close()\n",
    "\n",
    "    "
   ]
  },
  {
   "cell_type": "code",
   "execution_count": 9,
   "metadata": {},
   "outputs": [
    {
     "name": "stdout",
     "output_type": "stream",
     "text": [
      "The tensorboard extension is already loaded. To reload it, use:\n",
      "  %reload_ext tensorboard\n"
     ]
    }
   ],
   "source": [
    "%load_ext tensorboard"
   ]
  },
  {
   "cell_type": "code",
   "execution_count": 8,
   "metadata": {},
   "outputs": [
    {
     "data": {
      "text/plain": [
       "ERROR: Could not find `tensorboard`. Please ensure that your PATH\n",
       "contains an executable `tensorboard` program, or explicitly specify\n",
       "the path to a TensorBoard binary by setting the `TENSORBOARD_BINARY`\n",
       "environment variable."
      ]
     },
     "metadata": {},
     "output_type": "display_data"
    }
   ],
   "source": [
    "tensorboard --logdir= runs"
   ]
  },
  {
   "attachments": {},
   "cell_type": "markdown",
   "metadata": {},
   "source": [
    "## Log Output"
   ]
  },
  {
   "cell_type": "code",
   "execution_count": 54,
   "metadata": {},
   "outputs": [],
   "source": [
    "#Log concentration\n",
    "data_log = data.copy()\n",
    "data_log['Concentration'] = np.log1p(data_log['Concentration']) #log(cancentration + 1)\n",
    "\n",
    "train, test = model_selection.train_test_split(data_log, test_size=0.1, random_state=1, stratify= data_log['Concentration'])\n",
    "\n",
    "scaler_out = MinMaxScaler()\n",
    "train['Concentration'] = scaler_out.fit_transform(train[['Concentration']])\n",
    "test['Concentration'] = scaler_out.transform(test[['Concentration']])"
   ]
  },
  {
   "cell_type": "code",
   "execution_count": 55,
   "metadata": {},
   "outputs": [],
   "source": [
    "configs = Details(\n",
    "    pred_len = 1,      \n",
    "    seq_len  = 350,\n",
    "    d_ff = 32,\n",
    "    patch_len= 16, \n",
    "    stride = 8, \n",
    "    llm_layers = 4,\n",
    "    description = \"This dataset contains near-infrared (NIR) spectroscopy measurements of lactate concentration in a \" \\\n",
    "                  \"phosphate-buffered saline (PBS) solution. Each spectrum includes absorbance values across \" \\\n",
    "                  \"350 wavelengths. \" ,\n",
    "    dropout = 0.1,\n",
    "    n_heads = 2,\n",
    "    d_model = 16,\n",
    "    enc_in = 1,\n",
    "    d_llm = 4096,\n",
    "    llm_model = 'LLAMA',\n",
    "    lr = 0.0001\n",
    ")"
   ]
  },
  {
   "cell_type": "code",
   "execution_count": 56,
   "metadata": {},
   "outputs": [
    {
     "data": {
      "application/vnd.jupyter.widget-view+json": {
       "model_id": "5e19371ee6374fc4acf9350dee1ec96e",
       "version_major": 2,
       "version_minor": 0
      },
      "text/plain": [
       "Loading checkpoint shards:   0%|          | 0/2 [00:00<?, ?it/s]"
      ]
     },
     "metadata": {},
     "output_type": "display_data"
    },
    {
     "name": "stdout",
     "output_type": "stream",
     "text": [
      "Epoch  1 — train RMSE 0.499592 - train R2 -1.424678 — val RMSE 0.358797 - val R2 -0.212155\n",
      "Epoch  2 — train RMSE 0.388769 - train R2 -0.468265 — val RMSE 0.284850 - val R2 0.235999\n",
      "Epoch  3 — train RMSE 0.292347 - train R2 0.169729 — val RMSE 0.244936 - val R2 0.435108\n",
      "Epoch  4 — train RMSE 0.325728 - train R2 -0.030697 — val RMSE 0.204326 - val R2 0.606895\n",
      "Epoch  5 — train RMSE 0.259499 - train R2 0.345824 — val RMSE 0.181257 - val R2 0.690648\n",
      "Epoch  6 — train RMSE 0.311179 - train R2 0.059319 — val RMSE 0.224908 - val R2 0.523712\n",
      "Epoch  7 — train RMSE 0.265646 - train R2 0.314466 — val RMSE 0.192117 - val R2 0.652471\n",
      "Epoch  8 — train RMSE 0.243041 - train R2 0.426173 — val RMSE 0.151927 - val R2 0.782663\n",
      "Epoch  9 — train RMSE 0.259983 - train R2 0.343381 — val RMSE 0.176166 - val R2 0.707783\n",
      "Epoch 10 — train RMSE 0.272781 - train R2 0.277148 — val RMSE 0.174799 - val R2 0.712301\n",
      "Epoch 11 — train RMSE 0.275445 - train R2 0.262956 — val RMSE 0.149571 - val R2 0.789352\n",
      "Epoch 12 — train RMSE 0.311352 - train R2 0.058270 — val RMSE 0.208004 - val R2 0.592616\n",
      "Epoch 13 — train RMSE 0.280963 - train R2 0.233131 — val RMSE 0.167839 - val R2 0.734754\n",
      "Epoch 14 — train RMSE 0.281534 - train R2 0.230013 — val RMSE 0.131618 - val R2 0.836885\n",
      "Epoch 15 — train RMSE 0.250097 - train R2 0.392372 — val RMSE 0.140459 - val R2 0.814236\n",
      "Epoch 16 — train RMSE 0.267386 - train R2 0.305456 — val RMSE 0.201611 - val R2 0.617272\n",
      "Epoch 17 — train RMSE 0.289416 - train R2 0.186292 — val RMSE 0.177891 - val R2 0.702034\n",
      "Epoch 18 — train RMSE 0.262534 - train R2 0.330433 — val RMSE 0.160269 - val R2 0.758143\n",
      "Epoch 19 — train RMSE 0.278454 - train R2 0.246769 — val RMSE 0.213585 - val R2 0.570463\n",
      "Epoch 20 — train RMSE 0.265880 - train R2 0.313258 — val RMSE 0.148537 - val R2 0.792254\n",
      "Epoch 21 — train RMSE 0.258434 - train R2 0.351186 — val RMSE 0.133314 - val R2 0.832655\n",
      "Epoch 22 — train RMSE 0.233122 - train R2 0.472053 — val RMSE 0.162469 - val R2 0.751456\n",
      "Epoch 23 — train RMSE 0.270702 - train R2 0.288121 — val RMSE 0.162044 - val R2 0.752754\n",
      "Epoch 24 — train RMSE 0.259391 - train R2 0.346369 — val RMSE 0.114414 - val R2 0.876740\n",
      "Epoch 25 — train RMSE 0.236568 - train R2 0.456331 — val RMSE 0.138533 - val R2 0.819296\n",
      "Epoch 26 — train RMSE 0.233193 - train R2 0.471732 — val RMSE 0.133020 - val R2 0.833393\n",
      "Epoch 27 — train RMSE 0.225092 - train R2 0.507797 — val RMSE 0.155171 - val R2 0.773284\n",
      "Epoch 28 — train RMSE 0.213208 - train R2 0.558400 — val RMSE 0.142705 - val R2 0.808248\n",
      "Epoch 29 — train RMSE 0.254495 - train R2 0.370811 — val RMSE 0.139517 - val R2 0.816720\n",
      "Epoch 30 — train RMSE 0.259056 - train R2 0.348057 — val RMSE 0.144489 - val R2 0.803424\n",
      "Epoch 31 — train RMSE 0.261453 - train R2 0.335936 — val RMSE 0.141767 - val R2 0.810760\n",
      "Epoch 32 — train RMSE 0.273269 - train R2 0.274555 — val RMSE 0.123428 - val R2 0.856555\n",
      "Epoch 33 — train RMSE 0.264840 - train R2 0.318618 — val RMSE 0.128028 - val R2 0.845663\n",
      "Epoch 34 — train RMSE 0.236336 - train R2 0.457399 — val RMSE 0.126777 - val R2 0.848665\n",
      "Epoch 35 — train RMSE 0.241237 - train R2 0.434658 — val RMSE 0.197654 - val R2 0.632148\n",
      "Epoch 36 — train RMSE 0.272794 - train R2 0.277079 — val RMSE 0.126207 - val R2 0.850023\n",
      "Epoch 37 — train RMSE 0.231443 - train R2 0.479632 — val RMSE 0.134698 - val R2 0.829162\n",
      "Epoch 38 — train RMSE 0.221867 - train R2 0.521801 — val RMSE 0.148203 - val R2 0.793188\n",
      "Epoch 39 — train RMSE 0.297025 - train R2 0.142943 — val RMSE 0.114723 - val R2 0.876075\n",
      "Epoch 40 — train RMSE 0.213968 - train R2 0.555244 — val RMSE 0.102850 - val R2 0.900398\n",
      "Epoch 41 — train RMSE 0.234366 - train R2 0.466407 — val RMSE 0.122368 - val R2 0.859007\n",
      "Epoch 42 — train RMSE 0.274755 - train R2 0.266647 — val RMSE 0.142894 - val R2 0.807741\n",
      "Epoch 43 — train RMSE 0.222691 - train R2 0.518243 — val RMSE 0.166182 - val R2 0.739966\n",
      "Epoch 44 — train RMSE 0.226084 - train R2 0.503452 — val RMSE 0.160273 - val R2 0.758131\n",
      "Epoch 45 — train RMSE 0.290688 - train R2 0.179125 — val RMSE 0.139820 - val R2 0.815924\n",
      "Epoch 46 — train RMSE 0.285741 - train R2 0.206827 — val RMSE 0.131843 - val R2 0.836327\n",
      "Epoch 47 — train RMSE 0.277005 - train R2 0.254586 — val RMSE 0.138811 - val R2 0.818570\n",
      "Epoch 48 — train RMSE 0.280706 - train R2 0.234533 — val RMSE 0.189074 - val R2 0.663392\n",
      "Epoch 49 — train RMSE 0.262589 - train R2 0.330156 — val RMSE 0.119196 - val R2 0.866223\n",
      "Epoch 50 — train RMSE 0.303139 - train R2 0.107300 — val RMSE 0.129105 - val R2 0.843056\n"
     ]
    }
   ],
   "source": [
    "train, validation = model_selection.train_test_split(train, test_size=0.1, random_state=1, stratify= train['Concentration'])\n",
    "\n",
    "model_log = train_model(configs, train, validation, 50, 8, True, False)"
   ]
  },
  {
   "cell_type": "code",
   "execution_count": null,
   "metadata": {},
   "outputs": [],
   "source": []
  },
  {
   "cell_type": "code",
   "execution_count": 26,
   "metadata": {},
   "outputs": [],
   "source": [
    "#Log concentration\n",
    "data_log = data.copy()\n",
    "data_log['Concentration'] = np.log1p(data_log['Concentration']) #log(cancentration + 1)\n",
    "\n",
    "train, test = model_selection.train_test_split(data_log, test_size=0.1, random_state=1, stratify= data_log['Concentration'])\n",
    "\n",
    "scaler_out = StandardScaler()\n",
    "train['Concentration'] = scaler_out.fit_transform(train[['Concentration']])\n",
    "test['Concentration'] = scaler_out.transform(test[['Concentration']])"
   ]
  },
  {
   "cell_type": "code",
   "execution_count": 24,
   "metadata": {},
   "outputs": [],
   "source": [
    "configs = Details(\n",
    "    pred_len = 1,      \n",
    "    seq_len  = 350,\n",
    "    d_ff = 32,\n",
    "    patch_len= 16, \n",
    "    stride = 8, \n",
    "    llm_layers = 4,\n",
    "    description = \"This dataset contains near-infrared (NIR) spectroscopy measurements of lactate concentration in a \" \\\n",
    "                  \"phosphate-buffered saline (PBS) solution. Each spectrum includes absorbance values across \" \\\n",
    "                  \"350 wavelengths. \" ,\n",
    "    dropout = 0.1,\n",
    "    n_heads = 2,\n",
    "    d_model = 16,\n",
    "    enc_in = 1,\n",
    "    d_llm = 4096,\n",
    "    llm_model = 'LLAMA',\n",
    "    lr = 0.0001\n",
    ")"
   ]
  },
  {
   "cell_type": "code",
   "execution_count": 9,
   "metadata": {},
   "outputs": [
    {
     "data": {
      "application/vnd.jupyter.widget-view+json": {
       "model_id": "5e213705acee4bc3b7b88621207f1d1e",
       "version_major": 2,
       "version_minor": 0
      },
      "text/plain": [
       "Loading checkpoint shards:   0%|          | 0/2 [00:00<?, ?it/s]"
      ]
     },
     "metadata": {},
     "output_type": "display_data"
    },
    {
     "name": "stdout",
     "output_type": "stream",
     "text": [
      "Epoch  1 — train RMSE 1.034861 - train R2 -0.074440 — val RMSE 0.981588 - val R2 0.063052\n",
      "Epoch  2 — train RMSE 0.758395 - train R2 0.422955 — val RMSE 0.465333 - val R2 0.789436\n",
      "Epoch  3 — train RMSE 0.542620 - train R2 0.704600 — val RMSE 0.437158 - val R2 0.814163\n",
      "Epoch  4 — train RMSE 0.613829 - train R2 0.621982 — val RMSE 0.487894 - val R2 0.768523\n",
      "Epoch  5 — train RMSE 0.565360 - train R2 0.679322 — val RMSE 0.416975 - val R2 0.830926\n",
      "Epoch  6 — train RMSE 0.534705 - train R2 0.713156 — val RMSE 0.597645 - val R2 0.652669\n",
      "Epoch  7 — train RMSE 0.539374 - train R2 0.708124 — val RMSE 0.372241 - val R2 0.865257\n",
      "Epoch  8 — train RMSE 0.493696 - train R2 0.755467 — val RMSE 0.380283 - val R2 0.859373\n",
      "Epoch  9 — train RMSE 0.465467 - train R2 0.782631 — val RMSE 0.400578 - val R2 0.843962\n",
      "Epoch 10 — train RMSE 0.527872 - train R2 0.720440 — val RMSE 0.405031 - val R2 0.840473\n",
      "Epoch 11 — train RMSE 0.446384 - train R2 0.800090 — val RMSE 0.361640 - val R2 0.872823\n",
      "Epoch 12 — train RMSE 0.533834 - train R2 0.714089 — val RMSE 0.491287 - val R2 0.765292\n",
      "Epoch 13 — train RMSE 0.542458 - train R2 0.704777 — val RMSE 0.392029 - val R2 0.850551\n",
      "Epoch 14 — train RMSE 0.479917 - train R2 0.768926 — val RMSE 0.398343 - val R2 0.845698\n",
      "Epoch 15 — train RMSE 0.458345 - train R2 0.789233 — val RMSE 0.365032 - val R2 0.870426\n",
      "Epoch 16 — train RMSE 0.526381 - train R2 0.722017 — val RMSE 0.347742 - val R2 0.882410\n",
      "Epoch 17 — train RMSE 0.491984 - train R2 0.757160 — val RMSE 0.375577 - val R2 0.862832\n",
      "Epoch 18 — train RMSE 0.429801 - train R2 0.814667 — val RMSE 0.342696 - val R2 0.885798\n",
      "Epoch 19 — train RMSE 0.442914 - train R2 0.803185 — val RMSE 0.345249 - val R2 0.884090\n",
      "Epoch 20 — train RMSE 0.422800 - train R2 0.820656 — val RMSE 0.477883 - val R2 0.777925\n",
      "Epoch 21 — train RMSE 0.451936 - train R2 0.795086 — val RMSE 0.405608 - val R2 0.840019\n",
      "Epoch 22 — train RMSE 0.419936 - train R2 0.823077 — val RMSE 0.366884 - val R2 0.869107\n",
      "Epoch 23 — train RMSE 0.493138 - train R2 0.756019 — val RMSE 0.322068 - val R2 0.899132\n",
      "Epoch 24 — train RMSE 0.434277 - train R2 0.810787 — val RMSE 0.326585 - val R2 0.896283\n",
      "Epoch 25 — train RMSE 0.476984 - train R2 0.771742 — val RMSE 0.431812 - val R2 0.818680\n",
      "Epoch 26 — train RMSE 0.481600 - train R2 0.767303 — val RMSE 0.340806 - val R2 0.887054\n",
      "Epoch 27 — train RMSE 0.426053 - train R2 0.817885 — val RMSE 0.356167 - val R2 0.876643\n",
      "Epoch 28 — train RMSE 0.427494 - train R2 0.816651 — val RMSE 0.346732 - val R2 0.883092\n",
      "Epoch 29 — train RMSE 0.402007 - train R2 0.837862 — val RMSE 0.315063 - val R2 0.903472\n",
      "Epoch 30 — train RMSE 0.430546 - train R2 0.814024 — val RMSE 0.310977 - val R2 0.905960\n",
      "Epoch 31 — train RMSE 0.397925 - train R2 0.841138 — val RMSE 0.293059 - val R2 0.916485\n",
      "Epoch 32 — train RMSE 0.433553 - train R2 0.811417 — val RMSE 0.356212 - val R2 0.876612\n",
      "Epoch 33 — train RMSE 0.473402 - train R2 0.775158 — val RMSE 0.311612 - val R2 0.905575\n",
      "Epoch 34 — train RMSE 0.389757 - train R2 0.847592 — val RMSE 0.288425 - val R2 0.919105\n",
      "Epoch 35 — train RMSE 0.392802 - train R2 0.845202 — val RMSE 0.319690 - val R2 0.900616\n",
      "Epoch 36 — train RMSE 0.440503 - train R2 0.805323 — val RMSE 0.328960 - val R2 0.894769\n",
      "Epoch 37 — train RMSE 0.422828 - train R2 0.820632 — val RMSE 0.337132 - val R2 0.889476\n",
      "Epoch 38 — train RMSE 0.454060 - train R2 0.793155 — val RMSE 0.324458 - val R2 0.897630\n",
      "Epoch 39 — train RMSE 0.437667 - train R2 0.807821 — val RMSE 0.282931 - val R2 0.922157\n",
      "Epoch 40 — train RMSE 0.436358 - train R2 0.808969 — val RMSE 0.350158 - val R2 0.880770\n",
      "Epoch 41 — train RMSE 0.392404 - train R2 0.845516 — val RMSE 0.312600 - val R2 0.904976\n",
      "Epoch 42 — train RMSE 0.427388 - train R2 0.816742 — val RMSE 0.313644 - val R2 0.904340\n",
      "Epoch 43 — train RMSE 0.386126 - train R2 0.850419 — val RMSE 0.290062 - val R2 0.918184\n",
      "Epoch 44 — train RMSE 0.500815 - train R2 0.748364 — val RMSE 0.357415 - val R2 0.875777\n",
      "Epoch 45 — train RMSE 0.387179 - train R2 0.849602 — val RMSE 0.312919 - val R2 0.904782\n",
      "Epoch 46 — train RMSE 0.378447 - train R2 0.856309 — val RMSE 0.298787 - val R2 0.913188\n",
      "Epoch 47 — train RMSE 0.380165 - train R2 0.855002 — val RMSE 0.268999 - val R2 0.929635\n",
      "Epoch 48 — train RMSE 0.383725 - train R2 0.852273 — val RMSE 0.305238 - val R2 0.909399\n",
      "Epoch 49 — train RMSE 0.448798 - train R2 0.797922 — val RMSE 0.304395 - val R2 0.909899\n",
      "Epoch 50 — train RMSE 0.332454 - train R2 0.889113 — val RMSE 0.314081 - val R2 0.904073\n"
     ]
    }
   ],
   "source": [
    "train, validation = model_selection.train_test_split(train, test_size=0.1, random_state=1, stratify= train['Concentration'])\n",
    "\n",
    "model_log = train_model(configs, train, validation, 50, 8, True, False)"
   ]
  },
  {
   "cell_type": "code",
   "execution_count": 25,
   "metadata": {},
   "outputs": [
    {
     "data": {
      "application/vnd.jupyter.widget-view+json": {
       "model_id": "282ce4b6628a4c7fa7d41aa2a5b4cab0",
       "version_major": 2,
       "version_minor": 0
      },
      "text/plain": [
       "Loading checkpoint shards:   0%|          | 0/2 [00:00<?, ?it/s]"
      ]
     },
     "metadata": {},
     "output_type": "display_data"
    },
    {
     "name": "stdout",
     "output_type": "stream",
     "text": [
      "Epoch  1 — train RMSE 1.125693 - train R2 -0.271330 — val RMSE 1.086364 - val R2 -0.147645\n",
      "Epoch  2 — train RMSE 1.009709 - train R2 -0.022847 — val RMSE 0.975761 - val R2 0.074143\n",
      "Epoch  3 — train RMSE 0.734508 - train R2 0.458734 — val RMSE 0.589761 - val R2 0.661772\n",
      "Epoch  4 — train RMSE 0.578438 - train R2 0.664315 — val RMSE 0.500950 - val R2 0.755968\n",
      "Epoch  5 — train RMSE 0.601650 - train R2 0.636833 — val RMSE 0.467079 - val R2 0.787853\n",
      "Epoch  6 — train RMSE 0.536076 - train R2 0.711682 — val RMSE 0.401567 - val R2 0.843191\n",
      "Epoch  7 — train RMSE 0.529969 - train R2 0.718214 — val RMSE 0.397022 - val R2 0.846720\n",
      "Epoch  8 — train RMSE 0.503560 - train R2 0.745598 — val RMSE 0.375701 - val R2 0.862741\n",
      "Epoch  9 — train RMSE 0.490690 - train R2 0.758436 — val RMSE 0.407362 - val R2 0.838632\n",
      "Epoch 10 — train RMSE 0.556919 - train R2 0.688826 — val RMSE 0.463304 - val R2 0.791268\n",
      "Epoch 11 — train RMSE 0.526516 - train R2 0.721874 — val RMSE 0.394272 - val R2 0.848836\n",
      "Epoch 12 — train RMSE 0.476304 - train R2 0.772392 — val RMSE 0.332941 - val R2 0.892207\n",
      "Epoch 13 — train RMSE 0.509176 - train R2 0.739892 — val RMSE 0.341429 - val R2 0.886641\n",
      "Epoch 14 — train RMSE 0.420216 - train R2 0.822841 — val RMSE 0.370818 - val R2 0.866286\n",
      "Epoch 15 — train RMSE 0.440141 - train R2 0.805642 — val RMSE 0.338468 - val R2 0.888598\n",
      "Epoch 16 — train RMSE 0.456427 - train R2 0.790993 — val RMSE 0.308291 - val R2 0.907578\n",
      "Epoch 17 — train RMSE 0.408183 - train R2 0.832841 — val RMSE 0.324225 - val R2 0.897776\n",
      "Epoch 18 — train RMSE 0.513874 - train R2 0.735070 — val RMSE 0.338198 - val R2 0.888776\n",
      "Epoch 19 — train RMSE 0.406920 - train R2 0.833875 — val RMSE 0.290724 - val R2 0.917810\n",
      "Epoch 20 — train RMSE 0.488508 - train R2 0.760579 — val RMSE 0.385037 - val R2 0.855835\n",
      "Epoch 21 — train RMSE 0.459997 - train R2 0.787710 — val RMSE 0.288199 - val R2 0.919231\n",
      "Epoch 22 — train RMSE 0.466638 - train R2 0.781537 — val RMSE 0.296563 - val R2 0.914476\n",
      "Epoch 23 — train RMSE 0.409302 - train R2 0.831924 — val RMSE 0.307956 - val R2 0.907778\n",
      "Epoch 24 — train RMSE 0.494184 - train R2 0.754983 — val RMSE 0.275339 - val R2 0.926279\n",
      "Epoch 25 — train RMSE 0.449955 - train R2 0.796878 — val RMSE 0.282910 - val R2 0.922169\n",
      "Epoch 26 — train RMSE 0.450174 - train R2 0.796680 — val RMSE 0.418956 - val R2 0.829316\n",
      "Epoch 27 — train RMSE 0.404303 - train R2 0.836004 — val RMSE 0.386429 - val R2 0.854790\n",
      "Epoch 28 — train RMSE 0.420205 - train R2 0.822851 — val RMSE 0.336385 - val R2 0.889965\n",
      "Epoch 29 — train RMSE 0.499442 - train R2 0.749741 — val RMSE 0.300280 - val R2 0.912318\n",
      "Epoch 30 — train RMSE 0.468012 - train R2 0.780248 — val RMSE 0.491522 - val R2 0.765067\n",
      "Epoch 31 — train RMSE 0.474662 - train R2 0.773959 — val RMSE 0.386049 - val R2 0.855076\n",
      "Epoch 32 — train RMSE 0.380370 - train R2 0.854845 — val RMSE 0.345239 - val R2 0.884097\n",
      "Epoch 33 — train RMSE 0.417537 - train R2 0.825093 — val RMSE 0.300030 - val R2 0.912464\n",
      "Epoch 34 — train RMSE 0.447052 - train R2 0.799491 — val RMSE 0.330964 - val R2 0.893483\n",
      "Early stopping triggered; Best val RMSE : 0.275339\n"
     ]
    }
   ],
   "source": [
    "train, validation = model_selection.train_test_split(train, test_size=0.1, random_state=1, stratify= train['Concentration'])\n",
    "\n",
    "model_log = train_model(configs, train, validation, 100, 8, True, True)"
   ]
  },
  {
   "cell_type": "code",
   "execution_count": 33,
   "metadata": {},
   "outputs": [
    {
     "data": {
      "text/plain": [
       "array([134.84718917])"
      ]
     },
     "execution_count": 33,
     "metadata": {},
     "output_type": "execute_result"
    }
   ],
   "source": [
    "np.expm1(0.275339*scaler_out.scale_ + scaler_out.mean_)"
   ]
  },
  {
   "cell_type": "code",
   "execution_count": null,
   "metadata": {},
   "outputs": [],
   "source": []
  },
  {
   "cell_type": "code",
   "execution_count": null,
   "metadata": {},
   "outputs": [],
   "source": []
  },
  {
   "attachments": {},
   "cell_type": "markdown",
   "metadata": {},
   "source": [
    "# Interference Dataset"
   ]
  },
  {
   "cell_type": "code",
   "execution_count": 2,
   "metadata": {},
   "outputs": [
    {
     "data": {
      "text/html": [
       "<div>\n",
       "<style scoped>\n",
       "    .dataframe tbody tr th:only-of-type {\n",
       "        vertical-align: middle;\n",
       "    }\n",
       "\n",
       "    .dataframe tbody tr th {\n",
       "        vertical-align: top;\n",
       "    }\n",
       "\n",
       "    .dataframe thead th {\n",
       "        text-align: right;\n",
       "    }\n",
       "</style>\n",
       "<table border=\"1\" class=\"dataframe\">\n",
       "  <thead>\n",
       "    <tr style=\"text-align: right;\">\n",
       "      <th></th>\n",
       "      <th>Lactate</th>\n",
       "      <th>Urea</th>\n",
       "      <th>Glucose</th>\n",
       "      <th>1350.0</th>\n",
       "      <th>1351.0</th>\n",
       "      <th>1352.0</th>\n",
       "      <th>1353.0</th>\n",
       "      <th>1354.0</th>\n",
       "      <th>1355.0</th>\n",
       "      <th>1356.0</th>\n",
       "      <th>...</th>\n",
       "      <th>2491.0</th>\n",
       "      <th>2492.0</th>\n",
       "      <th>2493.0</th>\n",
       "      <th>2494.0</th>\n",
       "      <th>2495.0</th>\n",
       "      <th>2496.0</th>\n",
       "      <th>2497.0</th>\n",
       "      <th>2498.0</th>\n",
       "      <th>2499.0</th>\n",
       "      <th>2500.0</th>\n",
       "    </tr>\n",
       "  </thead>\n",
       "  <tbody>\n",
       "    <tr>\n",
       "      <th>0</th>\n",
       "      <td>9.0</td>\n",
       "      <td>0.0</td>\n",
       "      <td>0.0</td>\n",
       "      <td>0.325606</td>\n",
       "      <td>0.326118</td>\n",
       "      <td>0.326777</td>\n",
       "      <td>0.327594</td>\n",
       "      <td>0.328574</td>\n",
       "      <td>0.329736</td>\n",
       "      <td>0.331045</td>\n",
       "      <td>...</td>\n",
       "      <td>3.884846</td>\n",
       "      <td>3.891455</td>\n",
       "      <td>3.897297</td>\n",
       "      <td>3.902262</td>\n",
       "      <td>3.906273</td>\n",
       "      <td>3.909308</td>\n",
       "      <td>3.911418</td>\n",
       "      <td>3.912773</td>\n",
       "      <td>3.913718</td>\n",
       "      <td>3.914531</td>\n",
       "    </tr>\n",
       "    <tr>\n",
       "      <th>1</th>\n",
       "      <td>9.0</td>\n",
       "      <td>0.0</td>\n",
       "      <td>0.0</td>\n",
       "      <td>0.325919</td>\n",
       "      <td>0.326437</td>\n",
       "      <td>0.327103</td>\n",
       "      <td>0.327927</td>\n",
       "      <td>0.328911</td>\n",
       "      <td>0.330068</td>\n",
       "      <td>0.331363</td>\n",
       "      <td>...</td>\n",
       "      <td>3.902861</td>\n",
       "      <td>3.909777</td>\n",
       "      <td>3.914507</td>\n",
       "      <td>3.917156</td>\n",
       "      <td>3.917897</td>\n",
       "      <td>3.916987</td>\n",
       "      <td>3.914795</td>\n",
       "      <td>3.911844</td>\n",
       "      <td>3.908879</td>\n",
       "      <td>3.906618</td>\n",
       "    </tr>\n",
       "    <tr>\n",
       "      <th>2</th>\n",
       "      <td>9.0</td>\n",
       "      <td>0.0</td>\n",
       "      <td>0.0</td>\n",
       "      <td>0.327546</td>\n",
       "      <td>0.328058</td>\n",
       "      <td>0.328717</td>\n",
       "      <td>0.329531</td>\n",
       "      <td>0.330507</td>\n",
       "      <td>0.331664</td>\n",
       "      <td>0.332967</td>\n",
       "      <td>...</td>\n",
       "      <td>3.890589</td>\n",
       "      <td>3.900686</td>\n",
       "      <td>3.909336</td>\n",
       "      <td>3.916392</td>\n",
       "      <td>3.921788</td>\n",
       "      <td>3.925556</td>\n",
       "      <td>3.927858</td>\n",
       "      <td>3.929030</td>\n",
       "      <td>3.929648</td>\n",
       "      <td>3.930290</td>\n",
       "    </tr>\n",
       "    <tr>\n",
       "      <th>3</th>\n",
       "      <td>9.0</td>\n",
       "      <td>0.0</td>\n",
       "      <td>0.0</td>\n",
       "      <td>0.326307</td>\n",
       "      <td>0.326820</td>\n",
       "      <td>0.327485</td>\n",
       "      <td>0.328309</td>\n",
       "      <td>0.329295</td>\n",
       "      <td>0.330458</td>\n",
       "      <td>0.331761</td>\n",
       "      <td>...</td>\n",
       "      <td>3.869466</td>\n",
       "      <td>3.876229</td>\n",
       "      <td>3.882600</td>\n",
       "      <td>3.888400</td>\n",
       "      <td>3.893481</td>\n",
       "      <td>3.897737</td>\n",
       "      <td>3.901139</td>\n",
       "      <td>3.903763</td>\n",
       "      <td>3.905857</td>\n",
       "      <td>3.907591</td>\n",
       "    </tr>\n",
       "    <tr>\n",
       "      <th>4</th>\n",
       "      <td>9.0</td>\n",
       "      <td>0.0</td>\n",
       "      <td>0.0</td>\n",
       "      <td>0.325683</td>\n",
       "      <td>0.326201</td>\n",
       "      <td>0.326867</td>\n",
       "      <td>0.327691</td>\n",
       "      <td>0.328678</td>\n",
       "      <td>0.329846</td>\n",
       "      <td>0.331160</td>\n",
       "      <td>...</td>\n",
       "      <td>3.865839</td>\n",
       "      <td>3.870089</td>\n",
       "      <td>3.873236</td>\n",
       "      <td>3.875318</td>\n",
       "      <td>3.876395</td>\n",
       "      <td>3.876562</td>\n",
       "      <td>3.875976</td>\n",
       "      <td>3.874894</td>\n",
       "      <td>3.873732</td>\n",
       "      <td>3.872815</td>\n",
       "    </tr>\n",
       "  </tbody>\n",
       "</table>\n",
       "<p>5 rows × 1154 columns</p>\n",
       "</div>"
      ],
      "text/plain": [
       "   Lactate  Urea  Glucose    1350.0    1351.0    1352.0    1353.0    1354.0  \\\n",
       "0      9.0   0.0      0.0  0.325606  0.326118  0.326777  0.327594  0.328574   \n",
       "1      9.0   0.0      0.0  0.325919  0.326437  0.327103  0.327927  0.328911   \n",
       "2      9.0   0.0      0.0  0.327546  0.328058  0.328717  0.329531  0.330507   \n",
       "3      9.0   0.0      0.0  0.326307  0.326820  0.327485  0.328309  0.329295   \n",
       "4      9.0   0.0      0.0  0.325683  0.326201  0.326867  0.327691  0.328678   \n",
       "\n",
       "     1355.0    1356.0  ...    2491.0    2492.0    2493.0    2494.0    2495.0  \\\n",
       "0  0.329736  0.331045  ...  3.884846  3.891455  3.897297  3.902262  3.906273   \n",
       "1  0.330068  0.331363  ...  3.902861  3.909777  3.914507  3.917156  3.917897   \n",
       "2  0.331664  0.332967  ...  3.890589  3.900686  3.909336  3.916392  3.921788   \n",
       "3  0.330458  0.331761  ...  3.869466  3.876229  3.882600  3.888400  3.893481   \n",
       "4  0.329846  0.331160  ...  3.865839  3.870089  3.873236  3.875318  3.876395   \n",
       "\n",
       "     2496.0    2497.0    2498.0    2499.0    2500.0  \n",
       "0  3.909308  3.911418  3.912773  3.913718  3.914531  \n",
       "1  3.916987  3.914795  3.911844  3.908879  3.906618  \n",
       "2  3.925556  3.927858  3.929030  3.929648  3.930290  \n",
       "3  3.897737  3.901139  3.903763  3.905857  3.907591  \n",
       "4  3.876562  3.875976  3.874894  3.873732  3.872815  \n",
       "\n",
       "[5 rows x 1154 columns]"
      ]
     },
     "execution_count": 2,
     "metadata": {},
     "output_type": "execute_result"
    }
   ],
   "source": [
    "data = pd.read_csv(\"Interference.csv\")\n",
    "del data['Albumin']\n",
    "del data['Flag']\n",
    "\n",
    "data.head()"
   ]
  },
  {
   "cell_type": "code",
   "execution_count": 3,
   "metadata": {},
   "outputs": [],
   "source": [
    "l = data['Lactate']\n",
    "u = data['Urea']\n",
    "g = data['Glucose']\n",
    "X = data.iloc[:,3:]"
   ]
  },
  {
   "cell_type": "code",
   "execution_count": 4,
   "metadata": {},
   "outputs": [],
   "source": [
    "lactate = pd.concat([l, X], axis=1)\n",
    "\n",
    "urea = pd.concat([u, X], axis=1)\n",
    "\n",
    "glucose = pd.concat([g, X], axis=1)\n"
   ]
  },
  {
   "attachments": {},
   "cell_type": "markdown",
   "metadata": {},
   "source": [
    "#### Lactate"
   ]
  },
  {
   "cell_type": "code",
   "execution_count": 36,
   "metadata": {},
   "outputs": [
    {
     "data": {
      "text/plain": [
       "count    9100.000000\n",
       "mean      101.197802\n",
       "std        93.504179\n",
       "min         9.000000\n",
       "25%        25.000000\n",
       "50%        72.000000\n",
       "75%       147.000000\n",
       "max       300.000000\n",
       "Name: Lactate, dtype: float64"
      ]
     },
     "execution_count": 36,
     "metadata": {},
     "output_type": "execute_result"
    }
   ],
   "source": [
    "lactate['Lactate'].describe()"
   ]
  },
  {
   "cell_type": "code",
   "execution_count": 37,
   "metadata": {},
   "outputs": [
    {
     "data": {
      "text/plain": [
       "72.0     1000\n",
       "103.0    1000\n",
       "210.0    1000\n",
       "300.0    1000\n",
       "147.0     900\n",
       "9.0       700\n",
       "12.0      700\n",
       "17.0      700\n",
       "25.0      700\n",
       "35.0      700\n",
       "50.0      700\n",
       "Name: Lactate, dtype: int64"
      ]
     },
     "execution_count": 37,
     "metadata": {},
     "output_type": "execute_result"
    }
   ],
   "source": [
    "lactate['Lactate'].value_counts()"
   ]
  },
  {
   "cell_type": "code",
   "execution_count": 5,
   "metadata": {},
   "outputs": [
    {
     "data": {
      "image/png": "[encoded data removed]",
      "text/plain": [
       "<Figure size 640x480 with 1 Axes>"
      ]
     },
     "metadata": {},
     "output_type": "display_data"
    }
   ],
   "source": [
    "plt.figure()\n",
    "plt.hist(lactate['Lactate'])\n",
    "plt.title(f'Distribution')\n",
    "plt.show()"
   ]
  },
  {
   "cell_type": "code",
   "execution_count": 6,
   "metadata": {},
   "outputs": [
    {
     "data": {
      "image/png": "[encoded data removed]",
      "text/plain": [
       "<Figure size 640x480 with 1 Axes>"
      ]
     },
     "metadata": {},
     "output_type": "display_data"
    }
   ],
   "source": [
    "import seaborn as sns\n",
    "plt.figure()\n",
    "sns.boxplot(data=lactate, x='Lactate')\n",
    "plt.show()"
   ]
  },
  {
   "cell_type": "code",
   "execution_count": 47,
   "metadata": {},
   "outputs": [
    {
     "data": {
      "text/html": [
       "<div>\n",
       "<style scoped>\n",
       "    .dataframe tbody tr th:only-of-type {\n",
       "        vertical-align: middle;\n",
       "    }\n",
       "\n",
       "    .dataframe tbody tr th {\n",
       "        vertical-align: top;\n",
       "    }\n",
       "\n",
       "    .dataframe thead th {\n",
       "        text-align: right;\n",
       "    }\n",
       "</style>\n",
       "<table border=\"1\" class=\"dataframe\">\n",
       "  <thead>\n",
       "    <tr style=\"text-align: right;\">\n",
       "      <th></th>\n",
       "      <th>1352.0</th>\n",
       "      <th>1353.0</th>\n",
       "      <th>1354.0</th>\n",
       "      <th>1355.0</th>\n",
       "      <th>1356.0</th>\n",
       "      <th>1357.0</th>\n",
       "      <th>1358.0</th>\n",
       "      <th>1359.0</th>\n",
       "      <th>1360.0</th>\n",
       "      <th>1361.0</th>\n",
       "      <th>...</th>\n",
       "      <th>2491.0</th>\n",
       "      <th>2492.0</th>\n",
       "      <th>2493.0</th>\n",
       "      <th>2494.0</th>\n",
       "      <th>2495.0</th>\n",
       "      <th>2496.0</th>\n",
       "      <th>2497.0</th>\n",
       "      <th>2498.0</th>\n",
       "      <th>2499.0</th>\n",
       "      <th>2500.0</th>\n",
       "    </tr>\n",
       "  </thead>\n",
       "  <tbody>\n",
       "    <tr>\n",
       "      <th>0</th>\n",
       "      <td>0.326777</td>\n",
       "      <td>0.327594</td>\n",
       "      <td>0.328574</td>\n",
       "      <td>0.329736</td>\n",
       "      <td>0.331045</td>\n",
       "      <td>0.332443</td>\n",
       "      <td>0.333808</td>\n",
       "      <td>0.335060</td>\n",
       "      <td>0.336272</td>\n",
       "      <td>0.337447</td>\n",
       "      <td>...</td>\n",
       "      <td>3.884846</td>\n",
       "      <td>3.891455</td>\n",
       "      <td>3.897297</td>\n",
       "      <td>3.902262</td>\n",
       "      <td>3.906273</td>\n",
       "      <td>3.909308</td>\n",
       "      <td>3.911418</td>\n",
       "      <td>3.912773</td>\n",
       "      <td>3.913718</td>\n",
       "      <td>3.914531</td>\n",
       "    </tr>\n",
       "    <tr>\n",
       "      <th>1</th>\n",
       "      <td>0.327103</td>\n",
       "      <td>0.327927</td>\n",
       "      <td>0.328911</td>\n",
       "      <td>0.330068</td>\n",
       "      <td>0.331363</td>\n",
       "      <td>0.332741</td>\n",
       "      <td>0.334091</td>\n",
       "      <td>0.335334</td>\n",
       "      <td>0.336545</td>\n",
       "      <td>0.337726</td>\n",
       "      <td>...</td>\n",
       "      <td>3.902861</td>\n",
       "      <td>3.909777</td>\n",
       "      <td>3.914507</td>\n",
       "      <td>3.917156</td>\n",
       "      <td>3.917897</td>\n",
       "      <td>3.916987</td>\n",
       "      <td>3.914795</td>\n",
       "      <td>3.911844</td>\n",
       "      <td>3.908879</td>\n",
       "      <td>3.906618</td>\n",
       "    </tr>\n",
       "    <tr>\n",
       "      <th>2</th>\n",
       "      <td>0.328717</td>\n",
       "      <td>0.329531</td>\n",
       "      <td>0.330507</td>\n",
       "      <td>0.331664</td>\n",
       "      <td>0.332967</td>\n",
       "      <td>0.334358</td>\n",
       "      <td>0.335716</td>\n",
       "      <td>0.336960</td>\n",
       "      <td>0.338168</td>\n",
       "      <td>0.339345</td>\n",
       "      <td>...</td>\n",
       "      <td>3.890589</td>\n",
       "      <td>3.900686</td>\n",
       "      <td>3.909336</td>\n",
       "      <td>3.916392</td>\n",
       "      <td>3.921788</td>\n",
       "      <td>3.925556</td>\n",
       "      <td>3.927858</td>\n",
       "      <td>3.929030</td>\n",
       "      <td>3.929648</td>\n",
       "      <td>3.930290</td>\n",
       "    </tr>\n",
       "    <tr>\n",
       "      <th>3</th>\n",
       "      <td>0.327485</td>\n",
       "      <td>0.328309</td>\n",
       "      <td>0.329295</td>\n",
       "      <td>0.330458</td>\n",
       "      <td>0.331761</td>\n",
       "      <td>0.333149</td>\n",
       "      <td>0.334505</td>\n",
       "      <td>0.335749</td>\n",
       "      <td>0.336956</td>\n",
       "      <td>0.338131</td>\n",
       "      <td>...</td>\n",
       "      <td>3.869466</td>\n",
       "      <td>3.876229</td>\n",
       "      <td>3.882600</td>\n",
       "      <td>3.888400</td>\n",
       "      <td>3.893481</td>\n",
       "      <td>3.897737</td>\n",
       "      <td>3.901139</td>\n",
       "      <td>3.903763</td>\n",
       "      <td>3.905857</td>\n",
       "      <td>3.907591</td>\n",
       "    </tr>\n",
       "    <tr>\n",
       "      <th>4</th>\n",
       "      <td>0.326867</td>\n",
       "      <td>0.327691</td>\n",
       "      <td>0.328678</td>\n",
       "      <td>0.329846</td>\n",
       "      <td>0.331160</td>\n",
       "      <td>0.332560</td>\n",
       "      <td>0.333924</td>\n",
       "      <td>0.335169</td>\n",
       "      <td>0.336374</td>\n",
       "      <td>0.337544</td>\n",
       "      <td>...</td>\n",
       "      <td>3.865839</td>\n",
       "      <td>3.870089</td>\n",
       "      <td>3.873236</td>\n",
       "      <td>3.875318</td>\n",
       "      <td>3.876395</td>\n",
       "      <td>3.876562</td>\n",
       "      <td>3.875976</td>\n",
       "      <td>3.874894</td>\n",
       "      <td>3.873732</td>\n",
       "      <td>3.872815</td>\n",
       "    </tr>\n",
       "    <tr>\n",
       "      <th>...</th>\n",
       "      <td>...</td>\n",
       "      <td>...</td>\n",
       "      <td>...</td>\n",
       "      <td>...</td>\n",
       "      <td>...</td>\n",
       "      <td>...</td>\n",
       "      <td>...</td>\n",
       "      <td>...</td>\n",
       "      <td>...</td>\n",
       "      <td>...</td>\n",
       "      <td>...</td>\n",
       "      <td>...</td>\n",
       "      <td>...</td>\n",
       "      <td>...</td>\n",
       "      <td>...</td>\n",
       "      <td>...</td>\n",
       "      <td>...</td>\n",
       "      <td>...</td>\n",
       "      <td>...</td>\n",
       "      <td>...</td>\n",
       "      <td>...</td>\n",
       "    </tr>\n",
       "    <tr>\n",
       "      <th>9095</th>\n",
       "      <td>0.325582</td>\n",
       "      <td>0.326674</td>\n",
       "      <td>0.327948</td>\n",
       "      <td>0.329424</td>\n",
       "      <td>0.331054</td>\n",
       "      <td>0.332754</td>\n",
       "      <td>0.334386</td>\n",
       "      <td>0.335833</td>\n",
       "      <td>0.337177</td>\n",
       "      <td>0.338424</td>\n",
       "      <td>...</td>\n",
       "      <td>4.500144</td>\n",
       "      <td>4.512827</td>\n",
       "      <td>4.526333</td>\n",
       "      <td>4.540226</td>\n",
       "      <td>4.554142</td>\n",
       "      <td>4.567758</td>\n",
       "      <td>4.580768</td>\n",
       "      <td>4.592866</td>\n",
       "      <td>4.603732</td>\n",
       "      <td>4.612983</td>\n",
       "    </tr>\n",
       "    <tr>\n",
       "      <th>9096</th>\n",
       "      <td>0.325347</td>\n",
       "      <td>0.326446</td>\n",
       "      <td>0.327726</td>\n",
       "      <td>0.329207</td>\n",
       "      <td>0.330841</td>\n",
       "      <td>0.332543</td>\n",
       "      <td>0.334175</td>\n",
       "      <td>0.335623</td>\n",
       "      <td>0.336967</td>\n",
       "      <td>0.338212</td>\n",
       "      <td>...</td>\n",
       "      <td>4.548688</td>\n",
       "      <td>4.554267</td>\n",
       "      <td>4.555407</td>\n",
       "      <td>4.552824</td>\n",
       "      <td>4.547324</td>\n",
       "      <td>4.539770</td>\n",
       "      <td>4.531062</td>\n",
       "      <td>4.522119</td>\n",
       "      <td>4.513868</td>\n",
       "      <td>4.507194</td>\n",
       "    </tr>\n",
       "    <tr>\n",
       "      <th>9097</th>\n",
       "      <td>0.325563</td>\n",
       "      <td>0.326648</td>\n",
       "      <td>0.327911</td>\n",
       "      <td>0.329370</td>\n",
       "      <td>0.330981</td>\n",
       "      <td>0.332661</td>\n",
       "      <td>0.334278</td>\n",
       "      <td>0.335718</td>\n",
       "      <td>0.337061</td>\n",
       "      <td>0.338311</td>\n",
       "      <td>...</td>\n",
       "      <td>4.504238</td>\n",
       "      <td>4.512583</td>\n",
       "      <td>4.517647</td>\n",
       "      <td>4.519844</td>\n",
       "      <td>4.519682</td>\n",
       "      <td>4.517728</td>\n",
       "      <td>4.514587</td>\n",
       "      <td>4.510887</td>\n",
       "      <td>4.507268</td>\n",
       "      <td>4.504331</td>\n",
       "    </tr>\n",
       "    <tr>\n",
       "      <th>9098</th>\n",
       "      <td>0.325854</td>\n",
       "      <td>0.326950</td>\n",
       "      <td>0.328228</td>\n",
       "      <td>0.329704</td>\n",
       "      <td>0.331331</td>\n",
       "      <td>0.333025</td>\n",
       "      <td>0.334650</td>\n",
       "      <td>0.336089</td>\n",
       "      <td>0.337429</td>\n",
       "      <td>0.338673</td>\n",
       "      <td>...</td>\n",
       "      <td>4.569032</td>\n",
       "      <td>4.576238</td>\n",
       "      <td>4.579017</td>\n",
       "      <td>4.578017</td>\n",
       "      <td>4.573987</td>\n",
       "      <td>4.567748</td>\n",
       "      <td>4.560176</td>\n",
       "      <td>4.552182</td>\n",
       "      <td>4.544703</td>\n",
       "      <td>4.538660</td>\n",
       "    </tr>\n",
       "    <tr>\n",
       "      <th>9099</th>\n",
       "      <td>0.325434</td>\n",
       "      <td>0.326538</td>\n",
       "      <td>0.327827</td>\n",
       "      <td>0.329312</td>\n",
       "      <td>0.330945</td>\n",
       "      <td>0.332644</td>\n",
       "      <td>0.334274</td>\n",
       "      <td>0.335721</td>\n",
       "      <td>0.337068</td>\n",
       "      <td>0.338319</td>\n",
       "      <td>...</td>\n",
       "      <td>4.615527</td>\n",
       "      <td>4.624899</td>\n",
       "      <td>4.627401</td>\n",
       "      <td>4.623963</td>\n",
       "      <td>4.615687</td>\n",
       "      <td>4.603824</td>\n",
       "      <td>4.589769</td>\n",
       "      <td>4.575056</td>\n",
       "      <td>4.561365</td>\n",
       "      <td>4.550496</td>\n",
       "    </tr>\n",
       "  </tbody>\n",
       "</table>\n",
       "<p>9100 rows × 1149 columns</p>\n",
       "</div>"
      ],
      "text/plain": [
       "        1352.0    1353.0    1354.0    1355.0    1356.0    1357.0    1358.0  \\\n",
       "0     0.326777  0.327594  0.328574  0.329736  0.331045  0.332443  0.333808   \n",
       "1     0.327103  0.327927  0.328911  0.330068  0.331363  0.332741  0.334091   \n",
       "2     0.328717  0.329531  0.330507  0.331664  0.332967  0.334358  0.335716   \n",
       "3     0.327485  0.328309  0.329295  0.330458  0.331761  0.333149  0.334505   \n",
       "4     0.326867  0.327691  0.328678  0.329846  0.331160  0.332560  0.333924   \n",
       "...        ...       ...       ...       ...       ...       ...       ...   \n",
       "9095  0.325582  0.326674  0.327948  0.329424  0.331054  0.332754  0.334386   \n",
       "9096  0.325347  0.326446  0.327726  0.329207  0.330841  0.332543  0.334175   \n",
       "9097  0.325563  0.326648  0.327911  0.329370  0.330981  0.332661  0.334278   \n",
       "9098  0.325854  0.326950  0.328228  0.329704  0.331331  0.333025  0.334650   \n",
       "9099  0.325434  0.326538  0.327827  0.329312  0.330945  0.332644  0.334274   \n",
       "\n",
       "        1359.0    1360.0    1361.0  ...    2491.0    2492.0    2493.0  \\\n",
       "0     0.335060  0.336272  0.337447  ...  3.884846  3.891455  3.897297   \n",
       "1     0.335334  0.336545  0.337726  ...  3.902861  3.909777  3.914507   \n",
       "2     0.336960  0.338168  0.339345  ...  3.890589  3.900686  3.909336   \n",
       "3     0.335749  0.336956  0.338131  ...  3.869466  3.876229  3.882600   \n",
       "4     0.335169  0.336374  0.337544  ...  3.865839  3.870089  3.873236   \n",
       "...        ...       ...       ...  ...       ...       ...       ...   \n",
       "9095  0.335833  0.337177  0.338424  ...  4.500144  4.512827  4.526333   \n",
       "9096  0.335623  0.336967  0.338212  ...  4.548688  4.554267  4.555407   \n",
       "9097  0.335718  0.337061  0.338311  ...  4.504238  4.512583  4.517647   \n",
       "9098  0.336089  0.337429  0.338673  ...  4.569032  4.576238  4.579017   \n",
       "9099  0.335721  0.337068  0.338319  ...  4.615527  4.624899  4.627401   \n",
       "\n",
       "        2494.0    2495.0    2496.0    2497.0    2498.0    2499.0    2500.0  \n",
       "0     3.902262  3.906273  3.909308  3.911418  3.912773  3.913718  3.914531  \n",
       "1     3.917156  3.917897  3.916987  3.914795  3.911844  3.908879  3.906618  \n",
       "2     3.916392  3.921788  3.925556  3.927858  3.929030  3.929648  3.930290  \n",
       "3     3.888400  3.893481  3.897737  3.901139  3.903763  3.905857  3.907591  \n",
       "4     3.875318  3.876395  3.876562  3.875976  3.874894  3.873732  3.872815  \n",
       "...        ...       ...       ...       ...       ...       ...       ...  \n",
       "9095  4.540226  4.554142  4.567758  4.580768  4.592866  4.603732  4.612983  \n",
       "9096  4.552824  4.547324  4.539770  4.531062  4.522119  4.513868  4.507194  \n",
       "9097  4.519844  4.519682  4.517728  4.514587  4.510887  4.507268  4.504331  \n",
       "9098  4.578017  4.573987  4.567748  4.560176  4.552182  4.544703  4.538660  \n",
       "9099  4.623963  4.615687  4.603824  4.589769  4.575056  4.561365  4.550496  \n",
       "\n",
       "[9100 rows x 1149 columns]"
      ]
     },
     "execution_count": 47,
     "metadata": {},
     "output_type": "execute_result"
    }
   ],
   "source": [
    "spectra = urea.iloc[:,3:]\n",
    "spectra"
   ]
  },
  {
   "cell_type": "code",
   "execution_count": 48,
   "metadata": {},
   "outputs": [
    {
     "data": {
      "image/png": "[encoded data removed]",
      "text/plain": [
       "<Figure size 640x480 with 1 Axes>"
      ]
     },
     "metadata": {},
     "output_type": "display_data"
    },
    {
     "data": {
      "image/png": "[encoded data removed]",
      "text/plain": [
       "<Figure size 640x480 with 1 Axes>"
      ]
     },
     "metadata": {},
     "output_type": "display_data"
    }
   ],
   "source": [
    "for i in range(2):\n",
    "    plt.figure()\n",
    "    plt.plot(spectra.iloc[i,:])\n",
    "    plt.show()"
   ]
  },
  {
   "cell_type": "code",
   "execution_count": 15,
   "metadata": {},
   "outputs": [
    {
     "data": {
      "text/html": [
       "<div>\n",
       "<style scoped>\n",
       "    .dataframe tbody tr th:only-of-type {\n",
       "        vertical-align: middle;\n",
       "    }\n",
       "\n",
       "    .dataframe tbody tr th {\n",
       "        vertical-align: top;\n",
       "    }\n",
       "\n",
       "    .dataframe thead th {\n",
       "        text-align: right;\n",
       "    }\n",
       "</style>\n",
       "<table border=\"1\" class=\"dataframe\">\n",
       "  <thead>\n",
       "    <tr style=\"text-align: right;\">\n",
       "      <th></th>\n",
       "      <th>Lactate</th>\n",
       "      <th>1350.0</th>\n",
       "      <th>1351.0</th>\n",
       "      <th>1352.0</th>\n",
       "      <th>1353.0</th>\n",
       "      <th>1354.0</th>\n",
       "      <th>1355.0</th>\n",
       "      <th>1356.0</th>\n",
       "      <th>1357.0</th>\n",
       "      <th>1358.0</th>\n",
       "      <th>...</th>\n",
       "      <th>2491.0</th>\n",
       "      <th>2492.0</th>\n",
       "      <th>2493.0</th>\n",
       "      <th>2494.0</th>\n",
       "      <th>2495.0</th>\n",
       "      <th>2496.0</th>\n",
       "      <th>2497.0</th>\n",
       "      <th>2498.0</th>\n",
       "      <th>2499.0</th>\n",
       "      <th>2500.0</th>\n",
       "    </tr>\n",
       "  </thead>\n",
       "  <tbody>\n",
       "    <tr>\n",
       "      <th>0</th>\n",
       "      <td>9.0</td>\n",
       "      <td>0.325606</td>\n",
       "      <td>0.326118</td>\n",
       "      <td>0.326777</td>\n",
       "      <td>0.327594</td>\n",
       "      <td>0.328574</td>\n",
       "      <td>0.329736</td>\n",
       "      <td>0.331045</td>\n",
       "      <td>0.332443</td>\n",
       "      <td>0.333808</td>\n",
       "      <td>...</td>\n",
       "      <td>3.884846</td>\n",
       "      <td>3.891455</td>\n",
       "      <td>3.897297</td>\n",
       "      <td>3.902262</td>\n",
       "      <td>3.906273</td>\n",
       "      <td>3.909308</td>\n",
       "      <td>3.911418</td>\n",
       "      <td>3.912773</td>\n",
       "      <td>3.913718</td>\n",
       "      <td>3.914531</td>\n",
       "    </tr>\n",
       "    <tr>\n",
       "      <th>1</th>\n",
       "      <td>9.0</td>\n",
       "      <td>0.325919</td>\n",
       "      <td>0.326437</td>\n",
       "      <td>0.327103</td>\n",
       "      <td>0.327927</td>\n",
       "      <td>0.328911</td>\n",
       "      <td>0.330068</td>\n",
       "      <td>0.331363</td>\n",
       "      <td>0.332741</td>\n",
       "      <td>0.334091</td>\n",
       "      <td>...</td>\n",
       "      <td>3.902861</td>\n",
       "      <td>3.909777</td>\n",
       "      <td>3.914507</td>\n",
       "      <td>3.917156</td>\n",
       "      <td>3.917897</td>\n",
       "      <td>3.916987</td>\n",
       "      <td>3.914795</td>\n",
       "      <td>3.911844</td>\n",
       "      <td>3.908879</td>\n",
       "      <td>3.906618</td>\n",
       "    </tr>\n",
       "    <tr>\n",
       "      <th>2</th>\n",
       "      <td>9.0</td>\n",
       "      <td>0.327546</td>\n",
       "      <td>0.328058</td>\n",
       "      <td>0.328717</td>\n",
       "      <td>0.329531</td>\n",
       "      <td>0.330507</td>\n",
       "      <td>0.331664</td>\n",
       "      <td>0.332967</td>\n",
       "      <td>0.334358</td>\n",
       "      <td>0.335716</td>\n",
       "      <td>...</td>\n",
       "      <td>3.890589</td>\n",
       "      <td>3.900686</td>\n",
       "      <td>3.909336</td>\n",
       "      <td>3.916392</td>\n",
       "      <td>3.921788</td>\n",
       "      <td>3.925556</td>\n",
       "      <td>3.927858</td>\n",
       "      <td>3.929030</td>\n",
       "      <td>3.929648</td>\n",
       "      <td>3.930290</td>\n",
       "    </tr>\n",
       "    <tr>\n",
       "      <th>3</th>\n",
       "      <td>9.0</td>\n",
       "      <td>0.326307</td>\n",
       "      <td>0.326820</td>\n",
       "      <td>0.327485</td>\n",
       "      <td>0.328309</td>\n",
       "      <td>0.329295</td>\n",
       "      <td>0.330458</td>\n",
       "      <td>0.331761</td>\n",
       "      <td>0.333149</td>\n",
       "      <td>0.334505</td>\n",
       "      <td>...</td>\n",
       "      <td>3.869466</td>\n",
       "      <td>3.876229</td>\n",
       "      <td>3.882600</td>\n",
       "      <td>3.888400</td>\n",
       "      <td>3.893481</td>\n",
       "      <td>3.897737</td>\n",
       "      <td>3.901139</td>\n",
       "      <td>3.903763</td>\n",
       "      <td>3.905857</td>\n",
       "      <td>3.907591</td>\n",
       "    </tr>\n",
       "    <tr>\n",
       "      <th>4</th>\n",
       "      <td>9.0</td>\n",
       "      <td>0.325683</td>\n",
       "      <td>0.326201</td>\n",
       "      <td>0.326867</td>\n",
       "      <td>0.327691</td>\n",
       "      <td>0.328678</td>\n",
       "      <td>0.329846</td>\n",
       "      <td>0.331160</td>\n",
       "      <td>0.332560</td>\n",
       "      <td>0.333924</td>\n",
       "      <td>...</td>\n",
       "      <td>3.865839</td>\n",
       "      <td>3.870089</td>\n",
       "      <td>3.873236</td>\n",
       "      <td>3.875318</td>\n",
       "      <td>3.876395</td>\n",
       "      <td>3.876562</td>\n",
       "      <td>3.875976</td>\n",
       "      <td>3.874894</td>\n",
       "      <td>3.873732</td>\n",
       "      <td>3.872815</td>\n",
       "    </tr>\n",
       "    <tr>\n",
       "      <th>...</th>\n",
       "      <td>...</td>\n",
       "      <td>...</td>\n",
       "      <td>...</td>\n",
       "      <td>...</td>\n",
       "      <td>...</td>\n",
       "      <td>...</td>\n",
       "      <td>...</td>\n",
       "      <td>...</td>\n",
       "      <td>...</td>\n",
       "      <td>...</td>\n",
       "      <td>...</td>\n",
       "      <td>...</td>\n",
       "      <td>...</td>\n",
       "      <td>...</td>\n",
       "      <td>...</td>\n",
       "      <td>...</td>\n",
       "      <td>...</td>\n",
       "      <td>...</td>\n",
       "      <td>...</td>\n",
       "      <td>...</td>\n",
       "      <td>...</td>\n",
       "    </tr>\n",
       "    <tr>\n",
       "      <th>9095</th>\n",
       "      <td>300.0</td>\n",
       "      <td>0.323957</td>\n",
       "      <td>0.324675</td>\n",
       "      <td>0.325582</td>\n",
       "      <td>0.326674</td>\n",
       "      <td>0.327948</td>\n",
       "      <td>0.329424</td>\n",
       "      <td>0.331054</td>\n",
       "      <td>0.332754</td>\n",
       "      <td>0.334386</td>\n",
       "      <td>...</td>\n",
       "      <td>4.500144</td>\n",
       "      <td>4.512827</td>\n",
       "      <td>4.526333</td>\n",
       "      <td>4.540226</td>\n",
       "      <td>4.554142</td>\n",
       "      <td>4.567758</td>\n",
       "      <td>4.580768</td>\n",
       "      <td>4.592866</td>\n",
       "      <td>4.603732</td>\n",
       "      <td>4.612983</td>\n",
       "    </tr>\n",
       "    <tr>\n",
       "      <th>9096</th>\n",
       "      <td>300.0</td>\n",
       "      <td>0.323710</td>\n",
       "      <td>0.324435</td>\n",
       "      <td>0.325347</td>\n",
       "      <td>0.326446</td>\n",
       "      <td>0.327726</td>\n",
       "      <td>0.329207</td>\n",
       "      <td>0.330841</td>\n",
       "      <td>0.332543</td>\n",
       "      <td>0.334175</td>\n",
       "      <td>...</td>\n",
       "      <td>4.548688</td>\n",
       "      <td>4.554267</td>\n",
       "      <td>4.555407</td>\n",
       "      <td>4.552824</td>\n",
       "      <td>4.547324</td>\n",
       "      <td>4.539770</td>\n",
       "      <td>4.531062</td>\n",
       "      <td>4.522119</td>\n",
       "      <td>4.513868</td>\n",
       "      <td>4.507194</td>\n",
       "    </tr>\n",
       "    <tr>\n",
       "      <th>9097</th>\n",
       "      <td>300.0</td>\n",
       "      <td>0.323934</td>\n",
       "      <td>0.324658</td>\n",
       "      <td>0.325563</td>\n",
       "      <td>0.326648</td>\n",
       "      <td>0.327911</td>\n",
       "      <td>0.329370</td>\n",
       "      <td>0.330981</td>\n",
       "      <td>0.332661</td>\n",
       "      <td>0.334278</td>\n",
       "      <td>...</td>\n",
       "      <td>4.504238</td>\n",
       "      <td>4.512583</td>\n",
       "      <td>4.517647</td>\n",
       "      <td>4.519844</td>\n",
       "      <td>4.519682</td>\n",
       "      <td>4.517728</td>\n",
       "      <td>4.514587</td>\n",
       "      <td>4.510887</td>\n",
       "      <td>4.507268</td>\n",
       "      <td>4.504331</td>\n",
       "    </tr>\n",
       "    <tr>\n",
       "      <th>9098</th>\n",
       "      <td>300.0</td>\n",
       "      <td>0.324222</td>\n",
       "      <td>0.324944</td>\n",
       "      <td>0.325854</td>\n",
       "      <td>0.326950</td>\n",
       "      <td>0.328228</td>\n",
       "      <td>0.329704</td>\n",
       "      <td>0.331331</td>\n",
       "      <td>0.333025</td>\n",
       "      <td>0.334650</td>\n",
       "      <td>...</td>\n",
       "      <td>4.569032</td>\n",
       "      <td>4.576238</td>\n",
       "      <td>4.579017</td>\n",
       "      <td>4.578017</td>\n",
       "      <td>4.573987</td>\n",
       "      <td>4.567748</td>\n",
       "      <td>4.560176</td>\n",
       "      <td>4.552182</td>\n",
       "      <td>4.544703</td>\n",
       "      <td>4.538660</td>\n",
       "    </tr>\n",
       "    <tr>\n",
       "      <th>9099</th>\n",
       "      <td>300.0</td>\n",
       "      <td>0.323798</td>\n",
       "      <td>0.324520</td>\n",
       "      <td>0.325434</td>\n",
       "      <td>0.326538</td>\n",
       "      <td>0.327827</td>\n",
       "      <td>0.329312</td>\n",
       "      <td>0.330945</td>\n",
       "      <td>0.332644</td>\n",
       "      <td>0.334274</td>\n",
       "      <td>...</td>\n",
       "      <td>4.615527</td>\n",
       "      <td>4.624899</td>\n",
       "      <td>4.627401</td>\n",
       "      <td>4.623963</td>\n",
       "      <td>4.615687</td>\n",
       "      <td>4.603824</td>\n",
       "      <td>4.589769</td>\n",
       "      <td>4.575056</td>\n",
       "      <td>4.561365</td>\n",
       "      <td>4.550496</td>\n",
       "    </tr>\n",
       "  </tbody>\n",
       "</table>\n",
       "<p>9100 rows × 1152 columns</p>\n",
       "</div>"
      ],
      "text/plain": [
       "      Lactate    1350.0    1351.0    1352.0    1353.0    1354.0    1355.0  \\\n",
       "0         9.0  0.325606  0.326118  0.326777  0.327594  0.328574  0.329736   \n",
       "1         9.0  0.325919  0.326437  0.327103  0.327927  0.328911  0.330068   \n",
       "2         9.0  0.327546  0.328058  0.328717  0.329531  0.330507  0.331664   \n",
       "3         9.0  0.326307  0.326820  0.327485  0.328309  0.329295  0.330458   \n",
       "4         9.0  0.325683  0.326201  0.326867  0.327691  0.328678  0.329846   \n",
       "...       ...       ...       ...       ...       ...       ...       ...   \n",
       "9095    300.0  0.323957  0.324675  0.325582  0.326674  0.327948  0.329424   \n",
       "9096    300.0  0.323710  0.324435  0.325347  0.326446  0.327726  0.329207   \n",
       "9097    300.0  0.323934  0.324658  0.325563  0.326648  0.327911  0.329370   \n",
       "9098    300.0  0.324222  0.324944  0.325854  0.326950  0.328228  0.329704   \n",
       "9099    300.0  0.323798  0.324520  0.325434  0.326538  0.327827  0.329312   \n",
       "\n",
       "        1356.0    1357.0    1358.0  ...    2491.0    2492.0    2493.0  \\\n",
       "0     0.331045  0.332443  0.333808  ...  3.884846  3.891455  3.897297   \n",
       "1     0.331363  0.332741  0.334091  ...  3.902861  3.909777  3.914507   \n",
       "2     0.332967  0.334358  0.335716  ...  3.890589  3.900686  3.909336   \n",
       "3     0.331761  0.333149  0.334505  ...  3.869466  3.876229  3.882600   \n",
       "4     0.331160  0.332560  0.333924  ...  3.865839  3.870089  3.873236   \n",
       "...        ...       ...       ...  ...       ...       ...       ...   \n",
       "9095  0.331054  0.332754  0.334386  ...  4.500144  4.512827  4.526333   \n",
       "9096  0.330841  0.332543  0.334175  ...  4.548688  4.554267  4.555407   \n",
       "9097  0.330981  0.332661  0.334278  ...  4.504238  4.512583  4.517647   \n",
       "9098  0.331331  0.333025  0.334650  ...  4.569032  4.576238  4.579017   \n",
       "9099  0.330945  0.332644  0.334274  ...  4.615527  4.624899  4.627401   \n",
       "\n",
       "        2494.0    2495.0    2496.0    2497.0    2498.0    2499.0    2500.0  \n",
       "0     3.902262  3.906273  3.909308  3.911418  3.912773  3.913718  3.914531  \n",
       "1     3.917156  3.917897  3.916987  3.914795  3.911844  3.908879  3.906618  \n",
       "2     3.916392  3.921788  3.925556  3.927858  3.929030  3.929648  3.930290  \n",
       "3     3.888400  3.893481  3.897737  3.901139  3.903763  3.905857  3.907591  \n",
       "4     3.875318  3.876395  3.876562  3.875976  3.874894  3.873732  3.872815  \n",
       "...        ...       ...       ...       ...       ...       ...       ...  \n",
       "9095  4.540226  4.554142  4.567758  4.580768  4.592866  4.603732  4.612983  \n",
       "9096  4.552824  4.547324  4.539770  4.531062  4.522119  4.513868  4.507194  \n",
       "9097  4.519844  4.519682  4.517728  4.514587  4.510887  4.507268  4.504331  \n",
       "9098  4.578017  4.573987  4.567748  4.560176  4.552182  4.544703  4.538660  \n",
       "9099  4.623963  4.615687  4.603824  4.589769  4.575056  4.561365  4.550496  \n",
       "\n",
       "[9100 rows x 1152 columns]"
      ]
     },
     "execution_count": 15,
     "metadata": {},
     "output_type": "execute_result"
    }
   ],
   "source": [
    "lactate"
   ]
  },
  {
   "cell_type": "code",
   "execution_count": 16,
   "metadata": {},
   "outputs": [],
   "source": [
    "configs = Details(\n",
    "    pred_len = 1,      \n",
    "    seq_len  = 1151,\n",
    "    d_ff = 32,\n",
    "    patch_len= 16, \n",
    "    stride = 8, \n",
    "    llm_layers = 4,\n",
    "    description = \"This dataset contains near-infrared (NIR) spectroscopy measurements of lactate concentration in a \" \\\n",
    "                  \"phosphate-buffered saline (PBS) solution. Each spectrum includes absorbance values across \" \\\n",
    "                  \"different wavelengths. The goal is to predict the concentration given the different wavelengths \" ,\n",
    "    dropout = 0.1,\n",
    "    n_heads = 2,\n",
    "    d_model = 16,\n",
    "    enc_in = 1,\n",
    "    d_llm = 4096,\n",
    "    llm_model = 'LLAMA',\n",
    "    lr = 0.0001\n",
    ")"
   ]
  },
  {
   "cell_type": "code",
   "execution_count": 17,
   "metadata": {},
   "outputs": [
    {
     "data": {
      "application/vnd.jupyter.widget-view+json": {
       "model_id": "bca8803058f444f2b9702dc2c52a92ea",
       "version_major": 2,
       "version_minor": 0
      },
      "text/plain": [
       "Loading checkpoint shards:   0%|          | 0/2 [00:00<?, ?it/s]"
      ]
     },
     "metadata": {},
     "output_type": "display_data"
    },
    {
     "name": "stdout",
     "output_type": "stream",
     "text": [
      "Epoch  1 — train RMSE 85.300746 - train R2 0.167676 — val RMSE 64.917971 - val R2 0.517924\n",
      "Epoch  2 — train RMSE 63.712840 - train R2 0.535657 — val RMSE 40.864750 - val R2 0.808978\n",
      "Epoch  3 — train RMSE 53.220217 - train R2 0.676004 — val RMSE 25.867819 - val R2 0.923457\n",
      "Epoch  4 — train RMSE 49.406297 - train R2 0.720778 — val RMSE 27.312296 - val R2 0.914670\n",
      "Epoch  5 — train RMSE 49.270164 - train R2 0.722314 — val RMSE 24.470781 - val R2 0.931501\n",
      "Epoch  6 — train RMSE 47.344012 - train R2 0.743602 — val RMSE 20.901695 - val R2 0.950025\n",
      "Epoch  7 — train RMSE 48.642689 - train R2 0.729342 — val RMSE 19.733115 - val R2 0.955457\n",
      "Epoch  8 — train RMSE 47.616392 - train R2 0.740642 — val RMSE 17.387376 - val R2 0.965418\n",
      "Epoch  9 — train RMSE 48.983973 - train R2 0.725531 — val RMSE 19.662605 - val R2 0.955775\n",
      "Epoch 10 — train RMSE 48.265114 - train R2 0.733528 — val RMSE 20.209031 - val R2 0.953283\n",
      "Epoch 11 — train RMSE 46.243009 - train R2 0.755388 — val RMSE 17.210161 - val R2 0.966119\n",
      "Epoch 12 — train RMSE 46.287541 - train R2 0.754917 — val RMSE 14.077420 - val R2 0.977331\n",
      "Epoch 13 — train RMSE 45.863401 - train R2 0.759387 — val RMSE 18.057173 - val R2 0.962702\n",
      "Epoch 14 — train RMSE 46.018020 - train R2 0.757762 — val RMSE 18.607138 - val R2 0.960395\n",
      "Epoch 15 — train RMSE 43.743306 - train R2 0.781119 — val RMSE 17.669187 - val R2 0.964288\n",
      "Epoch 16 — train RMSE 47.666319 - train R2 0.740098 — val RMSE 15.262138 - val R2 0.973355\n",
      "Epoch 17 — train RMSE 42.142292 - train R2 0.796848 — val RMSE 17.817686 - val R2 0.963685\n",
      "Epoch 18 — train RMSE 46.099156 - train R2 0.756908 — val RMSE 17.294117 - val R2 0.965788\n",
      "Epoch 19 — train RMSE 44.279819 - train R2 0.775717 — val RMSE 15.440732 - val R2 0.972728\n",
      "Epoch 20 — train RMSE 43.917784 - train R2 0.779369 — val RMSE 21.109214 - val R2 0.949028\n",
      "Epoch 21 — train RMSE 45.249114 - train R2 0.765790 — val RMSE 16.550547 - val R2 0.968666\n",
      "Epoch 22 — train RMSE 43.664089 - train R2 0.781911 — val RMSE 19.463328 - val R2 0.956667\n",
      "Epoch 23 — train RMSE 44.866673 - train R2 0.769732 — val RMSE 19.731637 - val R2 0.955464\n",
      "Epoch 24 — train RMSE 44.757363 - train R2 0.770853 — val RMSE 17.475382 - val R2 0.965067\n",
      "Epoch 25 — train RMSE 44.650561 - train R2 0.771945 — val RMSE 14.733488 - val R2 0.975169\n",
      "Epoch 26 — train RMSE 43.541665 - train R2 0.783132 — val RMSE 19.533525 - val R2 0.956354\n",
      "Epoch 27 — train RMSE 43.079830 - train R2 0.787708 — val RMSE 19.065679 - val R2 0.958419\n",
      "Epoch 28 — train RMSE 44.073158 - train R2 0.777805 — val RMSE 14.839706 - val R2 0.974810\n",
      "Epoch 29 — train RMSE 46.208228 - train R2 0.755756 — val RMSE 14.916435 - val R2 0.974548\n",
      "Epoch 30 — train RMSE 42.423238 - train R2 0.794130 — val RMSE 19.825537 - val R2 0.955039\n",
      "Epoch 31 — train RMSE 44.616086 - train R2 0.772297 — val RMSE 14.156397 - val R2 0.977076\n",
      "Epoch 32 — train RMSE 41.814982 - train R2 0.799991 — val RMSE 15.999200 - val R2 0.970719\n",
      "Epoch 33 — train RMSE 44.641279 - train R2 0.772040 — val RMSE 16.051419 - val R2 0.970528\n",
      "Epoch 34 — train RMSE 43.037807 - train R2 0.788122 — val RMSE 16.215741 - val R2 0.969921\n",
      "Epoch 35 — train RMSE 42.111841 - train R2 0.797141 — val RMSE 16.609139 - val R2 0.968444\n",
      "Epoch 36 — train RMSE 44.600597 - train R2 0.772456 — val RMSE 14.111695 - val R2 0.977220\n",
      "Epoch 37 — train RMSE 43.419983 - train R2 0.784342 — val RMSE 16.453687 - val R2 0.969032\n",
      "Epoch 38 — train RMSE 44.132099 - train R2 0.777211 — val RMSE 11.733519 - val R2 0.984251\n",
      "Epoch 39 — train RMSE 41.738985 - train R2 0.800717 — val RMSE 16.280884 - val R2 0.969679\n",
      "Epoch 40 — train RMSE 43.891024 - train R2 0.779638 — val RMSE 15.725622 - val R2 0.971712\n",
      "Epoch 41 — train RMSE 43.396889 - train R2 0.784572 — val RMSE 14.897573 - val R2 0.974613\n",
      "Epoch 42 — train RMSE 42.485028 - train R2 0.793530 — val RMSE 14.185980 - val R2 0.976980\n",
      "Epoch 43 — train RMSE 42.577276 - train R2 0.792633 — val RMSE 16.589466 - val R2 0.968519\n",
      "Epoch 44 — train RMSE 44.272827 - train R2 0.775788 — val RMSE 17.272642 - val R2 0.965873\n",
      "Epoch 45 — train RMSE 41.434473 - train R2 0.803615 — val RMSE 14.115024 - val R2 0.977210\n",
      "Epoch 46 — train RMSE 42.929718 - train R2 0.789185 — val RMSE 15.385851 - val R2 0.972921\n",
      "Epoch 47 — train RMSE 44.940509 - train R2 0.768974 — val RMSE 16.023582 - val R2 0.970630\n",
      "Epoch 48 — train RMSE 42.564796 - train R2 0.792754 — val RMSE 18.045843 - val R2 0.962749\n",
      "Epoch 49 — train RMSE 43.696413 - train R2 0.781587 — val RMSE 14.348136 - val R2 0.976451\n",
      "Epoch 50 — train RMSE 43.684092 - train R2 0.781711 — val RMSE 13.099423 - val R2 0.980371\n",
      "Epoch 51 — train RMSE 43.666089 - train R2 0.781891 — val RMSE 13.646583 - val R2 0.978697\n",
      "Epoch 52 — train RMSE 44.869996 - train R2 0.769698 — val RMSE 12.737046 - val R2 0.981442\n",
      "Epoch 53 — train RMSE 44.277737 - train R2 0.775737 — val RMSE 14.072463 - val R2 0.977347\n",
      "Epoch 54 — train RMSE 42.574473 - train R2 0.792660 — val RMSE 15.170023 - val R2 0.973676\n",
      "Epoch 55 — train RMSE 42.636230 - train R2 0.792057 — val RMSE 15.255350 - val R2 0.973379\n",
      "Epoch 56 — train RMSE 42.529972 - train R2 0.793092 — val RMSE 13.597537 - val R2 0.978850\n",
      "Epoch 57 — train RMSE 43.682092 - train R2 0.781731 — val RMSE 15.528087 - val R2 0.972418\n",
      "Epoch 58 — train RMSE 41.585950 - train R2 0.802176 — val RMSE 15.156683 - val R2 0.973722\n",
      "Epoch 59 — train RMSE 45.245216 - train R2 0.765830 — val RMSE 16.810500 - val R2 0.967674\n",
      "Epoch 60 — train RMSE 45.656599 - train R2 0.761552 — val RMSE 15.400573 - val R2 0.972869\n",
      "Epoch 61 — train RMSE 44.829594 - train R2 0.770113 — val RMSE 14.160165 - val R2 0.977064\n",
      "Epoch 62 — train RMSE 44.845706 - train R2 0.769947 — val RMSE 13.978701 - val R2 0.977648\n",
      "Epoch 63 — train RMSE 44.523196 - train R2 0.773245 — val RMSE 12.942946 - val R2 0.980838\n",
      "Epoch 64 — train RMSE 44.235363 - train R2 0.776167 — val RMSE 14.455256 - val R2 0.976098\n",
      "Epoch 65 — train RMSE 42.843364 - train R2 0.790032 — val RMSE 16.139180 - val R2 0.970205\n",
      "Epoch 66 — train RMSE 45.199511 - train R2 0.766303 — val RMSE 15.364480 - val R2 0.972996\n",
      "Epoch 67 — train RMSE 44.382808 - train R2 0.774672 — val RMSE 14.586752 - val R2 0.975661\n",
      "Epoch 68 — train RMSE 40.897057 - train R2 0.808676 — val RMSE 17.254650 - val R2 0.965944\n",
      "Epoch 69 — train RMSE 44.768410 - train R2 0.770739 — val RMSE 14.641939 - val R2 0.975477\n",
      "Epoch 70 — train RMSE 43.516011 - train R2 0.783387 — val RMSE 14.325972 - val R2 0.976523\n",
      "Epoch 71 — train RMSE 44.795604 - train R2 0.770461 — val RMSE 14.718643 - val R2 0.975219\n",
      "Epoch 72 — train RMSE 43.233781 - train R2 0.786188 — val RMSE 13.623585 - val R2 0.978769\n",
      "Epoch 73 — train RMSE 44.332961 - train R2 0.775178 — val RMSE 12.881882 - val R2 0.981018\n",
      "Epoch 74 — train RMSE 44.373115 - train R2 0.774771 — val RMSE 14.886205 - val R2 0.974651\n",
      "Epoch 75 — train RMSE 45.426602 - train R2 0.763949 — val RMSE 13.889185 - val R2 0.977933\n",
      "Epoch 76 — train RMSE 42.801132 - train R2 0.790446 — val RMSE 15.779437 - val R2 0.971518\n",
      "Epoch 77 — train RMSE 44.851146 - train R2 0.769892 — val RMSE 11.641928 - val R2 0.984496\n",
      "Epoch 78 — train RMSE 42.794208 - train R2 0.790513 — val RMSE 15.328597 - val R2 0.973122\n",
      "Epoch 79 — train RMSE 40.045109 - train R2 0.816564 — val RMSE 15.390508 - val R2 0.972905\n",
      "Epoch 80 — train RMSE 44.750144 - train R2 0.770927 — val RMSE 13.639710 - val R2 0.978719\n",
      "Epoch 81 — train RMSE 42.370261 - train R2 0.794644 — val RMSE 15.341063 - val R2 0.973079\n",
      "Epoch 82 — train RMSE 41.679032 - train R2 0.801289 — val RMSE 13.588332 - val R2 0.978879\n",
      "Epoch 83 — train RMSE 42.369694 - train R2 0.794649 — val RMSE 12.418804 - val R2 0.982358\n",
      "Epoch 84 — train RMSE 43.704590 - train R2 0.781506 — val RMSE 13.404531 - val R2 0.979446\n",
      "Epoch 85 — train RMSE 44.406177 - train R2 0.774435 — val RMSE 14.459622 - val R2 0.976083\n",
      "Epoch 86 — train RMSE 42.097058 - train R2 0.797283 — val RMSE 14.496312 - val R2 0.975962\n",
      "Epoch 87 — train RMSE 44.331207 - train R2 0.775196 — val RMSE 12.831681 - val R2 0.981166\n",
      "Epoch 88 — train RMSE 39.602940 - train R2 0.820593 — val RMSE 14.351965 - val R2 0.976438\n",
      "Epoch 89 — train RMSE 45.238055 - train R2 0.765904 — val RMSE 12.166626 - val R2 0.983067\n",
      "Epoch 90 — train RMSE 43.863916 - train R2 0.779910 — val RMSE 15.074769 - val R2 0.974005\n",
      "Epoch 91 — train RMSE 42.137008 - train R2 0.796898 — val RMSE 14.988099 - val R2 0.974303\n"
     ]
    },
    {
     "ename": "KeyboardInterrupt",
     "evalue": "",
     "output_type": "error",
     "traceback": [
      "\u001b[0;31m---------------------------------------------------------------------------\u001b[0m",
      "\u001b[0;31mKeyboardInterrupt\u001b[0m                         Traceback (most recent call last)",
      "Cell \u001b[0;32mIn[17], line 5\u001b[0m\n\u001b[1;32m      1\u001b[0m train, test \u001b[38;5;241m=\u001b[39m model_selection\u001b[38;5;241m.\u001b[39mtrain_test_split(lactate, test_size\u001b[38;5;241m=\u001b[39m\u001b[38;5;241m0.1\u001b[39m, random_state\u001b[38;5;241m=\u001b[39m\u001b[38;5;241m1\u001b[39m, stratify\u001b[38;5;241m=\u001b[39m lactate[\u001b[38;5;124m'\u001b[39m\u001b[38;5;124mLactate\u001b[39m\u001b[38;5;124m'\u001b[39m])\n\u001b[1;32m      3\u001b[0m train, validation \u001b[38;5;241m=\u001b[39m model_selection\u001b[38;5;241m.\u001b[39mtrain_test_split(train, test_size\u001b[38;5;241m=\u001b[39m\u001b[38;5;241m0.1\u001b[39m, random_state\u001b[38;5;241m=\u001b[39m\u001b[38;5;241m1\u001b[39m, stratify\u001b[38;5;241m=\u001b[39m train[\u001b[38;5;124m'\u001b[39m\u001b[38;5;124mLactate\u001b[39m\u001b[38;5;124m'\u001b[39m])\n\u001b[0;32m----> 5\u001b[0m model ,train_rmse, train_r2, val_rmse, val_r2, stand  \u001b[38;5;241m=\u001b[39m \u001b[43mtrain_model\u001b[49m\u001b[43m(\u001b[49m\u001b[43mconfigs\u001b[49m\u001b[43m,\u001b[49m\u001b[43m \u001b[49m\u001b[43mtrain\u001b[49m\u001b[43m,\u001b[49m\u001b[43m \u001b[49m\u001b[43mvalidation\u001b[49m\u001b[43m,\u001b[49m\u001b[43m \u001b[49m\u001b[38;5;241;43m100\u001b[39;49m\u001b[43m,\u001b[49m\u001b[43m \u001b[49m\u001b[38;5;241;43m8\u001b[39;49m\u001b[43m,\u001b[49m\u001b[43m \u001b[49m\u001b[38;5;28;43;01mTrue\u001b[39;49;00m\u001b[43m)\u001b[49m\n",
      "Cell \u001b[0;32mIn[9], line 61\u001b[0m, in \u001b[0;36mtrain_model\u001b[0;34m(configs, train, validation, epochs, batch_size, updates)\u001b[0m\n\u001b[1;32m     59\u001b[0m loss\u001b[38;5;241m.\u001b[39mbackward()\n\u001b[1;32m     60\u001b[0m opt\u001b[38;5;241m.\u001b[39mstep()\n\u001b[0;32m---> 61\u001b[0m sum_mse \u001b[38;5;241m+\u001b[39m\u001b[38;5;241m=\u001b[39m \u001b[43mloss\u001b[49m\u001b[38;5;241;43m.\u001b[39;49m\u001b[43mitem\u001b[49m\u001b[43m(\u001b[49m\u001b[43m)\u001b[49m\u001b[38;5;241m*\u001b[39mx_enc\u001b[38;5;241m.\u001b[39msize(\u001b[38;5;241m0\u001b[39m)\n\u001b[1;32m     62\u001b[0m \u001b[38;5;66;03m#r2_metric.update(y_pred.squeeze(), y_true.squeeze())\u001b[39;00m\n\u001b[1;32m     63\u001b[0m r2_metric\u001b[38;5;241m.\u001b[39mupdate(y_pred\u001b[38;5;241m.\u001b[39mreshape(\u001b[38;5;241m-\u001b[39m\u001b[38;5;241m1\u001b[39m), y_true\u001b[38;5;241m.\u001b[39mreshape(\u001b[38;5;241m-\u001b[39m\u001b[38;5;241m1\u001b[39m))\n",
      "\u001b[0;31mKeyboardInterrupt\u001b[0m: "
     ]
    }
   ],
   "source": [
    "train, test = model_selection.train_test_split(lactate, test_size=0.1, random_state=1, stratify= lactate['Lactate'])\n",
    "\n",
    "train, validation = model_selection.train_test_split(train, test_size=0.1, random_state=1, stratify= train['Lactate'])\n",
    "\n",
    "model ,train_rmse, train_r2, val_rmse, val_r2, stand  = train_model(configs, train, validation, 100, 8, True, False)"
   ]
  },
  {
   "attachments": {},
   "cell_type": "markdown",
   "metadata": {},
   "source": [
    "#### Urea"
   ]
  },
  {
   "cell_type": "code",
   "execution_count": 7,
   "metadata": {},
   "outputs": [
    {
     "data": {
      "image/png": "[encoded data removed]",
      "text/plain": [
       "<Figure size 640x480 with 1 Axes>"
      ]
     },
     "metadata": {},
     "output_type": "display_data"
    },
    {
     "data": {
      "image/png": "[encoded data removed]",
      "text/plain": [
       "<Figure size 640x480 with 1 Axes>"
      ]
     },
     "metadata": {},
     "output_type": "display_data"
    }
   ],
   "source": [
    "plt.figure()\n",
    "plt.hist(urea['Urea'])\n",
    "plt.title(f'Distribution')\n",
    "plt.show()\n",
    "\n",
    "import seaborn as sns\n",
    "plt.figure()\n",
    "sns.boxplot(data=urea, x='Urea')\n",
    "plt.show()"
   ]
  },
  {
   "cell_type": "code",
   "execution_count": 13,
   "metadata": {},
   "outputs": [
    {
     "data": {
      "text/plain": [
       "101.0    2760\n",
       "206.0    2760\n",
       "71.0     2660\n",
       "0.0       920\n",
       "Name: Urea, dtype: int64"
      ]
     },
     "execution_count": 13,
     "metadata": {},
     "output_type": "execute_result"
    }
   ],
   "source": [
    "urea['Urea'].value_counts()"
   ]
  },
  {
   "cell_type": "code",
   "execution_count": 18,
   "metadata": {},
   "outputs": [],
   "source": [
    "configs = Details(\n",
    "    pred_len = 1,      \n",
    "    seq_len  = 1151,\n",
    "    d_ff = 32,\n",
    "    patch_len= 16, \n",
    "    stride = 8, \n",
    "    llm_layers = 4,\n",
    "    description = \"This dataset contains near-infrared (NIR) spectroscopy measurements of urea concentration in a \" \\\n",
    "                  \"phosphate-buffered saline (PBS) solution. Each spectrum includes absorbance values across \" \\\n",
    "                  \"different wavelengths. The goal is to predict the concentration given the different wavelengths \" ,\n",
    "    dropout = 0.1,\n",
    "    n_heads = 2,\n",
    "    d_model = 16,\n",
    "    enc_in = 1,\n",
    "    d_llm = 4096,\n",
    "    llm_model = 'LLAMA',\n",
    "    lr = 0.001\n",
    ")"
   ]
  },
  {
   "cell_type": "code",
   "execution_count": 19,
   "metadata": {},
   "outputs": [
    {
     "data": {
      "application/vnd.jupyter.widget-view+json": {
       "model_id": "dfc00fadd3e24f97b066db9091a5c4f1",
       "version_major": 2,
       "version_minor": 0
      },
      "text/plain": [
       "Loading checkpoint shards:   0%|          | 0/2 [00:00<?, ?it/s]"
      ]
     },
     "metadata": {},
     "output_type": "display_data"
    },
    {
     "name": "stdout",
     "output_type": "stream",
     "text": [
      "Epoch  1 — train RMSE 72.941657 - train R2 -0.189498 — val RMSE 53.437408 - val R2 0.361307\n",
      "Epoch  2 — train RMSE 65.123902 - train R2 0.051817 — val RMSE 56.262258 - val R2 0.291996\n",
      "Epoch  3 — train RMSE 64.347899 - train R2 0.074277 — val RMSE 49.787524 - val R2 0.445576\n",
      "Epoch  4 — train RMSE 61.960860 - train R2 0.141685 — val RMSE 48.773918 - val R2 0.467921\n",
      "Epoch  5 — train RMSE 62.039235 - train R2 0.139512 — val RMSE 52.156091 - val R2 0.391569\n",
      "Epoch  6 — train RMSE 63.312308 - train R2 0.103837 — val RMSE 46.564806 - val R2 0.515028\n",
      "Epoch  7 — train RMSE 60.310069 - train R2 0.186813 — val RMSE 51.834915 - val R2 0.399040\n"
     ]
    },
    {
     "ename": "KeyboardInterrupt",
     "evalue": "",
     "output_type": "error",
     "traceback": [
      "\u001b[0;31m---------------------------------------------------------------------------\u001b[0m",
      "\u001b[0;31mKeyboardInterrupt\u001b[0m                         Traceback (most recent call last)",
      "Cell \u001b[0;32mIn[19], line 5\u001b[0m\n\u001b[1;32m      1\u001b[0m train, test \u001b[38;5;241m=\u001b[39m model_selection\u001b[38;5;241m.\u001b[39mtrain_test_split(urea, test_size\u001b[38;5;241m=\u001b[39m\u001b[38;5;241m0.1\u001b[39m, random_state\u001b[38;5;241m=\u001b[39m\u001b[38;5;241m1\u001b[39m, stratify\u001b[38;5;241m=\u001b[39m urea[\u001b[38;5;124m'\u001b[39m\u001b[38;5;124mUrea\u001b[39m\u001b[38;5;124m'\u001b[39m])\n\u001b[1;32m      3\u001b[0m train, validation \u001b[38;5;241m=\u001b[39m model_selection\u001b[38;5;241m.\u001b[39mtrain_test_split(train, test_size\u001b[38;5;241m=\u001b[39m\u001b[38;5;241m0.1\u001b[39m, random_state\u001b[38;5;241m=\u001b[39m\u001b[38;5;241m1\u001b[39m, stratify\u001b[38;5;241m=\u001b[39m train[\u001b[38;5;124m'\u001b[39m\u001b[38;5;124mUrea\u001b[39m\u001b[38;5;124m'\u001b[39m])\n\u001b[0;32m----> 5\u001b[0m model ,train_rmse, train_r2, val_rmse, val_r2, stand  \u001b[38;5;241m=\u001b[39m \u001b[43mtrain_model\u001b[49m\u001b[43m(\u001b[49m\u001b[43mconfigs\u001b[49m\u001b[43m,\u001b[49m\u001b[43m \u001b[49m\u001b[43mtrain\u001b[49m\u001b[43m,\u001b[49m\u001b[43m \u001b[49m\u001b[43mvalidation\u001b[49m\u001b[43m,\u001b[49m\u001b[43m \u001b[49m\u001b[38;5;241;43m20\u001b[39;49m\u001b[43m,\u001b[49m\u001b[43m \u001b[49m\u001b[38;5;241;43m8\u001b[39;49m\u001b[43m,\u001b[49m\u001b[43m \u001b[49m\u001b[38;5;28;43;01mTrue\u001b[39;49;00m\u001b[43m)\u001b[49m\n",
      "Cell \u001b[0;32mIn[9], line 61\u001b[0m, in \u001b[0;36mtrain_model\u001b[0;34m(configs, train, validation, epochs, batch_size, updates)\u001b[0m\n\u001b[1;32m     59\u001b[0m loss\u001b[38;5;241m.\u001b[39mbackward()\n\u001b[1;32m     60\u001b[0m opt\u001b[38;5;241m.\u001b[39mstep()\n\u001b[0;32m---> 61\u001b[0m sum_mse \u001b[38;5;241m+\u001b[39m\u001b[38;5;241m=\u001b[39m \u001b[43mloss\u001b[49m\u001b[38;5;241;43m.\u001b[39;49m\u001b[43mitem\u001b[49m\u001b[43m(\u001b[49m\u001b[43m)\u001b[49m\u001b[38;5;241m*\u001b[39mx_enc\u001b[38;5;241m.\u001b[39msize(\u001b[38;5;241m0\u001b[39m)\n\u001b[1;32m     62\u001b[0m \u001b[38;5;66;03m#r2_metric.update(y_pred.squeeze(), y_true.squeeze())\u001b[39;00m\n\u001b[1;32m     63\u001b[0m r2_metric\u001b[38;5;241m.\u001b[39mupdate(y_pred\u001b[38;5;241m.\u001b[39mreshape(\u001b[38;5;241m-\u001b[39m\u001b[38;5;241m1\u001b[39m), y_true\u001b[38;5;241m.\u001b[39mreshape(\u001b[38;5;241m-\u001b[39m\u001b[38;5;241m1\u001b[39m))\n",
      "\u001b[0;31mKeyboardInterrupt\u001b[0m: "
     ]
    }
   ],
   "source": [
    "train, test = model_selection.train_test_split(urea, test_size=0.1, random_state=1, stratify= urea['Urea'])\n",
    "\n",
    "train, validation = model_selection.train_test_split(train, test_size=0.1, random_state=1, stratify= train['Urea'])\n",
    "\n",
    "model ,train_rmse, train_r2, val_rmse, val_r2, stand  = train_model(configs, train, validation, 20, 8, True, False)"
   ]
  },
  {
   "attachments": {},
   "cell_type": "markdown",
   "metadata": {},
   "source": [
    "#### Glucose"
   ]
  },
  {
   "cell_type": "code",
   "execution_count": 8,
   "metadata": {},
   "outputs": [
    {
     "data": {
      "image/png": "[encoded data removed]",
      "text/plain": [
       "<Figure size 640x480 with 1 Axes>"
      ]
     },
     "metadata": {},
     "output_type": "display_data"
    },
    {
     "data": {
      "image/png": "[encoded data removed]",
      "text/plain": [
       "<Figure size 640x480 with 1 Axes>"
      ]
     },
     "metadata": {},
     "output_type": "display_data"
    }
   ],
   "source": [
    "plt.figure()\n",
    "plt.hist(glucose['Glucose'])\n",
    "plt.title(f'Distribution')\n",
    "plt.show()\n",
    "\n",
    "import seaborn as sns\n",
    "plt.figure()\n",
    "sns.boxplot(data=glucose, x='Glucose')\n",
    "plt.show()"
   ]
  },
  {
   "cell_type": "code",
   "execution_count": 14,
   "metadata": {},
   "outputs": [
    {
     "data": {
      "text/plain": [
       "147.0    2760\n",
       "72.0     2660\n",
       "300.0    2660\n",
       "0.0       920\n",
       "71.0      100\n",
       "Name: Glucose, dtype: int64"
      ]
     },
     "execution_count": 14,
     "metadata": {},
     "output_type": "execute_result"
    }
   ],
   "source": [
    "glucose['Glucose'].value_counts()"
   ]
  },
  {
   "cell_type": "code",
   "execution_count": null,
   "metadata": {},
   "outputs": [],
   "source": [
    "configs = Details(\n",
    "    pred_len = 1,      \n",
    "    seq_len  = 1151,\n",
    "    d_ff = 32,\n",
    "    patch_len= 16, \n",
    "    stride = 8, \n",
    "    llm_layers = 4,\n",
    "    description = \"This dataset contains near-infrared (NIR) spectroscopy measurements of glucose concentration in a \" \\\n",
    "                  \"phosphate-buffered saline (PBS) solution. Each spectrum includes absorbance values across \" \\\n",
    "                  \"different wavelengths. The goal is to predict the concentration given the different wavelengths \" ,\n",
    "    dropout = 0.1,\n",
    "    n_heads = 2,\n",
    "    d_model = 16,\n",
    "    enc_in = 1,\n",
    "    d_llm = 4096,\n",
    "    llm_model = 'LLAMA',\n",
    "    lr = 0.001\n",
    ")"
   ]
  },
  {
   "cell_type": "code",
   "execution_count": null,
   "metadata": {},
   "outputs": [],
   "source": [
    "train, test = model_selection.train_test_split(glucose, test_size=0.1, random_state=1, stratify= glucose['Glucose'])\n",
    "\n",
    "train, validation = model_selection.train_test_split(train, test_size=0.1, random_state=1, stratify= train['Glucose'])\n",
    "\n",
    "model ,train_rmse, train_r2, val_rmse, val_r2, stand  = train_model(configs, train, validation, 50, 8, True)"
   ]
  },
  {
   "cell_type": "markdown",
   "metadata": {},
   "source": [
    "## Preprocessed"
   ]
  },
  {
   "cell_type": "code",
   "execution_count": null,
   "metadata": {},
   "outputs": [],
   "source": [
    "wavenumbers = X.columns.astype(float).values\n",
    "\n",
    "# Stack each row as an rp.Spectrum, then combine into one container\n",
    "spectra = [\n",
    "    rs.Spectrum(spectral_data=row.values, spectral_axis=wavenumbers)\n",
    "    for _, row in X.iterrows()\n",
    "]\n",
    "container = rs.SpectralContainer.from_stack(spectra)\n",
    "\n",
    "\n",
    "pipeline = preprocessing.Pipeline([\n",
    "    preprocessing.despike.WhitakerHayes(kernel_size=3, threshold=3.5),\n",
    "    preprocessing.denoise.SavGol(window_length=11, polyorder=3),\n",
    "    preprocessing.baseline.ARPLS(lam=1e5, diff_order=2),\n",
    "    preprocessing.normalise.Vector(),\n",
    "])\n",
    "\n",
    "preprocessed = pipeline.apply(container)\n",
    "\n",
    "clean_array = preprocessed.spectral_data"
   ]
  },
  {
   "cell_type": "code",
   "execution_count": null,
   "metadata": {},
   "outputs": [],
   "source": [
    "X_clean = pd.DataFrame(data=clean_array, index=X.index, columns=wavenumbers)\n",
    "X_clean"
   ]
  },
  {
   "cell_type": "code",
   "execution_count": 14,
   "metadata": {},
   "outputs": [],
   "source": [
    "lactate_c = pd.concat([l, X_clean], axis=1)\n",
    "\n",
    "urea_c = pd.concat([u, X_clean], axis=1)\n",
    "\n",
    "glucose_c = pd.concat([g, X_clean], axis=1)"
   ]
  },
  {
   "cell_type": "markdown",
   "metadata": {},
   "source": [
    "#### Lactate"
   ]
  },
  {
   "cell_type": "code",
   "execution_count": 15,
   "metadata": {},
   "outputs": [
    {
     "data": {
      "image/png": "[encoded data removed]",
      "text/plain": [
       "<Figure size 640x480 with 1 Axes>"
      ]
     },
     "metadata": {},
     "output_type": "display_data"
    },
    {
     "data": {
      "image/png": "[encoded data removed]",
      "text/plain": [
       "<Figure size 640x480 with 1 Axes>"
      ]
     },
     "metadata": {},
     "output_type": "display_data"
    }
   ],
   "source": [
    "spectra = lactate_c.iloc[:,3:]\n",
    "for i in range(2):\n",
    "    plt.figure()\n",
    "    plt.plot(spectra.iloc[i,:])\n",
    "    plt.show()"
   ]
  },
  {
   "cell_type": "code",
   "execution_count": 25,
   "metadata": {},
   "outputs": [],
   "source": [
    "configs = Details(\n",
    "    pred_len = 1,      \n",
    "    seq_len  = 1151,\n",
    "    d_ff = 32,\n",
    "    patch_len= 16, \n",
    "    stride = 8, \n",
    "    llm_layers = 4,\n",
    "    description = \"This dataset contains near-infrared (NIR) spectroscopy measurements of lactate concentration in a \" \\\n",
    "                  \"phosphate-buffered saline (PBS) solution. Each spectrum includes absorbance values across \" \\\n",
    "                  \"different wavelengths. The goal is to predict the concentration given the different wavelengths \" ,\n",
    "    dropout = 0.1,\n",
    "    n_heads = 2,\n",
    "    d_model = 16,\n",
    "    enc_in = 1,\n",
    "    d_llm = 4096,\n",
    "    llm_model = 'LLAMA',\n",
    "    lr = 0.0001\n",
    ")"
   ]
  },
  {
   "cell_type": "code",
   "execution_count": 27,
   "metadata": {},
   "outputs": [
    {
     "data": {
      "application/vnd.jupyter.widget-view+json": {
       "model_id": "1991aff8e5ba4cfa9ea3219b946aba30",
       "version_major": 2,
       "version_minor": 0
      },
      "text/plain": [
       "Loading checkpoint shards:   0%|          | 0/2 [00:00<?, ?it/s]"
      ]
     },
     "metadata": {},
     "output_type": "display_data"
    },
    {
     "name": "stdout",
     "output_type": "stream",
     "text": [
      "Epoch  1 — train RMSE 87.374720 - train R2 0.126713 — val RMSE 60.866551 - val R2 0.576217\n",
      "Epoch  2 — train RMSE 65.948651 - train R2 0.502495 — val RMSE 43.443534 - val R2 0.784108\n",
      "Epoch  3 — train RMSE 59.370458 - train R2 0.596794 — val RMSE 38.827842 - val R2 0.827546\n",
      "Epoch  4 — train RMSE 53.664650 - train R2 0.670570 — val RMSE 33.879315 - val R2 0.868703\n",
      "Epoch  5 — train RMSE 52.036906 - train R2 0.690252 — val RMSE 30.146779 - val R2 0.896040\n",
      "Epoch  6 — train RMSE 53.268393 - train R2 0.675418 — val RMSE 30.287954 - val R2 0.895064\n",
      "Epoch  7 — train RMSE 52.250616 - train R2 0.687703 — val RMSE 32.041029 - val R2 0.882565\n",
      "Epoch  8 — train RMSE 50.332366 - train R2 0.710212 — val RMSE 27.485846 - val R2 0.913582\n",
      "Epoch  9 — train RMSE 49.447240 - train R2 0.720315 — val RMSE 29.786048 - val R2 0.898513\n",
      "Epoch 10 — train RMSE 52.179708 - train R2 0.688549 — val RMSE 27.491890 - val R2 0.913544\n",
      "Epoch 11 — train RMSE 50.146701 - train R2 0.712346 — val RMSE 27.333944 - val R2 0.914535\n",
      "Epoch 12 — train RMSE 48.689269 - train R2 0.728823 — val RMSE 32.733894 - val R2 0.877431\n",
      "Epoch 13 — train RMSE 49.572164 - train R2 0.718900 — val RMSE 26.999255 - val R2 0.916615\n",
      "Epoch 14 — train RMSE 47.887235 - train R2 0.737684 — val RMSE 24.453076 - val R2 0.931601\n",
      "Epoch 15 — train RMSE 49.721851 - train R2 0.717200 — val RMSE 25.679491 - val R2 0.924567\n",
      "Epoch 16 — train RMSE 47.733830 - train R2 0.739362 — val RMSE 25.989340 - val R2 0.922736\n",
      "Epoch 17 — train RMSE 46.938544 - train R2 0.747975 — val RMSE 25.725234 - val R2 0.924299\n",
      "Epoch 18 — train RMSE 48.436330 - train R2 0.731634 — val RMSE 28.793622 - val R2 0.905163\n",
      "Epoch 19 — train RMSE 46.693715 - train R2 0.750597 — val RMSE 24.182594 - val R2 0.933105\n",
      "Epoch 20 — train RMSE 46.771490 - train R2 0.749765 — val RMSE 22.027189 - val R2 0.944499\n",
      "Epoch 21 — train RMSE 46.995121 - train R2 0.747366 — val RMSE 24.764732 - val R2 0.929846\n",
      "Epoch 22 — train RMSE 46.307040 - train R2 0.754710 — val RMSE 25.512594 - val R2 0.925545\n",
      "Epoch 23 — train RMSE 49.478869 - train R2 0.719957 — val RMSE 21.864418 - val R2 0.945316\n",
      "Epoch 24 — train RMSE 46.180966 - train R2 0.756044 — val RMSE 23.522706 - val R2 0.936706\n",
      "Epoch 25 — train RMSE 47.476267 - train R2 0.742167 — val RMSE 22.868914 - val R2 0.940176\n",
      "Epoch 26 — train RMSE 46.929178 - train R2 0.748075 — val RMSE 24.995297 - val R2 0.928534\n",
      "Epoch 27 — train RMSE 46.529472 - train R2 0.752348 — val RMSE 23.957488 - val R2 0.934345\n",
      "Epoch 28 — train RMSE 48.175290 - train R2 0.734519 — val RMSE 19.961042 - val R2 0.954422\n",
      "Epoch 29 — train RMSE 46.347692 - train R2 0.754279 — val RMSE 20.956844 - val R2 0.949761\n",
      "Epoch 30 — train RMSE 44.956364 - train R2 0.768811 — val RMSE 21.646501 - val R2 0.946400\n",
      "Epoch 31 — train RMSE 45.066104 - train R2 0.767681 — val RMSE 22.302907 - val R2 0.943100\n",
      "Epoch 32 — train RMSE 46.650652 - train R2 0.751057 — val RMSE 21.460586 - val R2 0.947317\n",
      "Epoch 33 — train RMSE 45.864577 - train R2 0.759375 — val RMSE 19.452367 - val R2 0.956716\n",
      "Epoch 34 — train RMSE 46.439633 - train R2 0.753303 — val RMSE 18.580273 - val R2 0.960510\n",
      "Epoch 35 — train RMSE 47.363955 - train R2 0.743385 — val RMSE 18.733827 - val R2 0.959854\n",
      "Epoch 36 — train RMSE 44.687418 - train R2 0.771569 — val RMSE 18.782384 - val R2 0.959646\n",
      "Epoch 37 — train RMSE 47.448041 - train R2 0.742473 — val RMSE 22.252919 - val R2 0.943355\n",
      "Epoch 38 — train RMSE 46.712560 - train R2 0.750395 — val RMSE 22.000761 - val R2 0.944632\n",
      "Epoch 39 — train RMSE 44.408802 - train R2 0.774408 — val RMSE 17.201081 - val R2 0.966155\n",
      "Epoch 40 — train RMSE 44.407782 - train R2 0.774419 — val RMSE 16.521275 - val R2 0.968777\n",
      "Epoch 41 — train RMSE 45.084002 - train R2 0.767496 — val RMSE 14.377945 - val R2 0.976353\n",
      "Epoch 42 — train RMSE 45.440279 - train R2 0.763807 — val RMSE 17.836656 - val R2 0.963607\n",
      "Epoch 43 — train RMSE 43.705073 - train R2 0.781501 — val RMSE 19.205367 - val R2 0.957808\n",
      "Epoch 44 — train RMSE 44.636008 - train R2 0.772094 — val RMSE 15.438556 - val R2 0.972735\n",
      "Epoch 45 — train RMSE 44.084920 - train R2 0.777686 — val RMSE 19.913688 - val R2 0.954638\n",
      "Epoch 46 — train RMSE 45.323113 - train R2 0.765023 — val RMSE 15.350696 - val R2 0.973045\n",
      "Early stopping triggered\n"
     ]
    }
   ],
   "source": [
    "train, test = model_selection.train_test_split(lactate_c, test_size=0.1, random_state=1, stratify= lactate_c['Lactate'])\n",
    "\n",
    "train, validation = model_selection.train_test_split(train, test_size=0.1, random_state=1, stratify= train['Lactate'])\n",
    "\n",
    "model ,train_rmse, train_r2, val_rmse, val_r2, stand  = train_model_earlystop(configs, train, validation, 50, 8, True)"
   ]
  }
 ],
 "metadata": {
  "kernelspec": {
   "display_name": "base",
   "language": "python",
   "name": "python3"
  },
  "language_info": {
   "codemirror_mode": {
    "name": "ipython",
    "version": 3
   },
   "file_extension": ".py",
   "mimetype": "text/x-python",
   "name": "python",
   "nbconvert_exporter": "python",
   "pygments_lexer": "ipython3",
   "version": "3.10.9"
  }
 },
 "nbformat": 4,
 "nbformat_minor": 2
}
